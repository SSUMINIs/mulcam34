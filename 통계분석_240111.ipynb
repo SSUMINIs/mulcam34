{
  "cells": [
    {
      "cell_type": "markdown",
      "metadata": {
        "id": "view-in-github",
        "colab_type": "text"
      },
      "source": [
        "<a href=\"https://colab.research.google.com/github/SSUMINIs/mulcam34/blob/main/%ED%86%B5%EA%B3%84%EB%B6%84%EC%84%9D_240111.ipynb\" target=\"_parent\"><img src=\"https://colab.research.google.com/assets/colab-badge.svg\" alt=\"Open In Colab\"/></a>"
      ]
    },
    {
      "cell_type": "code",
      "execution_count": null,
      "id": "3bd3658d-3f32-44ce-a37e-0ed20d3a3b34",
      "metadata": {
        "id": "3bd3658d-3f32-44ce-a37e-0ed20d3a3b34"
      },
      "outputs": [],
      "source": [
        "#통계검정(p.294)\n"
      ]
    },
    {
      "cell_type": "code",
      "execution_count": null,
      "id": "1b194893-604f-44ad-97ab-000a27a233af",
      "metadata": {
        "id": "1b194893-604f-44ad-97ab-000a27a233af",
        "outputId": "87ad92e9-4f37-4f52-928f-df8e780e7bf1"
      },
      "outputs": [
        {
          "name": "stdout",
          "output_type": "stream",
          "text": [
            "1.11.4\n"
          ]
        }
      ],
      "source": [
        "import numpy as np\n",
        "import pandas as pd\n",
        "from scipy import stats\n",
        "import scipy\n",
        "\n",
        "# 표본 14개 정규성 검정 하고,\n",
        "# 일표본 t검정\n",
        "# 귀무가설 : 모집단의 평균(130)과 표본 평균(128.451)과 같다.\n",
        "# 대립가설 : 모집단의 평균(130)과 표본 평균(128.451)과 같지 않다. (양측검정시)\n",
        "# 대립가설 : 모집단의 평균(130)> 표본 평균(128.451)보다 크다. (단측검정시)\n",
        "\n",
        "%precision 3\n",
        "np.random.seed(1111)\n",
        "\n",
        "print(scipy.__version__)"
      ]
    },
    {
      "cell_type": "code",
      "execution_count": null,
      "id": "60ee279f-c568-40bf-9bbe-069256bf4b9d",
      "metadata": {
        "id": "60ee279f-c568-40bf-9bbe-069256bf4b9d",
        "outputId": "407dc068-a0f1-4acd-de56-8caf76baac1e"
      },
      "outputs": [
        {
          "data": {
            "text/plain": [
              "array([122.02, 131.73, 130.6 , 131.82, 132.05, 126.12, 124.43, 132.89,\n",
              "       122.79, 129.95, 126.14, 134.45, 127.64, 125.68])"
            ]
          },
          "execution_count": 19,
          "metadata": {},
          "output_type": "execute_result"
        }
      ],
      "source": [
        "df = pd.read_csv('data/ch11_potato.csv')\n",
        "sample = np.array(df['무게'])\n",
        "sample"
      ]
    },
    {
      "cell_type": "code",
      "execution_count": null,
      "id": "3160b150-4c04-434b-b764-98de8dfc1af9",
      "metadata": {
        "id": "3160b150-4c04-434b-b764-98de8dfc1af9",
        "outputId": "e44e8c07-5438-45bc-b056-8ee5cfdd1615"
      },
      "outputs": [
        {
          "data": {
            "text/plain": [
              "128.451"
            ]
          },
          "execution_count": 20,
          "metadata": {},
          "output_type": "execute_result"
        }
      ],
      "source": [
        "s_mean = np.mean(sample)\n",
        "s_mean"
      ]
    },
    {
      "cell_type": "code",
      "execution_count": null,
      "id": "16539d53-9165-430a-a1f8-a3676df4a855",
      "metadata": {
        "id": "16539d53-9165-430a-a1f8-a3676df4a855"
      },
      "outputs": [],
      "source": [
        "# (14개의) 표본평균이 모평균 130g보다 적은지 여부\n",
        "# 감자튀김의 표본집단이 정규분포를 따르고 있다 ==> 정규성 검정을 할 필요가 없다.\n",
        "    # 비모수 검정을 쓸 필요 없이, 모수 검정을 하면 된다.\n",
        "# 모분산이 9임을 알고 있다고 전제."
      ]
    },
    {
      "cell_type": "code",
      "execution_count": null,
      "id": "c4b25105-d4b2-4047-9500-dbd90a5b6540",
      "metadata": {
        "id": "c4b25105-d4b2-4047-9500-dbd90a5b6540",
        "outputId": "9463f0f3-73b4-4087-f740-1c8d856cc884"
      },
      "outputs": [
        {
          "data": {
            "text/plain": [
              "128.681"
            ]
          },
          "execution_count": 23,
          "metadata": {},
          "output_type": "execute_result"
        }
      ],
      "source": [
        "rv = stats.norm(130, np.sqrt(9/14))\n",
        "rv.isf(0.95)"
      ]
    },
    {
      "cell_type": "code",
      "execution_count": null,
      "id": "ba52b244-2944-4595-a7dd-4ff969514e7f",
      "metadata": {
        "id": "ba52b244-2944-4595-a7dd-4ff969514e7f",
        "outputId": "ba15db85-1918-4d49-de70-14008187b6a5"
      },
      "outputs": [
        {
          "data": {
            "text/plain": [
              "128.681"
            ]
          },
          "execution_count": 21,
          "metadata": {},
          "output_type": "execute_result"
        }
      ],
      "source": [
        "rv = stats.norm(130, np.sqrt(9/14)) #9 모분산, 14 표본의 개수\n",
        "rv.isf(0.95) # 95%신뢰구간"
      ]
    },
    {
      "cell_type": "code",
      "execution_count": null,
      "id": "d23b7f08-4976-443f-bbe8-fff547af95dc",
      "metadata": {
        "id": "d23b7f08-4976-443f-bbe8-fff547af95dc",
        "outputId": "b4635c3c-8baf-44a1-d928-a71e613cf8ac"
      },
      "outputs": [
        {
          "data": {
            "text/plain": [
              "-1.932"
            ]
          },
          "execution_count": 13,
          "metadata": {},
          "output_type": "execute_result"
        }
      ],
      "source": [
        "#검정통계량\n",
        "#모평균 130\n",
        "z = (s_mean-130)/np.sqrt(9/14)\n",
        "z"
      ]
    },
    {
      "cell_type": "code",
      "execution_count": null,
      "id": "0213d731-fffe-4489-a394-d9db202a0da1",
      "metadata": {
        "id": "0213d731-fffe-4489-a394-d9db202a0da1",
        "outputId": "9c2076aa-627c-4900-e66a-33e909878b39"
      },
      "outputs": [
        {
          "data": {
            "text/plain": [
              "-1.645"
            ]
          },
          "execution_count": 14,
          "metadata": {},
          "output_type": "execute_result"
        }
      ],
      "source": [
        "# 검정 통계량에 관한 임계값을 구하기\n",
        "rv = stats.norm()\n",
        "rv.isf(0.95)"
      ]
    },
    {
      "cell_type": "code",
      "execution_count": null,
      "id": "491e0e16-b107-4e1d-9dbe-67b42f3a078d",
      "metadata": {
        "id": "491e0e16-b107-4e1d-9dbe-67b42f3a078d",
        "outputId": "dcf0455d-d380-441e-de0d-6cc21251762b"
      },
      "outputs": [
        {
          "data": {
            "text/plain": [
              "0.027"
            ]
          },
          "execution_count": 15,
          "metadata": {},
          "output_type": "execute_result"
        }
      ],
      "source": [
        "rv.cdf(z) #유의수준 0.05 보다 작음\n",
        "# 귀무가설 : 모평균 130g과 표본평균 128.451g과 같다.\n",
        "# 대립가설 : 모평균 130g과 표본평균 128.451g과 같지 않다.\n",
        "# => 귀무가설 기각, 대립가설 채택 (대립가설 채택한다는 말은 통계에 존재 X)\n",
        "# 귀무가설 채택 OR 귀무가설 기각으로 표현한다."
      ]
    },
    {
      "cell_type": "code",
      "execution_count": null,
      "id": "a1578790-3408-45b0-bbcf-ac156ecee927",
      "metadata": {
        "id": "a1578790-3408-45b0-bbcf-ac156ecee927",
        "outputId": "c0d90756-55a4-47b1-9cdd-59b676fb38a9"
      },
      "outputs": [
        {
          "data": {
            "text/plain": [
              "(-1.960, 1.960)"
            ]
          },
          "execution_count": 26,
          "metadata": {},
          "output_type": "execute_result"
        }
      ],
      "source": [
        "# 양측검정\n",
        "z = (s_mean-130)/np.sqrt(9/14)\n",
        "rv = stats.norm()\n",
        "rv.interval(0.95)"
      ]
    },
    {
      "cell_type": "code",
      "execution_count": null,
      "id": "129f6dd6-8fa1-4ca4-937d-e676f7af2402",
      "metadata": {
        "id": "129f6dd6-8fa1-4ca4-937d-e676f7af2402",
        "outputId": "40396afa-819a-4515-c5f1-6cae2a97b8e2"
      },
      "outputs": [
        {
          "data": {
            "text/plain": [
              "0.027"
            ]
          },
          "execution_count": 25,
          "metadata": {},
          "output_type": "execute_result"
        }
      ],
      "source": [
        "rv.cdf(z) # p-value값"
      ]
    },
    {
      "cell_type": "code",
      "execution_count": null,
      "id": "85df8b5e-e2a1-469b-937a-b63eae58fe13",
      "metadata": {
        "id": "85df8b5e-e2a1-469b-937a-b63eae58fe13"
      },
      "outputs": [],
      "source": [
        "# 가설 검정의 두가지 오류\n",
        "- 제 1종 오류 : 귀무가설이 옳을 때 귀무가설을 기각하는 오류\n",
        "- 제 2종 오류 : 대립가설이 옳을 때 귀무가설을 채택하는 오류"
      ]
    },
    {
      "cell_type": "code",
      "execution_count": null,
      "id": "7c341fd9-983e-48cd-b0a0-9055bde2b159",
      "metadata": {
        "id": "7c341fd9-983e-48cd-b0a0-9055bde2b159"
      },
      "outputs": [],
      "source": [
        "# 제 1종 오류\n",
        "- 실제로 평균이 130g인데도 불구하고 평균은 130g보다 작다고 결론을 내리는 상황\n",
        "    + False Positive(오탐)"
      ]
    },
    {
      "cell_type": "code",
      "execution_count": null,
      "id": "6a0587b4-f498-49b1-bb5a-c5d8b19add10",
      "metadata": {
        "id": "6a0587b4-f498-49b1-bb5a-c5d8b19add10",
        "outputId": "238b65ad-f902-4789-bb42-61d20ff381fa"
      },
      "outputs": [
        {
          "data": {
            "text/plain": [
              "0.052"
            ]
          },
          "execution_count": 53,
          "metadata": {},
          "output_type": "execute_result"
        }
      ],
      "source": [
        "rv = stats.norm(130,3)\n",
        "c = stats.norm().isf(0.95)\n",
        "n_samples = 10000\n",
        "cnt = 0\n",
        "for _ in range(n_samples):\n",
        "    sample_ = np.round(rv.rvs(14), 2)\n",
        "    s_mean_ = np.mean(sample_)\n",
        "    z = (s_mean_ - 130) / np.sqrt(9/14)\n",
        "    if z < c:\n",
        "        cnt += 1\n",
        "cnt / n_samples"
      ]
    },
    {
      "cell_type": "code",
      "execution_count": null,
      "id": "cec630ba-61d8-4286-a17b-3c2f03baab00",
      "metadata": {
        "id": "cec630ba-61d8-4286-a17b-3c2f03baab00"
      },
      "outputs": [],
      "source": [
        "- 1종 오류를 범할 비율은 0.053 / 약 5%의 비율로 130g 보다 작다고 잘못 탐지하는 것과 같다\n",
        "- 1종 오류를 범할 확룰을 위험률\n",
        "- 좀 더 엄격하게 적용하고 싶다고 하면 유의수준 1%에서 가설검정을 수행"
      ]
    },
    {
      "cell_type": "code",
      "execution_count": null,
      "id": "9d30b3bc-3c1f-4870-9d0f-0ebaaa47fd99",
      "metadata": {
        "id": "9d30b3bc-3c1f-4870-9d0f-0ebaaa47fd99"
      },
      "outputs": [],
      "source": [
        "# 제 2종 오류\n",
        "- 실제로 표본의 평균이 130g보다 작음에도 불구하고 표본 평균은 130g보다 작다는 결론을 얻을 수 없는 상황\n",
        "    + 본래 검출해야 하는 것을 검출하지 못했으므로 False Nagative(미탐)"
      ]
    },
    {
      "cell_type": "code",
      "execution_count": null,
      "id": "3860bb15-f7b4-4968-b035-7cf9547434f7",
      "metadata": {
        "id": "3860bb15-f7b4-4968-b035-7cf9547434f7",
        "outputId": "d12e4f9a-18be-4252-8253-76151bc4507f"
      },
      "outputs": [
        {
          "data": {
            "text/plain": [
              "0.196"
            ]
          },
          "execution_count": 56,
          "metadata": {},
          "output_type": "execute_result"
        }
      ],
      "source": [
        "rv = stats.norm(128,3)\n",
        "c = stats.norm().isf(0.95)\n",
        "n_samples = 10000\n",
        "cnt = 0\n",
        "for _ in range(n_samples):\n",
        "    sample_ = np.round(rv.rvs(14), 2)\n",
        "    s_mean_ = np.mean(sample_)\n",
        "    z = (s_mean_ - 130) / np.sqrt(9/14)\n",
        "    if z >= c:\n",
        "        cnt += 1\n",
        "cnt / n_samples"
      ]
    },
    {
      "cell_type": "code",
      "execution_count": null,
      "id": "18075f74-c3c8-4f98-9a73-0828fc200b11",
      "metadata": {
        "id": "18075f74-c3c8-4f98-9a73-0828fc200b11"
      },
      "outputs": [],
      "source": [
        "- 0.196의 의미는 검정력/ 제대로 탐지하지 못할 확률이 20% 되더라!\n",
        "- 제 2종 오류는 언제나 모집단의 정보에 의존한다\n",
        "    + 중요한 포인트는 분석가는 모집단의 구체적인 정보를 알 방법이 없다.\n",
        "    + 따라서 모집단에 의존하는 제 2종 오류는 컨트롤 할 수 없으니, 1종 오류를 줄이는 방향으로 관리"
      ]
    },
    {
      "cell_type": "code",
      "execution_count": null,
      "id": "616f4478-2669-48d8-bad4-d4b1cc0a8221",
      "metadata": {
        "id": "616f4478-2669-48d8-bad4-d4b1cc0a8221"
      },
      "outputs": [],
      "source": [
        "# 모분산을 안다!\n",
        "- 현실적으로 모집단을 아는 것은 불가능\n",
        "    + 건강보험관련 통계/전국민 데이터가 있는 자료(국가자료)\n",
        "- 모분산을 알고 있다는 뜻은 모집단을 알고 있다 => 모평균도 구할 수 있음 => 모평균에 대한 검정을 굳이 할 필요가 있나?"
      ]
    },
    {
      "cell_type": "code",
      "execution_count": null,
      "id": "54c1843e-0d03-4500-9590-414601c21c2c",
      "metadata": {
        "id": "54c1843e-0d03-4500-9590-414601c21c2c"
      },
      "outputs": [],
      "source": [
        "def pmean_test(sample, mean0, alpha=0.05):\n",
        "    '''\n",
        "    sample : 표본 샘플 데이터\n",
        "    mean0 : 모평균을 제안( 감자칩의 무게와 같이 이미 기 제안이 된 것)\n",
        "    alpha : 신뢰구간 95% 수준의 신뢰구간\n",
        "    '''\n",
        "    s_mean = np.mean(sample)\n",
        "    u_var = np.var(sample, ddof=1)\n",
        "    n = len(sample)\n",
        "    rv = stats.t(df=n-1)\n",
        "    interval = rv.interval(1-alpha)\n",
        "\n",
        "    t = (s_mean - mean0) / np.sqrt(u_var/n)\n",
        "    print(f't통계량 값은 {t:.3f}')\n",
        "    if interval[0] <= t <= interval[1]:\n",
        "        print('귀무가설을 채택')\n",
        "    else:\n",
        "        print('귀무가설을 기각')\n",
        "\n",
        "    if t < 0:\n",
        "        p = rv.cdf(t) * 2\n",
        "    else:\n",
        "        p = (1 - rv.cdf(t)) * 2\n",
        "    print(f'p값은 {p:.3f}')"
      ]
    },
    {
      "cell_type": "code",
      "execution_count": null,
      "id": "bbd16f07-1bf5-4573-85cf-0592292d3d97",
      "metadata": {
        "id": "bbd16f07-1bf5-4573-85cf-0592292d3d97",
        "outputId": "8d9de3f3-e83e-430e-b362-73f60475ee8f"
      },
      "outputs": [
        {
          "name": "stdout",
          "output_type": "stream",
          "text": [
            "t통계량 값은 -1.455\n",
            "귀무가설을 채택\n",
            "p값은 0.169\n"
          ]
        }
      ],
      "source": [
        "pmean_test(sample, 130)"
      ]
    },
    {
      "cell_type": "code",
      "execution_count": null,
      "id": "50030535-a025-4bdf-b055-a1966d6229dd",
      "metadata": {
        "id": "50030535-a025-4bdf-b055-a1966d6229dd",
        "outputId": "d13f3a09-481b-42a0-9581-4bf3b55a43cb"
      },
      "outputs": [
        {
          "data": {
            "text/plain": [
              "(-1.455, 0.169)"
            ]
          },
          "execution_count": 63,
          "metadata": {},
          "output_type": "execute_result"
        }
      ],
      "source": [
        "t, p = stats.ttest_1samp(sample,130)\n",
        "t, p"
      ]
    },
    {
      "cell_type": "code",
      "execution_count": null,
      "id": "1ca3eb9e-31e1-41de-8fe0-10b4b41badc6",
      "metadata": {
        "id": "1ca3eb9e-31e1-41de-8fe0-10b4b41badc6"
      },
      "outputs": [],
      "source": [
        "### z 통계량 / t 통계량\n",
        "- 모집단, 모평균, 모분산 다 알고 있다 z-검정 : z-통계량\n",
        "- 표본을 추출한다. 표본 평균, 표본 분산을 알고 있다. t-검정 : t 통계량"
      ]
    },
    {
      "cell_type": "code",
      "execution_count": null,
      "id": "3e1ab788-76dc-43d7-97d5-429d752c2daf",
      "metadata": {
        "id": "3e1ab788-76dc-43d7-97d5-429d752c2daf"
      },
      "outputs": [],
      "source": [
        "## 2표본 문제에 관한 가설 검정\n",
        "- 대응표본 : 정규분포를 가정할 수 있음\n",
        "    + 정규성 검정 통과 : 대응표본 t-검정\n",
        "    + 정규성 검정 통과 실패 : 비모수 검정, 윌콕슨의 부호순위검정\n",
        "- 독립표본 : 정규분포를 가정할 수 있음\n",
        "    + 정규성 검정 통과 : 독립비교 t검정\n",
        "    + 정규성 검정 통과 실패 : 맨-위트니의 U검정"
      ]
    },
    {
      "cell_type": "code",
      "execution_count": null,
      "id": "9b8c2564-4599-4cb3-b427-2ed8c0dfca5f",
      "metadata": {
        "id": "9b8c2564-4599-4cb3-b427-2ed8c0dfca5f"
      },
      "outputs": [],
      "source": [
        "## 대응표본 t검정\n",
        "- A 학생, 친구 20명에게 1주일간 근력운동 하게 함(Intervention, 개입)\n",
        "- 운동 전 후에 집중력을 측정하는 테스트 받게 됨\n",
        "- 가설검정\n",
        "    + 귀무가설: 1주일 전과 1주일 후의 집중력 테스트 평균값의 차이가 없다\n",
        "    + 대립가설: 1주일 전과 1주일 후의 집중력 테스트 평균값의 차이가 있다"
      ]
    },
    {
      "cell_type": "code",
      "execution_count": null,
      "id": "adafca6a-dc2c-4a73-b838-df71564dcbb6",
      "metadata": {
        "id": "adafca6a-dc2c-4a73-b838-df71564dcbb6",
        "outputId": "a8d94879-e05e-47d3-b823-35d38ca0da6e"
      },
      "outputs": [
        {
          "data": {
            "text/html": [
              "<div>\n",
              "<style scoped>\n",
              "    .dataframe tbody tr th:only-of-type {\n",
              "        vertical-align: middle;\n",
              "    }\n",
              "\n",
              "    .dataframe tbody tr th {\n",
              "        vertical-align: top;\n",
              "    }\n",
              "\n",
              "    .dataframe thead th {\n",
              "        text-align: right;\n",
              "    }\n",
              "</style>\n",
              "<table border=\"1\" class=\"dataframe\">\n",
              "  <thead>\n",
              "    <tr style=\"text-align: right;\">\n",
              "      <th></th>\n",
              "      <th>전</th>\n",
              "      <th>후</th>\n",
              "      <th>차이</th>\n",
              "    </tr>\n",
              "  </thead>\n",
              "  <tbody>\n",
              "    <tr>\n",
              "      <th>0</th>\n",
              "      <td>59</td>\n",
              "      <td>41</td>\n",
              "      <td>-18</td>\n",
              "    </tr>\n",
              "    <tr>\n",
              "      <th>1</th>\n",
              "      <td>52</td>\n",
              "      <td>63</td>\n",
              "      <td>11</td>\n",
              "    </tr>\n",
              "    <tr>\n",
              "      <th>2</th>\n",
              "      <td>55</td>\n",
              "      <td>68</td>\n",
              "      <td>13</td>\n",
              "    </tr>\n",
              "    <tr>\n",
              "      <th>3</th>\n",
              "      <td>61</td>\n",
              "      <td>59</td>\n",
              "      <td>-2</td>\n",
              "    </tr>\n",
              "    <tr>\n",
              "      <th>4</th>\n",
              "      <td>59</td>\n",
              "      <td>84</td>\n",
              "      <td>25</td>\n",
              "    </tr>\n",
              "  </tbody>\n",
              "</table>\n",
              "</div>"
            ],
            "text/plain": [
              "    전   후  차이\n",
              "0  59  41 -18\n",
              "1  52  63  11\n",
              "2  55  68  13\n",
              "3  61  59  -2\n",
              "4  59  84  25"
            ]
          },
          "execution_count": 74,
          "metadata": {},
          "output_type": "execute_result"
        }
      ],
      "source": [
        "import pandas as pd\n",
        "training_rel = pd.read_csv('data/ch11_training_rel.csv')\n",
        "training_rel['차이'] = training_rel['후'] - training_rel['전']\n",
        "training_rel.head()"
      ]
    },
    {
      "cell_type": "code",
      "execution_count": null,
      "id": "42f46436-c39f-4a7d-8ca2-e44d9db91cc4",
      "metadata": {
        "scrolled": true,
        "id": "42f46436-c39f-4a7d-8ca2-e44d9db91cc4",
        "outputId": "c3846174-0719-4ad4-ae6c-0c044b764b70"
      },
      "outputs": [
        {
          "data": {
            "text/plain": [
              "(2.204, 0.040)"
            ]
          },
          "execution_count": 72,
          "metadata": {},
          "output_type": "execute_result"
        }
      ],
      "source": [
        "t, p = stats.ttest_1samp(training_rel['차이'],0)\n",
        "t, p"
      ]
    },
    {
      "cell_type": "code",
      "execution_count": null,
      "id": "fcae9def-77f4-4c15-b2d9-32f5684af0bc",
      "metadata": {
        "id": "fcae9def-77f4-4c15-b2d9-32f5684af0bc",
        "outputId": "363a50b2-4ecd-4368-d0f5-a809b9e08b7a"
      },
      "outputs": [
        {
          "data": {
            "text/plain": [
              "(2.204, 0.040)"
            ]
          },
          "execution_count": 73,
          "metadata": {},
          "output_type": "execute_result"
        }
      ],
      "source": [
        "t, p = stats.ttest_rel(training_rel['후'],training_rel['전'])\n",
        "t, p"
      ]
    },
    {
      "cell_type": "code",
      "execution_count": null,
      "id": "b6442bde-7257-4936-8be4-179e8de543a7",
      "metadata": {
        "id": "b6442bde-7257-4936-8be4-179e8de543a7"
      },
      "outputs": [],
      "source": [
        "## 보고서 작성\n",
        "- t-통계량 / p-value값\n",
        "- 전, 후 시각화 코드 , 전 평균값, 후 평균값"
      ]
    },
    {
      "cell_type": "code",
      "execution_count": null,
      "id": "7313c44c-8537-449f-bac8-afc26de2ad9c",
      "metadata": {
        "id": "7313c44c-8537-449f-bac8-afc26de2ad9c"
      },
      "outputs": [],
      "source": [
        "##독립 비교 t-검정\n",
        "A 그룹, B 그룹 사이에 집중력 테스트의 평균에서 차이가 나지 않을까 생각하여 테스트를 함\n",
        "- 이 데이터로부터 어떤 검정을 수행해야 A 학생과 B 학생 학급의 집중력에 유의한 차이가 있는지 확인\n",
        "- 가설설정\n",
        "  + 귀무가설 : A그룹, B그룹의 집중력 테스트 평균값의 차이가 없다.\n",
        "  + 대립가설 : A그룹, B그룹의 집중력 테스트 평균값의 차이가 있다.\n",
        "- 독립비교 t-검정 두가지 가정\n",
        "    + 1) 각 그룹 데이터의 정규성을 검정\n",
        "    + 2) 두 그룹의 분산이 같다 (= 등분산성 검정), levene 검정 시행"
      ]
    },
    {
      "cell_type": "code",
      "execution_count": null,
      "id": "bfa85432-5807-4618-9c3f-ffc23f28e0b0",
      "metadata": {
        "id": "bfa85432-5807-4618-9c3f-ffc23f28e0b0",
        "outputId": "cbaf9574-d7c7-429f-ff5c-56fdf064f9c8"
      },
      "outputs": [
        {
          "data": {
            "text/html": [
              "<div>\n",
              "<style scoped>\n",
              "    .dataframe tbody tr th:only-of-type {\n",
              "        vertical-align: middle;\n",
              "    }\n",
              "\n",
              "    .dataframe tbody tr th {\n",
              "        vertical-align: top;\n",
              "    }\n",
              "\n",
              "    .dataframe thead th {\n",
              "        text-align: right;\n",
              "    }\n",
              "</style>\n",
              "<table border=\"1\" class=\"dataframe\">\n",
              "  <thead>\n",
              "    <tr style=\"text-align: right;\">\n",
              "      <th></th>\n",
              "      <th>A</th>\n",
              "      <th>B</th>\n",
              "    </tr>\n",
              "  </thead>\n",
              "  <tbody>\n",
              "    <tr>\n",
              "      <th>0</th>\n",
              "      <td>47</td>\n",
              "      <td>49</td>\n",
              "    </tr>\n",
              "    <tr>\n",
              "      <th>1</th>\n",
              "      <td>50</td>\n",
              "      <td>52</td>\n",
              "    </tr>\n",
              "    <tr>\n",
              "      <th>2</th>\n",
              "      <td>37</td>\n",
              "      <td>54</td>\n",
              "    </tr>\n",
              "    <tr>\n",
              "      <th>3</th>\n",
              "      <td>60</td>\n",
              "      <td>48</td>\n",
              "    </tr>\n",
              "    <tr>\n",
              "      <th>4</th>\n",
              "      <td>39</td>\n",
              "      <td>51</td>\n",
              "    </tr>\n",
              "  </tbody>\n",
              "</table>\n",
              "</div>"
            ],
            "text/plain": [
              "    A   B\n",
              "0  47  49\n",
              "1  50  52\n",
              "2  37  54\n",
              "3  60  48\n",
              "4  39  51"
            ]
          },
          "execution_count": 75,
          "metadata": {},
          "output_type": "execute_result"
        }
      ],
      "source": [
        "training_ind = pd.read_csv('data/ch11_training_ind.csv')\n",
        "training_ind.head()"
      ]
    },
    {
      "cell_type": "code",
      "execution_count": null,
      "id": "afc64dbe-ed3e-45d2-a75d-244bc2f5b6c3",
      "metadata": {
        "id": "afc64dbe-ed3e-45d2-a75d-244bc2f5b6c3",
        "outputId": "c1a4276b-1372-4cfb-ef2d-d2b21e6580fe"
      },
      "outputs": [
        {
          "data": {
            "text/plain": [
              "(-1.761, 0.087)"
            ]
          },
          "execution_count": 76,
          "metadata": {},
          "output_type": "execute_result"
        }
      ],
      "source": [
        "# levene 검정 이후, 등분산성이 다르더라\n",
        "t, p =stats.ttest_ind(training_ind['A'],training_ind['B'],equal_var=False)\n",
        "# equal_var = False 로 설정해주면 =>웰치의 방법으로 계산됨.\n",
        "# 즉, 분산이 다르더라도 t검정 사용가능\n",
        "t, p\n",
        "# 결론_두 그룹의 평균 차이는 없다, 귀무가설 채택"
      ]
    },
    {
      "cell_type": "code",
      "execution_count": null,
      "id": "ead4b00f-cdf1-4017-a8e5-cdab42a36611",
      "metadata": {
        "id": "ead4b00f-cdf1-4017-a8e5-cdab42a36611"
      },
      "outputs": [],
      "source": [
        "### 비모수 검정\n",
        "- 모수 검정에서 각 가정을 만족시키지 못할 때, 비모수검정을 쓰더라."
      ]
    },
    {
      "cell_type": "code",
      "execution_count": null,
      "id": "0b691d44-99cc-4911-8926-43ae285ac838",
      "metadata": {
        "id": "0b691d44-99cc-4911-8926-43ae285ac838"
      },
      "outputs": [],
      "source": [
        "## 윌콕슨의 부호순위검정\n",
        "- 대응표본에서 차이에 정규분포를 만족시키지 못할 때\n",
        "    + 평균차이(X), 중앙값 차이에 대한 검정(O)\n",
        "    + 중앙값, 50%에 해당하는 값"
      ]
    },
    {
      "cell_type": "code",
      "execution_count": null,
      "id": "47e5e588-823f-493c-ac43-88e4e50aab9e",
      "metadata": {
        "id": "47e5e588-823f-493c-ac43-88e4e50aab9e",
        "outputId": "51a90027-6784-4823-9a61-bcf8a508f183"
      },
      "outputs": [
        {
          "data": {
            "text/html": [
              "<div>\n",
              "<style scoped>\n",
              "    .dataframe tbody tr th:only-of-type {\n",
              "        vertical-align: middle;\n",
              "    }\n",
              "\n",
              "    .dataframe tbody tr th {\n",
              "        vertical-align: top;\n",
              "    }\n",
              "\n",
              "    .dataframe thead th {\n",
              "        text-align: right;\n",
              "    }\n",
              "</style>\n",
              "<table border=\"1\" class=\"dataframe\">\n",
              "  <thead>\n",
              "    <tr style=\"text-align: right;\">\n",
              "      <th></th>\n",
              "      <th>전</th>\n",
              "      <th>후</th>\n",
              "      <th>차</th>\n",
              "    </tr>\n",
              "  </thead>\n",
              "  <tbody>\n",
              "    <tr>\n",
              "      <th>0</th>\n",
              "      <td>59</td>\n",
              "      <td>41</td>\n",
              "      <td>-18</td>\n",
              "    </tr>\n",
              "    <tr>\n",
              "      <th>1</th>\n",
              "      <td>52</td>\n",
              "      <td>63</td>\n",
              "      <td>11</td>\n",
              "    </tr>\n",
              "    <tr>\n",
              "      <th>2</th>\n",
              "      <td>55</td>\n",
              "      <td>68</td>\n",
              "      <td>13</td>\n",
              "    </tr>\n",
              "    <tr>\n",
              "      <th>3</th>\n",
              "      <td>61</td>\n",
              "      <td>59</td>\n",
              "      <td>-2</td>\n",
              "    </tr>\n",
              "    <tr>\n",
              "      <th>4</th>\n",
              "      <td>59</td>\n",
              "      <td>84</td>\n",
              "      <td>25</td>\n",
              "    </tr>\n",
              "    <tr>\n",
              "      <th>5</th>\n",
              "      <td>45</td>\n",
              "      <td>37</td>\n",
              "      <td>-8</td>\n",
              "    </tr>\n",
              "  </tbody>\n",
              "</table>\n",
              "</div>"
            ],
            "text/plain": [
              "    전   후   차\n",
              "0  59  41 -18\n",
              "1  52  63  11\n",
              "2  55  68  13\n",
              "3  61  59  -2\n",
              "4  59  84  25\n",
              "5  45  37  -8"
            ]
          },
          "execution_count": 69,
          "metadata": {},
          "output_type": "execute_result"
        }
      ],
      "source": [
        "training_rel = pd.read_csv('data/ch11_training_rel.csv')\n",
        "toy_df = training_rel[:6].copy()\n",
        "toy_df['차'] = toy_df['후']-toy_df['전']\n",
        "toy_df"
      ]
    },
    {
      "cell_type": "code",
      "execution_count": null,
      "id": "b2d8ea46-f6de-42b2-bc45-b4c24de8eb40",
      "metadata": {
        "id": "b2d8ea46-f6de-42b2-bc45-b4c24de8eb40",
        "outputId": "768693f0-7117-4a0c-d034-4ec14d251aae"
      },
      "outputs": [
        {
          "data": {
            "text/plain": [
              "(8.000, 0.688)"
            ]
          },
          "execution_count": 70,
          "metadata": {},
          "output_type": "execute_result"
        }
      ],
      "source": [
        "t, p = stats.wilcoxon(toy_df['후'],toy_df['전'])\n",
        "t, p"
      ]
    },
    {
      "cell_type": "code",
      "execution_count": null,
      "id": "b2d29557-de6c-4625-9dab-6f0395124fff",
      "metadata": {
        "id": "b2d29557-de6c-4625-9dab-6f0395124fff",
        "outputId": "0eeece3f-96fb-4f62-a5a0-c530396fb302"
      },
      "outputs": [
        {
          "data": {
            "text/html": [
              "<div>\n",
              "<style scoped>\n",
              "    .dataframe tbody tr th:only-of-type {\n",
              "        vertical-align: middle;\n",
              "    }\n",
              "\n",
              "    .dataframe tbody tr th {\n",
              "        vertical-align: top;\n",
              "    }\n",
              "\n",
              "    .dataframe thead th {\n",
              "        text-align: right;\n",
              "    }\n",
              "</style>\n",
              "<table border=\"1\" class=\"dataframe\">\n",
              "  <thead>\n",
              "    <tr style=\"text-align: right;\">\n",
              "      <th></th>\n",
              "      <th>전</th>\n",
              "      <th>후</th>\n",
              "      <th>차</th>\n",
              "      <th>순위</th>\n",
              "    </tr>\n",
              "  </thead>\n",
              "  <tbody>\n",
              "    <tr>\n",
              "      <th>0</th>\n",
              "      <td>59</td>\n",
              "      <td>60</td>\n",
              "      <td>1</td>\n",
              "      <td>1</td>\n",
              "    </tr>\n",
              "    <tr>\n",
              "      <th>1</th>\n",
              "      <td>52</td>\n",
              "      <td>50</td>\n",
              "      <td>-2</td>\n",
              "      <td>2</td>\n",
              "    </tr>\n",
              "    <tr>\n",
              "      <th>2</th>\n",
              "      <td>55</td>\n",
              "      <td>52</td>\n",
              "      <td>-3</td>\n",
              "      <td>3</td>\n",
              "    </tr>\n",
              "    <tr>\n",
              "      <th>3</th>\n",
              "      <td>61</td>\n",
              "      <td>65</td>\n",
              "      <td>4</td>\n",
              "      <td>4</td>\n",
              "    </tr>\n",
              "    <tr>\n",
              "      <th>4</th>\n",
              "      <td>59</td>\n",
              "      <td>64</td>\n",
              "      <td>5</td>\n",
              "      <td>5</td>\n",
              "    </tr>\n",
              "    <tr>\n",
              "      <th>5</th>\n",
              "      <td>45</td>\n",
              "      <td>39</td>\n",
              "      <td>-6</td>\n",
              "      <td>6</td>\n",
              "    </tr>\n",
              "  </tbody>\n",
              "</table>\n",
              "</div>"
            ],
            "text/plain": [
              "    전   후  차  순위\n",
              "0  59  60  1   1\n",
              "1  52  50 -2   2\n",
              "2  55  52 -3   3\n",
              "3  61  65  4   4\n",
              "4  59  64  5   5\n",
              "5  45  39 -6   6"
            ]
          },
          "execution_count": 66,
          "metadata": {},
          "output_type": "execute_result"
        }
      ],
      "source": [
        "# 순위 적용\n",
        "diff = toy_df['후']-toy_df['전']\n",
        "rank = stats.rankdata(abs(diff)).astype(int)\n",
        "toy_df['순위'] = rank\n",
        "toy_df"
      ]
    },
    {
      "cell_type": "code",
      "execution_count": null,
      "id": "37359049-ef03-488f-8f13-f2766a20b82c",
      "metadata": {
        "id": "37359049-ef03-488f-8f13-f2766a20b82c",
        "outputId": "6c10bc59-ad95-4ee3-eec1-12fc017c1a30"
      },
      "outputs": [
        {
          "data": {
            "text/plain": [
              "(11, 10)"
            ]
          },
          "execution_count": 67,
          "metadata": {},
          "output_type": "execute_result"
        }
      ],
      "source": [
        "r_minus = np.sum((diff < 0) * rank)\n",
        "r_plus = np.sum((diff > 0) * rank)\n",
        "\n",
        "r_minus, r_plus #검정통계량 8"
      ]
    },
    {
      "cell_type": "code",
      "execution_count": null,
      "id": "c958ab29-003b-4d09-b1b0-65da0955b321",
      "metadata": {
        "id": "c958ab29-003b-4d09-b1b0-65da0955b321",
        "outputId": "b0f53eb2-5385-47b7-d931-22ac595b6cef"
      },
      "outputs": [
        {
          "data": {
            "text/html": [
              "<div>\n",
              "<style scoped>\n",
              "    .dataframe tbody tr th:only-of-type {\n",
              "        vertical-align: middle;\n",
              "    }\n",
              "\n",
              "    .dataframe tbody tr th {\n",
              "        vertical-align: top;\n",
              "    }\n",
              "\n",
              "    .dataframe thead th {\n",
              "        text-align: right;\n",
              "    }\n",
              "</style>\n",
              "<table border=\"1\" class=\"dataframe\">\n",
              "  <thead>\n",
              "    <tr style=\"text-align: right;\">\n",
              "      <th></th>\n",
              "      <th>전</th>\n",
              "      <th>후</th>\n",
              "      <th>차</th>\n",
              "      <th>순위</th>\n",
              "    </tr>\n",
              "  </thead>\n",
              "  <tbody>\n",
              "    <tr>\n",
              "      <th>0</th>\n",
              "      <td>59</td>\n",
              "      <td>60</td>\n",
              "      <td>1</td>\n",
              "      <td>1</td>\n",
              "    </tr>\n",
              "    <tr>\n",
              "      <th>1</th>\n",
              "      <td>52</td>\n",
              "      <td>54</td>\n",
              "      <td>2</td>\n",
              "      <td>2</td>\n",
              "    </tr>\n",
              "    <tr>\n",
              "      <th>2</th>\n",
              "      <td>55</td>\n",
              "      <td>58</td>\n",
              "      <td>3</td>\n",
              "      <td>3</td>\n",
              "    </tr>\n",
              "    <tr>\n",
              "      <th>3</th>\n",
              "      <td>61</td>\n",
              "      <td>65</td>\n",
              "      <td>4</td>\n",
              "      <td>4</td>\n",
              "    </tr>\n",
              "    <tr>\n",
              "      <th>4</th>\n",
              "      <td>59</td>\n",
              "      <td>64</td>\n",
              "      <td>5</td>\n",
              "      <td>5</td>\n",
              "    </tr>\n",
              "    <tr>\n",
              "      <th>5</th>\n",
              "      <td>45</td>\n",
              "      <td>51</td>\n",
              "      <td>6</td>\n",
              "      <td>6</td>\n",
              "    </tr>\n",
              "  </tbody>\n",
              "</table>\n",
              "</div>"
            ],
            "text/plain": [
              "    전   후  차  순위\n",
              "0  59  60  1   1\n",
              "1  52  54  2   2\n",
              "2  55  58  3   3\n",
              "3  61  65  4   4\n",
              "4  59  64  5   5\n",
              "5  45  51  6   6"
            ]
          },
          "metadata": {},
          "output_type": "display_data"
        },
        {
          "data": {
            "text/plain": [
              "(0, 21)"
            ]
          },
          "execution_count": 62,
          "metadata": {},
          "output_type": "execute_result"
        }
      ],
      "source": [
        "toy_df['후'] = toy_df['전'] + np.arange(1, 7)\n",
        "diff = toy_df['후'] - toy_df['전']\n",
        "rank = stats.rankdata(abs(diff)).astype(int)\n",
        "toy_df['차'] = diff\n",
        "toy_df['순위'] = rank\n",
        "display(toy_df)\n",
        "\n",
        "r_minus = np.sum((diff < 0) * rank)\n",
        "r_plus = np.sum((diff > 0) * rank)\n",
        "\n",
        "r_minus, r_plus"
      ]
    },
    {
      "cell_type": "code",
      "execution_count": null,
      "id": "f63f097a-8d0a-47bd-bdf0-1a0a8c006500",
      "metadata": {
        "id": "f63f097a-8d0a-47bd-bdf0-1a0a8c006500",
        "outputId": "7084f37c-44de-40e4-aebf-882f8af680e0"
      },
      "outputs": [
        {
          "data": {
            "text/html": [
              "<div>\n",
              "<style scoped>\n",
              "    .dataframe tbody tr th:only-of-type {\n",
              "        vertical-align: middle;\n",
              "    }\n",
              "\n",
              "    .dataframe tbody tr th {\n",
              "        vertical-align: top;\n",
              "    }\n",
              "\n",
              "    .dataframe thead th {\n",
              "        text-align: right;\n",
              "    }\n",
              "</style>\n",
              "<table border=\"1\" class=\"dataframe\">\n",
              "  <thead>\n",
              "    <tr style=\"text-align: right;\">\n",
              "      <th></th>\n",
              "      <th>전</th>\n",
              "      <th>후</th>\n",
              "      <th>차</th>\n",
              "      <th>순위</th>\n",
              "    </tr>\n",
              "  </thead>\n",
              "  <tbody>\n",
              "    <tr>\n",
              "      <th>0</th>\n",
              "      <td>59</td>\n",
              "      <td>60</td>\n",
              "      <td>1</td>\n",
              "      <td>1</td>\n",
              "    </tr>\n",
              "    <tr>\n",
              "      <th>1</th>\n",
              "      <td>52</td>\n",
              "      <td>50</td>\n",
              "      <td>-2</td>\n",
              "      <td>2</td>\n",
              "    </tr>\n",
              "    <tr>\n",
              "      <th>2</th>\n",
              "      <td>55</td>\n",
              "      <td>52</td>\n",
              "      <td>-3</td>\n",
              "      <td>3</td>\n",
              "    </tr>\n",
              "    <tr>\n",
              "      <th>3</th>\n",
              "      <td>61</td>\n",
              "      <td>65</td>\n",
              "      <td>4</td>\n",
              "      <td>4</td>\n",
              "    </tr>\n",
              "    <tr>\n",
              "      <th>4</th>\n",
              "      <td>59</td>\n",
              "      <td>64</td>\n",
              "      <td>5</td>\n",
              "      <td>5</td>\n",
              "    </tr>\n",
              "    <tr>\n",
              "      <th>5</th>\n",
              "      <td>45</td>\n",
              "      <td>39</td>\n",
              "      <td>-6</td>\n",
              "      <td>6</td>\n",
              "    </tr>\n",
              "  </tbody>\n",
              "</table>\n",
              "</div>"
            ],
            "text/plain": [
              "    전   후  차  순위\n",
              "0  59  60  1   1\n",
              "1  52  50 -2   2\n",
              "2  55  52 -3   3\n",
              "3  61  65  4   4\n",
              "4  59  64  5   5\n",
              "5  45  39 -6   6"
            ]
          },
          "execution_count": 63,
          "metadata": {},
          "output_type": "execute_result"
        }
      ],
      "source": [
        "toy_df['후'] = toy_df['전'] + [1, -2, -3, 4, 5, -6]\n",
        "diff = toy_df['후'] - toy_df['전']\n",
        "rank = stats.rankdata(abs(diff)).astype(int)\n",
        "toy_df['차'] = diff\n",
        "toy_df['순위'] = rank\n",
        "toy_df"
      ]
    },
    {
      "cell_type": "code",
      "execution_count": null,
      "id": "60657523-d96e-405b-af55-59c33846c07f",
      "metadata": {
        "id": "60657523-d96e-405b-af55-59c33846c07f",
        "outputId": "1e796b56-5ff9-4c32-fcf4-2bfb0611a53d"
      },
      "outputs": [
        {
          "data": {
            "text/plain": [
              "(11, 10)"
            ]
          },
          "execution_count": 64,
          "metadata": {},
          "output_type": "execute_result"
        }
      ],
      "source": [
        "r_minus = np.sum((diff < 0) * rank)\n",
        "r_plus = np.sum((diff > 0) * rank)\n",
        "\n",
        "r_minus, r_plus #검정통계량 10"
      ]
    },
    {
      "cell_type": "code",
      "execution_count": null,
      "id": "ccc33851-d74c-43fe-b713-08b39183c536",
      "metadata": {
        "id": "ccc33851-d74c-43fe-b713-08b39183c536",
        "outputId": "5d25a8bf-c308-48af-acf3-bbabf72fd481"
      },
      "outputs": [
        {
          "data": {
            "text/plain": [
              "(10.000, 1.000)"
            ]
          },
          "execution_count": 68,
          "metadata": {},
          "output_type": "execute_result"
        }
      ],
      "source": [
        "t, p = stats.wilcoxon(toy_df['후'],toy_df['전'])\n",
        "t, p"
      ]
    }
  ],
  "metadata": {
    "kernelspec": {
      "display_name": "Python 3 (ipykernel)",
      "language": "python",
      "name": "python3"
    },
    "language_info": {
      "codemirror_mode": {
        "name": "ipython",
        "version": 3
      },
      "file_extension": ".py",
      "mimetype": "text/x-python",
      "name": "python",
      "nbconvert_exporter": "python",
      "pygments_lexer": "ipython3",
      "version": "3.12.1"
    },
    "colab": {
      "provenance": [],
      "include_colab_link": true
    }
  },
  "nbformat": 4,
  "nbformat_minor": 5
}