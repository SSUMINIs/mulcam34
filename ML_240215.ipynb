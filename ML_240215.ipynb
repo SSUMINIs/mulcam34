{
  "nbformat": 4,
  "nbformat_minor": 0,
  "metadata": {
    "colab": {
      "provenance": [],
      "authorship_tag": "ABX9TyP/Cyh1/3l01mHn6DU7t8NW",
      "include_colab_link": true
    },
    "kernelspec": {
      "name": "python3",
      "display_name": "Python 3"
    },
    "language_info": {
      "name": "python"
    }
  },
  "cells": [
    {
      "cell_type": "markdown",
      "metadata": {
        "id": "view-in-github",
        "colab_type": "text"
      },
      "source": [
        "<a href=\"https://colab.research.google.com/github/SSUMINIs/mulcam34/blob/main/ML_240215.ipynb\" target=\"_parent\"><img src=\"https://colab.research.google.com/assets/colab-badge.svg\" alt=\"Open In Colab\"/></a>"
      ]
    },
    {
      "cell_type": "code",
      "execution_count": 1,
      "metadata": {
        "colab": {
          "base_uri": "https://localhost:8080/"
        },
        "id": "IN5L1eDyPW1-",
        "outputId": "bd40723f-3a23-48cd-f671-f0e4efbc44bb"
      },
      "outputs": [
        {
          "output_type": "execute_result",
          "data": {
            "text/plain": [
              "5050"
            ]
          },
          "metadata": {},
          "execution_count": 1
        }
      ],
      "source": [
        "sum = 0\n",
        "for i in range(101):\n",
        "  sum = sum + i\n",
        "sum"
      ]
    },
    {
      "cell_type": "code",
      "source": [
        "## 함수 선언부\n",
        "## 전역 변수부\n",
        "katok = ['다현','정연','쯔위','사나','지효']\n",
        "print(katok)\n",
        "# 데이터 추가 : 모모에게 1회 카톡\n",
        "# 1단계 : 빈칸 확보\n",
        "katok.append(None)\n",
        "# 2단계 : 마지막 칸에 넣기\n",
        "katok[5] ='모모'\n",
        "print(katok)"
      ],
      "metadata": {
        "colab": {
          "base_uri": "https://localhost:8080/"
        },
        "id": "H7hCgSnVhkkE",
        "outputId": "0d581626-1cec-4fdd-d9a5-5cab89935cea"
      },
      "execution_count": 4,
      "outputs": [
        {
          "output_type": "stream",
          "name": "stdout",
          "text": [
            "['다현', '정연', '쯔위', '사나', '지효']\n",
            "['다현', '정연', '쯔위', '사나', '지효', '모모']\n"
          ]
        }
      ]
    },
    {
      "cell_type": "code",
      "source": [
        "# 데이터 삽입 :  미나에게 연속 40회 카톡 -> 미나를 3등으로\n",
        "# 1단계 : 빈칸 확보\n",
        "katok.append(None)\n",
        "# 2단계 : 한칸씩 뒤로 이동(5등 모모~ 사나 3등까지)\n",
        "katok[6] = katok[5]\n",
        "katok[5] = None\n",
        "katok[5] = katok[4]\n",
        "katok[4] = None\n",
        "katok[4] = katok[3]\n",
        "katok[3] = None\n",
        "# 3단계 : 3등 자리에 넣기\n",
        "katok[3] = '미나'\n",
        "print(katok)"
      ],
      "metadata": {
        "colab": {
          "base_uri": "https://localhost:8080/"
        },
        "id": "jkFzC-SNhko4",
        "outputId": "31c565e6-b3bd-4307-d346-c6cb0a67aa3e"
      },
      "execution_count": 5,
      "outputs": [
        {
          "output_type": "stream",
          "name": "stdout",
          "text": [
            "['다현', '정연', '쯔위', '미나', '사나', '지효', '모모']\n"
          ]
        }
      ]
    },
    {
      "cell_type": "code",
      "source": [
        "# 데이터 삭제 : 사나(4등)가 카톡 차단\n",
        "# 1단계 : 데이터 지우기\n",
        "katok[4] = None\n",
        "# 2단계 : 한칸씩 앞으로(5등부터~ 끝까지)\n",
        "katok[4] = katok[5] # 지효이동\n",
        "katok[5] = None\n",
        "katok[5] = katok[6] # 모모이동\n",
        "katok[6] = None\n",
        "del(katok[6])\n",
        "print(katok)"
      ],
      "metadata": {
        "colab": {
          "base_uri": "https://localhost:8080/"
        },
        "id": "KJX4758IkiPL",
        "outputId": "2ab85060-7e48-41a7-c964-9c60f283a11a"
      },
      "execution_count": 6,
      "outputs": [
        {
          "output_type": "stream",
          "name": "stdout",
          "text": [
            "['다현', '정연', '쯔위', '미나', '지효', '모모']\n"
          ]
        }
      ]
    },
    {
      "cell_type": "code",
      "source": [
        "## 함수 선언부\n",
        "def add_data(friend): #데이터 추가\n",
        "  # 1단계 : 빈칸 확보\n",
        "  katok.append(None)\n",
        "  kLen = len(katok)\n",
        "  # 2단계 : 마지막 칸에 친구 넣기\n",
        "  katok[kLen-1] = friend\n",
        "\n",
        "def insert_data(position, friend): # 데이터 삽입\n",
        "  # 1단계 : 빈칸 확보\n",
        "  katok.append(None)\n",
        "  # 2단계 : 한칸씩 뒤로 이동\n",
        "  kLen = len(katok)\n",
        "  for i in range(kLen-1, position, -1):\n",
        "    katok[i] = katok[i-1]\n",
        "    katok[i-1] = None\n",
        "  # 3단계 : 새친구 넣기\n",
        "  katok[position] = friend\n",
        "\n",
        "def delete_data(position):\n",
        "  # 1단계 : 데이터 지우기\n",
        "  katok[position] = None\n",
        "  # 2단계 : 한칸씩 앞으로 이동(지울위치 다음부터~ 끝까지)\n",
        "  kLen = len(katok)\n",
        "  for i in range(position+1, kLen):\n",
        "    katok[i-1] = katok[i]\n",
        "    katok[i] = None\n",
        "  #del(katok[kLen-1])\n",
        "  del(katok[i])\n",
        "\n",
        "## 전역 변수부\n",
        "katok = []\n",
        "\n",
        "## 메인 코드부\n",
        "add_data('다현')\n",
        "add_data('정연')\n",
        "add_data('쯔위')\n",
        "add_data('사나')\n",
        "add_data('지효')\n",
        "print(katok)\n",
        "\n",
        "add_data('모모')\n",
        "print(katok)"
      ],
      "metadata": {
        "colab": {
          "base_uri": "https://localhost:8080/"
        },
        "id": "uLM4LIWtkiVL",
        "outputId": "bc3505c0-65d0-4788-dc19-94e97c2c2080"
      },
      "execution_count": 20,
      "outputs": [
        {
          "output_type": "stream",
          "name": "stdout",
          "text": [
            "['다현', '정연', '쯔위', '사나', '지효']\n",
            "['다현', '정연', '쯔위', '사나', '지효', '모모']\n"
          ]
        }
      ]
    },
    {
      "cell_type": "code",
      "source": [
        "insert_data(3, '미나')\n",
        "print(katok)"
      ],
      "metadata": {
        "colab": {
          "base_uri": "https://localhost:8080/"
        },
        "id": "bZD2MBzVkiXp",
        "outputId": "5f6de7a8-a7e0-4bf8-8c9a-5750ffbfa3a9"
      },
      "execution_count": 21,
      "outputs": [
        {
          "output_type": "stream",
          "name": "stdout",
          "text": [
            "['다현', '정연', '쯔위', '미나', '사나', '지효', '모모']\n"
          ]
        }
      ]
    },
    {
      "cell_type": "code",
      "source": [
        "delete_data(4)\n",
        "print(katok)"
      ],
      "metadata": {
        "id": "l5zq273TkiaF",
        "colab": {
          "base_uri": "https://localhost:8080/"
        },
        "outputId": "911d07b7-0dca-4387-df07-9607ec48cd05"
      },
      "execution_count": 22,
      "outputs": [
        {
          "output_type": "stream",
          "name": "stdout",
          "text": [
            "['다현', '정연', '쯔위', '미나', '지효', '모모']\n"
          ]
        }
      ]
    },
    {
      "cell_type": "code",
      "source": [
        "# 선형 리스트 일반 구현\n",
        "## 함수 선언부\n",
        "def add_data(friend): #데이터 추가\n",
        "  # 1단계 : 빈칸 확보\n",
        "  katok.append(None)\n",
        "  kLen = len(katok)\n",
        "  # 2단계 : 마지막 칸에 친구 넣기\n",
        "  katok[kLen-1] = friend\n",
        "\n",
        "def insert_data(position, friend): # 데이터 삽입\n",
        "  # 1단계 : 빈칸 확보\n",
        "  katok.append(None)\n",
        "  # 2단계 : 한칸씩 뒤로 이동\n",
        "  kLen = len(katok)\n",
        "  for i in range(kLen-1, position, -1):\n",
        "    katok[i] = katok[i-1]\n",
        "    katok[i-1] = None\n",
        "  # 3단계 : 새친구 넣기\n",
        "  katok[position] = friend\n",
        "\n",
        "def delete_data(position):\n",
        "  # 1단계 : 데이터 지우기\n",
        "  katok[position] = None\n",
        "  # 2단계 : 한칸씩 앞으로 이동(지울위치 다음부터~ 끝까지)\n",
        "  kLen = len(katok)\n",
        "  for i in range(position+1, kLen):\n",
        "    katok[i-1] = katok[i]\n",
        "    katok[i] = None\n",
        "  #del(katok[kLen-1])\n",
        "  del(katok[i])\n",
        "\n",
        "## 전역 변수부\n",
        "katok = []\n",
        "select = -1 #1: 추가, 2: 삽입, 3: 삭제, 4: 종료"
      ],
      "metadata": {
        "id": "sBHd8NoAkicX"
      },
      "execution_count": 30,
      "outputs": []
    },
    {
      "cell_type": "code",
      "source": [
        "## 메인 코드\n",
        "if __name__ == \"__main__\":\n",
        "  while(select !=4):\n",
        "    select = int(input(\"선택하세요(1: 추가, 2: 삽입, 3: 삭제, 4: 종료)-->\"))\n",
        "\n",
        "    if (select ==1):\n",
        "      data = input(\"추가할 데이터-->\")\n",
        "      add_data(data)\n",
        "      print(katok)\n",
        "    elif (select ==2):\n",
        "      pos = int(input(\"삽입할 위치-->\"))\n",
        "      data = input(\"추가할 데이터-->\")\n",
        "      insert_data(pos, data)\n",
        "      print(katok)\n",
        "    elif (select ==3):\n",
        "      pos = int(input(\"삭제할 위치-->\"))\n",
        "      delete_data(pos)\n",
        "      print(katok)\n",
        "    elif (select ==4):\n",
        "      print(katok)\n",
        "      exit\n",
        "    else :\n",
        "      print(\"1~4 중 하나를 입력하세요.\")\n",
        "      continue"
      ],
      "metadata": {
        "id": "5AW_7cbChkrC",
        "colab": {
          "base_uri": "https://localhost:8080/"
        },
        "outputId": "7beb0404-980e-4309-f9e4-279956e058db"
      },
      "execution_count": 31,
      "outputs": [
        {
          "output_type": "stream",
          "name": "stdout",
          "text": [
            "선택하세요(1: 추가, 2: 삽입, 3: 삭제, 4: 종료)-->1\n",
            "추가할 데이터-->다현\n",
            "['다현']\n",
            "선택하세요(1: 추가, 2: 삽입, 3: 삭제, 4: 종료)-->5\n",
            "1~4 중 하나를 입력하세요.\n",
            "선택하세요(1: 추가, 2: 삽입, 3: 삭제, 4: 종료)-->1\n",
            "추가할 데이터-->정연\n",
            "['다현', '정연']\n",
            "선택하세요(1: 추가, 2: 삽입, 3: 삭제, 4: 종료)-->1\n",
            "추가할 데이터-->쯔위\n",
            "['다현', '정연', '쯔위']\n",
            "선택하세요(1: 추가, 2: 삽입, 3: 삭제, 4: 종료)-->2\n",
            "삽입할 위치-->1\n",
            "추가할 데이터-->하나\n",
            "['다현', '하나', '정연', '쯔위']\n",
            "선택하세요(1: 추가, 2: 삽입, 3: 삭제, 4: 종료)-->2\n",
            "삽입할 위치-->0\n",
            "추가할 데이터-->문별\n",
            "['문별', '다현', '하나', '정연', '쯔위']\n",
            "선택하세요(1: 추가, 2: 삽입, 3: 삭제, 4: 종료)-->3\n",
            "삭제할 위치-->3\n",
            "['문별', '다현', '하나', '쯔위']\n",
            "선택하세요(1: 추가, 2: 삽입, 3: 삭제, 4: 종료)-->4\n",
            "['문별', '다현', '하나', '쯔위']\n"
          ]
        }
      ]
    },
    {
      "cell_type": "markdown",
      "source": [
        "# 단순 연결 리스트\n"
      ],
      "metadata": {
        "id": "zDoBr3UvDihY"
      }
    },
    {
      "cell_type": "code",
      "source": [
        "## 함수 선언부\n",
        "class Node():\n",
        "  def __init__(self): #생성자_예약어\n",
        "    self.data = None\n",
        "    self.link = None\n",
        "## 전역 변수부\n",
        "## 메인 코드부\n",
        "#자연 노드\n",
        "node1 = Node()\n",
        "node1.data = '다현'\n",
        "\n",
        "node2 = Node()\n",
        "node2.data = '정연'\n",
        "node1.link = node2\n",
        "\n",
        "node3 = Node()\n",
        "node3.data = '쯔위'\n",
        "node2.link = node3\n",
        "\n",
        "node4 = Node()\n",
        "node4.data = '사나'\n",
        "node3.link = node4\n",
        "\n",
        "node5 = Node()\n",
        "node5.data = '지효'\n",
        "node4.link = node5\n",
        "\n",
        "print(node1.data, end = ' ')\n",
        "print(node1.link.data, end = ' ')\n",
        "print(node1.link.link.data, end = ' ')\n",
        "print(node1.link.link.link.data, end = ' ')\n",
        "print(node1.link.link.link.link.data, end = ' ')"
      ],
      "metadata": {
        "colab": {
          "base_uri": "https://localhost:8080/"
        },
        "id": "-NlvDRSGBL7G",
        "outputId": "ae8e03ea-e27b-4358-c6d3-cf8ea96b32eb"
      },
      "execution_count": 59,
      "outputs": [
        {
          "output_type": "stream",
          "name": "stdout",
          "text": [
            "다현 정연 쯔위 사나 지효 "
          ]
        }
      ]
    },
    {
      "cell_type": "code",
      "source": [
        "#데이터 삽입\n",
        "newNode = Node()\n",
        "newNode.data = \"재남\"\n",
        "newNode.link = node2.link\n",
        "node2.link = newNode\n",
        "print(node1.data, end = ' ')\n",
        "print(node1.link.data, end = ' ')\n",
        "print(node1.link.link.data, end = ' ')\n",
        "print(node1.link.link.link.data, end = ' ')\n",
        "print(node1.link.link.link.link.data, end = ' ')\n",
        "print(node1.link.link.link.link.link.data, end = ' ')"
      ],
      "metadata": {
        "colab": {
          "base_uri": "https://localhost:8080/"
        },
        "id": "NZUQCafnHuq0",
        "outputId": "01962f61-bba9-4bf9-dc16-93ab122a62ec"
      },
      "execution_count": 52,
      "outputs": [
        {
          "output_type": "stream",
          "name": "stdout",
          "text": [
            "다현 정연 재남 쯔위 사나 지효 "
          ]
        }
      ]
    },
    {
      "cell_type": "code",
      "source": [
        "#데이터 삭제\n",
        "node2.link = node3.link\n",
        "del(node3)\n",
        "print(node1.data, end = ' ')\n",
        "print(node1.link.data, end = ' ')\n",
        "print(node1.link.link.data, end = ' ')\n",
        "print(node1.link.link.link.data, end = ' ')"
      ],
      "metadata": {
        "colab": {
          "base_uri": "https://localhost:8080/"
        },
        "id": "H2JmNLabMlQu",
        "outputId": "c4f91ea0-f418-4a62-8778-68944b6d0fc2"
      },
      "execution_count": 60,
      "outputs": [
        {
          "output_type": "stream",
          "name": "stdout",
          "text": [
            "다현 정연 사나 지효 "
          ]
        }
      ]
    },
    {
      "cell_type": "code",
      "source": [
        "current = node1\n",
        "print(current.data, end=\" \")\n",
        "while (current.link != None):\n",
        "  current = current.link\n",
        "  print(current.data, end=\" \")\n",
        "print()"
      ],
      "metadata": {
        "colab": {
          "base_uri": "https://localhost:8080/"
        },
        "id": "hXkZpAKwNzwT",
        "outputId": "3e108aa4-749b-4cdc-9392-92bdf49c33b5"
      },
      "execution_count": 65,
      "outputs": [
        {
          "output_type": "stream",
          "name": "stdout",
          "text": [
            "다현 정연 사나 지효 \n"
          ]
        }
      ]
    },
    {
      "cell_type": "markdown",
      "source": [
        "# 실무 코드 구현"
      ],
      "metadata": {
        "id": "bEBGdie4RXUq"
      }
    },
    {
      "cell_type": "code",
      "source": [
        "## 함수 선언부\n",
        "class Node():\n",
        "  def __init__(self): #생성자_예약어\n",
        "    self.data = None\n",
        "    self.link = None\n",
        "\n",
        "def printNodes(start):\n",
        "  current = start\n",
        "  print(current.data, end=\" \")\n",
        "  while (current.link != None):\n",
        "    current = current.link\n",
        "    print(current.data, end=\" \")\n",
        "  print()\n",
        "\n",
        "def insertNode(findData, insertData):\n",
        "  global memory, head, current, pre # 전역변수화 시킨다.\n",
        "  # Case 1 : head 앞에 삽입(다현, 화사)\n",
        "  if (findData == head.data) :\n",
        "    node = Node()\n",
        "    node.data = insertData\n",
        "    node.link = head\n",
        "    head = node\n",
        "    memory.append(node) #생략가능\n",
        "    return\n",
        "  # Case 2 : 중간 노드 앞에 삽입 (사나, 솔라)\n",
        "  current = head\n",
        "  while (current.link != None):\n",
        "    pre = current\n",
        "    current = current.link\n",
        "    if current.data == findData :\n",
        "      node = Node()\n",
        "      node.data = insertData\n",
        "      node.link = current\n",
        "      pre.link = node\n",
        "      return\n",
        "  # Case 3 : 없는 노드 앞에 삽입 (재남, 문별)\n",
        "  node = Node()\n",
        "  node.data = insertData\n",
        "  current.link = node\n",
        "\n",
        "def deleteNode(deleteData) :\n",
        "  global memory, head, current, pre # 전역변수화 시킨다.\n",
        "  # Case 1 : head 삭제(다현)\n",
        "  if (deleteData == head.data) :\n",
        "    current = head\n",
        "    head = head.link\n",
        "    del(current)\n",
        "    return\n",
        "  # Case 2 : 중간 노드 삭제 (쯔위)\n",
        "  current = head\n",
        "  while (current.link != None):\n",
        "    pre = current\n",
        "    current = current.link\n",
        "    if (current.data == deleteData) :\n",
        "      pre.link = current.link\n",
        "      del(current)\n",
        "      return\n",
        "  # Case 3 : 없는 노드 삭제 (재남)\n",
        "  return\n",
        "\n",
        "def findNode(findData):\n",
        "  global memory, head, current, pre # 전역변수화 시킨다.\n",
        "  current = head\n",
        "  if (current.data == findData) :\n",
        "    return current\n",
        "  while (current.link != None) :\n",
        "    current = current.link\n",
        "    if (current.data == findData):\n",
        "      return current\n",
        "  return Node()\n",
        "\n",
        "## 전역 변수부\n",
        "memory = []\n",
        "head, current, pre = None, None, None\n",
        "dataArray = ['다현','정연','쯔위','사나','지효']\n",
        "\n",
        "## 메인 코드부\n",
        "node = Node()\n",
        "node.data = dataArray[0]\n",
        "head = node\n",
        "memory.append(node) # 생략가능\n",
        "\n",
        "for data in dataArray[1:]:\n",
        "  pre = node\n",
        "  node = Node()\n",
        "  node.data = data\n",
        "  pre.link = node\n",
        "  memory.append(node) # 생략가능\n",
        "\n",
        "printNodes(head)\n",
        "\n",
        "insertNode('다현','화사') # 찾을 데이터, 삽입데이터\n",
        "printNodes(head)\n",
        "\n",
        "insertNode('사나','솔라') # 찾을 데이터, 삽입데이터\n",
        "printNodes(head)\n",
        "\n",
        "insertNode('재남','문별') # 찾을 데이터, 삽입데이터\n",
        "printNodes(head)\n",
        "\n",
        "deleteNode('화사') # 지울 데이터\n",
        "printNodes(head)\n",
        "\n",
        "deleteNode('쯔위') # 지울 데이터\n",
        "printNodes(head)\n",
        "\n",
        "deleteNode('재남') # 지울 데이터(없는 데이터)\n",
        "printNodes(head)\n",
        "\n",
        "retNode = findNode('사나')\n",
        "print(retNode.data,'의 뮤비가 나옵니다.')\n",
        "\n",
        "retNode = findNode('재남')\n",
        "print(retNode.data,'의 뮤비가 나옵니다.')"
      ],
      "metadata": {
        "colab": {
          "base_uri": "https://localhost:8080/"
        },
        "id": "x7pPS_pEPe64",
        "outputId": "70348e14-e29c-4862-9ad1-db02f58bc006"
      },
      "execution_count": 96,
      "outputs": [
        {
          "output_type": "stream",
          "name": "stdout",
          "text": [
            "다현 정연 쯔위 사나 지효 \n",
            "화사 다현 정연 쯔위 사나 지효 \n",
            "화사 다현 정연 쯔위 솔라 사나 지효 \n",
            "화사 다현 정연 쯔위 솔라 사나 지효 문별 \n",
            "다현 정연 쯔위 솔라 사나 지효 문별 \n",
            "다현 정연 솔라 사나 지효 문별 \n",
            "다현 정연 솔라 사나 지효 문별 \n",
            "사나 의 뮤비가 나옵니다.\n",
            "None 의 뮤비가 나옵니다.\n"
          ]
        }
      ]
    }
  ]
}