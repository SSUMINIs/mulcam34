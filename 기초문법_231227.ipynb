{
  "nbformat": 4,
  "nbformat_minor": 0,
  "metadata": {
    "colab": {
      "provenance": [],
      "authorship_tag": "ABX9TyM3dGW/YfPGo1Ti4/xfkAUu",
      "include_colab_link": true
    },
    "kernelspec": {
      "name": "python3",
      "display_name": "Python 3"
    },
    "language_info": {
      "name": "python"
    }
  },
  "cells": [
    {
      "cell_type": "markdown",
      "metadata": {
        "id": "view-in-github",
        "colab_type": "text"
      },
      "source": [
        "<a href=\"https://colab.research.google.com/github/SSUMINIs/mulcam34/blob/main/%EA%B8%B0%EC%B4%88%EB%AC%B8%EB%B2%95_231227.ipynb\" target=\"_parent\"><img src=\"https://colab.research.google.com/assets/colab-badge.svg\" alt=\"Open In Colab\"/></a>"
      ]
    },
    {
      "cell_type": "markdown",
      "source": [
        "#Chapter 3. 파이썬을 계산기처럼"
      ],
      "metadata": {
        "id": "OdfrQrtIojvz"
      }
    },
    {
      "cell_type": "code",
      "source": [
        "print(1.2+5.2)\n",
        "print(8-9)\n",
        "print(5*6)\n",
        "print(528/6)"
      ],
      "metadata": {
        "colab": {
          "base_uri": "https://localhost:8080/"
        },
        "id": "INW48iJ0op98",
        "outputId": "689ec0f3-a45d-4549-92e4-8181e8c05f5f"
      },
      "execution_count": null,
      "outputs": [
        {
          "output_type": "stream",
          "name": "stdout",
          "text": [
            "6.4\n",
            "-1\n",
            "30\n",
            "88.0\n"
          ]
        }
      ]
    },
    {
      "cell_type": "markdown",
      "source": [
        "## 연산규칙\n",
        "- (1) 괄호안 계산\n",
        "- (2) 지수 계산\n",
        "- (3) 곱셈과 나눗셈 계산\n",
        "- (4) 덧셈과 뺄셈 계산\n",
        "- (5) 같은 순위 연산이면, 왼쪽에서 오른쪽으로\n",
        "- (6) 중복된 괄호가 있을 경우, 안쪽에서부터 처"
      ],
      "metadata": {
        "id": "VlJf7oiFtZkf"
      }
    },
    {
      "cell_type": "markdown",
      "source": [
        "##type()\n",
        "- 함수 : 특정기능을 수행하도록 만든 매직박스\n",
        " + 특정 함수를 조건만 맞춰주면 동작"
      ],
      "metadata": {
        "id": "JgVUQg7jyycH"
      }
    },
    {
      "cell_type": "markdown",
      "source": [
        "## 함수의 종류\n",
        "- 내장(built-in)함수 : 파이썬 설치와 함께 제공하는 기본적인 함수\n",
        " + print(), type()\n",
        " + Documentation : 함수를 설명해주는 문서 보는 법을 익힐 것(영어)\n",
        "\n",
        "- 라이브러리에서 제공하는 함수\n",
        " + R : 패키지, Python : 라이브러리\n",
        " + 목적이 분명.\n",
        "   - 웹사이트 개발 : 웹사이트와 관련된 라이브러리를 별도 설치 필요\n",
        "   - 통계분석과 관련된 라이브러리를 별도 설치 필요\n",
        "   - 시각화 관련 라이브러리 설치\n",
        "   - 게임 개발관련 라이브러리 설치\n",
        "   - 수치연산 주요 라이브러리 : numpy, scipy\n",
        "- 파이썬 객체지향 언어이다"
      ],
      "metadata": {
        "id": "dH9jqQU8zxUt"
      }
    },
    {
      "cell_type": "markdown",
      "source": [
        "## 거듭 제곱과 나머지\n",
        "- 숫자 A를 n번 곱하는 거듭제곱(Power)\n",
        " + A는 밑, n은 지수라고 표현\n",
        " + 2 ** 5 = 32"
      ],
      "metadata": {
        "id": "C68JDYeM2Gba"
      }
    },
    {
      "cell_type": "markdown",
      "source": [
        "- 나머지 구하는 방법\n",
        " + 13 % 5 = 3\n",
        "- 몫을 구하는 방법\n",
        " + 13 // 5 = 2\n",
        "- 교재 표 3-1 (p34) 산술연산자 표 정리"
      ],
      "metadata": {
        "id": "EeHpe2M12oih"
      }
    },
    {
      "cell_type": "markdown",
      "source": [
        "## 과학적 표기법(scientific notation)\n",
        "- 아주 큰 수, 작은 수를 다뤄야 하는 케이스\n",
        " + 빛은 초당 30만 km\n",
        " + 단위를 m/s 표현하면, 300,000,000 m/s\n",
        " + 3x10^8 = 3*10**8 = 3e8 (p-value 값 구할때 e 많이 볼수 있음)\n",
        " + 3e-4 = 0.0003\n",
        " + 1e-4 = 0.0001"
      ],
      "metadata": {
        "id": "dQWv47Wz3CpI"
      }
    },
    {
      "cell_type": "markdown",
      "source": [
        "## 진수 표현과 변환\n",
        "- 보통 10진법 사용\n",
        "- 60진법 : 60초가 1분이고, 60분이 1시간\n",
        "- 12진법 : 오전12시간, 오후12시간, 1년12달\n",
        "- 컴퓨터 프로그래밍, 주로 숫자 0과 1로 이루어진 2진법 수행 ex) 0b10001 = 17\n",
        "- 8진법 : 0~7까지의 숫자 ex) 0o21 = 17\n",
        "- 16진법 : 0~9, a,b,c,d,e,f ex) 0x11 = 17\n",
        "- 메서드\n",
        " + bin() : 10진수를 2진수로 변환\n",
        " + oct() : 10진수를 8진수로 변환\n",
        " + hex() : 10진수를 16진수로 변환"
      ],
      "metadata": {
        "id": "4AcfJcm55QbG"
      }
    },
    {
      "cell_type": "markdown",
      "source": [
        "## 논리 연산 및 비교 연산\n",
        "- 참/거짓 = True/False\n",
        "- 논리 연산을 잘 활용하는 것이 프로그래밍의 핵심\n",
        "- print(type(True) => <class 'bool'>)"
      ],
      "metadata": {
        "id": "DadoA4J87GHq"
      }
    },
    {
      "cell_type": "markdown",
      "source": [
        "### 논리 연산자\n",
        "- and : (A and B) A와 B 모두 참일 때 참\n",
        "- or : (A or B) A 와 B 중 하나라도 참이면 참, 둘다 거짓일 때 거짓\n",
        "- not : (not A) A가 참일 때 거짓, A가 거짓이면 참"
      ],
      "metadata": {
        "id": "CN5PYljN8VQU"
      }
    },
    {
      "cell_type": "markdown",
      "source": [
        "### 비교 연산자\n",
        "- ==,!=,<,<=,>,>=등등등..."
      ],
      "metadata": {
        "id": "1FX_44H8DLVt"
      }
    },
    {
      "cell_type": "markdown",
      "source": [
        "### 비교 연산자 + 논리연산자\n",
        "- 1>0 and -2<0 => True\n",
        "- 비교연산자(1순위), 논리연산자(2순위)\n",
        "- ((3<0) and (-5>0) and (1>5))\n",
        "- 괄호안 먼저 연산"
      ],
      "metadata": {
        "id": "5_oruxzmEA0Q"
      }
    },
    {
      "cell_type": "markdown",
      "source": [
        "#Chapter 4. 변수와 자료형"
      ],
      "metadata": {
        "id": "wTWl0zGgoqkn"
      }
    },
    {
      "cell_type": "markdown",
      "source": [
        "## 변수(Variable, 데이터 p.42)\n",
        "- 변수명 = data\n",
        " + snake ex) num_a = 100, num_b =110\n",
        " + Camel ex) myStudent = \"even\" , mySchool = \"학교이름\"\n",
        " + 코딩 is 문서! 문서는 깔끔할수록 좋음\n",
        " + 불가능 = 숫자로 시작, 내장 함수명 변수명으로 만들면 안됨(ex.print)\n",
        " + 변수명에 공백 안됨"
      ],
      "metadata": {
        "id": "qna9T_WcfD3-"
      }
    },
    {
      "cell_type": "code",
      "source": [
        "num = 1\n",
        "Num = 100\n",
        "print(num)\n",
        "print(Num)"
      ],
      "metadata": {
        "colab": {
          "base_uri": "https://localhost:8080/"
        },
        "id": "AAcBOqi5fC5m",
        "outputId": "f71e9bd3-479a-4382-9c92-81adb2c917eb"
      },
      "execution_count": null,
      "outputs": [
        {
          "output_type": "stream",
          "name": "stdout",
          "text": [
            "1\n",
            "100\n"
          ]
        }
      ]
    },
    {
      "cell_type": "markdown",
      "source": [
        "### 변수의 반대어 : 상수\n",
        "- 한번 지정 후, 변하지 않는 고정\n",
        "#### 실제 변수를 만들어보기\n",
        "-num1 = input(\"숫자를 입력해주세요!!\")\n",
        "-num2 = input(\"숫자를 입력해주세요!!\")"
      ],
      "metadata": {
        "id": "8VIvYVlZlYDP"
      }
    },
    {
      "cell_type": "code",
      "source": [
        "num1 = input(\"숫자를 입력해주세요!!\")\n",
        "num2 = input(\"숫자를 입력해주세요!!\")\n",
        "print(num1, num2)"
      ],
      "metadata": {
        "colab": {
          "base_uri": "https://localhost:8080/"
        },
        "id": "OBH7KywQjnlt",
        "outputId": "464533eb-66a3-433d-9ab8-b489f1cbca7c"
      },
      "execution_count": null,
      "outputs": [
        {
          "output_type": "stream",
          "name": "stdout",
          "text": [
            "숫자를 입력해주세요!!6\n",
            "숫자를 입력해주세요!!10\n",
            "6 10\n"
          ]
        }
      ]
    },
    {
      "cell_type": "code",
      "source": [
        "print(int(num1)+int(num2))"
      ],
      "metadata": {
        "colab": {
          "base_uri": "https://localhost:8080/"
        },
        "id": "0G2xgVXLl6yt",
        "outputId": "fc27dca6-f078-4ab3-bdc1-be4e0024bbeb"
      },
      "execution_count": null,
      "outputs": [
        {
          "output_type": "stream",
          "name": "stdout",
          "text": [
            "16\n"
          ]
        }
      ]
    },
    {
      "cell_type": "code",
      "source": [],
      "metadata": {
        "id": "02j_4G0ImA5f"
      },
      "execution_count": null,
      "outputs": []
    }
  ]
}