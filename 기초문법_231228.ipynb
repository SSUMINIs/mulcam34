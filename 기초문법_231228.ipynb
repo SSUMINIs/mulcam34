{
  "nbformat": 4,
  "nbformat_minor": 0,
  "metadata": {
    "colab": {
      "provenance": [],
      "authorship_tag": "ABX9TyMJgGnfLDTiXGYMVFhPlABG",
      "include_colab_link": true
    },
    "kernelspec": {
      "name": "python3",
      "display_name": "Python 3"
    },
    "language_info": {
      "name": "python"
    }
  },
  "cells": [
    {
      "cell_type": "markdown",
      "metadata": {
        "id": "view-in-github",
        "colab_type": "text"
      },
      "source": [
        "<a href=\"https://colab.research.google.com/github/SSUMINIs/mulcam34/blob/main/%EA%B8%B0%EC%B4%88%EB%AC%B8%EB%B2%95_231228.ipynb\" target=\"_parent\"><img src=\"https://colab.research.google.com/assets/colab-badge.svg\" alt=\"Open In Colab\"/></a>"
      ]
    },
    {
      "cell_type": "markdown",
      "source": [
        "# 문자열 함수 p.158\n",
        "- 영어 : function, method\n"
      ],
      "metadata": {
        "id": "W7eeBupixIV-"
      }
    },
    {
      "cell_type": "markdown",
      "source": [
        "## split"
      ],
      "metadata": {
        "id": "tZtlnyWm2s2l"
      }
    },
    {
      "cell_type": "code",
      "source": [
        "coffee_menu_str = \"에스프레소, 아메리카노, 카페라테, 카푸치노\"\n",
        "coffee_menu_str.split(',') #결과해석 : 반환값, Return 자료형 확인 필수"
      ],
      "metadata": {
        "colab": {
          "base_uri": "https://localhost:8080/"
        },
        "id": "O5w8PwShxTG3",
        "outputId": "d40bd7ec-c5d4-4e97-850d-598160cde1a9"
      },
      "execution_count": null,
      "outputs": [
        {
          "output_type": "execute_result",
          "data": {
            "text/plain": [
              "['에스프레소', ' 아메리카노', ' 카페라테', ' 카푸치노']"
            ]
          },
          "metadata": {},
          "execution_count": 2
        }
      ]
    },
    {
      "cell_type": "code",
      "source": [
        "\"에스프레소, 아메리카노, 카페라테, 카푸치노\".split(',')"
      ],
      "metadata": {
        "colab": {
          "base_uri": "https://localhost:8080/"
        },
        "id": "TqGehE7kxTUg",
        "outputId": "03af440c-4031-4e18-bbcc-f8d6ebf48b0e"
      },
      "execution_count": null,
      "outputs": [
        {
          "output_type": "execute_result",
          "data": {
            "text/plain": [
              "['에스프레소', ' 아메리카노', ' 카페라테', ' 카푸치노']"
            ]
          },
          "metadata": {},
          "execution_count": 4
        }
      ]
    },
    {
      "cell_type": "code",
      "source": [
        "phone_number = \"+82-01-2345-6789\"\n",
        "phone_number.split('-',maxsplit=1) #maxsplit : 매개변수(arguments, parameters)"
      ],
      "metadata": {
        "colab": {
          "base_uri": "https://localhost:8080/"
        },
        "id": "TmHYqt4dzj0v",
        "outputId": "0e233f55-ac2b-4182-89ab-987fdd2e323a"
      },
      "execution_count": null,
      "outputs": [
        {
          "output_type": "execute_result",
          "data": {
            "text/plain": [
              "['+82', '01-2345-6789']"
            ]
          },
          "metadata": {},
          "execution_count": 7
        }
      ]
    },
    {
      "cell_type": "markdown",
      "source": [
        "## strip() : 필요없는 문자열 삭제\n",
        "- 앞뒤 공백 혹은 개행문자와 같이 불필요한 부분을 지우고 싶을 때 사용\n",
        "- lstrip() : 해당 텍스트의 왼쪽만 처리\n",
        "- rstrip() : 해당 텍스트의 오른쪽"
      ],
      "metadata": {
        "id": "nFegP63I21bW"
      }
    },
    {
      "cell_type": "code",
      "source": [
        "tempText = '  Python 언어'\n",
        "tempText.strip()"
      ],
      "metadata": {
        "colab": {
          "base_uri": "https://localhost:8080/",
          "height": 36
        },
        "id": "yyAhZ6i-2iRt",
        "outputId": "dec42c65-0ff5-45a0-cfe6-1484f4051489"
      },
      "execution_count": null,
      "outputs": [
        {
          "output_type": "execute_result",
          "data": {
            "text/plain": [
              "'Python 언어'"
            ],
            "application/vnd.google.colaboratory.intrinsic+json": {
              "type": "string"
            }
          },
          "metadata": {},
          "execution_count": 12
        }
      ]
    },
    {
      "cell_type": "code",
      "source": [
        "tempText = 'aaaPythonaaa'\n",
        "tempText.strip('a')"
      ],
      "metadata": {
        "colab": {
          "base_uri": "https://localhost:8080/",
          "height": 36
        },
        "id": "si_eId8j0tRG",
        "outputId": "cf4b8c5e-a9d3-43e4-c5d0-acf806849595"
      },
      "execution_count": null,
      "outputs": [
        {
          "output_type": "execute_result",
          "data": {
            "text/plain": [
              "'Python'"
            ],
            "application/vnd.google.colaboratory.intrinsic+json": {
              "type": "string"
            }
          },
          "metadata": {},
          "execution_count": 13
        }
      ]
    },
    {
      "cell_type": "code",
      "source": [
        "tempText = 'aaabbPythonbbaaa'\n",
        "tempText.strip('ab') #특수문자 활용도 가능"
      ],
      "metadata": {
        "colab": {
          "base_uri": "https://localhost:8080/",
          "height": 36
        },
        "id": "OtMM9vvR4dW2",
        "outputId": "eddcd6b9-3311-431c-a9d9-e65823567079"
      },
      "execution_count": null,
      "outputs": [
        {
          "output_type": "execute_result",
          "data": {
            "text/plain": [
              "'Python'"
            ],
            "application/vnd.google.colaboratory.intrinsic+json": {
              "type": "string"
            }
          },
          "metadata": {},
          "execution_count": 15
        }
      ]
    },
    {
      "cell_type": "code",
      "source": [
        "tempText = '\\n Python \\n\\n'\n",
        "tempText.strip(' \\n')"
      ],
      "metadata": {
        "colab": {
          "base_uri": "https://localhost:8080/",
          "height": 36
        },
        "id": "Hw_2mcnW8gk_",
        "outputId": "6b30d653-c599-47cc-9a40-0b13747548cc"
      },
      "execution_count": null,
      "outputs": [
        {
          "output_type": "execute_result",
          "data": {
            "text/plain": [
              "'Python'"
            ],
            "application/vnd.google.colaboratory.intrinsic+json": {
              "type": "string"
            }
          },
          "metadata": {},
          "execution_count": 17
        }
      ]
    },
    {
      "cell_type": "markdown",
      "source": [
        "## join() : 문자열 연결\n",
        "- 더하기 연산자(+)로 두 문자열 연결 가능"
      ],
      "metadata": {
        "id": "IP0JH9LB9-ds"
      }
    },
    {
      "cell_type": "code",
      "source": [
        "name1 = '철수'\n",
        "name2 = '영미'\n",
        "\n",
        "hello = '님, 주소와 전화 번호를 입력해 주세요'\n",
        "\n",
        "address_list = ['서울시','서초구','반포대로','201(반포동)']\n",
        "a = \" \"\n",
        "a.join(address_list)"
      ],
      "metadata": {
        "colab": {
          "base_uri": "https://localhost:8080/",
          "height": 36
        },
        "id": "tcJdatrD-F5i",
        "outputId": "2d6e9497-58e8-41f8-a1ef-bd83546b7ce2"
      },
      "execution_count": null,
      "outputs": [
        {
          "output_type": "execute_result",
          "data": {
            "text/plain": [
              "'서울시 서초구 반포대로 201(반포동)'"
            ],
            "application/vnd.google.colaboratory.intrinsic+json": {
              "type": "string"
            }
          },
          "metadata": {},
          "execution_count": 21
        }
      ]
    },
    {
      "cell_type": "markdown",
      "source": [
        "## find() : 문자열 찾기\n",
        "- 문자열의 위치 값을 반환"
      ],
      "metadata": {
        "id": "3SOWZvNJ_9p0"
      }
    },
    {
      "cell_type": "code",
      "source": [
        "str_f = 'Python code.'\n",
        "print(\"찾는 문자열의 위치:\",str_f.find('Python'))\n",
        "print(\"찾는 문자열의 위치:\",str_f.find('없는 문자')) #-1 해당되는 문자 없음\n",
        "str_f.find('.')"
      ],
      "metadata": {
        "colab": {
          "base_uri": "https://localhost:8080/"
        },
        "id": "x99ItAXTAFUi",
        "outputId": "86eed51f-6e40-4f89-a688-9b9de8f788e3"
      },
      "execution_count": null,
      "outputs": [
        {
          "output_type": "stream",
          "name": "stdout",
          "text": [
            "찾는 문자열의 위치: 0\n",
            "찾는 문자열의 위치: -1\n"
          ]
        },
        {
          "output_type": "execute_result",
          "data": {
            "text/plain": [
              "11"
            ]
          },
          "metadata": {},
          "execution_count": 26
        }
      ]
    },
    {
      "cell_type": "markdown",
      "source": [
        "## count() : 찾고자 하는 문자열의 횟수 반환\n",
        "- 찾는 문자열이 없으면 0으로 반환"
      ],
      "metadata": {
        "id": "X7LXdLkaDG_E"
      }
    },
    {
      "cell_type": "code",
      "source": [
        "str_c = \"Python is powerful, Python is easy to learn. Python is open\"\n",
        "print(\"Python dml 갯수는?\", str_c.count(\"Python\"))\n",
        "print(\"Python dml 갯수는?\", str_c.count(\"python\")) # 찾는 문자 없으면 0으로 반환"
      ],
      "metadata": {
        "colab": {
          "base_uri": "https://localhost:8080/"
        },
        "id": "dYFU6mKoDXx9",
        "outputId": "a8a28fa0-120b-4fac-db4b-1fe518fd93ff"
      },
      "execution_count": null,
      "outputs": [
        {
          "output_type": "stream",
          "name": "stdout",
          "text": [
            "Python dml 갯수는? 3\n",
            "Python dml 갯수는? 0\n"
          ]
        }
      ]
    },
    {
      "cell_type": "markdown",
      "source": [
        "## startswith, endswith\n",
        "-각 문자열이 지정된 문자로 시작하는지 또는 끝나는지 체크(검사)할때 사용"
      ],
      "metadata": {
        "id": "cbtxfARcEDJy"
      }
    },
    {
      "cell_type": "code",
      "source": [
        "print(\"Python으로 시작?\",str_c.startswith('Python'))\n",
        "print(\"Python으로 시작?\",str_c.startswith('is'))\n",
        "print(\"Python으로 시작?\",str_c.endswith('!'))"
      ],
      "metadata": {
        "colab": {
          "base_uri": "https://localhost:8080/"
        },
        "id": "16NOi-xJELOR",
        "outputId": "06e620ec-dad7-4ccd-d6f9-7c94d80f840b"
      },
      "execution_count": null,
      "outputs": [
        {
          "output_type": "stream",
          "name": "stdout",
          "text": [
            "Python으로 시작? True\n",
            "Python으로 시작? False\n",
            "Python으로 시작? False\n"
          ]
        }
      ]
    },
    {
      "cell_type": "markdown",
      "source": [
        "## replace() : 문자열 바꾸기\n",
        "- 지정한 문자열을 찾아서 바꾸는 메서드"
      ],
      "metadata": {
        "id": "OxLEOVpQE4db"
      }
    },
    {
      "cell_type": "code",
      "source": [
        "str_a = 'Python is fast. Python is friendly. Python is open.'\n",
        "str_a.replace('Python','IPython')\n",
        "str_b = '[Python][is][fast]'\n",
        "str_b1 = str_b.replace('[','')\n",
        "str_b2 = str_b1.replace(']',' ')\n",
        "str_b2.rstrip()"
      ],
      "metadata": {
        "colab": {
          "base_uri": "https://localhost:8080/",
          "height": 36
        },
        "id": "5XMNgzZ1E_wU",
        "outputId": "025a59a3-d0f3-4d80-f9cb-f586b2c8ad50"
      },
      "execution_count": null,
      "outputs": [
        {
          "output_type": "execute_result",
          "data": {
            "text/plain": [
              "'Python is fast'"
            ],
            "application/vnd.google.colaboratory.intrinsic+json": {
              "type": "string"
            }
          },
          "metadata": {},
          "execution_count": 42
        }
      ]
    },
    {
      "cell_type": "markdown",
      "source": [
        "# 리스트 함수 p.54\n",
        "## append()\n",
        "- 리스트에서 항목 하나를 맨 마지막에 추가"
      ],
      "metadata": {
        "id": "UJjWXVLGxIia"
      }
    },
    {
      "cell_type": "code",
      "source": [
        "myFriends = ['James','Robert','Lisa','Mary']\n",
        "myFriends.append('Thomas')\n",
        "myFriends"
      ],
      "metadata": {
        "colab": {
          "base_uri": "https://localhost:8080/"
        },
        "id": "VJHhJAroJ1Sm",
        "outputId": "e0dbfa33-51f4-4379-864a-a3a9dc849174"
      },
      "execution_count": null,
      "outputs": [
        {
          "output_type": "execute_result",
          "data": {
            "text/plain": [
              "['James', 'Robert', 'Lisa', 'Mary', 'Thomas']"
            ]
          },
          "metadata": {},
          "execution_count": 47
        }
      ]
    },
    {
      "cell_type": "markdown",
      "source": [
        "## extend()\n",
        "- 리스트에서 항목 여러 개를 맨 마지막에 추가"
      ],
      "metadata": {
        "id": "29FNcT2VPbNU"
      }
    },
    {
      "cell_type": "code",
      "source": [],
      "metadata": {
        "id": "rV-498_KTAhq"
      },
      "execution_count": null,
      "outputs": []
    },
    {
      "cell_type": "code",
      "source": [
        "newFriends = ['A','B','C']\n",
        "myFriends.extend(newFriends)\n",
        "myFriends"
      ],
      "metadata": {
        "colab": {
          "base_uri": "https://localhost:8080/"
        },
        "id": "_o5ZUzSCOM5_",
        "outputId": "b5419c46-872a-4429-d47c-885e6b59cb1c"
      },
      "execution_count": null,
      "outputs": [
        {
          "output_type": "execute_result",
          "data": {
            "text/plain": [
              "['James', 'Robert', 'Lisa', 'Mary', 'Thomas', 'A', 'B', 'C']"
            ]
          },
          "metadata": {},
          "execution_count": 48
        }
      ]
    },
    {
      "cell_type": "markdown",
      "source": [
        "## insert()\n",
        "- 항목의 위치를 나타내는 인덱스 i에 data를 삽입"
      ],
      "metadata": {
        "id": "u1CstiuhGV6y"
      }
    },
    {
      "cell_type": "code",
      "source": [
        "myFriends = ['James','Robert','Lisa','Mary']\n",
        "myFriends.insert(1,'Thomas')\n",
        "myFriends.insert(-1, 'Min')\n",
        "myFriends"
      ],
      "metadata": {
        "colab": {
          "base_uri": "https://localhost:8080/"
        },
        "id": "tbmb7zAOGWc4",
        "outputId": "6f8716e1-00e8-4157-ced2-15db3b3ab6ea"
      },
      "execution_count": null,
      "outputs": [
        {
          "output_type": "execute_result",
          "data": {
            "text/plain": [
              "['James', 'Thomas', 'Robert', 'Lisa', 'Min', 'Mary']"
            ]
          },
          "metadata": {},
          "execution_count": 54
        }
      ]
    },
    {
      "cell_type": "markdown",
      "source": [
        "# 클래스\n",
        "## 함수\n",
        "-프로그래밍을 한다! = 재실행할거다!\n",
        "- 함수의 구조\n",
        " + 매개변수, 인자\n",
        " + def 함수명([인자1, 인자2, ..., 인자n]):\n",
        "  -(indentation)#코드블록\n",
        "  -return 반환값"
      ],
      "metadata": {
        "id": "yHDQZUhLxIlV"
      }
    },
    {
      "cell_type": "code",
      "source": [
        "def mySum(a,b):\n",
        "  c = a + b\n",
        "  return c\n",
        "\n",
        "a = 1\n",
        "b = 1\n",
        "result = mySum(a,b)\n",
        "print(result)"
      ],
      "metadata": {
        "colab": {
          "base_uri": "https://localhost:8080/"
        },
        "id": "NAgf83J6SqDJ",
        "outputId": "86ddc5b6-87b7-4244-ff43-21c9268a9126"
      },
      "execution_count": null,
      "outputs": [
        {
          "output_type": "stream",
          "name": "stdout",
          "text": [
            "2\n"
          ]
        }
      ]
    },
    {
      "cell_type": "code",
      "source": [
        "def mySubtract(a,b): #반환값이 있는 메서드\n",
        "  c = a - b\n",
        "  return c\n",
        "\n",
        "a = 3\n",
        "b = 1\n",
        "result = mySubtract(a,b)\n",
        "print(result)"
      ],
      "metadata": {
        "colab": {
          "base_uri": "https://localhost:8080/"
        },
        "id": "KMHoirAQqVz6",
        "outputId": "4f60e689-3f7c-4ae4-f1c7-c8b63bf4751f"
      },
      "execution_count": null,
      "outputs": [
        {
          "output_type": "stream",
          "name": "stdout",
          "text": [
            "2\n"
          ]
        }
      ]
    },
    {
      "cell_type": "code",
      "source": [
        "def my_func(): #반환값이 없는 메서드\n",
        "  print(\"My first function\")\n",
        "  print(\"This is a function!\")\n",
        "\n",
        "print(my_func())"
      ],
      "metadata": {
        "colab": {
          "base_uri": "https://localhost:8080/"
        },
        "id": "rfFiF8Zg0AAN",
        "outputId": "14c99031-2f91-43cc-ae6b-78622401647e"
      },
      "execution_count": null,
      "outputs": [
        {
          "output_type": "stream",
          "name": "stdout",
          "text": [
            "My first function\n",
            "This is a function!\n",
            "None\n"
          ]
        }
      ]
    },
    {
      "cell_type": "code",
      "source": [
        "def mySum(a, b=0):\n",
        "  c = a + b\n",
        "  print(f'함수 잘 작동? {c}')\n",
        "\n",
        "a = 1\n",
        "r = mySum(a)\n",
        "print(r)"
      ],
      "metadata": {
        "colab": {
          "base_uri": "https://localhost:8080/"
        },
        "id": "KTQgviwv05RE",
        "outputId": "54a1e1a7-d9d5-46e5-d205-f2e97fc5d11e"
      },
      "execution_count": null,
      "outputs": [
        {
          "output_type": "stream",
          "name": "stdout",
          "text": [
            "함수 잘 작동? 1\n",
            "None\n"
          ]
        }
      ]
    },
    {
      "cell_type": "markdown",
      "source": [
        "## 변수의 유효범위 p.121\n",
        "- 지역 변수 & 전역 변수\n",
        "- Local Variable & Global Variable"
      ],
      "metadata": {
        "id": "drQ2LOvrzFAC"
      }
    },
    {
      "cell_type": "code",
      "source": [
        "a = 5 # 전역 변수\n",
        "def func1():\n",
        "  a = 1 # 지역 변수\n",
        "  print(f'func1 지역 변수 a = {a}') #f-string\n",
        "def func2():\n",
        "  a = 4 # 지역 변수\n",
        "  print(f'func2 지역 변수 a = {a}')\n",
        "def func3():\n",
        "  print(f'func3 전역 변수 a = {a}')\n",
        "def func4():\n",
        "  global a #함수 내에서 전역 변수를 변경하기 위함\n",
        "  a = 500\n",
        "  print(f'func4 전역 변수 a = {a}')\n",
        "\n",
        "func1()\n",
        "func2()\n",
        "func3()\n",
        "func4()\n",
        "print(f'전역 변수 a = {a}') #func4 내에서 'global a'로 전역 변수 변경"
      ],
      "metadata": {
        "colab": {
          "base_uri": "https://localhost:8080/"
        },
        "id": "JMmKb_Jny-WB",
        "outputId": "cc82847e-a042-404b-db3e-285f045315ad"
      },
      "execution_count": null,
      "outputs": [
        {
          "output_type": "stream",
          "name": "stdout",
          "text": [
            "func1 지역 변수 a = 1\n",
            "func2 지역 변수 a = 4\n",
            "func3 전역 변수 a = 5\n",
            "func4 전역 변수 a = 500\n",
            "전역 변수 a = 500\n"
          ]
        }
      ]
    },
    {
      "cell_type": "markdown",
      "source": [
        "## 람다 함수(lambda)\n",
        "- 단순 기능을 수행할때, 함수를 한줄로 처리"
      ],
      "metadata": {
        "id": "WkTU-MEz6vMj"
      }
    },
    {
      "cell_type": "code",
      "source": [
        "(lambda x : x **2)(3)\n",
        "# def myPower(x):\n",
        "    #y = x**2\n",
        "    #print(y)\n",
        "      #return y"
      ],
      "metadata": {
        "colab": {
          "base_uri": "https://localhost:8080/"
        },
        "id": "ZlkjUL-s5xAg",
        "outputId": "fd5093ef-955a-4f0c-e46b-15e8c0d20771"
      },
      "execution_count": null,
      "outputs": [
        {
          "output_type": "stream",
          "name": "stdout",
          "text": [
            "9\n"
          ]
        }
      ]
    },
    {
      "cell_type": "code",
      "source": [
        "#(lambda 인자(=매개변수) : 인자를 활용한 코드)(원하는 인자 코드 입력)"
      ],
      "metadata": {
        "id": "ITrlx4lw7sfZ"
      },
      "execution_count": null,
      "outputs": []
    },
    {
      "cell_type": "code",
      "source": [
        "mySquare = lambda x : x ** 2\n",
        "mySquare(5)"
      ],
      "metadata": {
        "colab": {
          "base_uri": "https://localhost:8080/"
        },
        "id": "7kMwv-eW7PCK",
        "outputId": "5102ba56-3dab-45f8-8291-79cd5f1b2fd9"
      },
      "execution_count": null,
      "outputs": [
        {
          "output_type": "execute_result",
          "data": {
            "text/plain": [
              "25"
            ]
          },
          "metadata": {},
          "execution_count": 81
        }
      ]
    },
    {
      "cell_type": "markdown",
      "source": [
        "## 클래스 선언과 객체 생성 p.135\n",
        "- 함수의 확장\n",
        "- 함수와 클래스 비유적으로 비교\n",
        " + 함수 : 각 덧셈함수, 뺄셈함수, 곱셈함수 등\n",
        " + 클래스 : 사칙연산 클래스 (예 : 계산기)\n",
        " + 라이브러리 : 클래스들의 묶음\n",
        "   + 사칙연산 클래스\n",
        "   + 미분 클래스\n",
        "   + 적분 클래스\n",
        "   + etc...\n",
        "   + 수학 라이브러리\n",
        "-컨트리퓨터 도전 개발자"
      ],
      "metadata": {
        "id": "wNN5YrVEBnQU"
      }
    },
    {
      "cell_type": "code",
      "source": [
        "# 자전거의 속성 : data (바퀴의 크기, 자전거의 색상)\n",
        "# 자전거의 동작 : method (=function), 지정된 속도로 이동, 좌/우회전, 정지 기능"
      ],
      "metadata": {
        "id": "usn86KTh2uLl"
      },
      "execution_count": null,
      "outputs": []
    },
    {
      "cell_type": "code",
      "source": [
        "class Bycycle(): #클래스 선언\n",
        "   # 클래스 변수\n",
        "   데이터1 = 바퀴의 크기\n",
        "   데이터2 = 자전거의 색상\n",
        "\n",
        "   #클래스 메서드\n",
        "   def 속도():\n",
        "     pass\n",
        "   def 방향():\n",
        "     pass\n",
        "   def 정지():\n",
        "     pass\n",
        "객체명 = Bycycle(데이터1,데이터2) #입력한 형태로 새로운 객체가 막 생기는 것"
      ],
      "metadata": {
        "id": "ZKg9pxRNr7Ep"
      },
      "execution_count": null,
      "outputs": []
    },
    {
      "cell_type": "code",
      "source": [
        "fruits = [1,2,3,4,5,'orange', 'apple', 'pear', 'banana', 'kiwi', 'apple', 'banana']\n",
        "num = [1,2,3,4,5,6,7]\n",
        "#리스트를 만든 사람이 count() 동작을 만듦\n",
        "fruits.count('apple')\n",
        "#리스트에는 숫자 덧셈 함수가 없음\n",
        "#-> 리스트의 값을 합해줄 덧셈 함수가 있는 클래스를 찾으면 됨."
      ],
      "metadata": {
        "colab": {
          "base_uri": "https://localhost:8080/"
        },
        "id": "_ahuM7fmENnN",
        "outputId": "c292e3d1-303d-4455-ada4-cf56d3869845"
      },
      "execution_count": null,
      "outputs": [
        {
          "output_type": "execute_result",
          "data": {
            "text/plain": [
              "2"
            ]
          },
          "metadata": {},
          "execution_count": 83
        }
      ]
    },
    {
      "cell_type": "markdown",
      "source": [
        "### why Class? 프로그래밍 관점\n",
        "-함수만 있어도 충분한데, 왜 클래스냐?"
      ],
      "metadata": {
        "id": "KZ8RQSjeJOjG"
      }
    },
    {
      "cell_type": "code",
      "source": [
        "result = 0\n",
        "def add(num):\n",
        "  global result\n",
        "\n",
        "  result = result + num #결과값(result)에 입력값(num) 더하기\n",
        "  return result\n",
        "\n",
        "print(add(3))"
      ],
      "metadata": {
        "colab": {
          "base_uri": "https://localhost:8080/"
        },
        "id": "L8O0htM3JNFx",
        "outputId": "eeb157e4-7914-425b-f6eb-c2d8971aad76"
      },
      "execution_count": null,
      "outputs": [
        {
          "output_type": "stream",
          "name": "stdout",
          "text": [
            "3\n"
          ]
        }
      ]
    },
    {
      "cell_type": "code",
      "source": [
        "result1 = 0\n",
        "result2 = 0\n",
        "def add1(num):\n",
        "  global result1\n",
        "\n",
        "  result1 = result1 + num\n",
        "  return result1\n",
        "def add2(num):\n",
        "  global result2\n",
        "\n",
        "  result2 = result2 + num\n",
        "  return result2\n",
        "\n",
        "print(add1(3))\n",
        "print(add1(5))\n",
        "print(add2(3))\n",
        "print(add2(8)) # 코드의 문제점 : 같은 기능(덧셈)을 수행하는 함수가 중복될 수 있음\n",
        "#코드의 가독성이 매우 급격하게 떨어지기 시작"
      ],
      "metadata": {
        "colab": {
          "base_uri": "https://localhost:8080/"
        },
        "id": "9q9XK1LWKCiU",
        "outputId": "e881dea3-8558-4444-aae7-1d2307cc5316"
      },
      "execution_count": null,
      "outputs": [
        {
          "output_type": "stream",
          "name": "stdout",
          "text": [
            "3\n",
            "8\n",
            "3\n",
            "11\n"
          ]
        }
      ]
    },
    {
      "cell_type": "code",
      "source": [
        "class Calculator:\n",
        "\n",
        "  def __init__(self):\n",
        "    self.result = 0 #result 값을 초기화\n",
        "  # 클래스 메서드\n",
        "  def add(self, num):\n",
        "    self.result = self.result + num\n",
        "    return self.result\n",
        "cal1 = Calculator() # 인스턴스화했다 = 계산기 번호 1로 지정한 것\n",
        "cal2 = Calculator()\n",
        "\n",
        "#클래스_독립적으로 구현, 동시 실행\n",
        "#덧셈 기능 하나로 계산기 개수를 무한으로 생성가능\n",
        "\n",
        "print(cal1.add(3))\n",
        "print(cal1.add(5))\n",
        "print(cal2.add(3))\n",
        "print(cal2.add(100))"
      ],
      "metadata": {
        "colab": {
          "base_uri": "https://localhost:8080/"
        },
        "id": "WFzJNt3SKYb2",
        "outputId": "23589df2-d0af-4ca4-9659-96093678938b"
      },
      "execution_count": null,
      "outputs": [
        {
          "output_type": "stream",
          "name": "stdout",
          "text": [
            "3\n",
            "8\n",
            "3\n",
            "103\n"
          ]
        }
      ]
    },
    {
      "cell_type": "markdown",
      "source": [
        "### 객체 초기화\n",
        "- '__init__()' : 객체 생성과 동시에 속성값을 지정할 수 있다.\n",
        " + 주로 클래스 선언시 변수 초기화"
      ],
      "metadata": {
        "id": "V8g7XtX1U9rF"
      }
    },
    {
      "cell_type": "code",
      "source": [
        "class Bicycle():\n",
        "  # 변수 초기화\n",
        "  def __init__(self, wheel_size, color):\n",
        "    self.wheel_size = wheel_size\n",
        "    self.color = color\n",
        "  def stop(self):\n",
        "    print('자전거({0},{1}) : 정지'.format(self.wheel_size, self.color))\n",
        "my_bicyle = Bicycle(26,'black')\n",
        "ur_bicyle = Bicycle(30,'pink')\n",
        "my_bicyle.stop()\n",
        "ur_bicyle.stop()"
      ],
      "metadata": {
        "colab": {
          "base_uri": "https://localhost:8080/"
        },
        "id": "P1ElxJYzTJed",
        "outputId": "10745759-6394-4299-be89-fdf8424aeee1"
      },
      "execution_count": null,
      "outputs": [
        {
          "output_type": "stream",
          "name": "stdout",
          "text": [
            "자전거(26,black) : 정지\n",
            "자전거(30,pink) : 정지\n"
          ]
        }
      ]
    }
  ]
}