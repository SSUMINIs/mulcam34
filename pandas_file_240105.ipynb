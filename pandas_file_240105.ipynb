{
  "cells": [
    {
      "cell_type": "markdown",
      "metadata": {
        "id": "view-in-github",
        "colab_type": "text"
      },
      "source": [
        "<a href=\"https://colab.research.google.com/github/SSUMINIs/mulcam34/blob/main/pandas_file_240105.ipynb\" target=\"_parent\"><img src=\"https://colab.research.google.com/assets/colab-badge.svg\" alt=\"Open In Colab\"/></a>"
      ]
    },
    {
      "cell_type": "code",
      "execution_count": null,
      "id": "d7e28aa3-24f6-4255-810d-93c4c77d9b7e",
      "metadata": {
        "id": "d7e28aa3-24f6-4255-810d-93c4c77d9b7e"
      },
      "outputs": [],
      "source": [
        "## 파일 입출력\n",
        "- read_csv() : https://pandas.pydata.org/docs/reference/api/pandas.read_csv.html\n",
        "- 그 외 파일 형식 불러오기 자료 : https://pandas.pydata.org/pandas-docs/stable/user_guide/io.html"
      ]
    },
    {
      "cell_type": "code",
      "execution_count": null,
      "id": "d99bffa4-173a-4d47-a400-b17355e77f3c",
      "metadata": {
        "id": "d99bffa4-173a-4d47-a400-b17355e77f3c"
      },
      "outputs": [],
      "source": [
        "import pandas as pd\n",
        "import numpy as np\n",
        "import seaborn as sns\n",
        "\n",
        "DATA_PATH = 'playground-series-s4e1/'\n",
        "\n",
        "train = pd.read_csv(DATA_PATH + 'train.csv')\n",
        "test = pd.read_csv(DATA_PATH + 'test.csv')\n",
        "submission = pd.read_csv(DATA_PATH +'sample_submission.csv')"
      ]
    },
    {
      "cell_type": "code",
      "execution_count": null,
      "id": "44aa42d8-4f62-4233-9366-ac5583600613",
      "metadata": {
        "id": "44aa42d8-4f62-4233-9366-ac5583600613"
      },
      "outputs": [],
      "source": [
        "# 파일내보내기\n",
        "result = train.loc[:,['id','Age']]\n",
        "result.to_csv(\"result.csv\", index = False) #index = False시, index번호는 열로 추출 안함\n",
        "#현재 파일과 동일한 곳에 파일내보내기 됨.\n",
        "#play~ 안에 넣고 싶으면 DATA_PATH +\"result.csv\""
      ]
    },
    {
      "cell_type": "code",
      "execution_count": null,
      "id": "633c2ab3-f222-4159-ba48-fa43f259b862",
      "metadata": {
        "id": "633c2ab3-f222-4159-ba48-fa43f259b862"
      },
      "outputs": [],
      "source": [
        "#pandas tutorials연습 _How to manipulate textual data"
      ]
    },
    {
      "cell_type": "code",
      "execution_count": null,
      "id": "a9682892-673a-40fc-af18-49f620c247eb",
      "metadata": {
        "id": "a9682892-673a-40fc-af18-49f620c247eb",
        "outputId": "30abcdb1-5241-4bc1-c669-b4e498b25887"
      },
      "outputs": [
        {
          "data": {
            "text/html": [
              "<div>\n",
              "<style scoped>\n",
              "    .dataframe tbody tr th:only-of-type {\n",
              "        vertical-align: middle;\n",
              "    }\n",
              "\n",
              "    .dataframe tbody tr th {\n",
              "        vertical-align: top;\n",
              "    }\n",
              "\n",
              "    .dataframe thead th {\n",
              "        text-align: right;\n",
              "    }\n",
              "</style>\n",
              "<table border=\"1\" class=\"dataframe\">\n",
              "  <thead>\n",
              "    <tr style=\"text-align: right;\">\n",
              "      <th></th>\n",
              "      <th>PassengerId</th>\n",
              "      <th>Survived</th>\n",
              "      <th>Pclass</th>\n",
              "      <th>Name</th>\n",
              "      <th>Sex</th>\n",
              "      <th>Age</th>\n",
              "      <th>SibSp</th>\n",
              "      <th>Parch</th>\n",
              "      <th>Ticket</th>\n",
              "      <th>Fare</th>\n",
              "      <th>Cabin</th>\n",
              "      <th>Embarked</th>\n",
              "    </tr>\n",
              "  </thead>\n",
              "  <tbody>\n",
              "    <tr>\n",
              "      <th>0</th>\n",
              "      <td>1</td>\n",
              "      <td>0</td>\n",
              "      <td>3</td>\n",
              "      <td>Braund, Mr. Owen Harris</td>\n",
              "      <td>male</td>\n",
              "      <td>22.0</td>\n",
              "      <td>1</td>\n",
              "      <td>0</td>\n",
              "      <td>A/5 21171</td>\n",
              "      <td>7.25</td>\n",
              "      <td>NaN</td>\n",
              "      <td>S</td>\n",
              "    </tr>\n",
              "  </tbody>\n",
              "</table>\n",
              "</div>"
            ],
            "text/plain": [
              "   PassengerId  Survived  Pclass                     Name   Sex   Age  SibSp  \\\n",
              "0            1         0       3  Braund, Mr. Owen Harris  male  22.0      1   \n",
              "\n",
              "   Parch     Ticket  Fare Cabin Embarked  \n",
              "0      0  A/5 21171  7.25   NaN        S  "
            ]
          },
          "execution_count": 17,
          "metadata": {},
          "output_type": "execute_result"
        }
      ],
      "source": [
        "titanic = pd.read_csv(\"https://raw.githubusercontent.com/pandas-dev/pandas/main/doc/data/titanic.csv\")\n",
        "titanic.head(1)"
      ]
    },
    {
      "cell_type": "code",
      "execution_count": null,
      "id": "c0472515-23c4-45c2-a194-ba2e2becf14f",
      "metadata": {
        "id": "c0472515-23c4-45c2-a194-ba2e2becf14f",
        "outputId": "2550307c-e0fb-4b1e-c556-a6f7582d3fb6"
      },
      "outputs": [
        {
          "data": {
            "text/plain": [
              "0                              braund, mr. owen harris\n",
              "1    cumings, mrs. john bradley (florence briggs th...\n",
              "2                               heikkinen, miss. laina\n",
              "3         futrelle, mrs. jacques heath (lily may peel)\n",
              "4                             allen, mr. william henry\n",
              "Name: Name, dtype: object"
            ]
          },
          "execution_count": 20,
          "metadata": {},
          "output_type": "execute_result"
        }
      ],
      "source": [
        "titanic['Name'].str.lower().head()"
      ]
    },
    {
      "cell_type": "code",
      "execution_count": null,
      "id": "6c901421-157e-4e9f-9453-7581429815fd",
      "metadata": {
        "id": "6c901421-157e-4e9f-9453-7581429815fd",
        "outputId": "538e4020-e2ca-469c-8034-5faa18717ccf"
      },
      "outputs": [
        {
          "data": {
            "text/plain": [
              "0                             [Braund, Mr. Ow, n Harris]\n",
              "1      [Cumings, Mrs. John Bradl, y (Flor, nc,  Brigg...\n",
              "2                             [H, ikkin, n, Miss. Laina]\n",
              "3      [Futr, ll, , Mrs. Jacqu, s H, ath (Lily May P,...\n",
              "4                           [All, n, Mr. William H, nry]\n",
              "                             ...                        \n",
              "886                             [Montvila, R, v. Juozas]\n",
              "887                      [Graham, Miss. Margar, t Edith]\n",
              "888      [Johnston, Miss. Cath, rin,  H, l, n \"Carri, \"]\n",
              "889                            [B, hr, Mr. Karl How, ll]\n",
              "890                               [Dool, y, Mr. Patrick]\n",
              "Name: Name, Length: 891, dtype: object"
            ]
          },
          "execution_count": 53,
          "metadata": {},
          "output_type": "execute_result"
        }
      ],
      "source": [
        "titanic['Name'].str.split(\",\")"
      ]
    },
    {
      "cell_type": "code",
      "execution_count": null,
      "id": "7dff344c-331f-41ae-b551-ba0319122788",
      "metadata": {
        "id": "7dff344c-331f-41ae-b551-ba0319122788",
        "outputId": "927a21ce-ae00-4323-987e-7d751b5b90c8"
      },
      "outputs": [
        {
          "data": {
            "text/plain": [
              "0         Braund\n",
              "1        Cumings\n",
              "2      Heikkinen\n",
              "3       Futrelle\n",
              "4          Allen\n",
              "         ...    \n",
              "886     Montvila\n",
              "887       Graham\n",
              "888     Johnston\n",
              "889         Behr\n",
              "890       Dooley\n",
              "Name: Surname, Length: 891, dtype: object"
            ]
          },
          "execution_count": 23,
          "metadata": {},
          "output_type": "execute_result"
        }
      ],
      "source": [
        "titanic['Surname'] = titanic['Name'].str.split(\",\").str.get(0)\n",
        "titanic['Surname']"
      ]
    },
    {
      "cell_type": "code",
      "execution_count": null,
      "id": "1739531d-49b2-4dfb-bb95-4f1fed5e98b6",
      "metadata": {
        "id": "1739531d-49b2-4dfb-bb95-4f1fed5e98b6",
        "outputId": "5ca36b5e-5102-40f8-864b-a621d17ebd47"
      },
      "outputs": [
        {
          "data": {
            "text/plain": [
              "0      False\n",
              "1      False\n",
              "2      False\n",
              "3      False\n",
              "4      False\n",
              "       ...  \n",
              "886    False\n",
              "887    False\n",
              "888    False\n",
              "889    False\n",
              "890    False\n",
              "Name: Name, Length: 891, dtype: bool"
            ]
          },
          "execution_count": 24,
          "metadata": {},
          "output_type": "execute_result"
        }
      ],
      "source": [
        "titanic[\"Name\"].str.contains(\"Countess\")"
      ]
    },
    {
      "cell_type": "code",
      "execution_count": null,
      "id": "a9a93a5b-8dfd-4ace-894b-2aaa45558109",
      "metadata": {
        "id": "a9a93a5b-8dfd-4ace-894b-2aaa45558109",
        "outputId": "bb2fd433-b371-42b2-b211-29513e0f8b91"
      },
      "outputs": [
        {
          "data": {
            "text/html": [
              "<div>\n",
              "<style scoped>\n",
              "    .dataframe tbody tr th:only-of-type {\n",
              "        vertical-align: middle;\n",
              "    }\n",
              "\n",
              "    .dataframe tbody tr th {\n",
              "        vertical-align: top;\n",
              "    }\n",
              "\n",
              "    .dataframe thead th {\n",
              "        text-align: right;\n",
              "    }\n",
              "</style>\n",
              "<table border=\"1\" class=\"dataframe\">\n",
              "  <thead>\n",
              "    <tr style=\"text-align: right;\">\n",
              "      <th></th>\n",
              "      <th>PassengerId</th>\n",
              "      <th>Survived</th>\n",
              "      <th>Pclass</th>\n",
              "      <th>Name</th>\n",
              "      <th>Sex</th>\n",
              "      <th>Age</th>\n",
              "      <th>SibSp</th>\n",
              "      <th>Parch</th>\n",
              "      <th>Ticket</th>\n",
              "      <th>Fare</th>\n",
              "      <th>Cabin</th>\n",
              "      <th>Embarked</th>\n",
              "      <th>Surname</th>\n",
              "    </tr>\n",
              "  </thead>\n",
              "  <tbody>\n",
              "    <tr>\n",
              "      <th>759</th>\n",
              "      <td>760</td>\n",
              "      <td>1</td>\n",
              "      <td>1</td>\n",
              "      <td>Rothes, the Countess. of (Lucy Noel Martha Dye...</td>\n",
              "      <td>female</td>\n",
              "      <td>33.0</td>\n",
              "      <td>0</td>\n",
              "      <td>0</td>\n",
              "      <td>110152</td>\n",
              "      <td>86.5</td>\n",
              "      <td>B77</td>\n",
              "      <td>S</td>\n",
              "      <td>Rothes</td>\n",
              "    </tr>\n",
              "  </tbody>\n",
              "</table>\n",
              "</div>"
            ],
            "text/plain": [
              "     PassengerId  Survived  Pclass  \\\n",
              "759          760         1       1   \n",
              "\n",
              "                                                  Name     Sex   Age  SibSp  \\\n",
              "759  Rothes, the Countess. of (Lucy Noel Martha Dye...  female  33.0      0   \n",
              "\n",
              "     Parch  Ticket  Fare Cabin Embarked Surname  \n",
              "759      0  110152  86.5   B77        S  Rothes  "
            ]
          },
          "execution_count": 28,
          "metadata": {},
          "output_type": "execute_result"
        }
      ],
      "source": [
        "titanic[titanic[\"Name\"].str.contains(\"Countess\")]"
      ]
    },
    {
      "cell_type": "code",
      "execution_count": null,
      "id": "421a2e1e-63bf-46d3-ab51-571eb43754fe",
      "metadata": {
        "id": "421a2e1e-63bf-46d3-ab51-571eb43754fe",
        "outputId": "5ead6d76-7c95-4a02-f3e9-e2603e9ce3f5"
      },
      "outputs": [
        {
          "data": {
            "text/html": [
              "<div>\n",
              "<style scoped>\n",
              "    .dataframe tbody tr th:only-of-type {\n",
              "        vertical-align: middle;\n",
              "    }\n",
              "\n",
              "    .dataframe tbody tr th {\n",
              "        vertical-align: top;\n",
              "    }\n",
              "\n",
              "    .dataframe thead th {\n",
              "        text-align: right;\n",
              "    }\n",
              "</style>\n",
              "<table border=\"1\" class=\"dataframe\">\n",
              "  <thead>\n",
              "    <tr style=\"text-align: right;\">\n",
              "      <th></th>\n",
              "      <th>PassengerId</th>\n",
              "      <th>Survived</th>\n",
              "      <th>Pclass</th>\n",
              "      <th>Name</th>\n",
              "      <th>Sex</th>\n",
              "      <th>Age</th>\n",
              "      <th>SibSp</th>\n",
              "      <th>Parch</th>\n",
              "      <th>Ticket</th>\n",
              "      <th>Fare</th>\n",
              "      <th>Cabin</th>\n",
              "      <th>Embarked</th>\n",
              "      <th>Surname</th>\n",
              "    </tr>\n",
              "  </thead>\n",
              "  <tbody>\n",
              "    <tr>\n",
              "      <th>759</th>\n",
              "      <td>760</td>\n",
              "      <td>1</td>\n",
              "      <td>1</td>\n",
              "      <td>Rothes, the Countess. of (Lucy Noel Martha Dye...</td>\n",
              "      <td>female</td>\n",
              "      <td>33.0</td>\n",
              "      <td>0</td>\n",
              "      <td>0</td>\n",
              "      <td>110152</td>\n",
              "      <td>86.5</td>\n",
              "      <td>B77</td>\n",
              "      <td>S</td>\n",
              "      <td>Rothes</td>\n",
              "    </tr>\n",
              "  </tbody>\n",
              "</table>\n",
              "</div>"
            ],
            "text/plain": [
              "     PassengerId  Survived  Pclass  \\\n",
              "759          760         1       1   \n",
              "\n",
              "                                                  Name     Sex   Age  SibSp  \\\n",
              "759  Rothes, the Countess. of (Lucy Noel Martha Dye...  female  33.0      0   \n",
              "\n",
              "     Parch  Ticket  Fare Cabin Embarked Surname  \n",
              "759      0  110152  86.5   B77        S  Rothes  "
            ]
          },
          "execution_count": 29,
          "metadata": {},
          "output_type": "execute_result"
        }
      ],
      "source": [
        "titanic[titanic[\"Name\"].str.lower().str.contains(\"countess\")]"
      ]
    },
    {
      "cell_type": "code",
      "execution_count": null,
      "id": "1578b0fc-da68-48dc-84a7-ecd09d566f43",
      "metadata": {
        "id": "1578b0fc-da68-48dc-84a7-ecd09d566f43",
        "outputId": "1caf21d1-9e8f-4d1e-9c4a-950fcf1e873c"
      },
      "outputs": [
        {
          "data": {
            "text/plain": [
              "307"
            ]
          },
          "execution_count": 42,
          "metadata": {},
          "output_type": "execute_result"
        }
      ],
      "source": [
        "titanic[\"Name\"].str.len().idxmax()"
      ]
    },
    {
      "cell_type": "code",
      "execution_count": null,
      "id": "8e4335b9-b3f2-47a2-ad4f-eca214621406",
      "metadata": {
        "id": "8e4335b9-b3f2-47a2-ad4f-eca214621406",
        "outputId": "aa7e4f60-e7da-43d6-a353-8c7e5aba86ad"
      },
      "outputs": [
        {
          "data": {
            "text/plain": [
              "'Penasco y Castellana, Mrs. Victor de Satode (Maria Josefa Perez de Soto y Vallejo)'"
            ]
          },
          "execution_count": 45,
          "metadata": {},
          "output_type": "execute_result"
        }
      ],
      "source": [
        "titanic.loc[titanic[\"Name\"].str.len().idxmax(), \"Name\"]"
      ]
    },
    {
      "cell_type": "code",
      "execution_count": null,
      "id": "f262e744-26d6-401d-8cbf-58d3cdfa7573",
      "metadata": {
        "id": "f262e744-26d6-401d-8cbf-58d3cdfa7573",
        "outputId": "a88a391b-4762-4da1-c39d-b963e98ef071"
      },
      "outputs": [
        {
          "data": {
            "text/plain": [
              "0      M\n",
              "1      F\n",
              "2      F\n",
              "3      F\n",
              "4      M\n",
              "      ..\n",
              "886    M\n",
              "887    F\n",
              "888    F\n",
              "889    M\n",
              "890    M\n",
              "Name: Sex_short, Length: 891, dtype: object"
            ]
          },
          "execution_count": 49,
          "metadata": {},
          "output_type": "execute_result"
        }
      ],
      "source": [
        "titanic['Sex_short'] = titanic[\"Sex\"].replace({\"male\":\"M\",\"female\":\"F\"})\n",
        "titanic['Sex_short']"
      ]
    }
  ],
  "metadata": {
    "kernelspec": {
      "display_name": "Python 3 (ipykernel)",
      "language": "python",
      "name": "python3"
    },
    "language_info": {
      "codemirror_mode": {
        "name": "ipython",
        "version": 3
      },
      "file_extension": ".py",
      "mimetype": "text/x-python",
      "name": "python",
      "nbconvert_exporter": "python",
      "pygments_lexer": "ipython3",
      "version": "3.12.1"
    },
    "colab": {
      "provenance": [],
      "include_colab_link": true
    }
  },
  "nbformat": 4,
  "nbformat_minor": 5
}