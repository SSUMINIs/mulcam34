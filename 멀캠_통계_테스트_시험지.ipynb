{
  "cells": [
    {
      "cell_type": "markdown",
      "metadata": {
        "id": "view-in-github",
        "colab_type": "text"
      },
      "source": [
        "<a href=\"https://colab.research.google.com/github/SSUMINIs/mulcam34/blob/main/%EB%A9%80%EC%BA%A0_%ED%86%B5%EA%B3%84_%ED%85%8C%EC%8A%A4%ED%8A%B8_%EC%8B%9C%ED%97%98%EC%A7%80.ipynb\" target=\"_parent\"><img src=\"https://colab.research.google.com/assets/colab-badge.svg\" alt=\"Open In Colab\"/></a>"
      ]
    },
    {
      "cell_type": "markdown",
      "id": "f043125c-a740-4f30-bd0f-3ed0577bc672",
      "metadata": {
        "id": "f043125c-a740-4f30-bd0f-3ed0577bc672"
      },
      "source": [
        "## 정규성 검정\n",
        "- 시나리오: 어느 회사의 직원들의 월급 데이터가 있다. 이 데이터가 정규 분포를 따르는지 확인하고 싶다. 주어진 월급 데이터를 사용하여 정규성 검정을 수행하고 결과를 해석하기\n",
        "- 가설설정\n",
        "  + 귀무가설 : 월급 데이터는 정규성\n",
        "  + 대립가설 :\n",
        "- 코드 작성 후 p-value 값을 구하시고 정규성 여부를 조건문으로 구하세요\n",
        "  + 귀무가설, 대립가설, 정규성 만족 유무 print() 만들기 (형식 자유)\n",
        "  + 예) print(\"abc 만족합니다!\")"
      ]
    },
    {
      "cell_type": "code",
      "execution_count": null,
      "id": "1dab0f84-0704-4f49-83b2-c51502bc941a",
      "metadata": {
        "id": "1dab0f84-0704-4f49-83b2-c51502bc941a"
      },
      "outputs": [],
      "source": [
        "salaries = [3500, 4000, 4000, 4500, 5000, 5000, 5500, 6000, 6500, 7000]"
      ]
    },
    {
      "cell_type": "code",
      "execution_count": null,
      "id": "54505c71-4172-4613-81f1-e35167ba7b9e",
      "metadata": {
        "id": "54505c71-4172-4613-81f1-e35167ba7b9e",
        "outputId": "a3aa1de6-4488-4043-a780-130a780dbf17"
      },
      "outputs": [
        {
          "name": "stdout",
          "output_type": "stream",
          "text": [
            "ShapiroResult(statistic=0.9611218571662903, pvalue=0.798586368560791)\n",
            "귀무가설 : 월급데이터는 정규성을 가진다.\n",
            "대립가설 : 월급데이터는 정규성을 가지지 않는다.\n",
            "정규성을 가진다.\n"
          ]
        }
      ],
      "source": [
        "from scipy import stats\n",
        "from scipy.stats import shapiro\n",
        "print(shapiro(salaries))\n",
        "print(\"귀무가설 : 월급데이터는 정규성을 가진다.\")\n",
        "print(\"대립가설 : 월급데이터는 정규성을 가지지 않는다.\")\n",
        "print(\"정규성을 가진다.\")"
      ]
    },
    {
      "cell_type": "markdown",
      "id": "752fb41d-260c-483d-9b19-a43ba20d8391",
      "metadata": {
        "id": "752fb41d-260c-483d-9b19-a43ba20d8391"
      },
      "source": [
        "## 단일 표본 T 검정\n",
        "- 주어진 데이터(data/trees.csv)에는 블랙 체리나무 31그루의 둘레와 높이, 부피가 저장되어 있다. 이 표본의 평균이 모평균과 일치하는지 단일표본 t-검정(One Sample t-test)을 통해 답하고자 한다. 가설은 아래와 같다.\n",
        "- 가설검정\n",
        "    + 귀무가설 : 평균은 75이다.\n",
        "    + 대립가설 : 평균은 75가 아니다.\n",
        "- 데이터의 변수\n",
        "    + Girth : 둘레\n",
        "    + Height : 높이\n",
        "    + Volume : 부피\n",
        "- 단, 데이터의 각 변수들은 정규 분포를 만족한다고 가정한다.\n",
        "- 문제 1 : 표본평균 X를 구하시오. (반올림하여 소숫점 둘째 자리까지 계산)\n",
        "- 문제 2 : 위의 가설을 검정하기 위한 검정통계량을 구하시오. (반올림하여 소숫점 둘째 자리까지 계산)\n",
        "- 문제 3 : 위의 통계량에 대한 p-값을 구하고(반올림하여 소숫점 넷째 자리까지 계산), 유의수준 0.05하에서 가설검정의 결과를 채택/기각 중 하나로 선택하시오.\n",
        "  + p-value에 값에 따른 결괏값을 조건문(if-else)으로 구하세요."
      ]
    },
    {
      "cell_type": "markdown",
      "id": "9a48af9d-d1c2-4776-8a29-7e670ef1c56e",
      "metadata": {
        "id": "9a48af9d-d1c2-4776-8a29-7e670ef1c56e"
      },
      "source": [
        "### 데이터 불러오기"
      ]
    },
    {
      "cell_type": "code",
      "execution_count": null,
      "id": "fc9e11b3-2daa-460e-86c9-c66ec9f7a180",
      "metadata": {
        "id": "fc9e11b3-2daa-460e-86c9-c66ec9f7a180",
        "outputId": "119becd7-087c-4383-efb1-35f8099e24ea"
      },
      "outputs": [
        {
          "data": {
            "text/html": [
              "<div>\n",
              "<style scoped>\n",
              "    .dataframe tbody tr th:only-of-type {\n",
              "        vertical-align: middle;\n",
              "    }\n",
              "\n",
              "    .dataframe tbody tr th {\n",
              "        vertical-align: top;\n",
              "    }\n",
              "\n",
              "    .dataframe thead th {\n",
              "        text-align: right;\n",
              "    }\n",
              "</style>\n",
              "<table border=\"1\" class=\"dataframe\">\n",
              "  <thead>\n",
              "    <tr style=\"text-align: right;\">\n",
              "      <th></th>\n",
              "      <th>Girth</th>\n",
              "      <th>Height</th>\n",
              "      <th>Volume</th>\n",
              "    </tr>\n",
              "  </thead>\n",
              "  <tbody>\n",
              "    <tr>\n",
              "      <th>0</th>\n",
              "      <td>8.3</td>\n",
              "      <td>70</td>\n",
              "      <td>10.3</td>\n",
              "    </tr>\n",
              "    <tr>\n",
              "      <th>1</th>\n",
              "      <td>8.6</td>\n",
              "      <td>65</td>\n",
              "      <td>10.3</td>\n",
              "    </tr>\n",
              "    <tr>\n",
              "      <th>2</th>\n",
              "      <td>8.8</td>\n",
              "      <td>63</td>\n",
              "      <td>10.2</td>\n",
              "    </tr>\n",
              "    <tr>\n",
              "      <th>3</th>\n",
              "      <td>10.5</td>\n",
              "      <td>72</td>\n",
              "      <td>16.4</td>\n",
              "    </tr>\n",
              "    <tr>\n",
              "      <th>4</th>\n",
              "      <td>10.7</td>\n",
              "      <td>81</td>\n",
              "      <td>18.8</td>\n",
              "    </tr>\n",
              "  </tbody>\n",
              "</table>\n",
              "</div>"
            ],
            "text/plain": [
              "   Girth  Height  Volume\n",
              "0    8.3      70    10.3\n",
              "1    8.6      65    10.3\n",
              "2    8.8      63    10.2\n",
              "3   10.5      72    16.4\n",
              "4   10.7      81    18.8"
            ]
          },
          "execution_count": 28,
          "metadata": {},
          "output_type": "execute_result"
        }
      ],
      "source": [
        "import pandas as pd\n",
        "df = pd.read_csv(\"./data/trees.csv\")\n",
        "df.head()"
      ]
    },
    {
      "cell_type": "markdown",
      "id": "3175917c-d98d-473c-b37d-269683504a06",
      "metadata": {
        "id": "3175917c-d98d-473c-b37d-269683504a06"
      },
      "source": [
        "### 문제 1\n",
        "- 표본평균 X를 구하시오. (반올림하여 소숫점 둘째 자리까지 계산)"
      ]
    },
    {
      "cell_type": "code",
      "execution_count": null,
      "id": "9b9e0078-e4b1-46fb-bf81-e3aba01e7e65",
      "metadata": {
        "id": "9b9e0078-e4b1-46fb-bf81-e3aba01e7e65",
        "outputId": "918009cf-ffe8-4a47-b36d-78f682b636a3"
      },
      "outputs": [
        {
          "data": {
            "text/plain": [
              "76.0"
            ]
          },
          "execution_count": 34,
          "metadata": {},
          "output_type": "execute_result"
        }
      ],
      "source": [
        "# 코드\n",
        "import numpy as np\n",
        "X = np.mean(df['Height'])\n",
        "X"
      ]
    },
    {
      "cell_type": "markdown",
      "id": "27f4769d-6e15-4058-8e04-b28425279904",
      "metadata": {
        "id": "27f4769d-6e15-4058-8e04-b28425279904"
      },
      "source": [
        "### 문제 2\n",
        "- 위의 가설을 검정하기 위한 검정통계량을 구하시오. (반올림하여 소숫점 둘째 자리까지 계산)"
      ]
    },
    {
      "cell_type": "code",
      "execution_count": null,
      "id": "37847742-c6c0-4f2b-a4d6-ce538929f1ad",
      "metadata": {
        "id": "37847742-c6c0-4f2b-a4d6-ce538929f1ad",
        "outputId": "adb5848a-fa79-48a1-defe-b57ed85b1680"
      },
      "outputs": [
        {
          "data": {
            "text/plain": [
              "0.87"
            ]
          },
          "execution_count": 39,
          "metadata": {},
          "output_type": "execute_result"
        }
      ],
      "source": [
        "# 코드\n",
        "from scipy import stats\n",
        "t, p = stats.ttest_1samp(df['Height'],75)\n",
        "round(t,2)"
      ]
    },
    {
      "cell_type": "markdown",
      "id": "82905aff-a0ef-4632-bd23-efd7f8ee4696",
      "metadata": {
        "id": "82905aff-a0ef-4632-bd23-efd7f8ee4696"
      },
      "source": [
        "### 문제 3\n",
        "- 위의 통계량에 대한 p-값을 구하고(반올림하여 소숫점 넷째 자리까지 계산), 유의수준 0.05하에서 가설검정의 결과를 채택/기각 중 하나로 선택하시오."
      ]
    },
    {
      "cell_type": "code",
      "execution_count": null,
      "id": "858363c4-d39f-4051-9d9b-aff7c0550a6f",
      "metadata": {
        "id": "858363c4-d39f-4051-9d9b-aff7c0550a6f",
        "outputId": "4a1f09db-2645-4f26-e4e0-626870d0f4cc"
      },
      "outputs": [
        {
          "name": "stdout",
          "output_type": "stream",
          "text": [
            "p값은 0.3892\n",
            "귀무가설 채택\n"
          ]
        }
      ],
      "source": [
        "# 코드\n",
        "print(f'p값은 {p:.4f}')\n",
        "if p >= 0.05:\n",
        "    print('귀무가설 채택')\n",
        "else:\n",
        "    print('귀무가설 기각')"
      ]
    },
    {
      "cell_type": "markdown",
      "id": "4155dae8-c8ef-4c41-b8fc-7c9b0853fe3e",
      "metadata": {
        "id": "4155dae8-c8ef-4c41-b8fc-7c9b0853fe3e"
      },
      "source": [
        "## 대응표본 T 검정\n",
        "- 주어진 데이터(data/insectsprays.csv)에는 여러 지역에서 스프레이를 뿌리기 전에 측정한 곤충의 수와 스프레이를 뿌린 다음의 곤충의 수가 저장되어 있다. 해당 스프레이가 구제 효과가 있는지(즉, 스프레이를 뿌린 뒤 곤충의 수가 감소했는지) 쌍체표본 t-검정(Paired t-test)을 통해 답하고자 한다.\n",
        "- 가설검정 ($\\overline{\\mu_{d}}$: 살충체를 뿌린 후의 곤충 수 - 살충제를 뿌리기 전의 곤충 수)의 평균\n",
        "    + 귀무가설 : $\\overline{\\mu_{d}}$은 0이다.\n",
        "    + 대립가설 : $\\overline{\\mu_{d}}$은 0이 아니다.\n",
        "- 데이터의 변수\n",
        "    + before_spr : 살충제 뿌리기 전 곤충의 수\n",
        "    + after_spr : 살충제 뿌린 뒤 곤충의 수\n",
        "- 단, $\\overline{\\mu_{d}}$는 정규분포를 만족한다.\n",
        "- 문제 1: 표본평균 $\\overline{\\mu_{d}}$의 표본 평균을 구하시오. (반올림하여 소숫점 둘째 자리까지 계산)\n",
        "- 문제 2: 위의 가설을 검정하기 위한 검정통계량을 구하시오. (반올림하여 소숫점 둘째 자리까지 계산)\n",
        "- 문제 3: 위의 통계량에 대한 p-값을 구하고 (반올림하여 소숫점 넷째 자리까지 계산), 유의수준 0.05하에서 가설검정의 결과를 채택/기각 중 하나로 선택하시오.\n",
        "  + p-value에 값에 따른 결괏값을 조건문(if-else)으로 구하세요."
      ]
    },
    {
      "cell_type": "markdown",
      "id": "4128fdbb-c429-449e-a30d-6ef01e8a047c",
      "metadata": {
        "id": "4128fdbb-c429-449e-a30d-6ef01e8a047c"
      },
      "source": [
        "### 데이터 불러오기"
      ]
    },
    {
      "cell_type": "code",
      "execution_count": null,
      "id": "ccc6794b-ce1f-4a58-adb0-071f355b8e0c",
      "metadata": {
        "id": "ccc6794b-ce1f-4a58-adb0-071f355b8e0c",
        "outputId": "e760e07c-6eb3-4f7f-9603-e249b78b29bd"
      },
      "outputs": [
        {
          "data": {
            "text/html": [
              "<div>\n",
              "<style scoped>\n",
              "    .dataframe tbody tr th:only-of-type {\n",
              "        vertical-align: middle;\n",
              "    }\n",
              "\n",
              "    .dataframe tbody tr th {\n",
              "        vertical-align: top;\n",
              "    }\n",
              "\n",
              "    .dataframe thead th {\n",
              "        text-align: right;\n",
              "    }\n",
              "</style>\n",
              "<table border=\"1\" class=\"dataframe\">\n",
              "  <thead>\n",
              "    <tr style=\"text-align: right;\">\n",
              "      <th></th>\n",
              "      <th>before_spr</th>\n",
              "      <th>after_spr</th>\n",
              "    </tr>\n",
              "  </thead>\n",
              "  <tbody>\n",
              "    <tr>\n",
              "      <th>0</th>\n",
              "      <td>10</td>\n",
              "      <td>0</td>\n",
              "    </tr>\n",
              "    <tr>\n",
              "      <th>1</th>\n",
              "      <td>7</td>\n",
              "      <td>1</td>\n",
              "    </tr>\n",
              "    <tr>\n",
              "      <th>2</th>\n",
              "      <td>20</td>\n",
              "      <td>7</td>\n",
              "    </tr>\n",
              "    <tr>\n",
              "      <th>3</th>\n",
              "      <td>14</td>\n",
              "      <td>2</td>\n",
              "    </tr>\n",
              "    <tr>\n",
              "      <th>4</th>\n",
              "      <td>14</td>\n",
              "      <td>3</td>\n",
              "    </tr>\n",
              "  </tbody>\n",
              "</table>\n",
              "</div>"
            ],
            "text/plain": [
              "   before_spr  after_spr\n",
              "0          10          0\n",
              "1           7          1\n",
              "2          20          7\n",
              "3          14          2\n",
              "4          14          3"
            ]
          },
          "execution_count": 44,
          "metadata": {},
          "output_type": "execute_result"
        }
      ],
      "source": [
        "import pandas as pd\n",
        "df = pd.read_csv(\"./data/insectsprays.csv\")\n",
        "df.head()"
      ]
    },
    {
      "cell_type": "markdown",
      "id": "95af2922-5538-4625-a640-a93b80ba9730",
      "metadata": {
        "id": "95af2922-5538-4625-a640-a93b80ba9730"
      },
      "source": [
        "### 문제 1\n",
        "- 표본평균 $\\overline{\\mu_{d}}$의 표본 평균을 구하시오. (반올림하여 소숫점 둘째 자리까지 계산)"
      ]
    },
    {
      "cell_type": "code",
      "execution_count": null,
      "id": "3d306ab6-1aad-42a7-8e7a-b8e667acfe13",
      "metadata": {
        "id": "3d306ab6-1aad-42a7-8e7a-b8e667acfe13",
        "outputId": "facb6695-cccc-43cd-92e9-6ca220b61485"
      },
      "outputs": [
        {
          "data": {
            "text/plain": [
              "-12.0"
            ]
          },
          "execution_count": 45,
          "metadata": {},
          "output_type": "execute_result"
        }
      ],
      "source": [
        "df['차이'] = df['after_spr']-df['before_spr']\n",
        "x = round(np.mean(df['차이']),2)\n",
        "x"
      ]
    },
    {
      "cell_type": "markdown",
      "id": "26443d65-f986-478e-88a6-178a8441b619",
      "metadata": {
        "id": "26443d65-f986-478e-88a6-178a8441b619"
      },
      "source": [
        "### 문제 2\n",
        "- 위의 가설을 검정하기 위한 검정통계량을 구하시오. (반올림하여 소숫점 둘째 자리까지 계산)"
      ]
    },
    {
      "cell_type": "code",
      "execution_count": null,
      "id": "ce726473-f83d-461c-a7fd-9ef0fb0a8267",
      "metadata": {
        "id": "ce726473-f83d-461c-a7fd-9ef0fb0a8267",
        "outputId": "dfd25717-26c3-4c77-b5bc-34bb159632c1"
      },
      "outputs": [
        {
          "data": {
            "text/plain": [
              "14.89"
            ]
          },
          "execution_count": 48,
          "metadata": {},
          "output_type": "execute_result"
        }
      ],
      "source": [
        "from scipy import stats\n",
        "t, p = stats.ttest_rel(df['before_spr'],df['after_spr'])\n",
        "round(t,2)"
      ]
    },
    {
      "cell_type": "markdown",
      "id": "40aa376e-fbbc-4ae8-9c18-269fb71e4505",
      "metadata": {
        "id": "40aa376e-fbbc-4ae8-9c18-269fb71e4505"
      },
      "source": [
        "### 문제 3.\n",
        "- 위의 통계량에 대한 p-값을 구하고 (반올림하여 소숫점 넷째 자리까지 계산), 유의수준 0.05하에서 가설검정의 결과를 채택/기각 중 하나로 선택하시오.\n",
        "    + p-value에 값에 따른 결괏값을 조건문(if-else)으로 구하세요.  "
      ]
    },
    {
      "cell_type": "code",
      "execution_count": null,
      "id": "f788c251-af30-439c-a3f3-2a0f66c732c7",
      "metadata": {
        "id": "f788c251-af30-439c-a3f3-2a0f66c732c7",
        "outputId": "a04af8c0-ceae-415f-a65f-0cc8144220f1"
      },
      "outputs": [
        {
          "name": "stdout",
          "output_type": "stream",
          "text": [
            "0.0\n",
            "귀무가설 기각\n"
          ]
        }
      ],
      "source": [
        "print(round(p,4))\n",
        "if p >= 0.05:\n",
        "    print('귀무가설 채택')\n",
        "else:\n",
        "    print('귀무가설 기각')"
      ]
    },
    {
      "cell_type": "markdown",
      "id": "00868629-7fb4-4459-bd45-e62c3345a41d",
      "metadata": {
        "id": "00868629-7fb4-4459-bd45-e62c3345a41d"
      },
      "source": [
        "## 독립표본 T 검정\n",
        "- 주어진 데이터(data/toothgrowth.csv)에는 기니피그 60마리의 치아 길이, 투여한 비타민 C 종류, 투여량이 저장되어 있다.  오렌지주스를 투여받은 기니피그의 치아 길이 평균이 아스코르브산을 투여받은 기니피그의 치아 길이 평균과 일치하는지 t-검정(Two Sample t-test)를 통해 답하고자 한다. 가설은 아래와 같다.\n",
        "- 가설검정\n",
        "    + 귀무가설 : 투여한 약제별 치아의 길이는 같다.\n",
        "    + 대립가설 : 투여한 약제별 치아의 길이는 같지 않다.\n",
        "- 데이터의 변수\n",
        "    + len : 치아의 길이\n",
        "    + supp : 투여한 약제(VC: 아스코르브산, OJ: 오렌지주스)\n",
        "    + does : 투여량\n",
        "- 단, 데이터의 각 변수들은 정규분포를 만족한다. (등분산성 검정 진행하세요~)\n",
        "- 문제 1: 표본평균 $\\overline{X_{OJ}}$, $\\overline{X_{VC}}$를 구하시오.\n",
        "- 문제 2: 위의 가설을 검정하기 위한 검정통계량을 구하시오. (반올림하여 소숫점 둘째 자리까지 계산)\n",
        "- 문제 3: 위의 통계량에 대한 p-값을 구하고 (반올림하여 소숫점 넷째 자리까지 계산), 유의수준 0.05하에서 가설검정의 결과를 채택/기각 중 하나로 선택하시오.\n",
        "  + p-value에 값에 따른 결괏값을 조건문(if-else)으로 구하세요."
      ]
    },
    {
      "cell_type": "markdown",
      "id": "2a96accd-742c-4b1a-b424-143252c1f3d9",
      "metadata": {
        "id": "2a96accd-742c-4b1a-b424-143252c1f3d9"
      },
      "source": [
        "### 데이터 불러오기"
      ]
    },
    {
      "cell_type": "code",
      "execution_count": null,
      "id": "5c30bee5-d02a-4a88-b6ea-3e7b41c29337",
      "metadata": {
        "id": "5c30bee5-d02a-4a88-b6ea-3e7b41c29337",
        "outputId": "3c259728-0a84-45aa-8bca-939079c63db8"
      },
      "outputs": [
        {
          "data": {
            "text/html": [
              "<div>\n",
              "<style scoped>\n",
              "    .dataframe tbody tr th:only-of-type {\n",
              "        vertical-align: middle;\n",
              "    }\n",
              "\n",
              "    .dataframe tbody tr th {\n",
              "        vertical-align: top;\n",
              "    }\n",
              "\n",
              "    .dataframe thead th {\n",
              "        text-align: right;\n",
              "    }\n",
              "</style>\n",
              "<table border=\"1\" class=\"dataframe\">\n",
              "  <thead>\n",
              "    <tr style=\"text-align: right;\">\n",
              "      <th></th>\n",
              "      <th>len</th>\n",
              "      <th>supp</th>\n",
              "      <th>dose</th>\n",
              "    </tr>\n",
              "  </thead>\n",
              "  <tbody>\n",
              "    <tr>\n",
              "      <th>0</th>\n",
              "      <td>4.2</td>\n",
              "      <td>VC</td>\n",
              "      <td>0.5</td>\n",
              "    </tr>\n",
              "    <tr>\n",
              "      <th>1</th>\n",
              "      <td>11.5</td>\n",
              "      <td>VC</td>\n",
              "      <td>0.5</td>\n",
              "    </tr>\n",
              "    <tr>\n",
              "      <th>2</th>\n",
              "      <td>7.3</td>\n",
              "      <td>VC</td>\n",
              "      <td>0.5</td>\n",
              "    </tr>\n",
              "    <tr>\n",
              "      <th>3</th>\n",
              "      <td>5.8</td>\n",
              "      <td>VC</td>\n",
              "      <td>0.5</td>\n",
              "    </tr>\n",
              "    <tr>\n",
              "      <th>4</th>\n",
              "      <td>6.4</td>\n",
              "      <td>VC</td>\n",
              "      <td>0.5</td>\n",
              "    </tr>\n",
              "  </tbody>\n",
              "</table>\n",
              "</div>"
            ],
            "text/plain": [
              "    len supp  dose\n",
              "0   4.2   VC   0.5\n",
              "1  11.5   VC   0.5\n",
              "2   7.3   VC   0.5\n",
              "3   5.8   VC   0.5\n",
              "4   6.4   VC   0.5"
            ]
          },
          "execution_count": 115,
          "metadata": {},
          "output_type": "execute_result"
        }
      ],
      "source": [
        "import pandas as pd\n",
        "df = pd.read_csv(\"./data/toothgrowth.csv\")\n",
        "df.head()"
      ]
    },
    {
      "cell_type": "markdown",
      "id": "cd8e7c64-9bcc-4da8-aaa8-76972177bb55",
      "metadata": {
        "id": "cd8e7c64-9bcc-4da8-aaa8-76972177bb55"
      },
      "source": [
        "### 등분산성 검정\n",
        "- 독립표본 T-검정은 정규성 검정 뿐만 아니라, 두 그룹이 등분산성을 띠는지 확인하는 작업 필요\n",
        "- Levene 검정을 사용한 등분산성 검정이 선행되어야 함\n",
        "  + stats.levene() 함수 활용. 라이브러리 링크 : https://docs.scipy.org/doc/scipy/reference/generated/scipy.stats.levene.html\n",
        "- 가설설정\n",
        "  + 귀무가설  등분산 이다.\n",
        "  + 대립가설 : 등분산 아니다.\n",
        "- pvalue 값 :"
      ]
    },
    {
      "cell_type": "code",
      "execution_count": null,
      "id": "78950bc2-4f10-4a1a-8079-b196c6d9d6dd",
      "metadata": {
        "id": "78950bc2-4f10-4a1a-8079-b196c6d9d6dd",
        "outputId": "a939b1fe-8fad-4365-aed6-16c303ca8c5e"
      },
      "outputs": [
        {
          "data": {
            "text/plain": [
              "LeveneResult(statistic=1.2135720656945064, pvalue=0.2751764616144052)"
            ]
          },
          "execution_count": 120,
          "metadata": {},
          "output_type": "execute_result"
        }
      ],
      "source": [
        "from scipy import stats\n",
        "stats.levene(df.loc[df['supp'] == \"VC\", 'len'], df.loc[df['supp'] == \"OJ\", 'len'])"
      ]
    },
    {
      "cell_type": "markdown",
      "id": "ba014b87-1a6e-47c4-9f67-24100fba3d99",
      "metadata": {
        "id": "ba014b87-1a6e-47c4-9f67-24100fba3d99"
      },
      "source": [
        "### 문제 1\n",
        "- 표본평균 $\\overline{X_{OJ}}$, $\\overline{X_{VC}}$를 구하시오."
      ]
    },
    {
      "cell_type": "code",
      "execution_count": null,
      "id": "295722d0-aa04-4db6-aaca-8940851f84b8",
      "metadata": {
        "id": "295722d0-aa04-4db6-aaca-8940851f84b8",
        "outputId": "44bb77b2-9f0e-4bb2-ca10-ecb895a7a4ba"
      },
      "outputs": [
        {
          "data": {
            "text/plain": [
              "20.66"
            ]
          },
          "execution_count": 116,
          "metadata": {},
          "output_type": "execute_result"
        }
      ],
      "source": [
        "OJ_result = df.loc[df['supp'] =='OJ','len'].mean()\n",
        "round(OJ_result, 2)"
      ]
    },
    {
      "cell_type": "code",
      "execution_count": null,
      "id": "c63c49d3-3bc3-49ec-b4c2-bf812c5bc75c",
      "metadata": {
        "id": "c63c49d3-3bc3-49ec-b4c2-bf812c5bc75c",
        "outputId": "d4aca332-b9c2-467f-f7f9-c53910c7c33c"
      },
      "outputs": [
        {
          "data": {
            "text/plain": [
              "16.96"
            ]
          },
          "execution_count": 117,
          "metadata": {},
          "output_type": "execute_result"
        }
      ],
      "source": [
        "VC_result = df.loc[df['supp'] =='VC','len'].mean()\n",
        "round(VC_result, 2)"
      ]
    },
    {
      "cell_type": "markdown",
      "id": "eda01bba-7b43-4297-854c-972d0a3be572",
      "metadata": {
        "id": "eda01bba-7b43-4297-854c-972d0a3be572"
      },
      "source": [
        "### 문제 2\n",
        "- 위의 가설을 검정하기 위한 검정통계량을 구하시오. (반올림하여 소숫점 둘째 자리까지 계산)"
      ]
    },
    {
      "cell_type": "code",
      "execution_count": null,
      "id": "c4cfef88-6826-480b-9cdf-8f33d518b296",
      "metadata": {
        "id": "c4cfef88-6826-480b-9cdf-8f33d518b296",
        "outputId": "52f13ed7-bd15-495b-a213-8f69c7f8e9c2"
      },
      "outputs": [
        {
          "data": {
            "text/plain": [
              "1.92"
            ]
          },
          "execution_count": 118,
          "metadata": {},
          "output_type": "execute_result"
        }
      ],
      "source": [
        "from scipy import stats\n",
        "t, p =stats.ttest_ind(df.loc[df['supp'] =='OJ','len'],df.loc[df['supp'] =='VC','len'])\n",
        "round(t,2)"
      ]
    },
    {
      "cell_type": "markdown",
      "id": "d5cfcd7a-8ea7-4b02-b8e9-dafca2d9b8a7",
      "metadata": {
        "id": "d5cfcd7a-8ea7-4b02-b8e9-dafca2d9b8a7"
      },
      "source": [
        "### 문제 3.\n",
        "- 위의 통계량에 대한 p-값을 구하고 (반올림하여 소숫점 넷째 자리까지 계산), 유의수준 0.05하에서 가설검정의 결과를 채택/기각 중 하나로 선택하시오.\n",
        "    + p-value에 값에 따른 결괏값을 조건문(if-else)으로 구하세요."
      ]
    },
    {
      "cell_type": "code",
      "execution_count": null,
      "id": "8b9759bc-64bc-4847-a8f8-da7d18291c3e",
      "metadata": {
        "id": "8b9759bc-64bc-4847-a8f8-da7d18291c3e",
        "outputId": "2424f2fc-9fbe-4372-e573-4714cca88fb1"
      },
      "outputs": [
        {
          "name": "stdout",
          "output_type": "stream",
          "text": [
            "0.0604\n",
            "귀무가설 채택\n"
          ]
        }
      ],
      "source": [
        "print(round(p,4))\n",
        "if p >= 0.05:\n",
        "    print('귀무가설 채택')\n",
        "else:\n",
        "    print('귀무가설 기각')"
      ]
    },
    {
      "cell_type": "markdown",
      "id": "e848b919-e0d9-44ae-9745-5f05621f6cf0",
      "metadata": {
        "id": "e848b919-e0d9-44ae-9745-5f05621f6cf0"
      },
      "source": [
        "## 6회 기출문제\n",
        "- 주어진 데이터를 이용하여 항암제를 투여 받은 환자들의 부작용 분포와 감기약을 투여 받은 환자들의 부작용 분포간 차이가 있는지 확인하시오.\n",
        "- 감기약 투여 환자들의 부작용 발생 비율\n",
        "    + 아픔 5% / 조금아픔 10% / 속쓰림 15% / 무증상 70%\n",
        "- 항암제 투여 환자들의 관찰된 부작용"
      ]
    },
    {
      "cell_type": "markdown",
      "id": "2abad9f8-2a7a-4a81-8209-b8949b2eb843",
      "metadata": {
        "id": "2abad9f8-2a7a-4a81-8209-b8949b2eb843"
      },
      "source": [
        "### 데이터 불러오기"
      ]
    },
    {
      "cell_type": "code",
      "execution_count": null,
      "id": "a86821b6-8c77-4a2e-adf0-e49882ee9c09",
      "metadata": {
        "id": "a86821b6-8c77-4a2e-adf0-e49882ee9c09",
        "outputId": "cbb4b76d-15be-4765-a4ce-b933f09692ec"
      },
      "outputs": [
        {
          "name": "stdout",
          "output_type": "stream",
          "text": [
            "['무증상', '속쓰림', '무증상', '무증상', '조금아픔', '무증상', '조금아픔', '무증상', '조금아픔', '무증상', '아픔', '무증상', '조금아픔', '무증상', '아픔', '무증상', '속쓰림', '무증상', '아픔', '무증상']\n"
          ]
        }
      ],
      "source": [
        "import pandas as pd\n",
        "\n",
        "df = pd.read_csv(\"data/data_6_3_1.csv\")\n",
        "print(df['항암제'].values.tolist())"
      ]
    },
    {
      "cell_type": "markdown",
      "id": "90fdf565-2e3a-4dd0-8480-9c3ec5484e16",
      "metadata": {
        "id": "90fdf565-2e3a-4dd0-8480-9c3ec5484e16"
      },
      "source": [
        "### 문제 1. 항암제 투여 환자들 중 '무증상' 비율을 0과 1사이로 구하시오."
      ]
    },
    {
      "cell_type": "code",
      "execution_count": null,
      "id": "f0775c44-e6f7-41e0-be97-84e0e6957f62",
      "metadata": {
        "id": "f0775c44-e6f7-41e0-be97-84e0e6957f62",
        "outputId": "de9d675b-6c5b-406c-8b8c-1c5a512d7dc8"
      },
      "outputs": [
        {
          "data": {
            "text/plain": [
              "항암제\n",
              "무증상     0.55\n",
              "조금아픔    0.20\n",
              "아픔      0.15\n",
              "속쓰림     0.10\n",
              "Name: proportion, dtype: float64"
            ]
          },
          "execution_count": 104,
          "metadata": {},
          "output_type": "execute_result"
        }
      ],
      "source": [
        "df['항암제'].value_counts(normalize=True)"
      ]
    },
    {
      "cell_type": "code",
      "execution_count": null,
      "id": "7d494964-6b58-49e2-9b42-4ddff8a5c5b1",
      "metadata": {
        "id": "7d494964-6b58-49e2-9b42-4ddff8a5c5b1",
        "outputId": "e0c4fcdd-cf2f-4eab-f96d-9491ab027303"
      },
      "outputs": [
        {
          "data": {
            "text/plain": [
              "0.55"
            ]
          },
          "execution_count": 94,
          "metadata": {},
          "output_type": "execute_result"
        }
      ],
      "source": [
        "# 방법 1\n",
        "len(df.loc[df['항암제']=='무증상'])/len(df)"
      ]
    },
    {
      "cell_type": "code",
      "execution_count": null,
      "id": "8c34a9c7-0977-4e09-be2c-d6a756af562b",
      "metadata": {
        "id": "8c34a9c7-0977-4e09-be2c-d6a756af562b",
        "outputId": "38f8b2a6-452b-4263-cc29-c1fea7073630"
      },
      "outputs": [
        {
          "data": {
            "text/plain": [
              "0.55"
            ]
          },
          "execution_count": 107,
          "metadata": {},
          "output_type": "execute_result"
        }
      ],
      "source": [
        "# 방법 2\n",
        "result = df.loc[:,'항암제'].value_counts(normalize=True)\n",
        "result.iloc[0]"
      ]
    },
    {
      "cell_type": "markdown",
      "id": "f2c260ff-0abf-4aa2-9b55-9e2a96d8d167",
      "metadata": {
        "id": "f2c260ff-0abf-4aa2-9b55-9e2a96d8d167"
      },
      "source": [
        "### 문제 2. 검정통계량\n",
        "- 감기약의 부작용 비율과 항암제의 관찰 값이 통계적으로 유의미하게 차이가 있는지 카이제곱 검정을 이용하여 검정통계량을 구하시오. (적합도 검정)\n",
        "- 가설검정\n",
        "    + 귀무가설 : 감기약의 부작용과 항암제의 부작용은 동일하다.\n",
        "    + 대립가설 : 감기약의 부작용과 항암제의 부작용은 다르다."
      ]
    },
    {
      "cell_type": "code",
      "execution_count": null,
      "id": "1bedc64f-0794-46aa-b32d-e3d9e7ab5bb5",
      "metadata": {
        "id": "1bedc64f-0794-46aa-b32d-e3d9e7ab5bb5",
        "outputId": "1390a667-6b56-438d-962d-9d409b3d6296"
      },
      "outputs": [
        {
          "data": {
            "text/plain": [
              "항암제\n",
              "무증상     11\n",
              "조금아픔     4\n",
              "아픔       3\n",
              "속쓰림      2\n",
              "Name: count, dtype: int64"
            ]
          },
          "execution_count": 108,
          "metadata": {},
          "output_type": "execute_result"
        }
      ],
      "source": [
        "df['항암제'].value_counts()"
      ]
    },
    {
      "cell_type": "code",
      "execution_count": null,
      "id": "e9f79785-2de4-4f4a-b62b-8a229f8e7387",
      "metadata": {
        "id": "e9f79785-2de4-4f4a-b62b-8a229f8e7387",
        "outputId": "918d5dbd-6cc8-4e27-ee95-ac80b17d5497"
      },
      "outputs": [
        {
          "name": "stdout",
          "output_type": "stream",
          "text": [
            "[11, 4, 3, 2] [14.0, 2.0, 1.0, 3.0]\n"
          ]
        }
      ],
      "source": [
        "total = len(df['항암제'])\n",
        "ratios = [0.7, 0.1, 0.05, 0.15] # 무증상, 조금아픔, 아픔, 속쓰림\n",
        "val1 = df['항암제'].value_counts().to_list() # 무증상, 조금아픔, 아픔, 속쓰림\n",
        "val2 = [ratios[0] * total, ratios[1] * total, ratios[2] * total, ratios[3] * total]\n",
        "print(val1, val2) # 두 비율 비교"
      ]
    },
    {
      "cell_type": "code",
      "execution_count": null,
      "id": "3b0b266a-a292-4f28-a9da-0757c9a2840c",
      "metadata": {
        "id": "3b0b266a-a292-4f28-a9da-0757c9a2840c",
        "outputId": "4fb79d39-d13b-4743-f2d0-e827f272ca09"
      },
      "outputs": [
        {
          "name": "stdout",
          "output_type": "stream",
          "text": [
            "6.976190476190475\n"
          ]
        }
      ],
      "source": [
        "import scipy.stats as stats\n",
        "statistic, pvalue = stats.chisquare(val1, val2)\n",
        "print(statistic)"
      ]
    },
    {
      "cell_type": "markdown",
      "id": "d49c797e-162b-4935-a9fa-3f2bacfddbb2",
      "metadata": {
        "id": "d49c797e-162b-4935-a9fa-3f2bacfddbb2"
      },
      "source": [
        "### 문제 3. P-value 구하기\n",
        "- p-value 값 구하기"
      ]
    },
    {
      "cell_type": "code",
      "execution_count": null,
      "id": "3aab8110-5dbb-48cd-9f17-3346f5e59412",
      "metadata": {
        "id": "3aab8110-5dbb-48cd-9f17-3346f5e59412",
        "outputId": "77616848-dfc4-42fa-d976-d0e10308e322"
      },
      "outputs": [
        {
          "name": "stdout",
          "output_type": "stream",
          "text": [
            "0.07266054733847582\n"
          ]
        }
      ],
      "source": [
        "print(pvalue)"
      ]
    }
  ],
  "metadata": {
    "kernelspec": {
      "display_name": "Python 3 (ipykernel)",
      "language": "python",
      "name": "python3"
    },
    "language_info": {
      "codemirror_mode": {
        "name": "ipython",
        "version": 3
      },
      "file_extension": ".py",
      "mimetype": "text/x-python",
      "name": "python",
      "nbconvert_exporter": "python",
      "pygments_lexer": "ipython3",
      "version": "3.12.1"
    },
    "colab": {
      "provenance": [],
      "include_colab_link": true
    }
  },
  "nbformat": 4,
  "nbformat_minor": 5
}