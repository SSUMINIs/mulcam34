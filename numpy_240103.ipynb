{
  "cells": [
    {
      "cell_type": "markdown",
      "metadata": {
        "id": "view-in-github",
        "colab_type": "text"
      },
      "source": [
        "<a href=\"https://colab.research.google.com/github/SSUMINIs/mulcam34/blob/main/numpy_240103.ipynb\" target=\"_parent\"><img src=\"https://colab.research.google.com/assets/colab-badge.svg\" alt=\"Open In Colab\"/></a>"
      ]
    },
    {
      "cell_type": "code",
      "execution_count": null,
      "id": "ad1611ef-72c4-4588-8d12-d28acbab0cea",
      "metadata": {
        "id": "ad1611ef-72c4-4588-8d12-d28acbab0cea",
        "outputId": "d3b30c4e-3db6-4d63-885d-e33bb2827087"
      },
      "outputs": [
        {
          "name": "stdout",
          "output_type": "stream",
          "text": [
            "1.26.3\n"
          ]
        }
      ],
      "source": [
        "import numpy as np\n",
        "print(np.__version__)"
      ]
    },
    {
      "cell_type": "code",
      "execution_count": null,
      "id": "bacfa95e-b7f0-4177-9266-0a6af380d243",
      "metadata": {
        "id": "bacfa95e-b7f0-4177-9266-0a6af380d243"
      },
      "outputs": [],
      "source": [
        "# !pip install numpy #바로 설치 가능"
      ]
    },
    {
      "cell_type": "code",
      "execution_count": null,
      "id": "e128a543-f242-4167-9ad1-ce616e3c0536",
      "metadata": {
        "id": "e128a543-f242-4167-9ad1-ce616e3c0536",
        "outputId": "59f0188f-5498-4d83-9312-ea033b6546d7"
      },
      "outputs": [
        {
          "data": {
            "text/plain": [
              "[1, 2, 3, 4, 3, 4, 5, 6]"
            ]
          },
          "execution_count": 17,
          "metadata": {},
          "output_type": "execute_result"
        }
      ],
      "source": [
        "num1 = [1,2,3,4]\n",
        "num2 = [3,4,5,6]\n",
        "num1 + num2"
      ]
    },
    {
      "cell_type": "code",
      "execution_count": null,
      "id": "5eb695e9-1d54-47df-bd78-acefa957d6ab",
      "metadata": {
        "id": "5eb695e9-1d54-47df-bd78-acefa957d6ab",
        "outputId": "d6d039bf-516d-4f1f-c314-6dbdb7d93ffe"
      },
      "outputs": [
        {
          "data": {
            "text/plain": [
              "array([ 4,  6,  8, 10])"
            ]
          },
          "execution_count": 18,
          "metadata": {},
          "output_type": "execute_result"
        }
      ],
      "source": [
        "arr1 = np.array(num1)\n",
        "arr2 = np.array(num2)\n",
        "arr1 + arr2"
      ]
    },
    {
      "cell_type": "code",
      "execution_count": null,
      "id": "133ba7fa-6d98-4bb2-ae8a-43eb12df769a",
      "metadata": {
        "id": "133ba7fa-6d98-4bb2-ae8a-43eb12df769a"
      },
      "outputs": [],
      "source": []
    },
    {
      "cell_type": "code",
      "execution_count": null,
      "id": "81ba98c9-340a-431c-851e-773471ead9c7",
      "metadata": {
        "id": "81ba98c9-340a-431c-851e-773471ead9c7",
        "outputId": "bb85b096-ece6-4921-e037-82df5148cbef"
      },
      "outputs": [
        {
          "data": {
            "text/plain": [
              "array([0, 1, 2, 3, 4, 5])"
            ]
          },
          "execution_count": 4,
          "metadata": {},
          "output_type": "execute_result"
        }
      ],
      "source": [
        "data1 = [0,1,2,3,4,5]\n",
        "a1 = np.array(data1)\n",
        "a1"
      ]
    },
    {
      "cell_type": "code",
      "execution_count": null,
      "id": "b5ec0d15-f88e-4902-b331-52bd0136b48e",
      "metadata": {
        "id": "b5ec0d15-f88e-4902-b331-52bd0136b48e",
        "outputId": "5eff1066-4c05-4a83-c0c5-280075f2a1db"
      },
      "outputs": [
        {
          "data": {
            "text/plain": [
              "dtype('int32')"
            ]
          },
          "execution_count": 6,
          "metadata": {},
          "output_type": "execute_result"
        }
      ],
      "source": [
        "a1.dtype #python int #numpy int8, int16, int32, int64 ->메모리관리와 연관"
      ]
    },
    {
      "cell_type": "code",
      "execution_count": null,
      "id": "50c14104-1af1-4c79-a9f9-c523108d8a04",
      "metadata": {
        "id": "50c14104-1af1-4c79-a9f9-c523108d8a04",
        "outputId": "f5d2e051-181d-4add-e63f-783201b633f3"
      },
      "outputs": [
        {
          "data": {
            "text/plain": [
              "dtype('float64')"
            ]
          },
          "execution_count": 5,
          "metadata": {},
          "output_type": "execute_result"
        }
      ],
      "source": [
        "np.array([0.5,2,0.01,8]).dtype"
      ]
    },
    {
      "cell_type": "markdown",
      "id": "8e2ab7d2-9ab1-4002-9c7b-02a490891d6a",
      "metadata": {
        "id": "8e2ab7d2-9ab1-4002-9c7b-02a490891d6a"
      },
      "source": [
        "# Numpy 배열생성\n",
        "- 1차원, 2차원, 3차원.. 배열생성"
      ]
    },
    {
      "cell_type": "code",
      "execution_count": null,
      "id": "5d4ad6ed-292b-42cd-ab99-908c15d1fd3e",
      "metadata": {
        "id": "5d4ad6ed-292b-42cd-ab99-908c15d1fd3e",
        "outputId": "678510a7-0848-4e72-e5fb-31ca05ee87a1"
      },
      "outputs": [
        {
          "data": {
            "text/plain": [
              "array([0, 2, 4, 6, 8])"
            ]
          },
          "execution_count": 8,
          "metadata": {},
          "output_type": "execute_result"
        }
      ],
      "source": [
        "np.arange(0,10,2)"
      ]
    },
    {
      "cell_type": "code",
      "execution_count": null,
      "id": "a731d711-a8d0-4c3c-8f3e-ccd1ed934560",
      "metadata": {
        "id": "a731d711-a8d0-4c3c-8f3e-ccd1ed934560",
        "outputId": "138c278e-4fc0-48ec-93c5-05f4795f8161"
      },
      "outputs": [
        {
          "data": {
            "text/plain": [
              "array([0, 1, 2, 3, 4, 5, 6, 7, 8, 9])"
            ]
          },
          "execution_count": 11,
          "metadata": {},
          "output_type": "execute_result"
        }
      ],
      "source": [
        "np.arange(10) #1차원 배열을 2차원 또는 3차원으로 변경"
      ]
    },
    {
      "cell_type": "code",
      "execution_count": null,
      "id": "aa760236-1e7a-4c78-bfa7-1d18a135e3d5",
      "metadata": {
        "id": "aa760236-1e7a-4c78-bfa7-1d18a135e3d5",
        "outputId": "54614a11-4240-4c4f-da6a-d69fa8de4925"
      },
      "outputs": [
        {
          "data": {
            "text/plain": [
              "array([[ 0,  1,  2],\n",
              "       [ 3,  4,  5],\n",
              "       [ 6,  7,  8],\n",
              "       [ 9, 10, 11]])"
            ]
          },
          "execution_count": 13,
          "metadata": {},
          "output_type": "execute_result"
        }
      ],
      "source": [
        "np.arange(12).reshape(4,3)"
      ]
    },
    {
      "cell_type": "code",
      "execution_count": null,
      "id": "6d5e198d-344e-4f6b-abec-6edd80aef5f5",
      "metadata": {
        "id": "6d5e198d-344e-4f6b-abec-6edd80aef5f5",
        "outputId": "7454f325-f7da-45bf-820a-2821a7267db2"
      },
      "outputs": [
        {
          "data": {
            "text/plain": [
              "array([[[ 0,  1,  2],\n",
              "        [ 3,  4,  5]],\n",
              "\n",
              "       [[ 6,  7,  8],\n",
              "        [ 9, 10, 11]]])"
            ]
          },
          "execution_count": 15,
          "metadata": {},
          "output_type": "execute_result"
        }
      ],
      "source": [
        "np.arange(12).reshape(2,2,3)"
      ]
    },
    {
      "cell_type": "code",
      "execution_count": null,
      "id": "75a8c7a1-7edd-4c15-9b6c-883f43e524b7",
      "metadata": {
        "id": "75a8c7a1-7edd-4c15-9b6c-883f43e524b7",
        "outputId": "9d0a6d14-9299-46a1-c1bd-aba85234626f"
      },
      "outputs": [
        {
          "data": {
            "text/plain": [
              "(2, 2, 3)"
            ]
          },
          "execution_count": 16,
          "metadata": {},
          "output_type": "execute_result"
        }
      ],
      "source": [
        "b1 = np.arange(12).reshape(2,2,3)\n",
        "b1.shape"
      ]
    },
    {
      "cell_type": "code",
      "execution_count": null,
      "id": "6c3ea779-964a-4eea-8c4c-f53c878f61e6",
      "metadata": {
        "id": "6c3ea779-964a-4eea-8c4c-f53c878f61e6"
      },
      "outputs": [],
      "source": [
        "# 범위의 시작과 끝 정하기 배열 생성"
      ]
    },
    {
      "cell_type": "code",
      "execution_count": null,
      "id": "498b1215-12f4-45cd-a67f-3113f1a175ac",
      "metadata": {
        "id": "498b1215-12f4-45cd-a67f-3113f1a175ac",
        "outputId": "ad194094-c30e-4929-c4b1-49a2a455395f"
      },
      "outputs": [
        {
          "data": {
            "text/plain": [
              "array([ 0. ,  2.5,  5. ,  7.5, 10. ])"
            ]
          },
          "execution_count": 22,
          "metadata": {},
          "output_type": "execute_result"
        }
      ],
      "source": [
        "np.linspace(0,10,5) # (시작, 끝, 원소의 개수[균등]) 0과 10사이에 숫자가 5개 나오게"
      ]
    },
    {
      "cell_type": "code",
      "execution_count": null,
      "id": "0d12bbe1-e660-4c10-9dbd-704b45904216",
      "metadata": {
        "id": "0d12bbe1-e660-4c10-9dbd-704b45904216",
        "outputId": "e7c770b0-0096-44bc-e77c-73b9d393a54e"
      },
      "outputs": [
        {
          "data": {
            "text/plain": [
              "array([0.        , 0.16534698, 0.33069396, 0.49604095, 0.66138793,\n",
              "       0.82673491, 0.99208189, 1.15742887, 1.32277585, 1.48812284,\n",
              "       1.65346982, 1.8188168 , 1.98416378, 2.14951076, 2.31485774,\n",
              "       2.48020473, 2.64555171, 2.81089869, 2.97624567, 3.14159265])"
            ]
          },
          "execution_count": 25,
          "metadata": {},
          "output_type": "execute_result"
        }
      ],
      "source": [
        "np.linspace(0,np.pi,20)"
      ]
    },
    {
      "cell_type": "code",
      "execution_count": null,
      "id": "8e935f91-c941-4657-a47f-ebb3004f1a4d",
      "metadata": {
        "id": "8e935f91-c941-4657-a47f-ebb3004f1a4d",
        "outputId": "a62f141f-3f96-4ccf-cde1-195abf13b7b0"
      },
      "outputs": [
        {
          "data": {
            "text/plain": [
              "array([[0., 0.],\n",
              "       [0., 0.]])"
            ]
          },
          "execution_count": 28,
          "metadata": {},
          "output_type": "execute_result"
        }
      ],
      "source": [
        "np.zeros((2,2))"
      ]
    },
    {
      "cell_type": "code",
      "execution_count": null,
      "id": "14b853c2-2778-470c-98f4-77187fd837ad",
      "metadata": {
        "id": "14b853c2-2778-470c-98f4-77187fd837ad",
        "outputId": "0c0ec32a-baa8-4c11-ef3a-758eb2d25a7c"
      },
      "outputs": [
        {
          "data": {
            "text/plain": [
              "array([1., 1., 1., 1., 1., 1., 1., 1., 1., 1.])"
            ]
          },
          "execution_count": 31,
          "metadata": {},
          "output_type": "execute_result"
        }
      ],
      "source": [
        "np.ones(10)"
      ]
    },
    {
      "cell_type": "code",
      "execution_count": null,
      "id": "e15a0632-cf6c-4863-8572-1302e71b5f38",
      "metadata": {
        "id": "e15a0632-cf6c-4863-8572-1302e71b5f38",
        "outputId": "14fc7f3a-66a5-43c7-deff-09a031cf931f"
      },
      "outputs": [
        {
          "data": {
            "text/plain": [
              "array([[1., 1., 1.],\n",
              "       [1., 1., 1.],\n",
              "       [1., 1., 1.]])"
            ]
          },
          "execution_count": 32,
          "metadata": {},
          "output_type": "execute_result"
        }
      ],
      "source": [
        "np.ones((3,3))"
      ]
    },
    {
      "cell_type": "code",
      "execution_count": null,
      "id": "8e27ceec-78c4-4243-b9ef-818c02ed4831",
      "metadata": {
        "id": "8e27ceec-78c4-4243-b9ef-818c02ed4831",
        "outputId": "5157d8e4-33ff-4606-a7ec-507af38f812d"
      },
      "outputs": [
        {
          "data": {
            "text/plain": [
              "array([[1., 0., 0.],\n",
              "       [0., 1., 0.],\n",
              "       [0., 0., 1.]])"
            ]
          },
          "execution_count": 34,
          "metadata": {},
          "output_type": "execute_result"
        }
      ],
      "source": [
        "#단위 행렬\n",
        "arr_I = np.eye(3)\n",
        "arr_I"
      ]
    },
    {
      "cell_type": "code",
      "execution_count": null,
      "id": "fff6708c-ee32-42fa-9be2-516a901704dc",
      "metadata": {
        "id": "fff6708c-ee32-42fa-9be2-516a901704dc",
        "outputId": "ced9f8d7-4b23-422f-c848-2f7523d72be4"
      },
      "outputs": [
        {
          "data": {
            "text/plain": [
              "(3, 3)"
            ]
          },
          "execution_count": 35,
          "metadata": {},
          "output_type": "execute_result"
        }
      ],
      "source": [
        "arr_I.shape"
      ]
    },
    {
      "cell_type": "code",
      "execution_count": null,
      "id": "c573c6ff-2612-43fe-a272-1f03202b6ea6",
      "metadata": {
        "id": "c573c6ff-2612-43fe-a272-1f03202b6ea6",
        "outputId": "49f01ba0-4a2c-4a74-eca0-936907c37dc0"
      },
      "outputs": [
        {
          "data": {
            "text/plain": [
              "array(['1.5', '0.62'], dtype='<U4')"
            ]
          },
          "execution_count": 37,
          "metadata": {},
          "output_type": "execute_result"
        }
      ],
      "source": [
        "np.array(['1.5','0.62'])"
      ]
    },
    {
      "cell_type": "code",
      "execution_count": null,
      "id": "64ebb4a1-74aa-48e3-aebf-4eecdfb7b659",
      "metadata": {
        "id": "64ebb4a1-74aa-48e3-aebf-4eecdfb7b659",
        "outputId": "8642f5c8-e3fa-409e-87f7-f59f7d24a5e3"
      },
      "outputs": [
        {
          "data": {
            "text/plain": [
              "dtype('float64')"
            ]
          },
          "execution_count": 40,
          "metadata": {},
          "output_type": "execute_result"
        }
      ],
      "source": [
        "#astype() #판다스에서 사용가능\n",
        "arr = np.array(['1.5','0.62'])\n",
        "num_arr = arr.astype(float)\n",
        "num_arr.dtype"
      ]
    },
    {
      "cell_type": "code",
      "execution_count": null,
      "id": "ce39e328-9934-4637-b6d1-e73952ace4ee",
      "metadata": {
        "id": "ce39e328-9934-4637-b6d1-e73952ace4ee",
        "outputId": "239a4315-4eb0-448b-a05e-cc951d1328f3"
      },
      "outputs": [
        {
          "data": {
            "text/plain": [
              "array([1.5 , 0.62])"
            ]
          },
          "execution_count": 6,
          "metadata": {},
          "output_type": "execute_result"
        }
      ],
      "source": [
        "np.array(['1.5','0.62'],dtype=float)"
      ]
    },
    {
      "cell_type": "code",
      "execution_count": null,
      "id": "a1d943a3-c54c-430c-8826-74992b47c043",
      "metadata": {
        "id": "a1d943a3-c54c-430c-8826-74992b47c043",
        "outputId": "7a335d80-a155-4924-fa81-6db9f835e215"
      },
      "outputs": [
        {
          "data": {
            "text/plain": [
              "array([10, 21,  0,  4,  5])"
            ]
          },
          "execution_count": 7,
          "metadata": {},
          "output_type": "execute_result"
        }
      ],
      "source": [
        "num_f1 = np.array([10,21,0.549,4.75,5.98])\n",
        "num_f1 = num_f1.astype(int)\n",
        "num_f1\n",
        "#값이 유실됨. 일치시키고 싶으면 int로 바꾸는거보다, float로 변경"
      ]
    },
    {
      "cell_type": "code",
      "execution_count": null,
      "id": "30347b05-3b24-4c72-9664-dd4b2131c684",
      "metadata": {
        "id": "30347b05-3b24-4c72-9664-dd4b2131c684",
        "outputId": "b0eb3ac6-f394-4a90-9c33-42669be59fb8"
      },
      "outputs": [
        {
          "data": {
            "text/plain": [
              "array([[0.82484637, 0.81334983, 0.56091005],\n",
              "       [0.91856595, 0.17480215, 0.39500014]])"
            ]
          },
          "execution_count": 15,
          "metadata": {},
          "output_type": "execute_result"
        }
      ],
      "source": [
        "#난수 무작위로 숫자를 추출한다\n",
        "np.random.rand(2,3) #0~1사이의 실수 난수를 갖음(배열의 크기)"
      ]
    },
    {
      "cell_type": "code",
      "execution_count": null,
      "id": "71636933-e632-4ec4-bf67-49dbd8c025eb",
      "metadata": {
        "id": "71636933-e632-4ec4-bf67-49dbd8c025eb",
        "outputId": "89014190-9aa5-427b-9f2f-ae2763ba92a3"
      },
      "outputs": [
        {
          "data": {
            "text/plain": [
              "array([96,  8, 28,  4, 27, 63, 17, 80, 50, 10])"
            ]
          },
          "execution_count": 16,
          "metadata": {},
          "output_type": "execute_result"
        }
      ],
      "source": [
        "np.random.randint(1,100,10) #(처음, 끝범위,원소개수)"
      ]
    },
    {
      "cell_type": "code",
      "execution_count": null,
      "id": "e715638d-b56b-4246-9f89-7fb17c416771",
      "metadata": {
        "id": "e715638d-b56b-4246-9f89-7fb17c416771",
        "outputId": "5d14cc08-1768-48cd-977a-3486456e5f61"
      },
      "outputs": [
        {
          "data": {
            "text/plain": [
              "array([20, 46,  7,  5, 31, 22])"
            ]
          },
          "execution_count": 19,
          "metadata": {},
          "output_type": "execute_result"
        }
      ],
      "source": [
        "#로또 번호 생성기\n",
        "np.random.randint(1,50,6)"
      ]
    },
    {
      "cell_type": "code",
      "execution_count": null,
      "id": "279da06c-d72d-41af-b306-3cb19c432a2e",
      "metadata": {
        "id": "279da06c-d72d-41af-b306-3cb19c432a2e",
        "outputId": "e7986aa7-d36a-4de3-db0b-d0a57cab66e1"
      },
      "outputs": [
        {
          "name": "stdout",
          "output_type": "stream",
          "text": [
            "[27, 37, 2, 1, 23, 12]\n"
          ]
        }
      ],
      "source": [
        "import random\n",
        "lotto = []\n",
        "num = np.random.randint(1,45)\n",
        "\n",
        "for i in range(6):\n",
        "    while num in lotto:\n",
        "        num = np.random.randint(1,45)\n",
        "    lotto.append(num)\n",
        "print(lotto)"
      ]
    },
    {
      "cell_type": "code",
      "execution_count": null,
      "id": "ec647b9a-278c-4c63-8183-68ca03602571",
      "metadata": {
        "id": "ec647b9a-278c-4c63-8183-68ca03602571",
        "outputId": "42519a66-cfce-4085-942e-2a4b445b8209"
      },
      "outputs": [
        {
          "data": {
            "text/plain": [
              "[21, 8, 7, 17, 37, 23]"
            ]
          },
          "execution_count": 96,
          "metadata": {},
          "output_type": "execute_result"
        }
      ],
      "source": [
        "import random\n",
        "l_num = list(range(1,46))\n",
        "random.sample(l_num, 6)"
      ]
    },
    {
      "cell_type": "code",
      "execution_count": null,
      "id": "7266894c-3ae2-48d9-86b3-0cb100efb329",
      "metadata": {
        "id": "7266894c-3ae2-48d9-86b3-0cb100efb329",
        "outputId": "f0d0b7fa-fb79-44f5-c24d-17afa0b16890"
      },
      "outputs": [
        {
          "data": {
            "text/plain": [
              "array([23,  6, 28, 18,  8, 27])"
            ]
          },
          "execution_count": 97,
          "metadata": {},
          "output_type": "execute_result"
        }
      ],
      "source": [
        "np.random.choice(list(range(1,46)), 6, replace=False)"
      ]
    },
    {
      "cell_type": "code",
      "execution_count": null,
      "id": "92a9572f-4038-4a05-b5b2-d5bfd02f2c46",
      "metadata": {
        "id": "92a9572f-4038-4a05-b5b2-d5bfd02f2c46",
        "outputId": "dfdbfdb3-7711-47ef-e7cc-92f3b6f0adc6"
      },
      "outputs": [
        {
          "data": {
            "text/plain": [
              "array([1, 1, 1, 1, 1, 1])"
            ]
          },
          "execution_count": 171,
          "metadata": {},
          "output_type": "execute_result"
        }
      ],
      "source": [
        "np.random.randint(1,2,6)"
      ]
    },
    {
      "cell_type": "code",
      "execution_count": null,
      "id": "7b9488b4-ff8c-4fc6-9346-9fda82f9f281",
      "metadata": {
        "id": "7b9488b4-ff8c-4fc6-9346-9fda82f9f281",
        "outputId": "2c310d9e-be13-4926-fb2b-2c16bb1b9f3e"
      },
      "outputs": [
        {
          "name": "stdout",
          "output_type": "stream",
          "text": [
            "Help on method randint in module random:\n",
            "\n",
            "randint(a, b) method of random.Random instance\n",
            "    Return random integer in range [a, b], including both end points.\n",
            "\n"
          ]
        }
      ],
      "source": [
        "help(random.randint)"
      ]
    },
    {
      "cell_type": "markdown",
      "id": "6dd6477f-93d2-46c7-a9cf-19ad1f1a5ae7",
      "metadata": {
        "id": "6dd6477f-93d2-46c7-a9cf-19ad1f1a5ae7"
      },
      "source": [
        "배열의 연산"
      ]
    },
    {
      "cell_type": "code",
      "execution_count": null,
      "id": "515a0ca1-cc02-48db-b530-637285aaf228",
      "metadata": {
        "id": "515a0ca1-cc02-48db-b530-637285aaf228",
        "outputId": "575eeb80-b91c-44e9-cc19-569e4158b615"
      },
      "outputs": [
        {
          "name": "stdout",
          "output_type": "stream",
          "text": [
            "[11 22 33 44]\n",
            "[ 9 18 27 36]\n",
            "[ 10  40  90 160]\n",
            "[10. 10. 10. 10.]\n"
          ]
        }
      ],
      "source": [
        "arr1 = np.array([10,20,30,40])\n",
        "arr2 = np.array([1,2,3,4])\n",
        "\n",
        "print(arr1 + arr2)\n",
        "print(arr1 - arr2)\n",
        "print(arr1 * arr2)\n",
        "print(arr1 / arr2)"
      ]
    },
    {
      "cell_type": "markdown",
      "id": "ee98e41f-972d-494f-ad6d-b5960d9066d6",
      "metadata": {
        "id": "ee98e41f-972d-494f-ad6d-b5960d9066d6"
      },
      "source": [
        "비교연산"
      ]
    },
    {
      "cell_type": "code",
      "execution_count": null,
      "id": "0308dc38-4ac5-42e3-9b7e-f1d9ad1ddd96",
      "metadata": {
        "id": "0308dc38-4ac5-42e3-9b7e-f1d9ad1ddd96",
        "outputId": "300215d8-e462-4c1d-8cba-fc848ee47f1e"
      },
      "outputs": [
        {
          "data": {
            "text/plain": [
              "array([False, False,  True,  True])"
            ]
          },
          "execution_count": 123,
          "metadata": {},
          "output_type": "execute_result"
        }
      ],
      "source": [
        "arr1 > 20"
      ]
    },
    {
      "cell_type": "code",
      "execution_count": null,
      "id": "893487b8-f052-4ca8-9748-05d02375c194",
      "metadata": {
        "id": "893487b8-f052-4ca8-9748-05d02375c194"
      },
      "outputs": [],
      "source": [
        "## 통계 연산\n",
        "- numpy, 합, 평균, 표준 편차, 분산, 최솟값, 최댓값, 누적합, 누적 곱 메서드가 존재한다.\n",
        "    + 합, 평균, 표준 편차, 분산, 최솟값, 최댓값 =>기술통계량 (descriptive statistics) : 현재 데이터 상태를 표현(=묘사, Describe)한다.\n",
        "- 통계 : 평균이 전부다!(Mean is Everything)\n",
        "    + 모수 통계\n",
        "    + 비모수 통계\n",
        "    + 베이지안 통계"
      ]
    },
    {
      "cell_type": "code",
      "execution_count": null,
      "id": "2156aa12-efae-4a32-a491-6ab52c1f4ba8",
      "metadata": {
        "id": "2156aa12-efae-4a32-a491-6ab52c1f4ba8",
        "outputId": "97c0cde9-6cff-4836-a162-8a596114c1fa"
      },
      "outputs": [
        {
          "name": "stdout",
          "output_type": "stream",
          "text": [
            "[0 1 2 3 4]\n",
            "10\n",
            "2.0\n",
            "1.4142135623730951\n",
            "2.0\n"
          ]
        }
      ],
      "source": [
        "arr3 = np.arange(5)\n",
        "print(arr3)\n",
        "print(arr3.sum())\n",
        "print(arr3.mean())\n",
        "print(arr3.std())\n",
        "print(arr3.var())"
      ]
    },
    {
      "cell_type": "code",
      "execution_count": null,
      "id": "45b08096-6d67-4d97-a9ab-d4e8e755e57a",
      "metadata": {
        "id": "45b08096-6d67-4d97-a9ab-d4e8e755e57a"
      },
      "outputs": [],
      "source": [
        "## 누적합과 누적곱\n",
        "- cumsum() : 누적합, cumprod() : 누적곱"
      ]
    },
    {
      "cell_type": "code",
      "execution_count": null,
      "id": "62b72684-7eff-44b3-acf7-8d7ffcbb3a41",
      "metadata": {
        "id": "62b72684-7eff-44b3-acf7-8d7ffcbb3a41",
        "outputId": "d8f02db9-e4e8-46c1-8c52-c012d6f42c73"
      },
      "outputs": [
        {
          "name": "stdout",
          "output_type": "stream",
          "text": [
            "[1 2 3 4]\n",
            "[ 1  3  6 10]\n",
            "[ 1  2  6 24]\n"
          ]
        }
      ],
      "source": [
        "arr4 = np.arange(1,5)\n",
        "print(arr4)\n",
        "print(arr4.cumsum())\n",
        "print(arr4.cumprod())"
      ]
    },
    {
      "cell_type": "code",
      "execution_count": null,
      "id": "52214c03-f759-4761-a483-233e7c8ec595",
      "metadata": {
        "id": "52214c03-f759-4761-a483-233e7c8ec595"
      },
      "outputs": [],
      "source": [
        "## 행렬연산\n",
        "- 선형대수(Linear Algebra)를 위한 2차원 배열 연산도 지원"
      ]
    },
    {
      "cell_type": "code",
      "execution_count": null,
      "id": "25001449-da7e-4143-b479-038a875ef480",
      "metadata": {
        "id": "25001449-da7e-4143-b479-038a875ef480",
        "outputId": "5022db22-e6b4-4e66-9dd1-a81ae67cde20"
      },
      "outputs": [
        {
          "data": {
            "text/plain": [
              "array([[0, 1],\n",
              "       [6, 7]])"
            ]
          },
          "execution_count": 149,
          "metadata": {},
          "output_type": "execute_result"
        }
      ],
      "source": [
        "A = np.array([0,1,2,3]).reshape(2,2)\n",
        "B = np.array([3,2,0,1]).reshape(2,2)\n",
        "\n",
        "A.dot(B) #=np.dot(A,B)"
      ]
    },
    {
      "cell_type": "code",
      "execution_count": null,
      "id": "ac062bac-bd08-4e9a-aaa1-edcd396e3697",
      "metadata": {
        "id": "ac062bac-bd08-4e9a-aaa1-edcd396e3697",
        "outputId": "f7458fbd-edda-4309-ecf9-c62ee31bdd18"
      },
      "outputs": [
        {
          "data": {
            "text/plain": [
              "array([[0, 2],\n",
              "       [1, 3]])"
            ]
          },
          "execution_count": 150,
          "metadata": {},
          "output_type": "execute_result"
        }
      ],
      "source": [
        "A.transpose()"
      ]
    },
    {
      "cell_type": "code",
      "execution_count": null,
      "id": "c82660cd-294b-417b-8c3b-c4d7e00c133c",
      "metadata": {
        "id": "c82660cd-294b-417b-8c3b-c4d7e00c133c",
        "outputId": "fa34ff05-ee78-4d95-96c7-ee2f74ea9c9b"
      },
      "outputs": [
        {
          "data": {
            "text/plain": [
              "array([[-1.5,  0.5],\n",
              "       [ 1. ,  0. ]])"
            ]
          },
          "execution_count": 153,
          "metadata": {},
          "output_type": "execute_result"
        }
      ],
      "source": [
        "np.linalg.inv(A)"
      ]
    },
    {
      "cell_type": "code",
      "execution_count": null,
      "id": "b493461a-ef81-463b-abcb-14153724d5de",
      "metadata": {
        "id": "b493461a-ef81-463b-abcb-14153724d5de"
      },
      "outputs": [],
      "source": [
        "# 배열의 인덱싱과 슬라이싱\n",
        "- string, list, tuple과 동일한 방법으로 접근"
      ]
    },
    {
      "cell_type": "code",
      "execution_count": null,
      "id": "a0d5a019-4e53-4b1e-99b3-5c9183c2a9f6",
      "metadata": {
        "id": "a0d5a019-4e53-4b1e-99b3-5c9183c2a9f6",
        "outputId": "51281e89-b514-420f-9f99-10f202a697fa"
      },
      "outputs": [
        {
          "data": {
            "text/plain": [
              "array([ 0, 10, 20, 30, 40, 50])"
            ]
          },
          "execution_count": 154,
          "metadata": {},
          "output_type": "execute_result"
        }
      ],
      "source": [
        "a1 = np.array([0,10,20,30,40,50])\n",
        "a1"
      ]
    },
    {
      "cell_type": "code",
      "execution_count": null,
      "id": "c637ccb3-f4d6-4bd5-8551-54f94543a640",
      "metadata": {
        "id": "c637ccb3-f4d6-4bd5-8551-54f94543a640",
        "outputId": "be5e170d-c986-4d81-c3a4-da0eacdb3b08"
      },
      "outputs": [
        {
          "data": {
            "text/plain": [
              "array([ 0, 10, 20, 30, 40, 70])"
            ]
          },
          "execution_count": 156,
          "metadata": {},
          "output_type": "execute_result"
        }
      ],
      "source": [
        "a1[5] = 70\n",
        "a1"
      ]
    },
    {
      "cell_type": "code",
      "execution_count": null,
      "id": "aa725e40-915b-4100-9318-087bcb4e4edd",
      "metadata": {
        "id": "aa725e40-915b-4100-9318-087bcb4e4edd",
        "outputId": "450c7406-df31-470f-898a-b8ea2a1628a4"
      },
      "outputs": [
        {
          "data": {
            "text/plain": [
              "array([ 0, 20, 40])"
            ]
          },
          "execution_count": 160,
          "metadata": {},
          "output_type": "execute_result"
        }
      ],
      "source": [
        "#리스트 통해서 추출\n",
        "a1[[0,2,4]]"
      ]
    },
    {
      "cell_type": "code",
      "execution_count": null,
      "id": "1e8320f1-3437-453f-a894-f3cc7a95815f",
      "metadata": {
        "id": "1e8320f1-3437-453f-a894-f3cc7a95815f",
        "outputId": "ee6258cd-a461-49cd-9e50-344415dd8e56"
      },
      "outputs": [
        {
          "data": {
            "text/plain": [
              "array([[10, 20, 30],\n",
              "       [40, 50, 60],\n",
              "       [70, 80, 90]])"
            ]
          },
          "execution_count": 161,
          "metadata": {},
          "output_type": "execute_result"
        }
      ],
      "source": [
        "a2 = np.arange(10,100,10).reshape(3,3)\n",
        "a2"
      ]
    },
    {
      "cell_type": "code",
      "execution_count": null,
      "id": "e06d46bd-5b77-4cb2-b64f-17ded3916c8d",
      "metadata": {
        "id": "e06d46bd-5b77-4cb2-b64f-17ded3916c8d",
        "outputId": "66bca0f7-341f-4daf-f54c-e1c10dfdccba"
      },
      "outputs": [
        {
          "data": {
            "text/plain": [
              "array([[10, 20, 30],\n",
              "       [40, 50, 60],\n",
              "       [70, 80, 95]])"
            ]
          },
          "execution_count": 162,
          "metadata": {},
          "output_type": "execute_result"
        }
      ],
      "source": [
        "a2[2,2] = 95\n",
        "a2"
      ]
    },
    {
      "cell_type": "code",
      "execution_count": null,
      "id": "6eb63c56-652d-4d92-a11d-7befc7bb2dc0",
      "metadata": {
        "id": "6eb63c56-652d-4d92-a11d-7befc7bb2dc0",
        "outputId": "ee473643-03f4-4dfc-d8b2-34e468c0df03"
      },
      "outputs": [
        {
          "data": {
            "text/plain": [
              "array([[10, 20, 30],\n",
              "       [45, 50, 60],\n",
              "       [70, 80, 95]])"
            ]
          },
          "execution_count": 166,
          "metadata": {},
          "output_type": "execute_result"
        }
      ],
      "source": [
        "a2[1,0] = 45\n",
        "a2"
      ]
    },
    {
      "cell_type": "code",
      "execution_count": null,
      "id": "f17f1b44-0c42-43c0-b70d-acc06d699e35",
      "metadata": {
        "id": "f17f1b44-0c42-43c0-b70d-acc06d699e35",
        "outputId": "1c05dd5a-766c-4115-bf90-d8975827dea2"
      },
      "outputs": [
        {
          "data": {
            "text/plain": [
              "array([[ 1,  2,  3],\n",
              "       [45, 50, 60],\n",
              "       [70, 80, 95]])"
            ]
          },
          "execution_count": 173,
          "metadata": {},
          "output_type": "execute_result"
        }
      ],
      "source": [
        "a2[0] = np.array([1,2,3]) #a2[0] = [1,2,3]도 가능 but 배열=리스트니까 정석은 아님. 자료형태 맞춰주는게 좋음\n",
        "a2"
      ]
    },
    {
      "cell_type": "code",
      "execution_count": null,
      "id": "d764cdaa-4b9b-4b79-b481-5621cb044818",
      "metadata": {
        "id": "d764cdaa-4b9b-4b79-b481-5621cb044818"
      },
      "outputs": [],
      "source": [
        "- 2차원 배열의 행과 열 위치 지정해서 원소 추출"
      ]
    },
    {
      "cell_type": "code",
      "execution_count": null,
      "id": "a46e904e-4c1c-43ab-9a2b-f4fd8ccbb07e",
      "metadata": {
        "id": "a46e904e-4c1c-43ab-9a2b-f4fd8ccbb07e",
        "outputId": "498c9ebb-ebfd-4455-ffe8-f3998d647669"
      },
      "outputs": [
        {
          "data": {
            "text/plain": [
              "array([ 1, 80])"
            ]
          },
          "execution_count": 174,
          "metadata": {},
          "output_type": "execute_result"
        }
      ],
      "source": [
        "a2[[0,2],[0,1]] #[[행1,행2],[열1,열2]]"
      ]
    },
    {
      "cell_type": "code",
      "execution_count": null,
      "id": "530275ce-2eb6-49e4-9e74-24294c211f5c",
      "metadata": {
        "id": "530275ce-2eb6-49e4-9e74-24294c211f5c"
      },
      "outputs": [],
      "source": [
        "## 배열 조건문\n",
        "- pandas 문법과 유사하다"
      ]
    },
    {
      "cell_type": "code",
      "execution_count": null,
      "id": "3c26a6b0-9ffc-461e-80dd-aa58b622cc49",
      "metadata": {
        "id": "3c26a6b0-9ffc-461e-80dd-aa58b622cc49",
        "outputId": "d3dddc8a-c895-4bab-ad97-6a2a761c861e"
      },
      "outputs": [
        {
          "data": {
            "text/plain": [
              "array([1, 2, 3, 4, 5, 6])"
            ]
          },
          "execution_count": 177,
          "metadata": {},
          "output_type": "execute_result"
        }
      ],
      "source": [
        "a = np.array([1,2,3,4,5,6])\n",
        "a"
      ]
    },
    {
      "cell_type": "code",
      "execution_count": null,
      "id": "e98b8332-29a0-4e99-80b9-fa18021711d4",
      "metadata": {
        "id": "e98b8332-29a0-4e99-80b9-fa18021711d4",
        "outputId": "c2c48c00-aa75-4176-d8ac-9972a5ab5888"
      },
      "outputs": [
        {
          "data": {
            "text/plain": [
              "array([1, 2, 3])"
            ]
          },
          "execution_count": 180,
          "metadata": {},
          "output_type": "execute_result"
        }
      ],
      "source": [
        "## 배열의 슬라이싱\n",
        "b1 = np.array([0,1,2,3,4,5])\n",
        "b1[1:4]"
      ]
    },
    {
      "cell_type": "code",
      "execution_count": null,
      "id": "ddab66e4-af47-4e3f-bf44-2d8f6304bcab",
      "metadata": {
        "id": "ddab66e4-af47-4e3f-bf44-2d8f6304bcab",
        "outputId": "2f76695f-78e3-4703-9014-dbb995c8dce5"
      },
      "outputs": [
        {
          "data": {
            "text/plain": [
              "array([ 0,  1, 25, 35, 45,  5])"
            ]
          },
          "execution_count": 185,
          "metadata": {},
          "output_type": "execute_result"
        }
      ],
      "source": [
        "b1[2:5] = np.array([25,35,45])\n",
        "b1"
      ]
    },
    {
      "cell_type": "code",
      "execution_count": null,
      "id": "47ffcb50-b672-4c06-a239-9ab6b43b70e6",
      "metadata": {
        "id": "47ffcb50-b672-4c06-a239-9ab6b43b70e6",
        "outputId": "4641a3de-b072-4210-8d4b-8ec0148fbbfc"
      },
      "outputs": [
        {
          "data": {
            "text/plain": [
              "array([ 0,  1, 25, 60, 60, 60])"
            ]
          },
          "execution_count": 186,
          "metadata": {},
          "output_type": "execute_result"
        }
      ],
      "source": [
        "b1[3:6] = 60\n",
        "b1"
      ]
    },
    {
      "cell_type": "code",
      "execution_count": null,
      "id": "0c85631f-77ea-424f-9c88-515e9b72f630",
      "metadata": {
        "id": "0c85631f-77ea-424f-9c88-515e9b72f630",
        "outputId": "26149cd5-adab-47c3-a6de-6c1eaa86b332"
      },
      "outputs": [
        {
          "data": {
            "text/plain": [
              "array([[10, 20, 30],\n",
              "       [40, 50, 60],\n",
              "       [70, 80, 90]])"
            ]
          },
          "execution_count": 188,
          "metadata": {},
          "output_type": "execute_result"
        }
      ],
      "source": [
        "b2 = np.arange(10,100,10).reshape(3,3)\n",
        "b2"
      ]
    },
    {
      "cell_type": "code",
      "execution_count": null,
      "id": "f8709cf2-58a8-4ae2-a5f4-0664277c15d7",
      "metadata": {
        "id": "f8709cf2-58a8-4ae2-a5f4-0664277c15d7",
        "outputId": "c3c28745-c6fb-4642-e19a-647f60d57d0c"
      },
      "outputs": [
        {
          "data": {
            "text/plain": [
              "array([[50, 60],\n",
              "       [80, 90]])"
            ]
          },
          "execution_count": 189,
          "metadata": {},
          "output_type": "execute_result"
        }
      ],
      "source": [
        "b2[1:3,1:3] #= b2[1:,1:]"
      ]
    },
    {
      "cell_type": "code",
      "execution_count": null,
      "id": "2fa226f9-0df3-4f08-9ffe-365a10a6b148",
      "metadata": {
        "id": "2fa226f9-0df3-4f08-9ffe-365a10a6b148",
        "outputId": "ab826741-661e-48f4-bb1d-ac5608801400"
      },
      "outputs": [
        {
          "data": {
            "text/plain": [
              "array([50, 60])"
            ]
          },
          "execution_count": 191,
          "metadata": {},
          "output_type": "execute_result"
        }
      ],
      "source": [
        "b2[1][1:]"
      ]
    },
    {
      "cell_type": "code",
      "execution_count": null,
      "id": "5611b378-59f9-4add-8d01-7fec1ca1d86d",
      "metadata": {
        "id": "5611b378-59f9-4add-8d01-7fec1ca1d86d"
      },
      "outputs": [],
      "source": [
        "## numpy 조건문\n",
        "- np.where : 단일 조건문\n",
        "- np.select : 다중 조건"
      ]
    },
    {
      "cell_type": "code",
      "execution_count": null,
      "id": "d11c214d-6911-460b-a954-5748f1ffa100",
      "metadata": {
        "id": "d11c214d-6911-460b-a954-5748f1ffa100",
        "outputId": "b3477c38-b4f8-45c1-e338-d205181dd3fa"
      },
      "outputs": [
        {
          "data": {
            "text/plain": [
              "array([0, 1, 2, 3, 4, 5, 6, 7, 8, 9])"
            ]
          },
          "execution_count": 193,
          "metadata": {},
          "output_type": "execute_result"
        }
      ],
      "source": [
        "arr = np.arange(10)\n",
        "arr"
      ]
    },
    {
      "cell_type": "code",
      "execution_count": null,
      "id": "6b05717a-ed66-4cc0-b0f3-ca945cd5ab8e",
      "metadata": {
        "id": "6b05717a-ed66-4cc0-b0f3-ca945cd5ab8e",
        "outputId": "e89f78a3-acbb-4c2c-d398-eaa514f60c73"
      },
      "outputs": [
        {
          "data": {
            "text/plain": [
              "array([ 0,  1,  2,  3,  4, 50, 60, 70, 80, 90])"
            ]
          },
          "execution_count": 194,
          "metadata": {},
          "output_type": "execute_result"
        }
      ],
      "source": [
        "np.where(arr < 5, arr, arr*10)"
      ]
    },
    {
      "cell_type": "code",
      "execution_count": null,
      "id": "58211a02-9e2a-42f7-920c-6b0ca864397e",
      "metadata": {
        "id": "58211a02-9e2a-42f7-920c-6b0ca864397e",
        "outputId": "857ca3fa-9c1a-4957-e6ed-a2096a783515"
      },
      "outputs": [
        {
          "data": {
            "text/plain": [
              "array([100, 101,   2,   3,   4,   5,  12,  14,  16,  18])"
            ]
          },
          "execution_count": 196,
          "metadata": {},
          "output_type": "execute_result"
        }
      ],
      "source": [
        "cond_list = [arr>5,arr <2]\n",
        "choice_list = [arr*2,arr+100]\n",
        "np.select(cond_list,choice_list,default=arr)"
      ]
    }
  ],
  "metadata": {
    "kernelspec": {
      "display_name": "newvenv",
      "language": "python",
      "name": "newvenv"
    },
    "language_info": {
      "codemirror_mode": {
        "name": "ipython",
        "version": 3
      },
      "file_extension": ".py",
      "mimetype": "text/x-python",
      "name": "python",
      "nbconvert_exporter": "python",
      "pygments_lexer": "ipython3",
      "version": "3.12.1"
    },
    "colab": {
      "provenance": [],
      "include_colab_link": true
    }
  },
  "nbformat": 4,
  "nbformat_minor": 5
}