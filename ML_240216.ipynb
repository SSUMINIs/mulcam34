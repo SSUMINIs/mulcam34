{
  "nbformat": 4,
  "nbformat_minor": 0,
  "metadata": {
    "colab": {
      "provenance": [],
      "authorship_tag": "ABX9TyM1ih6URGuePLU5bI7GsKnj",
      "include_colab_link": true
    },
    "kernelspec": {
      "name": "python3",
      "display_name": "Python 3"
    },
    "language_info": {
      "name": "python"
    }
  },
  "cells": [
    {
      "cell_type": "markdown",
      "metadata": {
        "id": "view-in-github",
        "colab_type": "text"
      },
      "source": [
        "<a href=\"https://colab.research.google.com/github/SSUMINIs/mulcam34/blob/main/ML_240216.ipynb\" target=\"_parent\"><img src=\"https://colab.research.google.com/assets/colab-badge.svg\" alt=\"Open In Colab\"/></a>"
      ]
    },
    {
      "cell_type": "markdown",
      "source": [
        "# 스택"
      ],
      "metadata": {
        "id": "5R5x0kxytgTW"
      }
    },
    {
      "cell_type": "code",
      "execution_count": 1,
      "metadata": {
        "colab": {
          "base_uri": "https://localhost:8080/"
        },
        "id": "H083hyD7cuco",
        "outputId": "5608b005-6090-4cee-fc62-fcc423e2f7b9"
      },
      "outputs": [
        {
          "output_type": "stream",
          "name": "stdout",
          "text": [
            "바닥: ['커피', '녹차', '꿀물', None, None]\n",
            "pop-> 꿀물\n",
            "바닥: ['커피', '녹차', None, None, None]\n",
            "pop-> 녹차\n",
            "바닥: ['커피', None, None, None, None]\n",
            "pop-> 커피\n",
            "바닥: [None, None, None, None, None]\n"
          ]
        }
      ],
      "source": [
        "## 함수 선언부\n",
        "\n",
        "## 전역 변수부\n",
        "#stack = [None, None, None, None, None]\n",
        "SIZE = 5\n",
        "stack = [None for _ in range(SIZE)] #5를 직접 넣는 하드코딩 안좋음\n",
        "top = -1\n",
        "\n",
        "## 메인 코드부\n",
        "# Push()\n",
        "top += 1\n",
        "stack[top] = '커피'\n",
        "\n",
        "top += 1\n",
        "stack[top] = '녹차'\n",
        "\n",
        "top += 1\n",
        "stack[top] = '꿀물'\n",
        "\n",
        "print('바닥:' ,stack)\n",
        "\n",
        "# Pop()\n",
        "data = stack[top]\n",
        "stack[top] = None\n",
        "top -= 1\n",
        "print('pop->', data)\n",
        "print('바닥:' ,stack)\n",
        "\n",
        "data = stack[top]\n",
        "stack[top] = None\n",
        "top -= 1\n",
        "print('pop->', data)\n",
        "print('바닥:' ,stack)\n",
        "\n",
        "data = stack[top]\n",
        "stack[top] = None\n",
        "top -= 1\n",
        "print('pop->', data)\n",
        "print('바닥:' ,stack)"
      ]
    },
    {
      "cell_type": "markdown",
      "source": [
        "* 실무 코드"
      ],
      "metadata": {
        "id": "tWh6fqoWkOSi"
      }
    },
    {
      "cell_type": "code",
      "source": [
        "## 함수 선언부\n",
        "def isStackFull():\n",
        "  global SIZE, stack, top\n",
        "  if top == SIZE - 1 :\n",
        "    return True\n",
        "  else :\n",
        "    return False\n",
        "\n",
        "def push(data):\n",
        "  global SIZE, stack, top\n",
        "  if isStackFull() :  #isStackFull() == True\n",
        "    print('스택이 꽉 찼습니다!')\n",
        "    return\n",
        "  top += 1\n",
        "  stack[top] = data\n",
        "\n",
        "def isStackEmpty():\n",
        "  global SIZE, stack, top\n",
        "  if top == -1 :\n",
        "    return True\n",
        "  else :\n",
        "    return False\n",
        "\n",
        "def pop():\n",
        "  global SIZE, stack, top\n",
        "  if isStackEmpty() : #isStackEmpty() == True\n",
        "    print('스택이 비었습니다')\n",
        "    return\n",
        "  data = stack[top]\n",
        "  stack[top] = None\n",
        "  top -= 1\n",
        "  return data\n",
        "\n",
        "def peek():\n",
        "  global SIZE, stack, top\n",
        "  if isStackEmpty() :\n",
        "    print('스택이 비었습니다')\n",
        "    return\n",
        "  return stack[top]\n",
        "\n",
        "\n",
        "## 전역 변수부\n",
        "SIZE = 5\n",
        "stack = [None for _ in range(SIZE)]\n",
        "top = -1\n",
        "\n",
        "## 메인 코드부\n",
        "push('커피')\n",
        "push('녹차')\n",
        "#push('꿀물')\n",
        "#push('콜라')\n",
        "#push('환타')\n",
        "print('바닥:' ,stack)\n",
        "\n",
        "#push('게토레이')\n",
        "#print('바닥:' ,stack)\n",
        "\n",
        "retData = pop()\n",
        "print('팜합 것 :', retData)\n",
        "print('바닥:' ,stack)\n",
        "\n",
        "print('다음예정->', peek())\n",
        "\n",
        "retData = pop()\n",
        "print('팜합 것 :', retData)\n",
        "print('바닥:' ,stack)\n",
        "\n",
        "retData = pop()\n",
        "print('팜합 것 :', retData)\n",
        "print('바닥:' ,stack)"
      ],
      "metadata": {
        "colab": {
          "base_uri": "https://localhost:8080/"
        },
        "id": "3h0oRxIbh9JJ",
        "outputId": "fc6edf5e-7550-454b-b904-a52171b3db65"
      },
      "execution_count": 2,
      "outputs": [
        {
          "output_type": "stream",
          "name": "stdout",
          "text": [
            "바닥: ['커피', '녹차', None, None, None]\n",
            "팜합 것 : 녹차\n",
            "바닥: ['커피', None, None, None, None]\n",
            "다음예정-> 커피\n",
            "팜합 것 : 커피\n",
            "바닥: [None, None, None, None, None]\n",
            "스택이 비었습니다\n",
            "팜합 것 : None\n",
            "바닥: [None, None, None, None, None]\n"
          ]
        }
      ]
    },
    {
      "cell_type": "markdown",
      "source": [
        "# 큐"
      ],
      "metadata": {
        "id": "kMOMl1A1tdCZ"
      }
    },
    {
      "cell_type": "code",
      "source": [
        "## 함수 선언부\n",
        "## 전역 변수부\n",
        "SIZE = 5\n",
        "queue = [None for _ in range(SIZE)]\n",
        "front = rear = -1 # front와 rear 값이 같으면 큐는 비어있음\n",
        "\n",
        "## 메인 코드부\n",
        "#!! enQueue()\n",
        "rear += 1\n",
        "queue[rear] = '화사'\n",
        "\n",
        "rear += 1\n",
        "queue[rear] = '솔라'\n",
        "\n",
        "rear += 1\n",
        "queue[rear] = '문별'\n",
        "print('출구<--', queue, '<--입구')\n",
        "\n",
        "#!! deQueue()\n",
        "front += 1\n",
        "data = queue[front]\n",
        "queue[front] = None\n",
        "print('손님 이리로 : ', data)\n",
        "\n",
        "front += 1\n",
        "data = queue[front]\n",
        "queue[front] = None\n",
        "print('손님 이리로 : ', data)\n",
        "\n",
        "front += 1\n",
        "data = queue[front]\n",
        "queue[front] = None\n",
        "print('손님 이리로 : ', data)\n",
        "\n",
        "print('출구<--', queue, '<--입구')"
      ],
      "metadata": {
        "colab": {
          "base_uri": "https://localhost:8080/"
        },
        "id": "nvWgEiosttgD",
        "outputId": "03b17444-3e71-4190-d318-2096aa06e6a8"
      },
      "execution_count": 3,
      "outputs": [
        {
          "output_type": "stream",
          "name": "stdout",
          "text": [
            "출구<-- ['화사', '솔라', '문별', None, None] <--입구\n",
            "손님 이리로 :  화사\n",
            "손님 이리로 :  솔라\n",
            "손님 이리로 :  문별\n",
            "출구<-- [None, None, None, None, None] <--입구\n"
          ]
        }
      ]
    },
    {
      "cell_type": "code",
      "source": [
        "## 함수 선언부\n",
        "def isQueueFull():\n",
        "  global SIZE, queue, front, rear\n",
        "  if rear == SIZE - 1:\n",
        "    return True\n",
        "  else :\n",
        "    return False\n",
        "\n",
        "def enQueue(data):\n",
        "  global SIZE, queue, front, rear\n",
        "  if isQueueFull () :\n",
        "    print('큐가 꽉 찼습니다.')\n",
        "    return\n",
        "  rear += 1\n",
        "  queue[rear] = data\n",
        "\n",
        "def isQueueEmpty():\n",
        "  global SIZE, queue, front, rear\n",
        "  if front == rear :\n",
        "    return True\n",
        "  else :\n",
        "    return False\n",
        "\n",
        "def deQueue():\n",
        "  global SIZE, queue, front, rear\n",
        "  if isQueueEmpty() :\n",
        "    print('큐가 비었습니다')\n",
        "    return\n",
        "  front += 1\n",
        "  data = queue[front]\n",
        "  queue[front] = None\n",
        "  return data\n",
        "\n",
        "def peek():\n",
        "  global SIZE, queue, front, rear\n",
        "  if isQueueEmpty() :\n",
        "    print(\"큐가 비었습니다!\")\n",
        "    return None\n",
        "  return queue[front + 1]\n",
        "\n",
        "## 전역 변수부\n",
        "SIZE = 5\n",
        "queue = [None for _ in range(SIZE)]\n",
        "front = rear = -1\n",
        "\n",
        "## 메인 코드부\n",
        "enQueue('화사')\n",
        "enQueue('솔라')\n",
        "enQueue('문별')\n",
        "enQueue('휘인')\n",
        "enQueue('선미')\n",
        "print('출구<--', queue, '<--입구')\n",
        "\n",
        "enQueue('정국')\n",
        "print('출구<--', queue, '<--입구')\n",
        "\n",
        "retData = deQueue()\n",
        "print('식사 손님: ', retData)\n",
        "print('다음 손님: ', peek())\n",
        "print('출구<--', queue, '<--입구')\n",
        "\n",
        "retData = deQueue()\n",
        "print('식사 손님: ', retData)\n",
        "print('다음 손님: ', peek())\n",
        "print('출구<--', queue, '<--입구')\n",
        "\n",
        "retData = deQueue()\n",
        "print('식사 손님: ', retData)\n",
        "print('다음 손님: ', peek())\n",
        "print('출구<--', queue, '<--입구')\n",
        "\n",
        "retData = deQueue()\n",
        "print('식사 손님: ', retData)\n",
        "print('다음 손님: ', peek())\n",
        "print('출구<--', queue, '<--입구')\n",
        "\n",
        "retData = deQueue()\n",
        "print('식사 손님: ', retData)\n",
        "print('다음 손님: ', peek())\n",
        "print('출구<--', queue, '<--입구')\n",
        "\n",
        "retData = deQueue()\n",
        "print('식사 손님: ', retData)\n",
        "print('출구<--', queue, '<--입구')"
      ],
      "metadata": {
        "id": "c3JQpElnzJ37",
        "colab": {
          "base_uri": "https://localhost:8080/"
        },
        "outputId": "6b62d2cd-1e41-4ff1-8051-ea58f86ed81f"
      },
      "execution_count": 18,
      "outputs": [
        {
          "output_type": "stream",
          "name": "stdout",
          "text": [
            "출구<-- ['화사', '솔라', '문별', '휘인', '선미'] <--입구\n",
            "큐가 꽉 찼습니다.\n",
            "출구<-- ['화사', '솔라', '문별', '휘인', '선미'] <--입구\n",
            "식사 손님:  화사\n",
            "다음 손님:  솔라\n",
            "출구<-- [None, '솔라', '문별', '휘인', '선미'] <--입구\n",
            "식사 손님:  솔라\n",
            "다음 손님:  문별\n",
            "출구<-- [None, None, '문별', '휘인', '선미'] <--입구\n",
            "식사 손님:  문별\n",
            "다음 손님:  휘인\n",
            "출구<-- [None, None, None, '휘인', '선미'] <--입구\n",
            "식사 손님:  휘인\n",
            "다음 손님:  선미\n",
            "출구<-- [None, None, None, None, '선미'] <--입구\n",
            "식사 손님:  선미\n",
            "큐가 비었습니다!\n",
            "다음 손님:  None\n",
            "출구<-- [None, None, None, None, None] <--입구\n",
            "큐가 비었습니다\n",
            "식사 손님:  None\n",
            "출구<-- [None, None, None, None, None] <--입구\n"
          ]
        }
      ]
    },
    {
      "cell_type": "markdown",
      "source": [
        "* 개선된 큐_ 앞으로 자리 옮기기"
      ],
      "metadata": {
        "id": "zAclpEeQMBZf"
      }
    },
    {
      "cell_type": "code",
      "source": [
        "## 함수 선언부\n",
        "def isQueueFull():\n",
        "  global SIZE, queue, front, rear\n",
        "  if rear != SIZE - 1: # case 1\n",
        "    return False\n",
        "  elif (rear == SIZE -1 and front == -1) : # case 2\n",
        "    return True\n",
        "  elif (rear == SIZE -1  and front != -1) : # case 3 = else:\n",
        "    for i in range(front + 1, SIZE):\n",
        "      queue[i-1] = queue[i]\n",
        "      queue[i] = None\n",
        "    front -= 1\n",
        "    rear -= 1\n",
        "    return False\n",
        "\n",
        "def enQueue(data):\n",
        "  global SIZE, queue, front, rear\n",
        "  if isQueueFull () :\n",
        "    print('큐가 꽉 찼습니다.')\n",
        "    return\n",
        "  rear += 1\n",
        "  queue[rear] = data\n",
        "\n",
        "def isQueueEmpty():\n",
        "  global SIZE, queue, front, rear\n",
        "  if front == rear :\n",
        "    return True\n",
        "  else :\n",
        "    return False\n",
        "\n",
        "def deQueue():\n",
        "  global SIZE, queue, front, rear\n",
        "  if isQueueEmpty() :\n",
        "    print('큐가 비었습니다')\n",
        "    return\n",
        "  front += 1\n",
        "  data = queue[front]\n",
        "  queue[front] = None\n",
        "  return data\n",
        "\n",
        "def peek():\n",
        "  global SIZE, queue, front, rear\n",
        "  if isQueueEmpty() :\n",
        "    print(\"큐가 비었습니다!\")\n",
        "    return None\n",
        "  return queue[front + 1]\n",
        "\n",
        "## 전역 변수부\n",
        "SIZE = 5\n",
        "queue = [None for _ in range(SIZE)]\n",
        "front = rear = -1\n",
        "\n",
        "## 메인 코드부\n",
        "enQueue('화사')\n",
        "enQueue('솔라')\n",
        "enQueue('문별')\n",
        "enQueue('휘인')\n",
        "enQueue('선미')\n",
        "print('출구<--', queue, '<--입구')\n",
        "\n",
        "retData = deQueue()\n",
        "print('식사 손님: ', retData)\n",
        "print('출구<--', queue, '<--입구')\n",
        "retData = deQueue()\n",
        "print('식사 손님: ', retData)\n",
        "print('출구<--', queue, '<--입구')\n",
        "\n",
        "enQueue('재남')\n",
        "print('출구<--', queue, '<--입구')\n",
        "\n",
        "enQueue('정국')\n",
        "print('출구<--', queue, '<--입구')\n",
        "\n",
        "enQueue('길동')\n",
        "print('출구<--', queue, '<--입구')"
      ],
      "metadata": {
        "colab": {
          "base_uri": "https://localhost:8080/"
        },
        "id": "m-bsVYiXMAd-",
        "outputId": "ff7569f8-1873-477a-9a36-9118432385f2"
      },
      "execution_count": 24,
      "outputs": [
        {
          "output_type": "stream",
          "name": "stdout",
          "text": [
            "출구<-- ['화사', '솔라', '문별', '휘인', '선미'] <--입구\n",
            "식사 손님:  화사\n",
            "출구<-- [None, '솔라', '문별', '휘인', '선미'] <--입구\n",
            "식사 손님:  솔라\n",
            "출구<-- [None, None, '문별', '휘인', '선미'] <--입구\n",
            "출구<-- [None, '문별', '휘인', '선미', '재남'] <--입구\n",
            "출구<-- ['문별', '휘인', '선미', '재남', '정국'] <--입구\n",
            "큐가 꽉 찼습니다.\n",
            "출구<-- ['문별', '휘인', '선미', '재남', '정국'] <--입구\n"
          ]
        }
      ]
    },
    {
      "cell_type": "markdown",
      "source": [
        "* 원형 큐"
      ],
      "metadata": {
        "id": "weo7bvixVLfO"
      }
    },
    {
      "cell_type": "code",
      "source": [
        "## 함수 선언부\n",
        "def isQueueFull():\n",
        "  global SIZE, queue, front, rear\n",
        "  if (rear + 1) % SIZE == front :\n",
        "    return True\n",
        "  else :\n",
        "    return False\n",
        "\n",
        "def enQueue(data):\n",
        "  global SIZE, queue, front, rear\n",
        "  if isQueueFull () :\n",
        "    print('큐가 꽉 찼습니다.')\n",
        "    return\n",
        "  rear = (rear + 1) % SIZE\n",
        "  queue[rear] = data\n",
        "\n",
        "def isQueueEmpty():\n",
        "  global SIZE, queue, front, rear\n",
        "  if front == rear :\n",
        "    return True\n",
        "  else :\n",
        "    return False\n",
        "\n",
        "def deQueue():\n",
        "  global SIZE, queue, front, rear\n",
        "  if isQueueEmpty() :\n",
        "    print('큐가 비었습니다')\n",
        "    return\n",
        "  front = (front + 1) % SIZE\n",
        "  data = queue[front]\n",
        "  queue[front] = None\n",
        "  return data\n",
        "\n",
        "def peek():\n",
        "  global SIZE, queue, front, rear\n",
        "  if isQueueEmpty() :\n",
        "    print(\"큐가 비었습니다!\")\n",
        "    return None\n",
        "  return queue[(front + 1) % SIZE]\n",
        "\n",
        "## 전역 변수부\n",
        "SIZE = 5\n",
        "queue = [None for _ in range(SIZE)]\n",
        "front = rear = 0 # 원형으로 바뀌어져 -1 위치가 없음, 초기값을 0으로 설정\n",
        "\n",
        "## 메인 코드부\n",
        "enQueue('화사')\n",
        "enQueue('솔라')\n",
        "enQueue('문별')\n",
        "enQueue('휘인')\n",
        "print('출구<--', queue, '<--입구')\n",
        "\n",
        "retData = deQueue()\n",
        "print('식사 손님: ', retData)\n",
        "print('출구<--', queue, '<--입구')\n",
        "retData = deQueue()\n",
        "print('식사 손님: ', retData)\n",
        "print('출구<--', queue, '<--입구')\n",
        "\n",
        "enQueue('재남')\n",
        "print('출구<--', queue, '<--입구')\n",
        "\n",
        "enQueue('정국')\n",
        "print('출구<--', queue, '<--입구')\n",
        "\n",
        "enQueue('길동')\n",
        "print('출구<--', queue, '<--입구')\n",
        "\n",
        "retData = deQueue()\n",
        "print('식사 손님: ', retData)\n",
        "print('출구<--', queue, '<--입구')"
      ],
      "metadata": {
        "colab": {
          "base_uri": "https://localhost:8080/"
        },
        "id": "cjUq4r_oKvfk",
        "outputId": "bfaf8c01-2429-43bf-90ba-b44fd3c8e1b3"
      },
      "execution_count": 30,
      "outputs": [
        {
          "output_type": "stream",
          "name": "stdout",
          "text": [
            "출구<-- [None, '화사', '솔라', '문별', '휘인'] <--입구\n",
            "식사 손님:  화사\n",
            "출구<-- [None, None, '솔라', '문별', '휘인'] <--입구\n",
            "식사 손님:  솔라\n",
            "출구<-- [None, None, None, '문별', '휘인'] <--입구\n",
            "출구<-- ['재남', None, None, '문별', '휘인'] <--입구\n",
            "출구<-- ['재남', '정국', None, '문별', '휘인'] <--입구\n",
            "큐가 꽉 찼습니다.\n",
            "출구<-- ['재남', '정국', None, '문별', '휘인'] <--입구\n",
            "식사 손님:  문별\n",
            "출구<-- ['재남', '정국', None, None, '휘인'] <--입구\n"
          ]
        }
      ]
    },
    {
      "cell_type": "markdown",
      "source": [
        "# 비선형 자료구조\n",
        "* 트리"
      ],
      "metadata": {
        "id": "FMIKlBngbQi3"
      }
    },
    {
      "cell_type": "code",
      "source": [
        "## 함수 선언부\n",
        "class TreeNode():\n",
        "  def __init__(self):\n",
        "    self.left = None\n",
        "    self.data = None\n",
        "    self.right = None\n",
        "\n",
        "## 전역 변수부\n",
        "## 메인 코드부\n",
        "node1 = TreeNode()\n",
        "node1.data = '화사'\n",
        "\n",
        "node2 = TreeNode()\n",
        "node2.data = '솔라'\n",
        "node1.left = node2\n",
        "\n",
        "node3 = TreeNode()\n",
        "node3.data = '문별'\n",
        "node1.right = node3\n",
        "\n",
        "node4 = TreeNode()\n",
        "node4.data = '휘인'\n",
        "node2.left = node4\n",
        "\n",
        "node5 = TreeNode()\n",
        "node5.data = '쯔위'\n",
        "node2.right = node5\n",
        "\n",
        "node6 = TreeNode()\n",
        "node6.data = '선미'\n",
        "node3.left = node6\n",
        "\n",
        "#print(node1.data)\n",
        "#print(node2.data, node3.data)\n",
        "#print(node4.data, node5.data, node5.data)\n",
        "\n",
        "root = node1\n",
        "print(root.data)\n",
        "print(root.left.data, root.right.data)\n",
        "print(root.left.left.data, root.left.right.data, root.right.left.data)"
      ],
      "metadata": {
        "colab": {
          "base_uri": "https://localhost:8080/"
        },
        "id": "dHj8L04NbTpa",
        "outputId": "aaf8515e-a747-46b3-aab5-adbcb2e58f6a"
      },
      "execution_count": 39,
      "outputs": [
        {
          "output_type": "stream",
          "name": "stdout",
          "text": [
            "화사\n",
            "솔라 문별\n",
            "휘인 쯔위 선미\n"
          ]
        }
      ]
    },
    {
      "cell_type": "markdown",
      "source": [
        "# 알고리즘\n",
        "* 선택정렬"
      ],
      "metadata": {
        "id": "opJHsezcjqGO"
      }
    },
    {
      "cell_type": "code",
      "source": [
        "## 함수 선언부\n",
        "def findMinIndex(ary):\n",
        "  minIdx = 0\n",
        "  for i in range(1, len(ary)):\n",
        "    if ary[minIdx] > ary[i] :\n",
        "      minIdx = i\n",
        "  return minIdx\n",
        "\n",
        "## 전역 변수부\n",
        "testAry = [55, 88, 33, 77]\n",
        "\n",
        "## 메인 코드부\n",
        "minPos = findMinIndex(testAry)\n",
        "print('최솟값- > ', testAry[minPos])"
      ],
      "metadata": {
        "colab": {
          "base_uri": "https://localhost:8080/"
        },
        "id": "5GCvqsPnjr7d",
        "outputId": "b200afbb-c5d3-4a71-d526-8e3aee7309fe"
      },
      "execution_count": 42,
      "outputs": [
        {
          "output_type": "stream",
          "name": "stdout",
          "text": [
            "최솟값- >  33\n"
          ]
        }
      ]
    },
    {
      "cell_type": "code",
      "source": [
        "## 함수 선언부\n",
        "from random import randint\n",
        "\n",
        "def findMinIndex(ary):\n",
        "  minIdx = 0\n",
        "  for i in range(1, len(ary)):\n",
        "    if ary[minIdx] > ary[i] :\n",
        "      minIdx = i\n",
        "  return minIdx\n",
        "\n",
        "## 전역 변수부\n",
        "before = [randint(30,190) for _ in range(8)]\n",
        "after = []\n",
        "\n",
        "## 메인 코드부\n",
        "print('정렬 전 -> ', before)\n",
        "for _ in range(len(before)):\n",
        "  minPos = findMinIndex(before)\n",
        "  after.append(before[minPos])\n",
        "  del(before[minPos])\n",
        "\n",
        "print('정렬 후 -> ', after)"
      ],
      "metadata": {
        "colab": {
          "base_uri": "https://localhost:8080/"
        },
        "id": "6bFv5VN7lUPs",
        "outputId": "018dceba-811d-4877-a634-263c33fe221a"
      },
      "execution_count": 45,
      "outputs": [
        {
          "output_type": "stream",
          "name": "stdout",
          "text": [
            "[78, 118, 32, 92, 105, 144, 143, 55]\n",
            "정렬 전 ->  [78, 118, 32, 92, 105, 144, 143, 55]\n",
            "정렬 후 ->  [32, 55, 78, 92, 105, 118, 143, 144]\n"
          ]
        }
      ]
    },
    {
      "cell_type": "markdown",
      "source": [
        "* 검색\n",
        "  * 순차 검색"
      ],
      "metadata": {
        "id": "NujA0cPDxSep"
      }
    },
    {
      "cell_type": "code",
      "source": [
        "## 함수 선언부\n",
        "from random import randint, choice\n",
        "\n",
        "def seqSearch(ary, fdata):\n",
        "  pos = -1 # 찾을 위치를 -1로 가정(-1 : 못찾음)\n",
        "  for i in range(len(ary)):\n",
        "    if ary[i] == fdata :\n",
        "      pos = i\n",
        "      break\n",
        "  return pos\n",
        "\n",
        "## 전역 변수부\n",
        "dataAry = [randint(30,190) for _ in range(8)] # 가족 전체 키\n",
        "findData = choice(dataAry) # 누나 키\n",
        "\n",
        "## 메인 코드부\n",
        "print('배열 -> ', dataAry)\n",
        "position = seqSearch(dataAry, findData)\n",
        "if position != -1 :\n",
        "  print(findData, '는', position, '위치에 있어요.')\n",
        "else :\n",
        "  print(findData, '는 없습니다')"
      ],
      "metadata": {
        "colab": {
          "base_uri": "https://localhost:8080/"
        },
        "id": "hTIy-uJYxR4i",
        "outputId": "0222208a-202e-4cb1-dd6e-cc4f91407d50"
      },
      "execution_count": 47,
      "outputs": [
        {
          "output_type": "stream",
          "name": "stdout",
          "text": [
            "배열 ->  [95, 40, 162, 69, 113, 46, 165, 187]\n",
            "165 는 6 위치에 있어요.\n"
          ]
        }
      ]
    },
    {
      "cell_type": "markdown",
      "source": [
        "* 검색\n",
        "  * 이진 검색"
      ],
      "metadata": {
        "id": "3el6cpoR0ugB"
      }
    },
    {
      "cell_type": "code",
      "source": [
        "## 함수 선언부\n",
        "from random import randint, choice\n",
        "\n",
        "def binSearch(ary, fdata):\n",
        "  pos = -1 # 찾을 위치를 -1로 가정(-1 : 못찾음)\n",
        "  start = 0\n",
        "  end = len(ary)-1\n",
        "  while start <= end :\n",
        "    mid = (start + end) // 2\n",
        "    if ary[mid] == fdata :\n",
        "      pos = mid\n",
        "      break\n",
        "    elif ary[mid] < fdata :\n",
        "      start = mid + 1\n",
        "    else : # ary[mid] >= fdata\n",
        "      end = mid - 1\n",
        "  return pos\n",
        "\n",
        "## 전역 변수부\n",
        "dataAry = [randint(30,190) for _ in range(10)] # 가족 전체 키\n",
        "dataAry.sort()\n",
        "findData = choice(dataAry) # 할머니 키\n",
        "\n",
        "## 메인 코드부\n",
        "print('배열 -> ', dataAry)\n",
        "position = binSearch(dataAry, findData)\n",
        "if position != -1 :\n",
        "  print(findData, '는', position, '위치에 있어요.')\n",
        "else :\n",
        "  print(findData, '는 없습니다')"
      ],
      "metadata": {
        "colab": {
          "base_uri": "https://localhost:8080/"
        },
        "id": "5MS-psU00qCu",
        "outputId": "7ec6e9c9-484d-4e63-d884-b23040d262e2"
      },
      "execution_count": 54,
      "outputs": [
        {
          "output_type": "stream",
          "name": "stdout",
          "text": [
            "배열 ->  [76, 96, 96, 100, 102, 123, 128, 160, 178, 183]\n",
            "183 는 9 위치에 있어요.\n"
          ]
        }
      ]
    },
    {
      "cell_type": "markdown",
      "source": [
        "    * 이진검색 성능"
      ],
      "metadata": {
        "id": "2R4ngKUw88O-"
      }
    },
    {
      "cell_type": "code",
      "source": [
        "## 함수 선언부\n",
        "from random import randint, choice\n",
        "\n",
        "def binSearch(ary, fdata):\n",
        "  global count\n",
        "  pos = -1 # 찾을 위치를 -1로 가정(-1 : 못찾음)\n",
        "  start = 0\n",
        "  end = len(ary)-1\n",
        "  while start <= end :\n",
        "    count += 1\n",
        "    mid = (start + end) // 2\n",
        "    if ary[mid] == fdata :\n",
        "      pos = mid\n",
        "      break\n",
        "    elif ary[mid] < fdata :\n",
        "      start = mid + 1\n",
        "    else : # ary[mid] >= fdata\n",
        "      end = mid - 1\n",
        "  return pos\n",
        "\n",
        "## 전역 변수부\n",
        "count = 0\n",
        "dataAry = [randint(0,1000000000000000) for _ in range(10000000)] # 가족 전체 키\n",
        "dataAry.sort()\n",
        "findData = choice(dataAry) # 할머니 키\n",
        "\n",
        "## 메인 코드부\n",
        "print('배열 -> ', dataAry[:20])\n",
        "position = binSearch(dataAry, findData)\n",
        "if position != -1 :\n",
        "  print(findData, '는', position, '위치에 있어요.(', count, '번)') #성능 (20여번 만에 찾음!)\n",
        "else :\n",
        "  print(findData, '는 없습니다')"
      ],
      "metadata": {
        "colab": {
          "base_uri": "https://localhost:8080/"
        },
        "id": "lk7XsMPp0zED",
        "outputId": "f9930d91-9962-4d0c-e524-b603d8084091"
      },
      "execution_count": 58,
      "outputs": [
        {
          "output_type": "stream",
          "name": "stdout",
          "text": [
            "배열 ->  [15496900, 49855564, 50188014, 73173832, 242952799, 295362623, 350015814, 496676435, 538123552, 704708467, 723440021, 783039423, 791799393, 817222879, 972048957, 1045266236, 1111211918, 1167800940, 1637296312, 1751988100]\n",
            "960309872206884 는 9603795 위치에 있어요.( 22 번)\n"
          ]
        }
      ]
    },
    {
      "cell_type": "markdown",
      "source": [
        "* 재귀"
      ],
      "metadata": {
        "id": "24jMiVl69Yid"
      }
    },
    {
      "cell_type": "code",
      "source": [
        "## 함수 선언부\n",
        "def openBox():\n",
        "  global count\n",
        "  print('상자열기!')\n",
        "  count -= 1\n",
        "  if count == 0 :\n",
        "    print('## 선물 넣기 ##')\n",
        "    return\n",
        "  openBox()\n",
        "  print('상자 닫기 $$$')\n",
        "\n",
        "## 메인 코드부\n",
        "count = 10\n",
        "openBox()"
      ],
      "metadata": {
        "colab": {
          "base_uri": "https://localhost:8080/"
        },
        "id": "Q-zvkzTx9a_r",
        "outputId": "c61ce765-cb3a-4597-e849-b0906db826f5"
      },
      "execution_count": 62,
      "outputs": [
        {
          "output_type": "stream",
          "name": "stdout",
          "text": [
            "상자열기!\n",
            "상자열기!\n",
            "상자열기!\n",
            "상자열기!\n",
            "상자열기!\n",
            "상자열기!\n",
            "상자열기!\n",
            "상자열기!\n",
            "상자열기!\n",
            "상자열기!\n",
            "## 선물 넣기 ##\n",
            "상자 닫기 $$$\n",
            "상자 닫기 $$$\n",
            "상자 닫기 $$$\n",
            "상자 닫기 $$$\n",
            "상자 닫기 $$$\n",
            "상자 닫기 $$$\n",
            "상자 닫기 $$$\n",
            "상자 닫기 $$$\n",
            "상자 닫기 $$$\n"
          ]
        }
      ]
    },
    {
      "cell_type": "code",
      "source": [
        "sumValue = 0\n",
        "for n in range(10,0, -1):\n",
        "  sumValue += n\n",
        "print(\"10+9+...+1=\", sumValue)"
      ],
      "metadata": {
        "colab": {
          "base_uri": "https://localhost:8080/"
        },
        "id": "gLafxRwKAPcy",
        "outputId": "32d58f3c-f456-405f-fbb2-8b183d43d5d7"
      },
      "execution_count": 63,
      "outputs": [
        {
          "output_type": "stream",
          "name": "stdout",
          "text": [
            "10+9+...+1= 55\n"
          ]
        }
      ]
    },
    {
      "cell_type": "code",
      "source": [
        "## 함수 선언부\n",
        "def addNumber(num):\n",
        "  if num == 1:\n",
        "    return 1\n",
        "  return num + addNumber(num-1)\n",
        "\n",
        "## 메인 코드부\n",
        "print(addNumber(10))"
      ],
      "metadata": {
        "colab": {
          "base_uri": "https://localhost:8080/"
        },
        "id": "2yyJH0mhAhs0",
        "outputId": "c1286823-388a-4f85-8b45-e48179593620"
      },
      "execution_count": 71,
      "outputs": [
        {
          "output_type": "stream",
          "name": "stdout",
          "text": [
            "55\n"
          ]
        }
      ]
    },
    {
      "cell_type": "code",
      "source": [
        "# 팩토리얼 구하기(반복문 이용)\n",
        "factValue = 1\n",
        "for n in range(10, 0, -1):\n",
        "  factValue *= n\n",
        "print(\"10*9*...*1 = \", factValue)"
      ],
      "metadata": {
        "colab": {
          "base_uri": "https://localhost:8080/"
        },
        "id": "pvSuF3XwEzAF",
        "outputId": "20f9f730-9dc8-435f-8aae-fe62e775e2de"
      },
      "execution_count": 85,
      "outputs": [
        {
          "output_type": "stream",
          "name": "stdout",
          "text": [
            "10*9*...*1 =  3628800\n"
          ]
        }
      ]
    },
    {
      "cell_type": "code",
      "source": [
        "## 함수 선언부\n",
        "def factorial(num):\n",
        "  if num <= 1:\n",
        "    return 1\n",
        "  return num * factorial(num-1)\n",
        "\n",
        "## 메인 코드부\n",
        "print('10! = ', factorial(10))\n",
        "print('\\n5! = ', factorial(5))"
      ],
      "metadata": {
        "colab": {
          "base_uri": "https://localhost:8080/"
        },
        "id": "PFPmkytMFGXd",
        "outputId": "0d9692dc-b781-401a-ec75-97ad8be0d5f6"
      },
      "execution_count": 89,
      "outputs": [
        {
          "output_type": "stream",
          "name": "stdout",
          "text": [
            "10! =  3628800\n",
            "\n",
            "5! =  120\n"
          ]
        }
      ]
    },
    {
      "cell_type": "code",
      "source": [
        "def countDown(n):\n",
        "  if n == 0:\n",
        "    print('발사!!')\n",
        "  else :\n",
        "    print(n)\n",
        "    countDown(n-1)\n",
        "\n",
        "countDown(5)"
      ],
      "metadata": {
        "colab": {
          "base_uri": "https://localhost:8080/"
        },
        "id": "pgklpODXBXvy",
        "outputId": "77ba96d5-6858-420e-bd84-212fd32f6ac6"
      },
      "execution_count": 75,
      "outputs": [
        {
          "output_type": "stream",
          "name": "stdout",
          "text": [
            "5\n",
            "4\n",
            "3\n",
            "2\n",
            "1\n",
            "발사!!\n"
          ]
        }
      ]
    },
    {
      "cell_type": "code",
      "source": [
        "## 함수 선언부\n",
        "def printStar(n):\n",
        "  if n > 0:\n",
        "    printStar(n-1)\n",
        "    print('★'*n)\n",
        "\n",
        "## 메인 코드부\n",
        "printStar(5)"
      ],
      "metadata": {
        "colab": {
          "base_uri": "https://localhost:8080/"
        },
        "id": "wqL_Cm9fB08p",
        "outputId": "dd5951c8-09ce-471e-e5c1-e99b7c13e9ca"
      },
      "execution_count": 76,
      "outputs": [
        {
          "output_type": "stream",
          "name": "stdout",
          "text": [
            "★\n",
            "★★\n",
            "★★★\n",
            "★★★★\n",
            "★★★★★\n"
          ]
        }
      ]
    },
    {
      "cell_type": "code",
      "source": [
        "## 함수 선언부\n",
        "def gugu(dan, num):\n",
        "  print(\"%d x %d = %d\"%(dan, num, dan*num))\n",
        "  if num < 9 :\n",
        "    gugu(dan, num + 1)\n",
        "\n",
        "## 메인 코드부\n",
        "for dan in range(2,4):\n",
        "  print('## %d단 ##' % dan)\n",
        "  gugu(dan, 1)"
      ],
      "metadata": {
        "colab": {
          "base_uri": "https://localhost:8080/"
        },
        "id": "730KsEZbCgQ6",
        "outputId": "4addd181-17bf-4f9e-a84d-49ab51d06712"
      },
      "execution_count": 78,
      "outputs": [
        {
          "output_type": "stream",
          "name": "stdout",
          "text": [
            "## 2단 ##\n",
            "2 x 1 = 2\n",
            "2 x 2 = 4\n",
            "2 x 3 = 6\n",
            "2 x 4 = 8\n",
            "2 x 5 = 10\n",
            "2 x 6 = 12\n",
            "2 x 7 = 14\n",
            "2 x 8 = 16\n",
            "2 x 9 = 18\n",
            "## 3단 ##\n",
            "3 x 1 = 3\n",
            "3 x 2 = 6\n",
            "3 x 3 = 9\n",
            "3 x 4 = 12\n",
            "3 x 5 = 15\n",
            "3 x 6 = 18\n",
            "3 x 7 = 21\n",
            "3 x 8 = 24\n",
            "3 x 9 = 27\n"
          ]
        }
      ]
    },
    {
      "cell_type": "code",
      "source": [
        "## 함수 선언부\n",
        "tab = ''\n",
        "def pow(x, n):\n",
        "  global tab\n",
        "  tab += ' '\n",
        "  if n == 0:\n",
        "    return 1\n",
        "  print(tab + \"%d*%d^(%d-%d)\"%(x,x,n,1))\n",
        "  return x * pow(x,n-1)\n",
        "\n",
        "## 메인 코드부\n",
        "print('2^4')\n",
        "print('답->', pow(2,4))"
      ],
      "metadata": {
        "colab": {
          "base_uri": "https://localhost:8080/"
        },
        "id": "VFsrKjZeDMoD",
        "outputId": "0f90b3fa-b538-467e-ebff-b6ac49585f46"
      },
      "execution_count": 79,
      "outputs": [
        {
          "output_type": "stream",
          "name": "stdout",
          "text": [
            "2^4\n",
            " 2*2^(4-1)\n",
            "  2*2^(3-1)\n",
            "   2*2^(2-1)\n",
            "    2*2^(1-1)\n",
            "답-> 16\n"
          ]
        }
      ]
    },
    {
      "cell_type": "code",
      "source": [
        "## 함수 선언부\n",
        "#from random import randint\n",
        "import random\n",
        "def arySum(arr, n):\n",
        "  if n <= 0:\n",
        "    return arr[0]\n",
        "  return arySum(arr, n-1) + arr[n]\n",
        "\n",
        "## 메인 코드부\n",
        "ary = [random.randint(0,255) for _ in range(random.randint(10,20))]\n",
        "print(ary)\n",
        "print('배열 합계->', arySum(ary, len(ary)-1))"
      ],
      "metadata": {
        "colab": {
          "base_uri": "https://localhost:8080/"
        },
        "id": "_CLPnkE5Cq9R",
        "outputId": "5d5ea8c4-6bf6-4522-bbe3-a23a824b06fb"
      },
      "execution_count": 83,
      "outputs": [
        {
          "output_type": "stream",
          "name": "stdout",
          "text": [
            "[143, 166, 206, 147, 189, 193, 246, 66, 178, 229, 243, 147, 243, 221, 247, 41, 132, 122, 58, 52]\n",
            "배열 합계-> 3269\n"
          ]
        }
      ]
    }
  ]
}