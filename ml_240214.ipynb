{
  "cells": [
    {
      "cell_type": "markdown",
      "metadata": {
        "id": "view-in-github",
        "colab_type": "text"
      },
      "source": [
        "<a href=\"https://colab.research.google.com/github/SSUMINIs/mulcam34/blob/main/ml_240214.ipynb\" target=\"_parent\"><img src=\"https://colab.research.google.com/assets/colab-badge.svg\" alt=\"Open In Colab\"/></a>"
      ]
    },
    {
      "cell_type": "code",
      "execution_count": null,
      "id": "aa06fea8-8176-4a9c-b1f9-35387200bc0f",
      "metadata": {
        "id": "aa06fea8-8176-4a9c-b1f9-35387200bc0f",
        "outputId": "1bfd9a89-7966-4cf5-fdb4-5b37c33367d0"
      },
      "outputs": [
        {
          "data": {
            "text/plain": [
              "'3.2.0'"
            ]
          },
          "execution_count": 1,
          "metadata": {},
          "output_type": "execute_result"
        }
      ],
      "source": [
        "import pycaret\n",
        "pycaret.__version__"
      ]
    },
    {
      "cell_type": "code",
      "execution_count": null,
      "id": "3c7d7804-e29f-4894-8723-8b97127253cd",
      "metadata": {
        "id": "3c7d7804-e29f-4894-8723-8b97127253cd",
        "outputId": "937281cc-8c1a-4c69-861f-7492b74c0c57"
      },
      "outputs": [
        {
          "data": {
            "text/plain": [
              "'4.3.0'"
            ]
          },
          "execution_count": 2,
          "metadata": {},
          "output_type": "execute_result"
        }
      ],
      "source": [
        "import lightgbm\n",
        "lightgbm.__version__"
      ]
    },
    {
      "cell_type": "markdown",
      "id": "274bffc5-db09-4c6b-961f-b80c576262fc",
      "metadata": {
        "id": "274bffc5-db09-4c6b-961f-b80c576262fc"
      },
      "source": [
        "## 데이터 불러오기"
      ]
    },
    {
      "cell_type": "code",
      "execution_count": null,
      "id": "c3a267a8-4d1e-471c-bf13-c97b4ef17c4f",
      "metadata": {
        "id": "c3a267a8-4d1e-471c-bf13-c97b4ef17c4f",
        "outputId": "bac972a1-e9d8-48c6-f35a-bcc371724955"
      },
      "outputs": [
        {
          "data": {
            "text/html": [
              "<div>\n",
              "<style scoped>\n",
              "    .dataframe tbody tr th:only-of-type {\n",
              "        vertical-align: middle;\n",
              "    }\n",
              "\n",
              "    .dataframe tbody tr th {\n",
              "        vertical-align: top;\n",
              "    }\n",
              "\n",
              "    .dataframe thead th {\n",
              "        text-align: right;\n",
              "    }\n",
              "</style>\n",
              "<table border=\"1\" class=\"dataframe\">\n",
              "  <thead>\n",
              "    <tr style=\"text-align: right;\">\n",
              "      <th></th>\n",
              "      <th>PassengerId</th>\n",
              "      <th>Survived</th>\n",
              "      <th>Pclass</th>\n",
              "      <th>Name</th>\n",
              "      <th>Sex</th>\n",
              "      <th>Age</th>\n",
              "      <th>SibSp</th>\n",
              "      <th>Parch</th>\n",
              "      <th>Ticket</th>\n",
              "      <th>Fare</th>\n",
              "      <th>Cabin</th>\n",
              "      <th>Embarked</th>\n",
              "    </tr>\n",
              "  </thead>\n",
              "  <tbody>\n",
              "    <tr>\n",
              "      <th>0</th>\n",
              "      <td>1</td>\n",
              "      <td>0</td>\n",
              "      <td>3</td>\n",
              "      <td>Braund, Mr. Owen Harris</td>\n",
              "      <td>male</td>\n",
              "      <td>22.0</td>\n",
              "      <td>1</td>\n",
              "      <td>0</td>\n",
              "      <td>A/5 21171</td>\n",
              "      <td>7.2500</td>\n",
              "      <td>NaN</td>\n",
              "      <td>S</td>\n",
              "    </tr>\n",
              "    <tr>\n",
              "      <th>1</th>\n",
              "      <td>2</td>\n",
              "      <td>1</td>\n",
              "      <td>1</td>\n",
              "      <td>Cumings, Mrs. John Bradley (Florence Briggs Th...</td>\n",
              "      <td>female</td>\n",
              "      <td>38.0</td>\n",
              "      <td>1</td>\n",
              "      <td>0</td>\n",
              "      <td>PC 17599</td>\n",
              "      <td>71.2833</td>\n",
              "      <td>C85</td>\n",
              "      <td>C</td>\n",
              "    </tr>\n",
              "    <tr>\n",
              "      <th>2</th>\n",
              "      <td>3</td>\n",
              "      <td>1</td>\n",
              "      <td>3</td>\n",
              "      <td>Heikkinen, Miss. Laina</td>\n",
              "      <td>female</td>\n",
              "      <td>26.0</td>\n",
              "      <td>0</td>\n",
              "      <td>0</td>\n",
              "      <td>STON/O2. 3101282</td>\n",
              "      <td>7.9250</td>\n",
              "      <td>NaN</td>\n",
              "      <td>S</td>\n",
              "    </tr>\n",
              "    <tr>\n",
              "      <th>3</th>\n",
              "      <td>4</td>\n",
              "      <td>1</td>\n",
              "      <td>1</td>\n",
              "      <td>Futrelle, Mrs. Jacques Heath (Lily May Peel)</td>\n",
              "      <td>female</td>\n",
              "      <td>35.0</td>\n",
              "      <td>1</td>\n",
              "      <td>0</td>\n",
              "      <td>113803</td>\n",
              "      <td>53.1000</td>\n",
              "      <td>C123</td>\n",
              "      <td>S</td>\n",
              "    </tr>\n",
              "    <tr>\n",
              "      <th>4</th>\n",
              "      <td>5</td>\n",
              "      <td>0</td>\n",
              "      <td>3</td>\n",
              "      <td>Allen, Mr. William Henry</td>\n",
              "      <td>male</td>\n",
              "      <td>35.0</td>\n",
              "      <td>0</td>\n",
              "      <td>0</td>\n",
              "      <td>373450</td>\n",
              "      <td>8.0500</td>\n",
              "      <td>NaN</td>\n",
              "      <td>S</td>\n",
              "    </tr>\n",
              "  </tbody>\n",
              "</table>\n",
              "</div>"
            ],
            "text/plain": [
              "   PassengerId  Survived  Pclass  \\\n",
              "0            1         0       3   \n",
              "1            2         1       1   \n",
              "2            3         1       3   \n",
              "3            4         1       1   \n",
              "4            5         0       3   \n",
              "\n",
              "                                                Name     Sex   Age  SibSp  \\\n",
              "0                            Braund, Mr. Owen Harris    male  22.0      1   \n",
              "1  Cumings, Mrs. John Bradley (Florence Briggs Th...  female  38.0      1   \n",
              "2                             Heikkinen, Miss. Laina  female  26.0      0   \n",
              "3       Futrelle, Mrs. Jacques Heath (Lily May Peel)  female  35.0      1   \n",
              "4                           Allen, Mr. William Henry    male  35.0      0   \n",
              "\n",
              "   Parch            Ticket     Fare Cabin Embarked  \n",
              "0      0         A/5 21171   7.2500   NaN        S  \n",
              "1      0          PC 17599  71.2833   C85        C  \n",
              "2      0  STON/O2. 3101282   7.9250   NaN        S  \n",
              "3      0            113803  53.1000  C123        S  \n",
              "4      0            373450   8.0500   NaN        S  "
            ]
          },
          "execution_count": 3,
          "metadata": {},
          "output_type": "execute_result"
        }
      ],
      "source": [
        "import pandas as pd\n",
        "titanic_df = pd.read_csv(\"data/titanic_train.csv\")\n",
        "titanic_df.head()"
      ]
    },
    {
      "cell_type": "code",
      "execution_count": null,
      "id": "8d376a32-d707-4e7d-b398-c32f9b0bbaa5",
      "metadata": {
        "id": "8d376a32-d707-4e7d-b398-c32f9b0bbaa5"
      },
      "outputs": [],
      "source": [
        "## 데이터 확인"
      ]
    },
    {
      "cell_type": "code",
      "execution_count": null,
      "id": "20611fa9-2443-423c-926a-6fa52573bf72",
      "metadata": {
        "id": "20611fa9-2443-423c-926a-6fa52573bf72",
        "outputId": "40c75b0e-e681-4dfc-884d-bfc4d8c36813"
      },
      "outputs": [
        {
          "data": {
            "text/plain": [
              "(891, 12)"
            ]
          },
          "execution_count": 4,
          "metadata": {},
          "output_type": "execute_result"
        }
      ],
      "source": [
        "titanic_df.shape"
      ]
    },
    {
      "cell_type": "code",
      "execution_count": null,
      "id": "1956b714-4804-4524-b90b-559436cf6252",
      "metadata": {
        "id": "1956b714-4804-4524-b90b-559436cf6252",
        "outputId": "78cea0a7-cacb-4c41-8cae-6d205f26539c"
      },
      "outputs": [
        {
          "name": "stdout",
          "output_type": "stream",
          "text": [
            "<class 'pandas.core.frame.DataFrame'>\n",
            "RangeIndex: 891 entries, 0 to 890\n",
            "Data columns (total 12 columns):\n",
            " #   Column       Non-Null Count  Dtype  \n",
            "---  ------       --------------  -----  \n",
            " 0   PassengerId  891 non-null    int64  \n",
            " 1   Survived     891 non-null    int64  \n",
            " 2   Pclass       891 non-null    int64  \n",
            " 3   Name         891 non-null    object \n",
            " 4   Sex          891 non-null    object \n",
            " 5   Age          714 non-null    float64\n",
            " 6   SibSp        891 non-null    int64  \n",
            " 7   Parch        891 non-null    int64  \n",
            " 8   Ticket       891 non-null    object \n",
            " 9   Fare         891 non-null    float64\n",
            " 10  Cabin        204 non-null    object \n",
            " 11  Embarked     889 non-null    object \n",
            "dtypes: float64(2), int64(5), object(5)\n",
            "memory usage: 83.7+ KB\n"
          ]
        }
      ],
      "source": [
        "titanic_df.info()"
      ]
    },
    {
      "cell_type": "code",
      "execution_count": null,
      "id": "f1227b0e-d93c-49cd-9dd5-33d495882b69",
      "metadata": {
        "id": "f1227b0e-d93c-49cd-9dd5-33d495882b69",
        "outputId": "60b48a63-522f-4e29-b218-9977cecb1f65"
      },
      "outputs": [
        {
          "data": {
            "text/html": [
              "<div>\n",
              "<style scoped>\n",
              "    .dataframe tbody tr th:only-of-type {\n",
              "        vertical-align: middle;\n",
              "    }\n",
              "\n",
              "    .dataframe tbody tr th {\n",
              "        vertical-align: top;\n",
              "    }\n",
              "\n",
              "    .dataframe thead th {\n",
              "        text-align: right;\n",
              "    }\n",
              "</style>\n",
              "<table border=\"1\" class=\"dataframe\">\n",
              "  <thead>\n",
              "    <tr style=\"text-align: right;\">\n",
              "      <th></th>\n",
              "      <th>PassengerId</th>\n",
              "      <th>Survived</th>\n",
              "      <th>Pclass</th>\n",
              "      <th>Age</th>\n",
              "      <th>SibSp</th>\n",
              "      <th>Parch</th>\n",
              "      <th>Fare</th>\n",
              "    </tr>\n",
              "  </thead>\n",
              "  <tbody>\n",
              "    <tr>\n",
              "      <th>count</th>\n",
              "      <td>891.000000</td>\n",
              "      <td>891.000000</td>\n",
              "      <td>891.000000</td>\n",
              "      <td>714.000000</td>\n",
              "      <td>891.000000</td>\n",
              "      <td>891.000000</td>\n",
              "      <td>891.000000</td>\n",
              "    </tr>\n",
              "    <tr>\n",
              "      <th>mean</th>\n",
              "      <td>446.000000</td>\n",
              "      <td>0.383838</td>\n",
              "      <td>2.308642</td>\n",
              "      <td>29.699118</td>\n",
              "      <td>0.523008</td>\n",
              "      <td>0.381594</td>\n",
              "      <td>32.204208</td>\n",
              "    </tr>\n",
              "    <tr>\n",
              "      <th>std</th>\n",
              "      <td>257.353842</td>\n",
              "      <td>0.486592</td>\n",
              "      <td>0.836071</td>\n",
              "      <td>14.526497</td>\n",
              "      <td>1.102743</td>\n",
              "      <td>0.806057</td>\n",
              "      <td>49.693429</td>\n",
              "    </tr>\n",
              "    <tr>\n",
              "      <th>min</th>\n",
              "      <td>1.000000</td>\n",
              "      <td>0.000000</td>\n",
              "      <td>1.000000</td>\n",
              "      <td>0.420000</td>\n",
              "      <td>0.000000</td>\n",
              "      <td>0.000000</td>\n",
              "      <td>0.000000</td>\n",
              "    </tr>\n",
              "    <tr>\n",
              "      <th>25%</th>\n",
              "      <td>223.500000</td>\n",
              "      <td>0.000000</td>\n",
              "      <td>2.000000</td>\n",
              "      <td>20.125000</td>\n",
              "      <td>0.000000</td>\n",
              "      <td>0.000000</td>\n",
              "      <td>7.910400</td>\n",
              "    </tr>\n",
              "    <tr>\n",
              "      <th>50%</th>\n",
              "      <td>446.000000</td>\n",
              "      <td>0.000000</td>\n",
              "      <td>3.000000</td>\n",
              "      <td>28.000000</td>\n",
              "      <td>0.000000</td>\n",
              "      <td>0.000000</td>\n",
              "      <td>14.454200</td>\n",
              "    </tr>\n",
              "    <tr>\n",
              "      <th>75%</th>\n",
              "      <td>668.500000</td>\n",
              "      <td>1.000000</td>\n",
              "      <td>3.000000</td>\n",
              "      <td>38.000000</td>\n",
              "      <td>1.000000</td>\n",
              "      <td>0.000000</td>\n",
              "      <td>31.000000</td>\n",
              "    </tr>\n",
              "    <tr>\n",
              "      <th>max</th>\n",
              "      <td>891.000000</td>\n",
              "      <td>1.000000</td>\n",
              "      <td>3.000000</td>\n",
              "      <td>80.000000</td>\n",
              "      <td>8.000000</td>\n",
              "      <td>6.000000</td>\n",
              "      <td>512.329200</td>\n",
              "    </tr>\n",
              "  </tbody>\n",
              "</table>\n",
              "</div>"
            ],
            "text/plain": [
              "       PassengerId    Survived      Pclass         Age       SibSp  \\\n",
              "count   891.000000  891.000000  891.000000  714.000000  891.000000   \n",
              "mean    446.000000    0.383838    2.308642   29.699118    0.523008   \n",
              "std     257.353842    0.486592    0.836071   14.526497    1.102743   \n",
              "min       1.000000    0.000000    1.000000    0.420000    0.000000   \n",
              "25%     223.500000    0.000000    2.000000   20.125000    0.000000   \n",
              "50%     446.000000    0.000000    3.000000   28.000000    0.000000   \n",
              "75%     668.500000    1.000000    3.000000   38.000000    1.000000   \n",
              "max     891.000000    1.000000    3.000000   80.000000    8.000000   \n",
              "\n",
              "            Parch        Fare  \n",
              "count  891.000000  891.000000  \n",
              "mean     0.381594   32.204208  \n",
              "std      0.806057   49.693429  \n",
              "min      0.000000    0.000000  \n",
              "25%      0.000000    7.910400  \n",
              "50%      0.000000   14.454200  \n",
              "75%      0.000000   31.000000  \n",
              "max      6.000000  512.329200  "
            ]
          },
          "execution_count": 6,
          "metadata": {},
          "output_type": "execute_result"
        }
      ],
      "source": [
        "titanic_df.describe()"
      ]
    },
    {
      "cell_type": "code",
      "execution_count": null,
      "id": "f455c3e7-31a6-460d-8c26-ccd8c20a0f40",
      "metadata": {
        "id": "f455c3e7-31a6-460d-8c26-ccd8c20a0f40",
        "outputId": "1fa0c7a3-3319-4f1c-cc13-f663c32c2ed4"
      },
      "outputs": [
        {
          "name": "stdout",
          "output_type": "stream",
          "text": [
            "Int64Index([3, 1, 2], dtype='int64')\n",
            "<class 'numpy.ndarray'>\n"
          ]
        }
      ],
      "source": [
        "temp = titanic_df['Pclass'].value_counts()\n",
        "print(temp.index)\n",
        "print(type(temp.values))"
      ]
    },
    {
      "cell_type": "code",
      "execution_count": null,
      "id": "e0c0efe8-4f2e-411a-b426-49d5b4ef3baf",
      "metadata": {
        "id": "e0c0efe8-4f2e-411a-b426-49d5b4ef3baf",
        "outputId": "ea32e043-e7fc-4fa3-d0d6-0eac2a284865"
      },
      "outputs": [
        {
          "data": {
            "text/plain": [
              "NaN            687\n",
              "C23 C25 C27      4\n",
              "G6               4\n",
              "B96 B98          4\n",
              "C22 C26          3\n",
              "              ... \n",
              "E34              1\n",
              "C7               1\n",
              "C54              1\n",
              "E36              1\n",
              "C148             1\n",
              "Name: Cabin, Length: 148, dtype: int64"
            ]
          },
          "execution_count": 8,
          "metadata": {},
          "output_type": "execute_result"
        }
      ],
      "source": [
        "titanic_df['Cabin'].value_counts(dropna=False)"
      ]
    },
    {
      "cell_type": "markdown",
      "id": "4a6ab332-2552-40f9-9f2a-aa091a74912d",
      "metadata": {
        "id": "4a6ab332-2552-40f9-9f2a-aa091a74912d"
      },
      "source": [
        "## 교재 50~53p\n",
        "-numpy, list, dictionary와 DataFrame으로 상호 변환 가능하다"
      ]
    },
    {
      "cell_type": "code",
      "execution_count": null,
      "id": "88a50da8-4b2d-4812-81be-6d12d21eaa28",
      "metadata": {
        "id": "88a50da8-4b2d-4812-81be-6d12d21eaa28"
      },
      "outputs": [],
      "source": [
        "#titanic_df.values #numpy로 변환\n",
        "#titanic_df.values.tolist() #리스트로 변환\n",
        "#titanic_df.to_dict('list')#데이터 프레임을 딕셔너리로 변환"
      ]
    },
    {
      "cell_type": "markdown",
      "id": "db2cc1dd-ad69-4193-881a-da54f909beab",
      "metadata": {
        "id": "db2cc1dd-ad69-4193-881a-da54f909beab"
      },
      "source": [
        "## DataFrame의 칼럼 데이터 세트 생성과 수정"
      ]
    },
    {
      "cell_type": "code",
      "execution_count": null,
      "id": "2b281510-5692-4e69-ad83-4bb3aca500b9",
      "metadata": {
        "id": "2b281510-5692-4e69-ad83-4bb3aca500b9"
      },
      "outputs": [],
      "source": [
        "#data['새로운컬럼명'] = 연산"
      ]
    },
    {
      "cell_type": "markdown",
      "id": "5d5b1fab-3003-48cf-932d-0b7775e18799",
      "metadata": {
        "id": "5d5b1fab-3003-48cf-932d-0b7775e18799"
      },
      "source": [
        "## DataFrame 삭제\n",
        "- axis = 1 ==> 지정된 컬럼 삭제\n",
        "- axis = 0 ==> 지정된 index(=행) 삭제\n",
        "- inplace = True -> 권장하지 않음."
      ]
    },
    {
      "cell_type": "markdown",
      "id": "3dea720b-de0b-48f4-9399-91f37d3fc3f7",
      "metadata": {
        "id": "3dea720b-de0b-48f4-9399-91f37d3fc3f7"
      },
      "source": [
        "## set_option()_판다스 설정\n",
        "- streamlit 활용해서 깔끔하게 테이블 보여주고 싶을때, 활용가치가 있음\n",
        "- data_editor()"
      ]
    },
    {
      "cell_type": "markdown",
      "id": "2d13e798-fe01-4e53-b106-1c5107879daf",
      "metadata": {
        "id": "2d13e798-fe01-4e53-b106-1c5107879daf"
      },
      "source": [
        "## 데이터 셀렉션 및 필터링\n",
        "- .loc 문법만 잘 기억해도 큰 문제 안됨!\n",
        "- keyError ==> 해당 데이터프레임의 컬럼명이 현재 없는 상태 or Dictionary의 Key값이 존재하지 않는 상태"
      ]
    },
    {
      "cell_type": "code",
      "execution_count": null,
      "id": "f110cbcf-7d58-40db-b4eb-a820d0833731",
      "metadata": {
        "id": "f110cbcf-7d58-40db-b4eb-a820d0833731"
      },
      "outputs": [],
      "source": [
        "## 결손 데이터 처리하기\n",
        "- Missing Data"
      ]
    },
    {
      "cell_type": "code",
      "execution_count": null,
      "id": "04f7405a-d127-4608-ab22-86f05e5d545e",
      "metadata": {
        "id": "04f7405a-d127-4608-ab22-86f05e5d545e",
        "outputId": "df729128-9821-48a3-b888-fdd9518168a7"
      },
      "outputs": [
        {
          "data": {
            "text/html": [
              "<div>\n",
              "<style scoped>\n",
              "    .dataframe tbody tr th:only-of-type {\n",
              "        vertical-align: middle;\n",
              "    }\n",
              "\n",
              "    .dataframe tbody tr th {\n",
              "        vertical-align: top;\n",
              "    }\n",
              "\n",
              "    .dataframe thead th {\n",
              "        text-align: right;\n",
              "    }\n",
              "</style>\n",
              "<table border=\"1\" class=\"dataframe\">\n",
              "  <thead>\n",
              "    <tr style=\"text-align: right;\">\n",
              "      <th></th>\n",
              "      <th>PassengerId</th>\n",
              "      <th>Survived</th>\n",
              "      <th>Pclass</th>\n",
              "      <th>Name</th>\n",
              "      <th>Sex</th>\n",
              "      <th>Age</th>\n",
              "      <th>SibSp</th>\n",
              "      <th>Parch</th>\n",
              "      <th>Ticket</th>\n",
              "      <th>Fare</th>\n",
              "      <th>Cabin</th>\n",
              "      <th>Embarked</th>\n",
              "    </tr>\n",
              "  </thead>\n",
              "  <tbody>\n",
              "    <tr>\n",
              "      <th>0</th>\n",
              "      <td>False</td>\n",
              "      <td>False</td>\n",
              "      <td>False</td>\n",
              "      <td>False</td>\n",
              "      <td>False</td>\n",
              "      <td>False</td>\n",
              "      <td>False</td>\n",
              "      <td>False</td>\n",
              "      <td>False</td>\n",
              "      <td>False</td>\n",
              "      <td>True</td>\n",
              "      <td>False</td>\n",
              "    </tr>\n",
              "    <tr>\n",
              "      <th>1</th>\n",
              "      <td>False</td>\n",
              "      <td>False</td>\n",
              "      <td>False</td>\n",
              "      <td>False</td>\n",
              "      <td>False</td>\n",
              "      <td>False</td>\n",
              "      <td>False</td>\n",
              "      <td>False</td>\n",
              "      <td>False</td>\n",
              "      <td>False</td>\n",
              "      <td>False</td>\n",
              "      <td>False</td>\n",
              "    </tr>\n",
              "    <tr>\n",
              "      <th>2</th>\n",
              "      <td>False</td>\n",
              "      <td>False</td>\n",
              "      <td>False</td>\n",
              "      <td>False</td>\n",
              "      <td>False</td>\n",
              "      <td>False</td>\n",
              "      <td>False</td>\n",
              "      <td>False</td>\n",
              "      <td>False</td>\n",
              "      <td>False</td>\n",
              "      <td>True</td>\n",
              "      <td>False</td>\n",
              "    </tr>\n",
              "  </tbody>\n",
              "</table>\n",
              "</div>"
            ],
            "text/plain": [
              "   PassengerId  Survived  Pclass   Name    Sex    Age  SibSp  Parch  Ticket  \\\n",
              "0        False     False   False  False  False  False  False  False   False   \n",
              "1        False     False   False  False  False  False  False  False   False   \n",
              "2        False     False   False  False  False  False  False  False   False   \n",
              "\n",
              "    Fare  Cabin  Embarked  \n",
              "0  False   True     False  \n",
              "1  False  False     False  \n",
              "2  False   True     False  "
            ]
          },
          "execution_count": 12,
          "metadata": {},
          "output_type": "execute_result"
        }
      ],
      "source": [
        "titanic_df.isna().head(3)"
      ]
    },
    {
      "cell_type": "code",
      "execution_count": null,
      "id": "a52bdb9a-bc1e-496a-aa4b-8b9b4c777e93",
      "metadata": {
        "id": "a52bdb9a-bc1e-496a-aa4b-8b9b4c777e93",
        "outputId": "d3726fff-bbc1-4224-eca6-9b4decddc2ac"
      },
      "outputs": [
        {
          "data": {
            "text/plain": [
              "PassengerId      0\n",
              "Survived         0\n",
              "Pclass           0\n",
              "Name             0\n",
              "Sex              0\n",
              "Age            177\n",
              "SibSp            0\n",
              "Parch            0\n",
              "Ticket           0\n",
              "Fare             0\n",
              "Cabin          687\n",
              "Embarked         2\n",
              "dtype: int64"
            ]
          },
          "execution_count": 13,
          "metadata": {},
          "output_type": "execute_result"
        }
      ],
      "source": [
        "titanic_df.isna().sum()"
      ]
    },
    {
      "cell_type": "markdown",
      "id": "da33574e-b094-4f2a-9eab-86932bea1a02",
      "metadata": {
        "id": "da33574e-b094-4f2a-9eab-86932bea1a02"
      },
      "source": [
        "### fillna()로 결손 데이터 대체하기"
      ]
    },
    {
      "cell_type": "code",
      "execution_count": null,
      "id": "f50c25b6-3d4c-4f2c-823a-a847b5cacde1",
      "metadata": {
        "id": "f50c25b6-3d4c-4f2c-823a-a847b5cacde1"
      },
      "outputs": [],
      "source": [
        "titanic_df['Cabin'] = titanic_df['Cabin'].fillna('C000')\n",
        "titanic_df['Age'] = titanic_df['Age'].fillna(titanic_df['Age'].mean())\n",
        "titanic_df['Embarked'] = titanic_df['Embarked'].fillna('S') #S를 쓴 이유:S가 제일 값이 많아서..."
      ]
    },
    {
      "cell_type": "code",
      "execution_count": null,
      "id": "5963e3ae-dfde-4d71-8ca3-bff48a9cc747",
      "metadata": {
        "id": "5963e3ae-dfde-4d71-8ca3-bff48a9cc747",
        "outputId": "c5998315-ef23-41d7-9471-94aa8b62ad91"
      },
      "outputs": [
        {
          "data": {
            "text/plain": [
              "'S'"
            ]
          },
          "execution_count": 19,
          "metadata": {},
          "output_type": "execute_result"
        }
      ],
      "source": [
        "titanic_df['Embarked'].value_counts().index[0]"
      ]
    },
    {
      "cell_type": "code",
      "execution_count": null,
      "id": "98354710-1439-4945-a736-31b8025b4cb7",
      "metadata": {
        "id": "98354710-1439-4945-a736-31b8025b4cb7",
        "outputId": "39d8870a-aea4-45ea-b6ae-ee45b7ef1b4d"
      },
      "outputs": [
        {
          "data": {
            "text/plain": [
              "'S'"
            ]
          },
          "execution_count": 24,
          "metadata": {},
          "output_type": "execute_result"
        }
      ],
      "source": [
        "titanic_df['Embarked'].mode()[0] #빈도수가 가장 많은 것을 보여준다."
      ]
    },
    {
      "cell_type": "code",
      "execution_count": null,
      "id": "0086cd53-4b31-4bc7-be67-02294e38c08c",
      "metadata": {
        "id": "0086cd53-4b31-4bc7-be67-02294e38c08c",
        "outputId": "46750189-501b-40d1-d367-503d0b38f73d"
      },
      "outputs": [
        {
          "data": {
            "text/plain": [
              "PassengerId    0\n",
              "Survived       0\n",
              "Pclass         0\n",
              "Name           0\n",
              "Sex            0\n",
              "Age            0\n",
              "SibSp          0\n",
              "Parch          0\n",
              "Ticket         0\n",
              "Fare           0\n",
              "Cabin          0\n",
              "Embarked       0\n",
              "dtype: int64"
            ]
          },
          "execution_count": 15,
          "metadata": {},
          "output_type": "execute_result"
        }
      ],
      "source": [
        "titanic_df.isna().sum()"
      ]
    },
    {
      "cell_type": "markdown",
      "id": "a23460ba-5b6b-4c67-bb73-2ebf078fc994",
      "metadata": {
        "id": "a23460ba-5b6b-4c67-bb73-2ebf078fc994"
      },
      "source": [
        "## apply lambda 식으로 데이터 가공\n",
        "- 1회성 사용자 정의 함수"
      ]
    },
    {
      "cell_type": "code",
      "execution_count": null,
      "id": "ff15e712-772d-4fc8-bfc8-acac59014a99",
      "metadata": {
        "id": "ff15e712-772d-4fc8-bfc8-acac59014a99",
        "outputId": "aa16484c-9767-46b4-9b62-51a3210c2f8b"
      },
      "outputs": [
        {
          "data": {
            "text/plain": [
              "81"
            ]
          },
          "execution_count": 33,
          "metadata": {},
          "output_type": "execute_result"
        }
      ],
      "source": [
        "def get_square(a):\n",
        "    return a ** 2\n",
        "get_square(9)"
      ]
    },
    {
      "cell_type": "code",
      "execution_count": null,
      "id": "37e36517-9f49-423c-90e8-d163d076fc95",
      "metadata": {
        "id": "37e36517-9f49-423c-90e8-d163d076fc95",
        "outputId": "4e3e4200-f570-4b78-b1c2-059780783bcc"
      },
      "outputs": [
        {
          "data": {
            "text/plain": [
              "81"
            ]
          },
          "execution_count": 34,
          "metadata": {},
          "output_type": "execute_result"
        }
      ],
      "source": [
        "lambda_square = lambda x : x ** 2\n",
        "lambda_square(9)"
      ]
    },
    {
      "cell_type": "code",
      "execution_count": null,
      "id": "d9bdf7c9-284c-446b-9b59-835d136a76c9",
      "metadata": {
        "id": "d9bdf7c9-284c-446b-9b59-835d136a76c9",
        "outputId": "c958924e-e8eb-4a2b-82d6-fa76b608703a"
      },
      "outputs": [
        {
          "data": {
            "text/plain": [
              "[1, 4, 9, 16, 25, 36, 49, 64, 81]"
            ]
          },
          "execution_count": 36,
          "metadata": {},
          "output_type": "execute_result"
        }
      ],
      "source": [
        "a = [1, 2, 3, 4, 5, 6, 7, 8, 9]\n",
        "squares = map(lambda x : x ** 2, a)\n",
        "list(squares)"
      ]
    },
    {
      "cell_type": "code",
      "execution_count": null,
      "id": "18688d9f-c2bf-454e-ae91-d033777cef4b",
      "metadata": {
        "id": "18688d9f-c2bf-454e-ae91-d033777cef4b",
        "outputId": "741af540-be3d-4fc1-ce2b-5209ab06053e"
      },
      "outputs": [
        {
          "data": {
            "text/html": [
              "<div>\n",
              "<style scoped>\n",
              "    .dataframe tbody tr th:only-of-type {\n",
              "        vertical-align: middle;\n",
              "    }\n",
              "\n",
              "    .dataframe tbody tr th {\n",
              "        vertical-align: top;\n",
              "    }\n",
              "\n",
              "    .dataframe thead th {\n",
              "        text-align: right;\n",
              "    }\n",
              "</style>\n",
              "<table border=\"1\" class=\"dataframe\">\n",
              "  <thead>\n",
              "    <tr style=\"text-align: right;\">\n",
              "      <th></th>\n",
              "      <th>PassengerId</th>\n",
              "      <th>Survived</th>\n",
              "      <th>Pclass</th>\n",
              "      <th>Name</th>\n",
              "      <th>Sex</th>\n",
              "      <th>Age</th>\n",
              "      <th>SibSp</th>\n",
              "      <th>Parch</th>\n",
              "      <th>Ticket</th>\n",
              "      <th>Fare</th>\n",
              "      <th>Cabin</th>\n",
              "      <th>Embarked</th>\n",
              "      <th>Name_len</th>\n",
              "    </tr>\n",
              "  </thead>\n",
              "  <tbody>\n",
              "    <tr>\n",
              "      <th>0</th>\n",
              "      <td>1</td>\n",
              "      <td>0</td>\n",
              "      <td>3</td>\n",
              "      <td>Braund, Mr. Owen Harris</td>\n",
              "      <td>male</td>\n",
              "      <td>22.0</td>\n",
              "      <td>1</td>\n",
              "      <td>0</td>\n",
              "      <td>A/5 21171</td>\n",
              "      <td>7.2500</td>\n",
              "      <td>C000</td>\n",
              "      <td>S</td>\n",
              "      <td>23</td>\n",
              "    </tr>\n",
              "    <tr>\n",
              "      <th>1</th>\n",
              "      <td>2</td>\n",
              "      <td>1</td>\n",
              "      <td>1</td>\n",
              "      <td>Cumings, Mrs. John Bradley (Florence Briggs Th...</td>\n",
              "      <td>female</td>\n",
              "      <td>38.0</td>\n",
              "      <td>1</td>\n",
              "      <td>0</td>\n",
              "      <td>PC 17599</td>\n",
              "      <td>71.2833</td>\n",
              "      <td>C85</td>\n",
              "      <td>C</td>\n",
              "      <td>51</td>\n",
              "    </tr>\n",
              "  </tbody>\n",
              "</table>\n",
              "</div>"
            ],
            "text/plain": [
              "   PassengerId  Survived  Pclass  \\\n",
              "0            1         0       3   \n",
              "1            2         1       1   \n",
              "\n",
              "                                                Name     Sex   Age  SibSp  \\\n",
              "0                            Braund, Mr. Owen Harris    male  22.0      1   \n",
              "1  Cumings, Mrs. John Bradley (Florence Briggs Th...  female  38.0      1   \n",
              "\n",
              "   Parch     Ticket     Fare Cabin Embarked  Name_len  \n",
              "0      0  A/5 21171   7.2500  C000        S        23  \n",
              "1      0   PC 17599  71.2833   C85        C        51  "
            ]
          },
          "execution_count": 40,
          "metadata": {},
          "output_type": "execute_result"
        }
      ],
      "source": [
        "titanic_df.head(2)"
      ]
    },
    {
      "cell_type": "code",
      "execution_count": null,
      "id": "ad64f1cf-6c73-45f8-9eac-87b4133334b8",
      "metadata": {
        "id": "ad64f1cf-6c73-45f8-9eac-87b4133334b8",
        "outputId": "e8c22395-0b07-4c8f-9edb-60b5d348209b"
      },
      "outputs": [
        {
          "data": {
            "text/html": [
              "<div>\n",
              "<style scoped>\n",
              "    .dataframe tbody tr th:only-of-type {\n",
              "        vertical-align: middle;\n",
              "    }\n",
              "\n",
              "    .dataframe tbody tr th {\n",
              "        vertical-align: top;\n",
              "    }\n",
              "\n",
              "    .dataframe thead th {\n",
              "        text-align: right;\n",
              "    }\n",
              "</style>\n",
              "<table border=\"1\" class=\"dataframe\">\n",
              "  <thead>\n",
              "    <tr style=\"text-align: right;\">\n",
              "      <th></th>\n",
              "      <th>PassengerId</th>\n",
              "      <th>Survived</th>\n",
              "      <th>Pclass</th>\n",
              "      <th>Name</th>\n",
              "      <th>Sex</th>\n",
              "      <th>Age</th>\n",
              "      <th>SibSp</th>\n",
              "      <th>Parch</th>\n",
              "      <th>Ticket</th>\n",
              "      <th>Fare</th>\n",
              "      <th>Cabin</th>\n",
              "      <th>Embarked</th>\n",
              "      <th>Name_len</th>\n",
              "    </tr>\n",
              "  </thead>\n",
              "  <tbody>\n",
              "    <tr>\n",
              "      <th>0</th>\n",
              "      <td>1</td>\n",
              "      <td>0</td>\n",
              "      <td>3</td>\n",
              "      <td>Braund, Mr. Owen Harris</td>\n",
              "      <td>male</td>\n",
              "      <td>22.0</td>\n",
              "      <td>1</td>\n",
              "      <td>0</td>\n",
              "      <td>A/5 21171</td>\n",
              "      <td>7.2500</td>\n",
              "      <td>C000</td>\n",
              "      <td>S</td>\n",
              "      <td>23</td>\n",
              "    </tr>\n",
              "    <tr>\n",
              "      <th>1</th>\n",
              "      <td>2</td>\n",
              "      <td>1</td>\n",
              "      <td>1</td>\n",
              "      <td>Cumings, Mrs. John Bradley (Florence Briggs Th...</td>\n",
              "      <td>female</td>\n",
              "      <td>38.0</td>\n",
              "      <td>1</td>\n",
              "      <td>0</td>\n",
              "      <td>PC 17599</td>\n",
              "      <td>71.2833</td>\n",
              "      <td>C85</td>\n",
              "      <td>C</td>\n",
              "      <td>51</td>\n",
              "    </tr>\n",
              "  </tbody>\n",
              "</table>\n",
              "</div>"
            ],
            "text/plain": [
              "   PassengerId  Survived  Pclass  \\\n",
              "0            1         0       3   \n",
              "1            2         1       1   \n",
              "\n",
              "                                                Name     Sex   Age  SibSp  \\\n",
              "0                            Braund, Mr. Owen Harris    male  22.0      1   \n",
              "1  Cumings, Mrs. John Bradley (Florence Briggs Th...  female  38.0      1   \n",
              "\n",
              "   Parch     Ticket     Fare Cabin Embarked  Name_len  \n",
              "0      0  A/5 21171   7.2500  C000        S        23  \n",
              "1      0   PC 17599  71.2833   C85        C        51  "
            ]
          },
          "execution_count": 41,
          "metadata": {},
          "output_type": "execute_result"
        }
      ],
      "source": [
        "titanic_df['Name_len'] = titanic_df['Name'].apply(lambda x : len(x)) #행단위로 처리할때 apply 사용\n",
        "titanic_df.head(2)"
      ]
    },
    {
      "cell_type": "markdown",
      "id": "efd8a238-8aa8-4beb-aa69-98f61af44471",
      "metadata": {
        "id": "efd8a238-8aa8-4beb-aa69-98f61af44471"
      },
      "source": [
        "## apply()\n",
        "- 행 단위로 연산 할때, apply()사용\n",
        "    + lambda : 간단한 연산을 할 때는 lambda\n",
        "    + udf (사용자 정의 함수) : if 조건절이 여러번 사용될 것 같은 상황이면 udf쓰는 등 나름의 기준이 필요"
      ]
    },
    {
      "cell_type": "code",
      "execution_count": null,
      "id": "dc98c825-22e2-4e28-ac32-bffa6da0dbd6",
      "metadata": {
        "id": "dc98c825-22e2-4e28-ac32-bffa6da0dbd6"
      },
      "outputs": [],
      "source": [
        "def get_category(age):\n",
        "    cat = ''\n",
        "    if age <= 5: cat = 'Baby'\n",
        "    elif age <= 12: cat = 'Child'\n",
        "    elif age <= 18: cat = 'Teenager'\n",
        "    elif age <= 25: cat = 'Student'\n",
        "    elif age <= 35: cat = 'Young Adult'\n",
        "    elif age <= 60: cat = 'Adult'\n",
        "    else : cat = 'Elderly'\n",
        "\n",
        "    return cat"
      ]
    },
    {
      "cell_type": "code",
      "execution_count": null,
      "id": "e32406e9-d595-4b62-8540-e51f164f6384",
      "metadata": {
        "scrolled": true,
        "id": "e32406e9-d595-4b62-8540-e51f164f6384",
        "outputId": "d1ee18b0-2051-4ccf-c4cf-46f2b3d2de7a"
      },
      "outputs": [
        {
          "data": {
            "text/html": [
              "<div>\n",
              "<style scoped>\n",
              "    .dataframe tbody tr th:only-of-type {\n",
              "        vertical-align: middle;\n",
              "    }\n",
              "\n",
              "    .dataframe tbody tr th {\n",
              "        vertical-align: top;\n",
              "    }\n",
              "\n",
              "    .dataframe thead th {\n",
              "        text-align: right;\n",
              "    }\n",
              "</style>\n",
              "<table border=\"1\" class=\"dataframe\">\n",
              "  <thead>\n",
              "    <tr style=\"text-align: right;\">\n",
              "      <th></th>\n",
              "      <th>PassengerId</th>\n",
              "      <th>Survived</th>\n",
              "      <th>Pclass</th>\n",
              "      <th>Name</th>\n",
              "      <th>Sex</th>\n",
              "      <th>Age</th>\n",
              "      <th>SibSp</th>\n",
              "      <th>Parch</th>\n",
              "      <th>Ticket</th>\n",
              "      <th>Fare</th>\n",
              "      <th>Cabin</th>\n",
              "      <th>Embarked</th>\n",
              "      <th>Name_len</th>\n",
              "      <th>Age_cat</th>\n",
              "    </tr>\n",
              "  </thead>\n",
              "  <tbody>\n",
              "    <tr>\n",
              "      <th>0</th>\n",
              "      <td>1</td>\n",
              "      <td>0</td>\n",
              "      <td>3</td>\n",
              "      <td>Braund, Mr. Owen Harris</td>\n",
              "      <td>male</td>\n",
              "      <td>22.0</td>\n",
              "      <td>1</td>\n",
              "      <td>0</td>\n",
              "      <td>A/5 21171</td>\n",
              "      <td>7.2500</td>\n",
              "      <td>C000</td>\n",
              "      <td>S</td>\n",
              "      <td>23</td>\n",
              "      <td>Student</td>\n",
              "    </tr>\n",
              "    <tr>\n",
              "      <th>1</th>\n",
              "      <td>2</td>\n",
              "      <td>1</td>\n",
              "      <td>1</td>\n",
              "      <td>Cumings, Mrs. John Bradley (Florence Briggs Th...</td>\n",
              "      <td>female</td>\n",
              "      <td>38.0</td>\n",
              "      <td>1</td>\n",
              "      <td>0</td>\n",
              "      <td>PC 17599</td>\n",
              "      <td>71.2833</td>\n",
              "      <td>C85</td>\n",
              "      <td>C</td>\n",
              "      <td>51</td>\n",
              "      <td>Adult</td>\n",
              "    </tr>\n",
              "    <tr>\n",
              "      <th>2</th>\n",
              "      <td>3</td>\n",
              "      <td>1</td>\n",
              "      <td>3</td>\n",
              "      <td>Heikkinen, Miss. Laina</td>\n",
              "      <td>female</td>\n",
              "      <td>26.0</td>\n",
              "      <td>0</td>\n",
              "      <td>0</td>\n",
              "      <td>STON/O2. 3101282</td>\n",
              "      <td>7.9250</td>\n",
              "      <td>C000</td>\n",
              "      <td>S</td>\n",
              "      <td>22</td>\n",
              "      <td>Young Adult</td>\n",
              "    </tr>\n",
              "    <tr>\n",
              "      <th>3</th>\n",
              "      <td>4</td>\n",
              "      <td>1</td>\n",
              "      <td>1</td>\n",
              "      <td>Futrelle, Mrs. Jacques Heath (Lily May Peel)</td>\n",
              "      <td>female</td>\n",
              "      <td>35.0</td>\n",
              "      <td>1</td>\n",
              "      <td>0</td>\n",
              "      <td>113803</td>\n",
              "      <td>53.1000</td>\n",
              "      <td>C123</td>\n",
              "      <td>S</td>\n",
              "      <td>44</td>\n",
              "      <td>Young Adult</td>\n",
              "    </tr>\n",
              "    <tr>\n",
              "      <th>4</th>\n",
              "      <td>5</td>\n",
              "      <td>0</td>\n",
              "      <td>3</td>\n",
              "      <td>Allen, Mr. William Henry</td>\n",
              "      <td>male</td>\n",
              "      <td>35.0</td>\n",
              "      <td>0</td>\n",
              "      <td>0</td>\n",
              "      <td>373450</td>\n",
              "      <td>8.0500</td>\n",
              "      <td>C000</td>\n",
              "      <td>S</td>\n",
              "      <td>24</td>\n",
              "      <td>Young Adult</td>\n",
              "    </tr>\n",
              "  </tbody>\n",
              "</table>\n",
              "</div>"
            ],
            "text/plain": [
              "   PassengerId  Survived  Pclass  \\\n",
              "0            1         0       3   \n",
              "1            2         1       1   \n",
              "2            3         1       3   \n",
              "3            4         1       1   \n",
              "4            5         0       3   \n",
              "\n",
              "                                                Name     Sex   Age  SibSp  \\\n",
              "0                            Braund, Mr. Owen Harris    male  22.0      1   \n",
              "1  Cumings, Mrs. John Bradley (Florence Briggs Th...  female  38.0      1   \n",
              "2                             Heikkinen, Miss. Laina  female  26.0      0   \n",
              "3       Futrelle, Mrs. Jacques Heath (Lily May Peel)  female  35.0      1   \n",
              "4                           Allen, Mr. William Henry    male  35.0      0   \n",
              "\n",
              "   Parch            Ticket     Fare Cabin Embarked  Name_len      Age_cat  \n",
              "0      0         A/5 21171   7.2500  C000        S        23      Student  \n",
              "1      0          PC 17599  71.2833   C85        C        51        Adult  \n",
              "2      0  STON/O2. 3101282   7.9250  C000        S        22  Young Adult  \n",
              "3      0            113803  53.1000  C123        S        44  Young Adult  \n",
              "4      0            373450   8.0500  C000        S        24  Young Adult  "
            ]
          },
          "execution_count": 43,
          "metadata": {},
          "output_type": "execute_result"
        }
      ],
      "source": [
        "titanic_df['Age_cat'] = titanic_df['Age'].apply(lambda x : get_category(x))\n",
        "titanic_df.head()"
      ]
    },
    {
      "cell_type": "markdown",
      "id": "fc8f141e-07a6-42fc-b5df-ac2cb9c036c2",
      "metadata": {
        "id": "fc8f141e-07a6-42fc-b5df-ac2cb9c036c2"
      },
      "source": [
        "## 사이킷런 (Scikit-Learn)\n",
        "- Python 머신러닝 라이브러리\n",
        "- 엑셀 데이터 ==> 정형 데이터 ==> 머신러닝 디폴트 라이브러리\n",
        "    + 텐서플로, 케라스, 파이토치 등 딥러닝 전문 라이브러리 (비정형 데이터에 적합)\n",
        "          + 정형 데이터에서도 사용가능하지만 잘 활용하지 않음(why? 해석이 어려움)\n",
        "          + 이미지 (비디오, 영상), 자연어 (텍스트 데이터)를 처리할 경우 사이킷런 사용하지 않음\n",
        "- 파이썬 기반의 다른 머신러닝 패키지도 사이킷런 스타일의 API를 지향한다.\n",
        "    + XGBoost, LightGBM, CatBoost 이런 종류의 알고리즘은 사이킷런 라이브러리 알고리즘 아님(별개의 라이브러리)\n",
        "    + but, XGBoost, LightGBM, CatBoost 알고리즘도 마치 사이킷런 클래스처럼 사용이 가능하도록 지원\n",
        "\n",
        "- 가장 큰 단점\n",
        "    + GPU 연산을 못함 / CPU 연산만 함"
      ]
    },
    {
      "cell_type": "code",
      "execution_count": null,
      "id": "933d7366-c6ac-405e-b47b-209118e8afe1",
      "metadata": {
        "id": "933d7366-c6ac-405e-b47b-209118e8afe1",
        "outputId": "71fbf8b2-ed7d-4292-ca42-fcf86d25da71"
      },
      "outputs": [
        {
          "data": {
            "text/plain": [
              "'1.2.2'"
            ]
          },
          "execution_count": 44,
          "metadata": {},
          "output_type": "execute_result"
        }
      ],
      "source": [
        "import sklearn\n",
        "sklearn.__version__"
      ]
    },
    {
      "cell_type": "markdown",
      "id": "52a5c7f0-00e5-4d74-9889-b72297d5689e",
      "metadata": {
        "id": "52a5c7f0-00e5-4d74-9889-b72297d5689e"
      },
      "source": [
        "### 붓꽃 품종 예측하기\n",
        "- 3가지 중 한개를 예측"
      ]
    },
    {
      "cell_type": "code",
      "execution_count": null,
      "id": "7347a0b6-5717-4e61-b197-c829d3a0ddf9",
      "metadata": {
        "id": "7347a0b6-5717-4e61-b197-c829d3a0ddf9"
      },
      "outputs": [],
      "source": [
        "from sklearn.datasets import load_iris\n",
        "from sklearn.tree import DecisionTreeClassifier\n",
        "from sklearn.model_selection import train_test_split"
      ]
    },
    {
      "cell_type": "code",
      "execution_count": null,
      "id": "669c586c-d858-47a8-9fb3-71c5d0bee8e2",
      "metadata": {
        "id": "669c586c-d858-47a8-9fb3-71c5d0bee8e2",
        "outputId": "23146c7d-cda9-4932-d8ec-0912ab9845f4"
      },
      "outputs": [
        {
          "name": "stdout",
          "output_type": "stream",
          "text": [
            "[0 0 0 0 0 0 0 0 0 0 0 0 0 0 0 0 0 0 0 0 0 0 0 0 0 0 0 0 0 0 0 0 0 0 0 0 0\n",
            " 0 0 0 0 0 0 0 0 0 0 0 0 0 1 1 1 1 1 1 1 1 1 1 1 1 1 1 1 1 1 1 1 1 1 1 1 1\n",
            " 1 1 1 1 1 1 1 1 1 1 1 1 1 1 1 1 1 1 1 1 1 1 1 1 1 1 2 2 2 2 2 2 2 2 2 2 2\n",
            " 2 2 2 2 2 2 2 2 2 2 2 2 2 2 2 2 2 2 2 2 2 2 2 2 2 2 2 2 2 2 2 2 2 2 2 2 2\n",
            " 2 2]\n"
          ]
        }
      ],
      "source": [
        "import pandas as pd # 데이터 프레임 생성 목적\n",
        "\n",
        "iris = load_iris() #numpy 배열로 데이터 존재\n",
        "#독립변수 = 설명변수\n",
        "iris_data = iris.data\n",
        "#print(iris_data)\n",
        "#지도학습 = 종속변수\n",
        "iris_label = iris.target # 0은 setosa, 1은 versicolor, 2는 virginica 품종\n",
        "print(iris_label)"
      ]
    },
    {
      "cell_type": "code",
      "execution_count": null,
      "id": "27508ff7-9ec7-4b59-9fad-8492aba766f3",
      "metadata": {
        "id": "27508ff7-9ec7-4b59-9fad-8492aba766f3"
      },
      "outputs": [],
      "source": [
        "'''\n",
        "import seaborn as sns\n",
        "iris = sns.load_datasets('iris')\n",
        "와 비교!\n",
        "'''"
      ]
    },
    {
      "cell_type": "code",
      "execution_count": null,
      "id": "5686c110-2d33-4f24-a7e1-dedff2934975",
      "metadata": {
        "id": "5686c110-2d33-4f24-a7e1-dedff2934975",
        "outputId": "b13642ce-08e5-4240-e79a-c4b7e054128c"
      },
      "outputs": [
        {
          "data": {
            "text/plain": [
              "array(['setosa', 'versicolor', 'virginica'], dtype='<U10')"
            ]
          },
          "execution_count": 51,
          "metadata": {},
          "output_type": "execute_result"
        }
      ],
      "source": [
        "iris.target_names"
      ]
    },
    {
      "cell_type": "markdown",
      "id": "2e44d14c-235c-45c3-b202-3087adedd4fa",
      "metadata": {
        "id": "2e44d14c-235c-45c3-b202-3087adedd4fa"
      },
      "source": [
        "### 생각해야 할 것\n",
        "- 종속변수가 문자로 되어 있다.\n",
        "    + 학습을 하기 전에는 수단과 방법을 가리지 않고, 종속변수를 숫자로 변형을 해야 한다."
      ]
    },
    {
      "cell_type": "code",
      "execution_count": null,
      "id": "1e133d6c-507f-4dbc-a0d5-f326992c14c7",
      "metadata": {
        "id": "1e133d6c-507f-4dbc-a0d5-f326992c14c7",
        "outputId": "c2b2538a-3f5b-4083-9eca-46df3cbdf350"
      },
      "outputs": [
        {
          "data": {
            "text/html": [
              "<div>\n",
              "<style scoped>\n",
              "    .dataframe tbody tr th:only-of-type {\n",
              "        vertical-align: middle;\n",
              "    }\n",
              "\n",
              "    .dataframe tbody tr th {\n",
              "        vertical-align: top;\n",
              "    }\n",
              "\n",
              "    .dataframe thead th {\n",
              "        text-align: right;\n",
              "    }\n",
              "</style>\n",
              "<table border=\"1\" class=\"dataframe\">\n",
              "  <thead>\n",
              "    <tr style=\"text-align: right;\">\n",
              "      <th></th>\n",
              "      <th>sepal length (cm)</th>\n",
              "      <th>sepal width (cm)</th>\n",
              "      <th>petal length (cm)</th>\n",
              "      <th>petal width (cm)</th>\n",
              "      <th>label</th>\n",
              "    </tr>\n",
              "  </thead>\n",
              "  <tbody>\n",
              "    <tr>\n",
              "      <th>0</th>\n",
              "      <td>5.1</td>\n",
              "      <td>3.5</td>\n",
              "      <td>1.4</td>\n",
              "      <td>0.2</td>\n",
              "      <td>0</td>\n",
              "    </tr>\n",
              "    <tr>\n",
              "      <th>1</th>\n",
              "      <td>4.9</td>\n",
              "      <td>3.0</td>\n",
              "      <td>1.4</td>\n",
              "      <td>0.2</td>\n",
              "      <td>0</td>\n",
              "    </tr>\n",
              "    <tr>\n",
              "      <th>2</th>\n",
              "      <td>4.7</td>\n",
              "      <td>3.2</td>\n",
              "      <td>1.3</td>\n",
              "      <td>0.2</td>\n",
              "      <td>0</td>\n",
              "    </tr>\n",
              "  </tbody>\n",
              "</table>\n",
              "</div>"
            ],
            "text/plain": [
              "   sepal length (cm)  sepal width (cm)  petal length (cm)  petal width (cm)  \\\n",
              "0                5.1               3.5                1.4               0.2   \n",
              "1                4.9               3.0                1.4               0.2   \n",
              "2                4.7               3.2                1.3               0.2   \n",
              "\n",
              "   label  \n",
              "0      0  \n",
              "1      0  \n",
              "2      0  "
            ]
          },
          "execution_count": 52,
          "metadata": {},
          "output_type": "execute_result"
        }
      ],
      "source": [
        "iris_df = pd.DataFrame(data=iris_data, columns = iris.feature_names) #독립변수의 컬럼명(feature_names)\n",
        "iris_df['label'] = iris.target\n",
        "iris_df.head(3)"
      ]
    },
    {
      "cell_type": "markdown",
      "id": "e7637150-8b59-45cf-9c46-440273d889bc",
      "metadata": {
        "id": "e7637150-8b59-45cf-9c46-440273d889bc"
      },
      "source": [
        "## 훈련데이터와 테스트 데이터로 분리\n",
        "- 정석 : 훈련(train) / 검증(validation) / 테스트(test)\n",
        "- X_train : 훈련데이터의 독립변수 (설명변수)\n",
        "- X_test : 테스트데이터의 독립변수\n",
        "- Y_train : 훈련데이터의 종속변수\n",
        "- Y_test : 테스트데이터의 종속변수\n",
        "- iris_data : 전체 데이터 독립변수\n",
        "- iris_label : 전체 데이터 종속변수\n",
        "- random_state : 숫자만 들어가면 됨_아무 숫자 가능(고정시키는 역할)"
      ]
    },
    {
      "cell_type": "code",
      "execution_count": null,
      "id": "31f0fb6b-e2af-47d2-b1b3-bb3504956dbe",
      "metadata": {
        "id": "31f0fb6b-e2af-47d2-b1b3-bb3504956dbe"
      },
      "outputs": [],
      "source": [
        "x_train, x_test, y_train, y_test = train_test_split(iris_data, iris_label, test_size=0.2, random_state=11)"
      ]
    },
    {
      "cell_type": "markdown",
      "id": "939f6d64-61cd-4bc5-8e70-4e4734b4ba6f",
      "metadata": {
        "id": "939f6d64-61cd-4bc5-8e70-4e4734b4ba6f"
      },
      "source": [
        "## 모델 학습\n",
        "- DecisionTreeClassifier 객체 생성"
      ]
    },
    {
      "cell_type": "code",
      "execution_count": null,
      "id": "0a8fae21-801a-40a6-97d9-452499f8133f",
      "metadata": {
        "id": "0a8fae21-801a-40a6-97d9-452499f8133f",
        "outputId": "a8c1fa5a-43c2-4ae3-a7ab-75ca3f44bfd1"
      },
      "outputs": [
        {
          "data": {
            "text/html": [
              "<style>#sk-container-id-3 {color: black;background-color: white;}#sk-container-id-3 pre{padding: 0;}#sk-container-id-3 div.sk-toggleable {background-color: white;}#sk-container-id-3 label.sk-toggleable__label {cursor: pointer;display: block;width: 100%;margin-bottom: 0;padding: 0.3em;box-sizing: border-box;text-align: center;}#sk-container-id-3 label.sk-toggleable__label-arrow:before {content: \"▸\";float: left;margin-right: 0.25em;color: #696969;}#sk-container-id-3 label.sk-toggleable__label-arrow:hover:before {color: black;}#sk-container-id-3 div.sk-estimator:hover label.sk-toggleable__label-arrow:before {color: black;}#sk-container-id-3 div.sk-toggleable__content {max-height: 0;max-width: 0;overflow: hidden;text-align: left;background-color: #f0f8ff;}#sk-container-id-3 div.sk-toggleable__content pre {margin: 0.2em;color: black;border-radius: 0.25em;background-color: #f0f8ff;}#sk-container-id-3 input.sk-toggleable__control:checked~div.sk-toggleable__content {max-height: 200px;max-width: 100%;overflow: auto;}#sk-container-id-3 input.sk-toggleable__control:checked~label.sk-toggleable__label-arrow:before {content: \"▾\";}#sk-container-id-3 div.sk-estimator input.sk-toggleable__control:checked~label.sk-toggleable__label {background-color: #d4ebff;}#sk-container-id-3 div.sk-label input.sk-toggleable__control:checked~label.sk-toggleable__label {background-color: #d4ebff;}#sk-container-id-3 input.sk-hidden--visually {border: 0;clip: rect(1px 1px 1px 1px);clip: rect(1px, 1px, 1px, 1px);height: 1px;margin: -1px;overflow: hidden;padding: 0;position: absolute;width: 1px;}#sk-container-id-3 div.sk-estimator {font-family: monospace;background-color: #f0f8ff;border: 1px dotted black;border-radius: 0.25em;box-sizing: border-box;margin-bottom: 0.5em;}#sk-container-id-3 div.sk-estimator:hover {background-color: #d4ebff;}#sk-container-id-3 div.sk-parallel-item::after {content: \"\";width: 100%;border-bottom: 1px solid gray;flex-grow: 1;}#sk-container-id-3 div.sk-label:hover label.sk-toggleable__label {background-color: #d4ebff;}#sk-container-id-3 div.sk-serial::before {content: \"\";position: absolute;border-left: 1px solid gray;box-sizing: border-box;top: 0;bottom: 0;left: 50%;z-index: 0;}#sk-container-id-3 div.sk-serial {display: flex;flex-direction: column;align-items: center;background-color: white;padding-right: 0.2em;padding-left: 0.2em;position: relative;}#sk-container-id-3 div.sk-item {position: relative;z-index: 1;}#sk-container-id-3 div.sk-parallel {display: flex;align-items: stretch;justify-content: center;background-color: white;position: relative;}#sk-container-id-3 div.sk-item::before, #sk-container-id-3 div.sk-parallel-item::before {content: \"\";position: absolute;border-left: 1px solid gray;box-sizing: border-box;top: 0;bottom: 0;left: 50%;z-index: -1;}#sk-container-id-3 div.sk-parallel-item {display: flex;flex-direction: column;z-index: 1;position: relative;background-color: white;}#sk-container-id-3 div.sk-parallel-item:first-child::after {align-self: flex-end;width: 50%;}#sk-container-id-3 div.sk-parallel-item:last-child::after {align-self: flex-start;width: 50%;}#sk-container-id-3 div.sk-parallel-item:only-child::after {width: 0;}#sk-container-id-3 div.sk-dashed-wrapped {border: 1px dashed gray;margin: 0 0.4em 0.5em 0.4em;box-sizing: border-box;padding-bottom: 0.4em;background-color: white;}#sk-container-id-3 div.sk-label label {font-family: monospace;font-weight: bold;display: inline-block;line-height: 1.2em;}#sk-container-id-3 div.sk-label-container {text-align: center;}#sk-container-id-3 div.sk-container {/* jupyter's `normalize.less` sets `[hidden] { display: none; }` but bootstrap.min.css set `[hidden] { display: none !important; }` so we also need the `!important` here to be able to override the default hidden behavior on the sphinx rendered scikit-learn.org. See: https://github.com/scikit-learn/scikit-learn/issues/21755 */display: inline-block !important;position: relative;}#sk-container-id-3 div.sk-text-repr-fallback {display: none;}</style><div id=\"sk-container-id-3\" class=\"sk-top-container\"><div class=\"sk-text-repr-fallback\"><pre>DecisionTreeClassifier(random_state=11)</pre><b>In a Jupyter environment, please rerun this cell to show the HTML representation or trust the notebook. <br />On GitHub, the HTML representation is unable to render, please try loading this page with nbviewer.org.</b></div><div class=\"sk-container\" hidden><div class=\"sk-item\"><div class=\"sk-estimator sk-toggleable\"><input class=\"sk-toggleable__control sk-hidden--visually\" id=\"sk-estimator-id-3\" type=\"checkbox\" checked><label for=\"sk-estimator-id-3\" class=\"sk-toggleable__label sk-toggleable__label-arrow\">DecisionTreeClassifier</label><div class=\"sk-toggleable__content\"><pre>DecisionTreeClassifier(random_state=11)</pre></div></div></div></div></div>"
            ],
            "text/plain": [
              "DecisionTreeClassifier(random_state=11)"
            ]
          },
          "execution_count": 69,
          "metadata": {},
          "output_type": "execute_result"
        }
      ],
      "source": [
        "dt_clf = DecisionTreeClassifier(random_state=11)\n",
        "\n",
        "# 학습 수행\n",
        "dt_clf.fit(x_train, y_train) #훈련데이터의 독립변수, 종속변수"
      ]
    },
    {
      "cell_type": "markdown",
      "id": "ac5c9170-881e-41f8-a348-faf45fc634e8",
      "metadata": {
        "id": "ac5c9170-881e-41f8-a348-faf45fc634e8"
      },
      "source": [
        "## 예측\n",
        "- 테스트 데이터 세트로 예측 수행"
      ]
    },
    {
      "cell_type": "code",
      "execution_count": null,
      "id": "5639268f-6b00-494b-93e3-0dca3282e17f",
      "metadata": {
        "id": "5639268f-6b00-494b-93e3-0dca3282e17f",
        "outputId": "e31fff57-5ad5-4ee3-ed51-933083305ef1"
      },
      "outputs": [
        {
          "data": {
            "text/plain": [
              "array([2, 2, 1, 1, 2, 0, 1, 0, 0, 1, 1, 1, 1, 2, 2, 0, 2, 1, 2, 2, 1, 0,\n",
              "       0, 1, 0, 0, 2, 1, 0, 1])"
            ]
          },
          "execution_count": 70,
          "metadata": {},
          "output_type": "execute_result"
        }
      ],
      "source": [
        "pred = dt_clf.predict(x_test) # 테스트 데이터의 독립변수만 가지고 예측\n",
        "pred"
      ]
    },
    {
      "cell_type": "code",
      "execution_count": null,
      "id": "ee4f18b0-6dc4-4444-aea1-d3c8873ecb2d",
      "metadata": {
        "id": "ee4f18b0-6dc4-4444-aea1-d3c8873ecb2d",
        "outputId": "48ee129b-1dea-40da-96a4-4a3883387c7e"
      },
      "outputs": [
        {
          "data": {
            "text/plain": [
              "array([2, 2, 2, 1, 2, 0, 1, 0, 0, 1, 2, 1, 1, 2, 2, 0, 2, 1, 2, 2, 1, 0,\n",
              "       0, 1, 0, 0, 2, 1, 0, 1])"
            ]
          },
          "execution_count": 71,
          "metadata": {},
          "output_type": "execute_result"
        }
      ],
      "source": [
        "y_test"
      ]
    },
    {
      "cell_type": "code",
      "execution_count": null,
      "id": "ad455e91-656d-492e-81fb-68b9c4b17596",
      "metadata": {
        "id": "ad455e91-656d-492e-81fb-68b9c4b17596",
        "outputId": "04c59415-335f-48d5-a687-8ddc43774179"
      },
      "outputs": [
        {
          "data": {
            "text/plain": [
              "0.933"
            ]
          },
          "execution_count": 72,
          "metadata": {},
          "output_type": "execute_result"
        }
      ],
      "source": [
        "from sklearn.metrics import accuracy_score\n",
        "round(accuracy_score(y_test, pred),3)"
      ]
    },
    {
      "cell_type": "markdown",
      "id": "cf29e367-9035-4869-84d7-e642d4defef6",
      "metadata": {
        "id": "cf29e367-9035-4869-84d7-e642d4defef6"
      },
      "source": [
        "## 사이킷런 코드 형식\n",
        "- sklearn.pipeline 방식대로 작성하는 것을 매우 강력하게 추천\n",
        "    + 공식문서에서 매우 권장하는 사항\n",
        "    + 빅데이터 분석기사 : 머신러닝 관련된 시험 (2유형 40점 만점)"
      ]
    },
    {
      "cell_type": "markdown",
      "id": "759bba95-770c-4e57-a7e2-24c503d68751",
      "metadata": {
        "id": "759bba95-770c-4e57-a7e2-24c503d68751"
      },
      "source": [
        "## Model Selection 모듈 소개"
      ]
    },
    {
      "cell_type": "code",
      "execution_count": null,
      "id": "492aeb8a-ecbc-4e22-947b-39bbb7ace154",
      "metadata": {
        "id": "492aeb8a-ecbc-4e22-947b-39bbb7ace154",
        "outputId": "c43e6014-e0ec-4fb8-f534-4223c7f1226f"
      },
      "outputs": [
        {
          "name": "stdout",
          "output_type": "stream",
          "text": [
            "예측 정확도: 1.0\n"
          ]
        }
      ],
      "source": [
        "from sklearn.datasets import load_iris\n",
        "from sklearn.tree import DecisionTreeClassifier\n",
        "from sklearn.metrics import accuracy_score\n",
        "\n",
        "iris = load_iris()\n",
        "dt_clf = DecisionTreeClassifier()\n",
        "train_data = iris.data\n",
        "train_label = iris.target\n",
        "dt_clf.fit(train_data, train_label)\n",
        "\n",
        "# 학습 데이터 셋으로 예측 수행\n",
        "pred = dt_clf.predict(train_data)\n",
        "print('예측 정확도:',accuracy_score(train_label,pred))"
      ]
    },
    {
      "cell_type": "markdown",
      "id": "38f002cc-f42f-4a6d-b9e9-a79113ddfd69",
      "metadata": {
        "id": "38f002cc-f42f-4a6d-b9e9-a79113ddfd69"
      },
      "source": [
        "- 답을 알고 있는 상태에서 문제를 풀었다!\n",
        "- 그래서, 훈련데이터와 테스트 데이터를 분리하는 이유"
      ]
    },
    {
      "cell_type": "code",
      "execution_count": null,
      "id": "3015cd9a-f272-4da4-b406-079d80e5ae26",
      "metadata": {
        "id": "3015cd9a-f272-4da4-b406-079d80e5ae26",
        "outputId": "2ce91270-f01a-41be-e0ba-4e263dd680da"
      },
      "outputs": [
        {
          "name": "stdout",
          "output_type": "stream",
          "text": [
            "예측 정확도: 0.9556\n"
          ]
        }
      ],
      "source": [
        "from sklearn.tree import DecisionTreeClassifier\n",
        "from sklearn.metrics import accuracy_score\n",
        "from sklearn.datasets import load_iris\n",
        "from sklearn.model_selection import train_test_split\n",
        "\n",
        "dt_clf = DecisionTreeClassifier( )\n",
        "iris_data = load_iris()\n",
        "\n",
        "X_train, X_test, y_train, y_test = train_test_split(iris_data.data, iris_data.target,\n",
        "                                                    test_size=0.3, random_state=121)\n",
        "\n",
        "dt_clf.fit(X_train, y_train)\n",
        "pred = dt_clf.predict(X_test)\n",
        "print('예측 정확도: {0:.4f}'.format(accuracy_score(y_test,pred)))"
      ]
    },
    {
      "cell_type": "markdown",
      "id": "2f65f755-5857-47fa-a898-7e2c2b651eee",
      "metadata": {
        "id": "2f65f755-5857-47fa-a898-7e2c2b651eee"
      },
      "source": [
        "### K-폴드 교차 검증\n",
        "- K=5개인 경우에는, 5번의 모델 학습\n",
        "    + 훈련데이터와 검증 데이터 샘플은 각각 다르다!\n",
        "    + 평가 5번, 평균을 뽑는 것이 목적"
      ]
    },
    {
      "cell_type": "code",
      "execution_count": null,
      "id": "a3d62deb-6ad7-481a-8fdd-bd43930014da",
      "metadata": {
        "id": "a3d62deb-6ad7-481a-8fdd-bd43930014da",
        "outputId": "a95ad8f1-1758-4656-9173-3b82bd470fd0"
      },
      "outputs": [
        {
          "name": "stdout",
          "output_type": "stream",
          "text": [
            "붓꽃 데이터 세트 크기: 150\n"
          ]
        }
      ],
      "source": [
        "from sklearn.tree import DecisionTreeClassifier\n",
        "from sklearn.metrics import accuracy_score\n",
        "from sklearn.model_selection import KFold\n",
        "import numpy as np\n",
        "\n",
        "iris = load_iris()\n",
        "features = iris.data # 독립 변수\n",
        "label = iris.target # 종속 변수\n",
        "dt_clf = DecisionTreeClassifier(random_state=156)\n",
        "\n",
        "# 5개의 폴드 세트로 분리하는 KFold 객체와 폴드 세트별 정확도를 담을 리스트 객체 생성.\n",
        "kfold = KFold(n_splits=5)\n",
        "cv_accuracy = []\n",
        "print('붓꽃 데이터 세트 크기:',features.shape[0])"
      ]
    },
    {
      "cell_type": "code",
      "execution_count": null,
      "id": "16665769-db60-40ec-95c1-1743d85f1930",
      "metadata": {
        "id": "16665769-db60-40ec-95c1-1743d85f1930",
        "outputId": "e9618739-2ba1-4614-aef8-39d45b449643"
      },
      "outputs": [
        {
          "name": "stdout",
          "output_type": "stream",
          "text": [
            "\n",
            "#1 교차 검증 정확도 :1.0, 학습 데이터 크기: 120, 검증 데이터 크기: 30\n",
            "#1 검증 세트 인덱스:[ 0  1  2  3  4  5  6  7  8  9 10 11 12 13 14 15 16 17 18 19 20 21 22 23\n",
            " 24 25 26 27 28 29]\n",
            "\n",
            "#2 교차 검증 정확도 :0.9667, 학습 데이터 크기: 120, 검증 데이터 크기: 30\n",
            "#2 검증 세트 인덱스:[30 31 32 33 34 35 36 37 38 39 40 41 42 43 44 45 46 47 48 49 50 51 52 53\n",
            " 54 55 56 57 58 59]\n",
            "\n",
            "#3 교차 검증 정확도 :0.8667, 학습 데이터 크기: 120, 검증 데이터 크기: 30\n",
            "#3 검증 세트 인덱스:[60 61 62 63 64 65 66 67 68 69 70 71 72 73 74 75 76 77 78 79 80 81 82 83\n",
            " 84 85 86 87 88 89]\n",
            "\n",
            "#4 교차 검증 정확도 :0.9333, 학습 데이터 크기: 120, 검증 데이터 크기: 30\n",
            "#4 검증 세트 인덱스:[ 90  91  92  93  94  95  96  97  98  99 100 101 102 103 104 105 106 107\n",
            " 108 109 110 111 112 113 114 115 116 117 118 119]\n",
            "\n",
            "#5 교차 검증 정확도 :0.7333, 학습 데이터 크기: 120, 검증 데이터 크기: 30\n",
            "#5 검증 세트 인덱스:[120 121 122 123 124 125 126 127 128 129 130 131 132 133 134 135 136 137\n",
            " 138 139 140 141 142 143 144 145 146 147 148 149]\n",
            "\n",
            "## 평균 검증 정확도: 0.9\n"
          ]
        }
      ],
      "source": [
        "n_iter = 0\n",
        "# KFold객체의 split( ) 호출하면 폴드 별 학습용, 검증용 테스트의 로우 인덱스를 array로 반환\n",
        "for train_index, test_index  in kfold.split(features):\n",
        "    # kfold.split( )으로 반환된 인덱스를 이용하여 학습용, 검증용 테스트 데이터 추출\n",
        "    X_train, X_test = features[train_index], features[test_index]\n",
        "    y_train, y_test = label[train_index], label[test_index]\n",
        "    #학습 및 예측\n",
        "    dt_clf.fit(X_train , y_train)\n",
        "    pred = dt_clf.predict(X_test)\n",
        "    n_iter += 1\n",
        "\n",
        "    # 반복 시 마다 정확도 측정\n",
        "    accuracy = np.round(accuracy_score(y_test,pred), 4)\n",
        "    train_size = X_train.shape[0]\n",
        "    test_size = X_test.shape[0]\n",
        "    print('\\n#{0} 교차 검증 정확도 :{1}, 학습 데이터 크기: {2}, 검증 데이터 크기: {3}'\n",
        "          .format(n_iter, accuracy, train_size, test_size))\n",
        "    print('#{0} 검증 세트 인덱스:{1}'.format(n_iter,test_index))\n",
        "    cv_accuracy.append(accuracy)\n",
        "\n",
        "# 개별 iteration별 정확도를 합하여 평균 정확도 계산\n",
        "print('\\n## 평균 검증 정확도:', np.mean(cv_accuracy))"
      ]
    },
    {
      "cell_type": "markdown",
      "id": "b1aa294d-e458-48b7-a726-6c76c67fd4ca",
      "metadata": {
        "id": "b1aa294d-e458-48b7-a726-6c76c67fd4ca"
      },
      "source": [
        "## ML 과정\n",
        "- 데이터 수집\n",
        "- 데이터셋 분리 (현재, 여기 집중)\n",
        "    + 통계에서 말하는 샘플링 에러와 관련이 있음\n",
        "- 모델 불러오기\n",
        "- 모델 학습\n",
        "- 모델 평가"
      ]
    },
    {
      "cell_type": "markdown",
      "id": "2b1ca2ae-542d-4846-ac43-4d68646d3bc8",
      "metadata": {
        "id": "2b1ca2ae-542d-4846-ac43-4d68646d3bc8"
      },
      "source": [
        "### Stratified K폴드\n",
        "- 종속변수가 불균형한(imbalanced) 분포도를 가진 데이터 집합\n",
        "    + 코로나 데이터 (양성/음성)\n",
        "        - 검사 10만명, 양성 판정 받는 사람은 매우 적고, 대부분은 다 음성 판정"
      ]
    },
    {
      "cell_type": "code",
      "execution_count": null,
      "id": "9dbe8142-54c6-47bc-9a21-f5c63090bcf4",
      "metadata": {
        "id": "9dbe8142-54c6-47bc-9a21-f5c63090bcf4",
        "outputId": "d00e8da8-aba0-4d96-c3d6-224a49e62139"
      },
      "outputs": [
        {
          "name": "stdout",
          "output_type": "stream",
          "text": [
            "## 교차 검증: 1\n",
            "학습 레이블 데이터 분포:\n",
            " 1    50\n",
            "2    50\n",
            "Name: label, dtype: int64\n",
            "검증 레이블 데이터 분포:\n",
            " 0    50\n",
            "Name: label, dtype: int64\n",
            "## 교차 검증: 2\n",
            "학습 레이블 데이터 분포:\n",
            " 0    50\n",
            "2    50\n",
            "Name: label, dtype: int64\n",
            "검증 레이블 데이터 분포:\n",
            " 1    50\n",
            "Name: label, dtype: int64\n",
            "## 교차 검증: 3\n",
            "학습 레이블 데이터 분포:\n",
            " 0    50\n",
            "1    50\n",
            "Name: label, dtype: int64\n",
            "검증 레이블 데이터 분포:\n",
            " 2    50\n",
            "Name: label, dtype: int64\n"
          ]
        }
      ],
      "source": [
        "import pandas as pd\n",
        "iris = load_iris()\n",
        "iris_df = pd.DataFrame(data=iris.data, columns=iris.feature_names)\n",
        "iris_df['label']=iris.target\n",
        "iris_df['label'].value_counts()\n",
        "kfold = KFold(n_splits=3)\n",
        "# kfold.split(X)는 폴드 세트를 3번 반복할 때마다 달라지는 학습/테스트 용 데이터 로우 인덱스 번호 반환.\n",
        "n_iter =0\n",
        "for train_index, test_index  in kfold.split(iris_df):\n",
        "    n_iter += 1\n",
        "    label_train= iris_df['label'].iloc[train_index]\n",
        "    label_test= iris_df['label'].iloc[test_index]\n",
        "    print('## 교차 검증: {0}'.format(n_iter))\n",
        "    print('학습 레이블 데이터 분포:\\n', label_train.value_counts())\n",
        "    print('검증 레이블 데이터 분포:\\n', label_test.value_counts())\n",
        "#결과로 알 수 있는것 k폴드 사용하면 안된다."
      ]
    },
    {
      "cell_type": "code",
      "execution_count": null,
      "id": "0794a644-e4d1-43d5-92d8-aba16aeca1a2",
      "metadata": {
        "id": "0794a644-e4d1-43d5-92d8-aba16aeca1a2",
        "outputId": "f7af6b14-af5f-41d7-9448-99112536e3b6"
      },
      "outputs": [
        {
          "name": "stdout",
          "output_type": "stream",
          "text": [
            "## 교차 검증: 1\n",
            "학습 레이블 데이터 분포:\n",
            " 2    34\n",
            "0    33\n",
            "1    33\n",
            "Name: label, dtype: int64\n",
            "검증 레이블 데이터 분포:\n",
            " 0    17\n",
            "1    17\n",
            "2    16\n",
            "Name: label, dtype: int64\n",
            "## 교차 검증: 2\n",
            "학습 레이블 데이터 분포:\n",
            " 1    34\n",
            "0    33\n",
            "2    33\n",
            "Name: label, dtype: int64\n",
            "검증 레이블 데이터 분포:\n",
            " 0    17\n",
            "2    17\n",
            "1    16\n",
            "Name: label, dtype: int64\n",
            "## 교차 검증: 3\n",
            "학습 레이블 데이터 분포:\n",
            " 0    34\n",
            "1    33\n",
            "2    33\n",
            "Name: label, dtype: int64\n",
            "검증 레이블 데이터 분포:\n",
            " 1    17\n",
            "2    17\n",
            "0    16\n",
            "Name: label, dtype: int64\n"
          ]
        }
      ],
      "source": [
        "# 층화 추출 방식으로 데이터셋 분리\n",
        "from sklearn.model_selection import StratifiedKFold\n",
        "\n",
        "skf = StratifiedKFold(n_splits=3)\n",
        "n_iter=0\n",
        "\n",
        "for train_index, test_index in skf.split(iris_df, iris_df['label']):\n",
        "    n_iter += 1\n",
        "    label_train= iris_df['label'].iloc[train_index]\n",
        "    label_test= iris_df['label'].iloc[test_index]\n",
        "    print('## 교차 검증: {0}'.format(n_iter))\n",
        "    print('학습 레이블 데이터 분포:\\n', label_train.value_counts())\n",
        "    print('검증 레이블 데이터 분포:\\n', label_test.value_counts())"
      ]
    },
    {
      "cell_type": "code",
      "execution_count": null,
      "id": "26fbcf15-c0cf-46eb-96c6-8454a051d4b7",
      "metadata": {
        "id": "26fbcf15-c0cf-46eb-96c6-8454a051d4b7",
        "outputId": "2fbc7c56-ad5f-4b1f-916c-60f8b20575a5"
      },
      "outputs": [
        {
          "name": "stdout",
          "output_type": "stream",
          "text": [
            "\n",
            "#1 교차 검증 정확도 :0.98, 학습 데이터 크기: 100, 검증 데이터 크기: 50\n",
            "#1 검증 세트 인덱스:[  0   1   2   3   4   5   6   7   8   9  10  11  12  13  14  15  16  50\n",
            "  51  52  53  54  55  56  57  58  59  60  61  62  63  64  65  66 100 101\n",
            " 102 103 104 105 106 107 108 109 110 111 112 113 114 115]\n",
            "\n",
            "#2 교차 검증 정확도 :0.94, 학습 데이터 크기: 100, 검증 데이터 크기: 50\n",
            "#2 검증 세트 인덱스:[ 17  18  19  20  21  22  23  24  25  26  27  28  29  30  31  32  33  67\n",
            "  68  69  70  71  72  73  74  75  76  77  78  79  80  81  82 116 117 118\n",
            " 119 120 121 122 123 124 125 126 127 128 129 130 131 132]\n",
            "\n",
            "#3 교차 검증 정확도 :0.98, 학습 데이터 크기: 100, 검증 데이터 크기: 50\n",
            "#3 검증 세트 인덱스:[ 34  35  36  37  38  39  40  41  42  43  44  45  46  47  48  49  83  84\n",
            "  85  86  87  88  89  90  91  92  93  94  95  96  97  98  99 133 134 135\n",
            " 136 137 138 139 140 141 142 143 144 145 146 147 148 149]\n",
            "\n",
            "## 교차 검증별 정확도: [0.98 0.94 0.98]\n",
            "## 평균 검증 정확도: 0.9667\n"
          ]
        }
      ],
      "source": [
        "dt_clf = DecisionTreeClassifier(random_state=156)\n",
        "skfold = StratifiedKFold(n_splits=3)\n",
        "n_iter=0\n",
        "cv_accuracy=[]\n",
        "# StratifiedKFold의 split( ) 호출시 반드시 레이블 데이터 셋도 추가 입력 필요\n",
        "for train_index, test_index  in skfold.split(features, label):\n",
        "    # split( )으로 반환된 인덱스를 이용하여 학습용, 검증용 테스트 데이터 추출\n",
        "    X_train, X_test = features[train_index], features[test_index]\n",
        "    y_train, y_test = label[train_index], label[test_index]\n",
        "    #학습 및 예측\n",
        "    dt_clf.fit(X_train , y_train)\n",
        "    pred = dt_clf.predict(X_test)\n",
        "    # 반복 시 마다 정확도 측정\n",
        "    n_iter += 1\n",
        "    accuracy = np.round(accuracy_score(y_test,pred), 4)\n",
        "    train_size = X_train.shape[0]\n",
        "    test_size = X_test.shape[0]\n",
        "    print('\\n#{0} 교차 검증 정확도 :{1}, 학습 데이터 크기: {2}, 검증 데이터 크기: {3}'\n",
        "          .format(n_iter, accuracy, train_size, test_size))\n",
        "    print('#{0} 검증 세트 인덱스:{1}'.format(n_iter,test_index))\n",
        "    cv_accuracy.append(accuracy)\n",
        "\n",
        "# 교차 검증별 정확도 및 평균 정확도 계산\n",
        "print('\\n## 교차 검증별 정확도:', np.round(cv_accuracy, 4))\n",
        "print('## 평균 검증 정확도:', np.round(np.mean(cv_accuracy), 4))"
      ]
    }
  ],
  "metadata": {
    "kernelspec": {
      "display_name": "Python 3 (ipykernel)",
      "language": "python",
      "name": "python3"
    },
    "language_info": {
      "codemirror_mode": {
        "name": "ipython",
        "version": 3
      },
      "file_extension": ".py",
      "mimetype": "text/x-python",
      "name": "python",
      "nbconvert_exporter": "python",
      "pygments_lexer": "ipython3",
      "version": "3.10.13"
    },
    "colab": {
      "provenance": [],
      "include_colab_link": true
    }
  },
  "nbformat": 4,
  "nbformat_minor": 5
}