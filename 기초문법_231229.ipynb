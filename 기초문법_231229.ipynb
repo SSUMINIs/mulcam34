{
  "nbformat": 4,
  "nbformat_minor": 0,
  "metadata": {
    "colab": {
      "provenance": [],
      "authorship_tag": "ABX9TyM3KyJJVupOj+8aOOZFxXuT",
      "include_colab_link": true
    },
    "kernelspec": {
      "name": "python3",
      "display_name": "Python 3"
    },
    "language_info": {
      "name": "python"
    }
  },
  "cells": [
    {
      "cell_type": "markdown",
      "metadata": {
        "id": "view-in-github",
        "colab_type": "text"
      },
      "source": [
        "<a href=\"https://colab.research.google.com/github/SSUMINIs/mulcam34/blob/main/%EA%B8%B0%EC%B4%88%EB%AC%B8%EB%B2%95_231229.ipynb\" target=\"_parent\"><img src=\"https://colab.research.google.com/assets/colab-badge.svg\" alt=\"Open In Colab\"/></a>"
      ]
    },
    {
      "cell_type": "markdown",
      "source": [
        "# 딕셔너리\n",
        "- Dictionary : 영어 및 국어 사전\n",
        "- 구성 : key : value, keyword(=key), 결과값(=value)\n",
        " + 문자열, 리스트, tuple : 데이터 조회 시, 인덱싱 또는 슬라이싱을 통해서 가져옴\n",
        " + 딕셔너리에서 값을 조회하는 방법은 key값을 통해서 값을 가져옴"
      ],
      "metadata": {
        "id": "s7EiG3if6Q10"
      }
    },
    {
      "cell_type": "code",
      "source": [
        "dict = {'name' : '홍길동','age' : 30}\n",
        "f\"나의 이름은 {dict['name']}이고, 나이는 {dict['age']} 입니다.\""
      ],
      "metadata": {
        "colab": {
          "base_uri": "https://localhost:8080/",
          "height": 36
        },
        "id": "mt5JwdCwleSO",
        "outputId": "128795af-a15b-4044-e3f5-423668654b7b"
      },
      "execution_count": null,
      "outputs": [
        {
          "output_type": "execute_result",
          "data": {
            "text/plain": [
              "'나의 이름은 홍길동이고, 나이는 30 입니다.'"
            ],
            "application/vnd.google.colaboratory.intrinsic+json": {
              "type": "string"
            }
          },
          "metadata": {},
          "execution_count": 7
        }
      ]
    },
    {
      "cell_type": "code",
      "source": [
        "country_capital = {\n",
        "    \"대한민국\" : \"서울\",\n",
        "    \"프랑스\":\"파리\",\n",
        "    \"미국\":\"워싱턴\",\n",
        "    \"영국\":\"런던\"}\n",
        "country_capital\n",
        "# 딕셔너리에서 value 값 조회는 key 값을 통해 조회가능\n",
        "# key 값은 중복으로 만들수 없음"
      ],
      "metadata": {
        "colab": {
          "base_uri": "https://localhost:8080/"
        },
        "id": "cOF2zR648rKs",
        "outputId": "c93a3359-1dc3-45b6-d9a8-a13ae9adb0b7"
      },
      "execution_count": null,
      "outputs": [
        {
          "output_type": "execute_result",
          "data": {
            "text/plain": [
              "{'대한민국': '서울', '프랑스': '파리', '미국': '워싱턴', '영국': '런던'}"
            ]
          },
          "metadata": {},
          "execution_count": 67
        }
      ]
    },
    {
      "cell_type": "code",
      "source": [
        "data = {1:'버스', 3:'비행기'}\n",
        "data[1] #여기서 숫자 1(key값)은, 리스트, 문자열, tuple 인덱스 번호와는 다른 숫자"
      ],
      "metadata": {
        "colab": {
          "base_uri": "https://localhost:8080/",
          "height": 36
        },
        "id": "DUhXwuat-JAk",
        "outputId": "036a46d9-690d-4928-87bb-3a497015919d"
      },
      "execution_count": null,
      "outputs": [
        {
          "output_type": "execute_result",
          "data": {
            "text/plain": [
              "'버스'"
            ],
            "application/vnd.google.colaboratory.intrinsic+json": {
              "type": "string"
            }
          },
          "metadata": {},
          "execution_count": 12
        }
      ]
    },
    {
      "cell_type": "code",
      "source": [
        "data2 = {'list1':[1,2,3], 'list2' : [4,5,6],1:'테스트'}\n",
        "data2['list1'][1]"
      ],
      "metadata": {
        "colab": {
          "base_uri": "https://localhost:8080/"
        },
        "id": "JJtplkoF_Itk",
        "outputId": "3492844f-6da0-4c7c-cdce-bf706c70bad2"
      },
      "execution_count": null,
      "outputs": [
        {
          "output_type": "execute_result",
          "data": {
            "text/plain": [
              "2"
            ]
          },
          "metadata": {},
          "execution_count": 19
        }
      ]
    },
    {
      "cell_type": "markdown",
      "source": [
        "## 딕셔너리 사용처\n",
        "- 데이터 분석 : 엑셀 테이블\n",
        " + 1억개, 데이터 가공\n",
        "- HTML, CSS, 인터넷 자료형 중, JSON 데이터 포맷\n",
        "- JSON 데이터 포맷 -> 딕셔너리와 동일\n",
        " + API 데이터 크롤링시 기본 자료형 JSON을 딕셔너리로 변환하는 코드를 생성하고, 그 후 데이터 가공을 진행"
      ],
      "metadata": {
        "id": "jWsRZwKA-4GJ"
      }
    },
    {
      "cell_type": "code",
      "source": [
        "import pandas as pd\n",
        "data = {\n",
        "    'A' : [1,2,3],\n",
        "    'B' : [4,5,6]\n",
        "}\n",
        "\n",
        "df = pd.DataFrame(data)\n",
        "df # 데이터 가공 연습 -> 본 데이터 적용(실제 작업시)"
      ],
      "metadata": {
        "colab": {
          "base_uri": "https://localhost:8080/",
          "height": 143
        },
        "id": "y5JPPZF68yVo",
        "outputId": "933962ad-98ed-4729-a0ca-1211dc6d5971"
      },
      "execution_count": null,
      "outputs": [
        {
          "output_type": "execute_result",
          "data": {
            "text/plain": [
              "   A  B\n",
              "0  1  4\n",
              "1  2  5\n",
              "2  3  6"
            ],
            "text/html": [
              "\n",
              "  <div id=\"df-8263a066-605e-483b-a9ff-a9354a1453b4\" class=\"colab-df-container\">\n",
              "    <div>\n",
              "<style scoped>\n",
              "    .dataframe tbody tr th:only-of-type {\n",
              "        vertical-align: middle;\n",
              "    }\n",
              "\n",
              "    .dataframe tbody tr th {\n",
              "        vertical-align: top;\n",
              "    }\n",
              "\n",
              "    .dataframe thead th {\n",
              "        text-align: right;\n",
              "    }\n",
              "</style>\n",
              "<table border=\"1\" class=\"dataframe\">\n",
              "  <thead>\n",
              "    <tr style=\"text-align: right;\">\n",
              "      <th></th>\n",
              "      <th>A</th>\n",
              "      <th>B</th>\n",
              "    </tr>\n",
              "  </thead>\n",
              "  <tbody>\n",
              "    <tr>\n",
              "      <th>0</th>\n",
              "      <td>1</td>\n",
              "      <td>4</td>\n",
              "    </tr>\n",
              "    <tr>\n",
              "      <th>1</th>\n",
              "      <td>2</td>\n",
              "      <td>5</td>\n",
              "    </tr>\n",
              "    <tr>\n",
              "      <th>2</th>\n",
              "      <td>3</td>\n",
              "      <td>6</td>\n",
              "    </tr>\n",
              "  </tbody>\n",
              "</table>\n",
              "</div>\n",
              "    <div class=\"colab-df-buttons\">\n",
              "\n",
              "  <div class=\"colab-df-container\">\n",
              "    <button class=\"colab-df-convert\" onclick=\"convertToInteractive('df-8263a066-605e-483b-a9ff-a9354a1453b4')\"\n",
              "            title=\"Convert this dataframe to an interactive table.\"\n",
              "            style=\"display:none;\">\n",
              "\n",
              "  <svg xmlns=\"http://www.w3.org/2000/svg\" height=\"24px\" viewBox=\"0 -960 960 960\">\n",
              "    <path d=\"M120-120v-720h720v720H120Zm60-500h600v-160H180v160Zm220 220h160v-160H400v160Zm0 220h160v-160H400v160ZM180-400h160v-160H180v160Zm440 0h160v-160H620v160ZM180-180h160v-160H180v160Zm440 0h160v-160H620v160Z\"/>\n",
              "  </svg>\n",
              "    </button>\n",
              "\n",
              "  <style>\n",
              "    .colab-df-container {\n",
              "      display:flex;\n",
              "      gap: 12px;\n",
              "    }\n",
              "\n",
              "    .colab-df-convert {\n",
              "      background-color: #E8F0FE;\n",
              "      border: none;\n",
              "      border-radius: 50%;\n",
              "      cursor: pointer;\n",
              "      display: none;\n",
              "      fill: #1967D2;\n",
              "      height: 32px;\n",
              "      padding: 0 0 0 0;\n",
              "      width: 32px;\n",
              "    }\n",
              "\n",
              "    .colab-df-convert:hover {\n",
              "      background-color: #E2EBFA;\n",
              "      box-shadow: 0px 1px 2px rgba(60, 64, 67, 0.3), 0px 1px 3px 1px rgba(60, 64, 67, 0.15);\n",
              "      fill: #174EA6;\n",
              "    }\n",
              "\n",
              "    .colab-df-buttons div {\n",
              "      margin-bottom: 4px;\n",
              "    }\n",
              "\n",
              "    [theme=dark] .colab-df-convert {\n",
              "      background-color: #3B4455;\n",
              "      fill: #D2E3FC;\n",
              "    }\n",
              "\n",
              "    [theme=dark] .colab-df-convert:hover {\n",
              "      background-color: #434B5C;\n",
              "      box-shadow: 0px 1px 3px 1px rgba(0, 0, 0, 0.15);\n",
              "      filter: drop-shadow(0px 1px 2px rgba(0, 0, 0, 0.3));\n",
              "      fill: #FFFFFF;\n",
              "    }\n",
              "  </style>\n",
              "\n",
              "    <script>\n",
              "      const buttonEl =\n",
              "        document.querySelector('#df-8263a066-605e-483b-a9ff-a9354a1453b4 button.colab-df-convert');\n",
              "      buttonEl.style.display =\n",
              "        google.colab.kernel.accessAllowed ? 'block' : 'none';\n",
              "\n",
              "      async function convertToInteractive(key) {\n",
              "        const element = document.querySelector('#df-8263a066-605e-483b-a9ff-a9354a1453b4');\n",
              "        const dataTable =\n",
              "          await google.colab.kernel.invokeFunction('convertToInteractive',\n",
              "                                                    [key], {});\n",
              "        if (!dataTable) return;\n",
              "\n",
              "        const docLinkHtml = 'Like what you see? Visit the ' +\n",
              "          '<a target=\"_blank\" href=https://colab.research.google.com/notebooks/data_table.ipynb>data table notebook</a>'\n",
              "          + ' to learn more about interactive tables.';\n",
              "        element.innerHTML = '';\n",
              "        dataTable['output_type'] = 'display_data';\n",
              "        await google.colab.output.renderOutput(dataTable, element);\n",
              "        const docLink = document.createElement('div');\n",
              "        docLink.innerHTML = docLinkHtml;\n",
              "        element.appendChild(docLink);\n",
              "      }\n",
              "    </script>\n",
              "  </div>\n",
              "\n",
              "\n",
              "<div id=\"df-b57bf3b8-baf9-4b2c-87ae-f21ae59154b0\">\n",
              "  <button class=\"colab-df-quickchart\" onclick=\"quickchart('df-b57bf3b8-baf9-4b2c-87ae-f21ae59154b0')\"\n",
              "            title=\"Suggest charts\"\n",
              "            style=\"display:none;\">\n",
              "\n",
              "<svg xmlns=\"http://www.w3.org/2000/svg\" height=\"24px\"viewBox=\"0 0 24 24\"\n",
              "     width=\"24px\">\n",
              "    <g>\n",
              "        <path d=\"M19 3H5c-1.1 0-2 .9-2 2v14c0 1.1.9 2 2 2h14c1.1 0 2-.9 2-2V5c0-1.1-.9-2-2-2zM9 17H7v-7h2v7zm4 0h-2V7h2v10zm4 0h-2v-4h2v4z\"/>\n",
              "    </g>\n",
              "</svg>\n",
              "  </button>\n",
              "\n",
              "<style>\n",
              "  .colab-df-quickchart {\n",
              "      --bg-color: #E8F0FE;\n",
              "      --fill-color: #1967D2;\n",
              "      --hover-bg-color: #E2EBFA;\n",
              "      --hover-fill-color: #174EA6;\n",
              "      --disabled-fill-color: #AAA;\n",
              "      --disabled-bg-color: #DDD;\n",
              "  }\n",
              "\n",
              "  [theme=dark] .colab-df-quickchart {\n",
              "      --bg-color: #3B4455;\n",
              "      --fill-color: #D2E3FC;\n",
              "      --hover-bg-color: #434B5C;\n",
              "      --hover-fill-color: #FFFFFF;\n",
              "      --disabled-bg-color: #3B4455;\n",
              "      --disabled-fill-color: #666;\n",
              "  }\n",
              "\n",
              "  .colab-df-quickchart {\n",
              "    background-color: var(--bg-color);\n",
              "    border: none;\n",
              "    border-radius: 50%;\n",
              "    cursor: pointer;\n",
              "    display: none;\n",
              "    fill: var(--fill-color);\n",
              "    height: 32px;\n",
              "    padding: 0;\n",
              "    width: 32px;\n",
              "  }\n",
              "\n",
              "  .colab-df-quickchart:hover {\n",
              "    background-color: var(--hover-bg-color);\n",
              "    box-shadow: 0 1px 2px rgba(60, 64, 67, 0.3), 0 1px 3px 1px rgba(60, 64, 67, 0.15);\n",
              "    fill: var(--button-hover-fill-color);\n",
              "  }\n",
              "\n",
              "  .colab-df-quickchart-complete:disabled,\n",
              "  .colab-df-quickchart-complete:disabled:hover {\n",
              "    background-color: var(--disabled-bg-color);\n",
              "    fill: var(--disabled-fill-color);\n",
              "    box-shadow: none;\n",
              "  }\n",
              "\n",
              "  .colab-df-spinner {\n",
              "    border: 2px solid var(--fill-color);\n",
              "    border-color: transparent;\n",
              "    border-bottom-color: var(--fill-color);\n",
              "    animation:\n",
              "      spin 1s steps(1) infinite;\n",
              "  }\n",
              "\n",
              "  @keyframes spin {\n",
              "    0% {\n",
              "      border-color: transparent;\n",
              "      border-bottom-color: var(--fill-color);\n",
              "      border-left-color: var(--fill-color);\n",
              "    }\n",
              "    20% {\n",
              "      border-color: transparent;\n",
              "      border-left-color: var(--fill-color);\n",
              "      border-top-color: var(--fill-color);\n",
              "    }\n",
              "    30% {\n",
              "      border-color: transparent;\n",
              "      border-left-color: var(--fill-color);\n",
              "      border-top-color: var(--fill-color);\n",
              "      border-right-color: var(--fill-color);\n",
              "    }\n",
              "    40% {\n",
              "      border-color: transparent;\n",
              "      border-right-color: var(--fill-color);\n",
              "      border-top-color: var(--fill-color);\n",
              "    }\n",
              "    60% {\n",
              "      border-color: transparent;\n",
              "      border-right-color: var(--fill-color);\n",
              "    }\n",
              "    80% {\n",
              "      border-color: transparent;\n",
              "      border-right-color: var(--fill-color);\n",
              "      border-bottom-color: var(--fill-color);\n",
              "    }\n",
              "    90% {\n",
              "      border-color: transparent;\n",
              "      border-bottom-color: var(--fill-color);\n",
              "    }\n",
              "  }\n",
              "</style>\n",
              "\n",
              "  <script>\n",
              "    async function quickchart(key) {\n",
              "      const quickchartButtonEl =\n",
              "        document.querySelector('#' + key + ' button');\n",
              "      quickchartButtonEl.disabled = true;  // To prevent multiple clicks.\n",
              "      quickchartButtonEl.classList.add('colab-df-spinner');\n",
              "      try {\n",
              "        const charts = await google.colab.kernel.invokeFunction(\n",
              "            'suggestCharts', [key], {});\n",
              "      } catch (error) {\n",
              "        console.error('Error during call to suggestCharts:', error);\n",
              "      }\n",
              "      quickchartButtonEl.classList.remove('colab-df-spinner');\n",
              "      quickchartButtonEl.classList.add('colab-df-quickchart-complete');\n",
              "    }\n",
              "    (() => {\n",
              "      let quickchartButtonEl =\n",
              "        document.querySelector('#df-b57bf3b8-baf9-4b2c-87ae-f21ae59154b0 button');\n",
              "      quickchartButtonEl.style.display =\n",
              "        google.colab.kernel.accessAllowed ? 'block' : 'none';\n",
              "    })();\n",
              "  </script>\n",
              "</div>\n",
              "\n",
              "  <div id=\"id_0458441a-243f-4ae9-af63-f3e0252d95b1\">\n",
              "    <style>\n",
              "      .colab-df-generate {\n",
              "        background-color: #E8F0FE;\n",
              "        border: none;\n",
              "        border-radius: 50%;\n",
              "        cursor: pointer;\n",
              "        display: none;\n",
              "        fill: #1967D2;\n",
              "        height: 32px;\n",
              "        padding: 0 0 0 0;\n",
              "        width: 32px;\n",
              "      }\n",
              "\n",
              "      .colab-df-generate:hover {\n",
              "        background-color: #E2EBFA;\n",
              "        box-shadow: 0px 1px 2px rgba(60, 64, 67, 0.3), 0px 1px 3px 1px rgba(60, 64, 67, 0.15);\n",
              "        fill: #174EA6;\n",
              "      }\n",
              "\n",
              "      [theme=dark] .colab-df-generate {\n",
              "        background-color: #3B4455;\n",
              "        fill: #D2E3FC;\n",
              "      }\n",
              "\n",
              "      [theme=dark] .colab-df-generate:hover {\n",
              "        background-color: #434B5C;\n",
              "        box-shadow: 0px 1px 3px 1px rgba(0, 0, 0, 0.15);\n",
              "        filter: drop-shadow(0px 1px 2px rgba(0, 0, 0, 0.3));\n",
              "        fill: #FFFFFF;\n",
              "      }\n",
              "    </style>\n",
              "    <button class=\"colab-df-generate\" onclick=\"generateWithVariable('df')\"\n",
              "            title=\"Generate code using this dataframe.\"\n",
              "            style=\"display:none;\">\n",
              "\n",
              "  <svg xmlns=\"http://www.w3.org/2000/svg\" height=\"24px\"viewBox=\"0 0 24 24\"\n",
              "       width=\"24px\">\n",
              "    <path d=\"M7,19H8.4L18.45,9,17,7.55,7,17.6ZM5,21V16.75L18.45,3.32a2,2,0,0,1,2.83,0l1.4,1.43a1.91,1.91,0,0,1,.58,1.4,1.91,1.91,0,0,1-.58,1.4L9.25,21ZM18.45,9,17,7.55Zm-12,3A5.31,5.31,0,0,0,4.9,8.1,5.31,5.31,0,0,0,1,6.5,5.31,5.31,0,0,0,4.9,4.9,5.31,5.31,0,0,0,6.5,1,5.31,5.31,0,0,0,8.1,4.9,5.31,5.31,0,0,0,12,6.5,5.46,5.46,0,0,0,6.5,12Z\"/>\n",
              "  </svg>\n",
              "    </button>\n",
              "    <script>\n",
              "      (() => {\n",
              "      const buttonEl =\n",
              "        document.querySelector('#id_0458441a-243f-4ae9-af63-f3e0252d95b1 button.colab-df-generate');\n",
              "      buttonEl.style.display =\n",
              "        google.colab.kernel.accessAllowed ? 'block' : 'none';\n",
              "\n",
              "      buttonEl.onclick = () => {\n",
              "        google.colab.notebook.generateWithVariable('df');\n",
              "      }\n",
              "      })();\n",
              "    </script>\n",
              "  </div>\n",
              "\n",
              "    </div>\n",
              "  </div>\n"
            ]
          },
          "metadata": {},
          "execution_count": 22
        }
      ]
    },
    {
      "cell_type": "markdown",
      "source": [
        "### 딕셔너리 다루기"
      ],
      "metadata": {
        "id": "vPBsYdz06Pr6"
      }
    },
    {
      "cell_type": "code",
      "source": [
        "# 딕셔너리의 value 값 수정하는 방법\n",
        "country_capital['대한민국'] = '부산'\n",
        "country_capital\n",
        "# 비워두기 country_capital['프랑스'] = None"
      ],
      "metadata": {
        "colab": {
          "base_uri": "https://localhost:8080/"
        },
        "id": "viYzIeeIF71a",
        "outputId": "375be25c-7737-4cee-a71e-32bfff88b7a7"
      },
      "execution_count": null,
      "outputs": [
        {
          "output_type": "execute_result",
          "data": {
            "text/plain": [
              "{'대한민국': '부산', '프랑스': '파리', '미국': '워싱턴', '영국': '런던'}"
            ]
          },
          "metadata": {},
          "execution_count": 23
        }
      ]
    },
    {
      "cell_type": "code",
      "source": [
        "# del\n",
        "del country_capital['영국']\n",
        "country_capital"
      ],
      "metadata": {
        "colab": {
          "base_uri": "https://localhost:8080/"
        },
        "id": "poSAeC2GGQaF",
        "outputId": "4d0431bc-adb8-41b6-c9db-8a6f18706599"
      },
      "execution_count": null,
      "outputs": [
        {
          "output_type": "execute_result",
          "data": {
            "text/plain": [
              "{'대한민국': '부산', '프랑스': '파리', '미국': '워싱턴'}"
            ]
          },
          "metadata": {},
          "execution_count": 24
        }
      ]
    },
    {
      "cell_type": "code",
      "source": [
        "# 딕셔너리 추가\n",
        "country_capital['일본'] = '도쿄'\n",
        "country_capital"
      ],
      "metadata": {
        "colab": {
          "base_uri": "https://localhost:8080/"
        },
        "id": "47XPRplCGqFC",
        "outputId": "6ed13cb4-0bbc-4af8-e31c-82c2934b8d01"
      },
      "execution_count": null,
      "outputs": [
        {
          "output_type": "execute_result",
          "data": {
            "text/plain": [
              "{'대한민국': '부산', '프랑스': '파리', '미국': '워싱턴', '일본': '도쿄'}"
            ]
          },
          "metadata": {},
          "execution_count": 25
        }
      ]
    },
    {
      "cell_type": "markdown",
      "source": [
        "### 딕셔너리 메서드"
      ],
      "metadata": {
        "id": "GVo3EsRcFyak"
      }
    },
    {
      "cell_type": "code",
      "source": [
        "print(type(country_capital)) # 딕셔너리 객체\n",
        "# 딕셔너리가 보유한 클래스 메서드를 사용할 수 있음\n",
        "# dict_data (객체명)\n",
        "country_capital.keys()"
      ],
      "metadata": {
        "colab": {
          "base_uri": "https://localhost:8080/"
        },
        "id": "wa0LhYXO6P9h",
        "outputId": "a45e0a4e-b0b7-4adf-d6ea-871ce21a6a04"
      },
      "execution_count": null,
      "outputs": [
        {
          "output_type": "stream",
          "name": "stdout",
          "text": [
            "<class 'dict'>\n"
          ]
        },
        {
          "output_type": "execute_result",
          "data": {
            "text/plain": [
              "dict_keys(['대한민국', '프랑스', '미국', '일본'])"
            ]
          },
          "metadata": {},
          "execution_count": 29
        }
      ]
    },
    {
      "cell_type": "code",
      "source": [
        "# 데이터 형변환\n",
        "list(country_capital.keys()) #수정, 삭제 가능"
      ],
      "metadata": {
        "colab": {
          "base_uri": "https://localhost:8080/"
        },
        "id": "H7mKyJzL6QJD",
        "outputId": "09e15488-b36a-4be4-fb8b-3fc5ab716a24"
      },
      "execution_count": null,
      "outputs": [
        {
          "output_type": "execute_result",
          "data": {
            "text/plain": [
              "['대한민국', '프랑스', '미국', '일본']"
            ]
          },
          "metadata": {},
          "execution_count": 30
        }
      ]
    },
    {
      "cell_type": "code",
      "source": [
        "new_df = {\n",
        "    '중국':'베이징',\n",
        "    '필리핀':'마닐라',\n",
        "    '호주':'캔버라'\n",
        "    }\n",
        "country_capital.update(new_df)\n",
        "country_capital"
      ],
      "metadata": {
        "colab": {
          "base_uri": "https://localhost:8080/"
        },
        "id": "nCL1Q3wq6QQL",
        "outputId": "bf8c675a-f152-49cc-f6eb-41eb951e7a47"
      },
      "execution_count": null,
      "outputs": [
        {
          "output_type": "execute_result",
          "data": {
            "text/plain": [
              "{'대한민국': '부산',\n",
              " '프랑스': '파리',\n",
              " '미국': '워싱턴',\n",
              " '일본': '도쿄',\n",
              " '중국': '베이징',\n",
              " '필리핀': '마닐라',\n",
              " '호주': '캔버라'}"
            ]
          },
          "metadata": {},
          "execution_count": 33
        }
      ]
    },
    {
      "cell_type": "code",
      "source": [
        "country_capital.clear() # 빈 Dictionary 생성\n",
        "country_capital"
      ],
      "metadata": {
        "colab": {
          "base_uri": "https://localhost:8080/"
        },
        "id": "GABNcoX0Ja3z",
        "outputId": "a50420e3-5f8d-4a2f-d241-da46a1251d84"
      },
      "execution_count": null,
      "outputs": [
        {
          "output_type": "execute_result",
          "data": {
            "text/plain": [
              "{}"
            ]
          },
          "metadata": {},
          "execution_count": 35
        }
      ]
    },
    {
      "cell_type": "markdown",
      "source": [
        "# if 조건문\n",
        "- 조건문을 문장으로 먼저 만드는 훌련을 하는 것이 중요함"
      ],
      "metadata": {
        "id": "DHKF-5LnM0sJ"
      }
    },
    {
      "cell_type": "code",
      "source": [
        "x = int(input(\"숫자를 입력하세요 \"))\n",
        "if x >=90:\n",
        "  print(\"합격\")\n",
        "else:\n",
        "  print(\"불합격\")"
      ],
      "metadata": {
        "colab": {
          "base_uri": "https://localhost:8080/"
        },
        "id": "HO5p8ubsM4LV",
        "outputId": "ba974cf0-ef1a-464b-a3ed-9f4791c695c6"
      },
      "execution_count": null,
      "outputs": [
        {
          "output_type": "stream",
          "name": "stdout",
          "text": [
            "숫자를 입력하세요 85\n",
            "불합격\n"
          ]
        }
      ]
    },
    {
      "cell_type": "code",
      "source": [
        "x = int(input(\"성적을 입력하세요 \"))\n",
        "if x >= 90:\n",
        "  print(\"A\")\n",
        "elif x >=80:\n",
        "  print(\"B\")\n",
        "elif x >=70:\n",
        "  print(\"C\")\n",
        "elif x >=60:\n",
        "  print(\"D\")\n",
        "else:\n",
        "  print(\"F\")"
      ],
      "metadata": {
        "colab": {
          "base_uri": "https://localhost:8080/"
        },
        "id": "VgIohwV3Jdqe",
        "outputId": "110560a4-6f30-4f0d-b15b-16daaf9c4886"
      },
      "execution_count": null,
      "outputs": [
        {
          "output_type": "stream",
          "name": "stdout",
          "text": [
            "성적을 입력하세요 77\n",
            "C\n"
          ]
        }
      ]
    },
    {
      "cell_type": "code",
      "source": [
        "x = int(input(\"점수를 입력하세요 \"))\n",
        "if x >= 90:\n",
        "  if x == 100:\n",
        "    print(\"장학금 수여\")\n",
        "  else:\n",
        "    print(\"합격\")\n",
        "else:\n",
        "  print(\"불합격\")"
      ],
      "metadata": {
        "colab": {
          "base_uri": "https://localhost:8080/"
        },
        "id": "KX7d6m51JXk1",
        "outputId": "b7e17292-40b9-4977-a010-5759f664837f"
      },
      "execution_count": null,
      "outputs": [
        {
          "output_type": "stream",
          "name": "stdout",
          "text": [
            "점수를 입력하세요 100\n",
            "장학금 수여\n"
          ]
        }
      ]
    },
    {
      "cell_type": "markdown",
      "source": [
        "# 반복문\n",
        "- for-loop, while"
      ],
      "metadata": {
        "id": "Ae3EnVE3YIq1"
      }
    },
    {
      "cell_type": "code",
      "source": [
        "for i in range(10):\n",
        "  print(\"Hello Python\")"
      ],
      "metadata": {
        "colab": {
          "base_uri": "https://localhost:8080/"
        },
        "id": "CzD92DObXU93",
        "outputId": "70f9d9e2-6a3f-4e8b-c3ad-62a0d96e19a6"
      },
      "execution_count": null,
      "outputs": [
        {
          "output_type": "stream",
          "name": "stdout",
          "text": [
            "Hello Python\n",
            "Hello Python\n",
            "Hello Python\n",
            "Hello Python\n",
            "Hello Python\n",
            "Hello Python\n",
            "Hello Python\n",
            "Hello Python\n",
            "Hello Python\n",
            "Hello Python\n"
          ]
        }
      ]
    },
    {
      "cell_type": "markdown",
      "source": [
        "### for-loop특징\n",
        "-반복 범위가 주어짐"
      ],
      "metadata": {
        "id": "WFDF3so8aoIO"
      }
    },
    {
      "cell_type": "code",
      "source": [
        "for i in range(3): # i : for-loop에서 사용한 변수, range : 0 ~ n-1번 반복\n",
        "  print(f'{i}번째 Hello Python')"
      ],
      "metadata": {
        "colab": {
          "base_uri": "https://localhost:8080/"
        },
        "id": "wAD2nyC_YUFh",
        "outputId": "d1e73844-4f87-49ef-ed13-f42afc3b392b"
      },
      "execution_count": null,
      "outputs": [
        {
          "output_type": "stream",
          "name": "stdout",
          "text": [
            "0번째 Hello Python\n",
            "1번째 Hello Python\n",
            "2번째 Hello Python\n"
          ]
        }
      ]
    },
    {
      "cell_type": "markdown",
      "source": [
        "- 반복 범위 지정시, 시퀀스 자료형도 사용가능\n",
        " + 시퀀스 자료형 대표적인 것 : 리스트, 문자열"
      ],
      "metadata": {
        "id": "5zdek43tbWAp"
      }
    },
    {
      "cell_type": "code",
      "source": [
        "nums = [1,2,3,4,5]\n",
        "for num in nums: # 범위에 시퀀스 자료형, 리스트가 들어감\n",
        "  print(num)"
      ],
      "metadata": {
        "colab": {
          "base_uri": "https://localhost:8080/"
        },
        "id": "uUNG1AXra7DY",
        "outputId": "8482d6d4-5f43-452e-ba92-6849f4f71b36"
      },
      "execution_count": null,
      "outputs": [
        {
          "output_type": "stream",
          "name": "stdout",
          "text": [
            "1\n",
            "2\n",
            "3\n",
            "4\n",
            "5\n"
          ]
        }
      ]
    },
    {
      "cell_type": "code",
      "source": [
        "text = \"Hello\"\n",
        "for txt in text:\n",
        "  print(txt)"
      ],
      "metadata": {
        "colab": {
          "base_uri": "https://localhost:8080/"
        },
        "id": "eLs4XXSbb889",
        "outputId": "a8accdf9-8547-4387-921d-d9b87f05770a"
      },
      "execution_count": null,
      "outputs": [
        {
          "output_type": "stream",
          "name": "stdout",
          "text": [
            "H\n",
            "e\n",
            "l\n",
            "l\n",
            "o\n"
          ]
        }
      ]
    },
    {
      "cell_type": "code",
      "source": [
        "tuples = (1,2,3,4)\n",
        "for num in tuples:\n",
        "  print(num)"
      ],
      "metadata": {
        "colab": {
          "base_uri": "https://localhost:8080/"
        },
        "id": "mQArZ6w7ccLk",
        "outputId": "8249a929-6592-43a9-b7b8-f4e4f90c3463"
      },
      "execution_count": null,
      "outputs": [
        {
          "output_type": "stream",
          "name": "stdout",
          "text": [
            "1\n",
            "2\n",
            "3\n",
            "4\n"
          ]
        }
      ]
    },
    {
      "cell_type": "code",
      "source": [
        "for country in country_capital:\n",
        "  #print(country) # key값만 출력\n",
        "  print(f'{country}의 수도는 {country_capital[country]}이다.')"
      ],
      "metadata": {
        "colab": {
          "base_uri": "https://localhost:8080/"
        },
        "id": "KcVwwBPYckZQ",
        "outputId": "355f581c-e406-4cf2-9f4b-e28dd9000e08"
      },
      "execution_count": null,
      "outputs": [
        {
          "output_type": "stream",
          "name": "stdout",
          "text": [
            "대한민국의 수도는 서울이다.\n",
            "프랑스의 수도는 파리이다.\n",
            "미국의 수도는 워싱턴이다.\n",
            "영국의 수도는 런던이다.\n"
          ]
        }
      ]
    },
    {
      "cell_type": "code",
      "source": [
        "for country in country_capital.items():\n",
        "  print(country)"
      ],
      "metadata": {
        "colab": {
          "base_uri": "https://localhost:8080/"
        },
        "id": "cxJAhaWQcjv1",
        "outputId": "245aec42-ed5b-4458-ed20-2414a35aa11d"
      },
      "execution_count": null,
      "outputs": [
        {
          "output_type": "stream",
          "name": "stdout",
          "text": [
            "('대한민국', '서울')\n",
            "('프랑스', '파리')\n",
            "('미국', '워싱턴')\n",
            "('영국', '런던')\n"
          ]
        }
      ]
    },
    {
      "cell_type": "code",
      "source": [
        "# 중첩 포문\n",
        "# 반복문 내 또 다른 반복문\n",
        "x_list = ['x1','x2']\n",
        "y_list = ['y1','y2']\n",
        "#print('x1 y1')\n",
        "#print('x1 y2')\n",
        "#print('x2 y1')\n",
        "#print('x2 y2')\n",
        "\n",
        "for x in x_list:\n",
        "  for y in y_list:\n",
        "    print(x,y)"
      ],
      "metadata": {
        "colab": {
          "base_uri": "https://localhost:8080/"
        },
        "id": "QvmahwuPdUgO",
        "outputId": "cb89ccbb-01d2-4c8e-adf3-fb827c7287d2"
      },
      "execution_count": null,
      "outputs": [
        {
          "output_type": "stream",
          "name": "stdout",
          "text": [
            "x1 y1\n",
            "x1 y2\n",
            "x2 y1\n",
            "x2 y2\n"
          ]
        }
      ]
    },
    {
      "cell_type": "code",
      "source": [
        "#구구단\n",
        "x_lst = [2,3,4,5,6,7,8,9]\n",
        "y_lst = [1,2,3,4,5,6,7,8,9]\n",
        "for x in x_lst: # =for x in range(2,10):\n",
        "  for y in y_lst: # =for y in range(1,10):\n",
        "    print(f'{x} * {y} = { x * y }')"
      ],
      "metadata": {
        "colab": {
          "base_uri": "https://localhost:8080/"
        },
        "id": "xbipKDSAz-VW",
        "outputId": "1ca4714a-7394-44fb-d834-ef1320d7fe95"
      },
      "execution_count": null,
      "outputs": [
        {
          "output_type": "stream",
          "name": "stdout",
          "text": [
            "2 * 1 = 2\n",
            "2 * 2 = 4\n",
            "2 * 3 = 6\n",
            "2 * 4 = 8\n",
            "2 * 5 = 10\n",
            "2 * 6 = 12\n",
            "2 * 7 = 14\n",
            "2 * 8 = 16\n",
            "2 * 9 = 18\n",
            "3 * 1 = 3\n",
            "3 * 2 = 6\n",
            "3 * 3 = 9\n",
            "3 * 4 = 12\n",
            "3 * 5 = 15\n",
            "3 * 6 = 18\n",
            "3 * 7 = 21\n",
            "3 * 8 = 24\n",
            "3 * 9 = 27\n",
            "4 * 1 = 4\n",
            "4 * 2 = 8\n",
            "4 * 3 = 12\n",
            "4 * 4 = 16\n",
            "4 * 5 = 20\n",
            "4 * 6 = 24\n",
            "4 * 7 = 28\n",
            "4 * 8 = 32\n",
            "4 * 9 = 36\n",
            "5 * 1 = 5\n",
            "5 * 2 = 10\n",
            "5 * 3 = 15\n",
            "5 * 4 = 20\n",
            "5 * 5 = 25\n",
            "5 * 6 = 30\n",
            "5 * 7 = 35\n",
            "5 * 8 = 40\n",
            "5 * 9 = 45\n",
            "6 * 1 = 6\n",
            "6 * 2 = 12\n",
            "6 * 3 = 18\n",
            "6 * 4 = 24\n",
            "6 * 5 = 30\n",
            "6 * 6 = 36\n",
            "6 * 7 = 42\n",
            "6 * 8 = 48\n",
            "6 * 9 = 54\n",
            "7 * 1 = 7\n",
            "7 * 2 = 14\n",
            "7 * 3 = 21\n",
            "7 * 4 = 28\n",
            "7 * 5 = 35\n",
            "7 * 6 = 42\n",
            "7 * 7 = 49\n",
            "7 * 8 = 56\n",
            "7 * 9 = 63\n",
            "8 * 1 = 8\n",
            "8 * 2 = 16\n",
            "8 * 3 = 24\n",
            "8 * 4 = 32\n",
            "8 * 5 = 40\n",
            "8 * 6 = 48\n",
            "8 * 7 = 56\n",
            "8 * 8 = 64\n",
            "8 * 9 = 72\n",
            "9 * 1 = 9\n",
            "9 * 2 = 18\n",
            "9 * 3 = 27\n",
            "9 * 4 = 36\n",
            "9 * 5 = 45\n",
            "9 * 6 = 54\n",
            "9 * 7 = 63\n",
            "9 * 8 = 72\n",
            "9 * 9 = 81\n"
          ]
        }
      ]
    },
    {
      "cell_type": "code",
      "source": [
        "names = ['A','B','C']\n",
        "ages = [10,20,30]\n",
        "#리스트 합치기\n",
        "for name, age in zip(names, ages):\n",
        "  print(name,age)\n",
        "  print(type(zip(names,ages)))"
      ],
      "metadata": {
        "colab": {
          "base_uri": "https://localhost:8080/"
        },
        "id": "2r-vUvTB4c1b",
        "outputId": "46415abb-11ad-4caa-db28-8c603a16740c"
      },
      "execution_count": null,
      "outputs": [
        {
          "output_type": "stream",
          "name": "stdout",
          "text": [
            "A 10\n",
            "<class 'zip'>\n",
            "B 20\n",
            "<class 'zip'>\n",
            "C 30\n",
            "<class 'zip'>\n"
          ]
        }
      ]
    },
    {
      "cell_type": "code",
      "source": [
        "names = ['A','B','C']\n",
        "ages = [10,20,30]\n",
        "\n",
        "for a in zip(names, ages):\n",
        "  print(a)\n",
        "  print(type(a))"
      ],
      "metadata": {
        "colab": {
          "base_uri": "https://localhost:8080/"
        },
        "id": "lP3L7OJx-BgP",
        "outputId": "343c6323-fffa-430a-e5e1-88a9687ed988"
      },
      "execution_count": null,
      "outputs": [
        {
          "output_type": "stream",
          "name": "stdout",
          "text": [
            "('A', 10)\n",
            "<class 'tuple'>\n",
            "('B', 20)\n",
            "<class 'tuple'>\n",
            "('C', 30)\n",
            "<class 'tuple'>\n"
          ]
        }
      ]
    },
    {
      "cell_type": "code",
      "source": [
        "names = ['A','B','C']\n",
        "for idx, name in enumerate(names):\n",
        "  print(idx,name)\n",
        "print(list(enumerate(names)))"
      ],
      "metadata": {
        "colab": {
          "base_uri": "https://localhost:8080/"
        },
        "id": "hYsR0gH5dQyK",
        "outputId": "cc3f558b-ca69-405d-aa29-bb67c46e8cf8"
      },
      "execution_count": null,
      "outputs": [
        {
          "output_type": "stream",
          "name": "stdout",
          "text": [
            "0 A\n",
            "1 B\n",
            "2 C\n",
            "[(0, 'A'), (1, 'B'), (2, 'C')]\n"
          ]
        }
      ]
    },
    {
      "cell_type": "markdown",
      "source": [
        "## While 특징\n",
        "- for-loop 특징 : 반복문의 범위를 지정해야 한다.\n",
        "- While 특징 : 조건문이 False가 될 때까지 반복문을 수행한다.\n",
        " + 조건문이 True면 반복문은 무한 수행"
      ],
      "metadata": {
        "id": "Cx4PLf2N8YjJ"
      }
    },
    {
      "cell_type": "code",
      "source": [
        "#초기값 지정\n",
        "i = 1\n",
        "n = 3\n",
        "\n",
        "while i <= n : # 특정 조건문을 False가 되도록 코드를 작성하는 것이 포인트!\n",
        "  print(f'현재 {i} 번')\n",
        "  i += 1"
      ],
      "metadata": {
        "colab": {
          "base_uri": "https://localhost:8080/"
        },
        "id": "AN61_S7w8Yv6",
        "outputId": "4b1948c3-5350-4773-99e1-eeaa01f21ff1"
      },
      "execution_count": null,
      "outputs": [
        {
          "output_type": "stream",
          "name": "stdout",
          "text": [
            "현재 1 번\n",
            "현재 2 번\n",
            "현재 3 번\n"
          ]
        }
      ]
    },
    {
      "cell_type": "markdown",
      "source": [
        "## for-loop, while 비교\n",
        "- Only 데이터분석 : for-loop만 집중 공부\n",
        " + 행과 열은 거의 고정\n",
        " + 범위가 주어져 있음\n",
        "- 개발자 : for-loop, while 둘다 제대로 공부\n",
        " + 예) 카메라가 켜진 상태에서 필터 추가 -> 카메라 is ON (==True) + 기능 수행\n",
        "\n",
        " ## break문\n",
        " - 중간에 반복문 강제 종료\n",
        "  + 특정 시점에 반복 종료\n"
      ],
      "metadata": {
        "id": "4IHz19XKAUOL"
      }
    },
    {
      "cell_type": "code",
      "source": [
        "#초기값 지정\n",
        "i = 1\n",
        "\n",
        "while True :\n",
        "  print(f'현재 {i} 번')\n",
        "  if i >= 5:\n",
        "    break\n",
        "  i += 1"
      ],
      "metadata": {
        "colab": {
          "base_uri": "https://localhost:8080/"
        },
        "id": "f_2NGnQfBq4X",
        "outputId": "00c5cfb1-ea02-4500-fb35-d2e087a1f0a6"
      },
      "execution_count": null,
      "outputs": [
        {
          "output_type": "stream",
          "name": "stdout",
          "text": [
            "현재 1 번\n",
            "현재 2 번\n",
            "현재 3 번\n",
            "현재 4 번\n",
            "현재 5 번\n"
          ]
        }
      ]
    },
    {
      "cell_type": "code",
      "source": [
        "for i in range(10):\n",
        "  print(f'현재 {i} 번')\n",
        "  if i > 5:\n",
        "    break"
      ],
      "metadata": {
        "colab": {
          "base_uri": "https://localhost:8080/"
        },
        "id": "_2sw_rLc8Y1N",
        "outputId": "a9b8f6e1-de48-4ab4-c704-2d6105ba9999"
      },
      "execution_count": null,
      "outputs": [
        {
          "output_type": "stream",
          "name": "stdout",
          "text": [
            "현재 0 번\n",
            "현재 1 번\n",
            "현재 2 번\n",
            "현재 3 번\n",
            "현재 4 번\n",
            "현재 5 번\n",
            "현재 6 번\n"
          ]
        }
      ]
    },
    {
      "cell_type": "markdown",
      "source": [
        "## 문자열과 for-loop"
      ],
      "metadata": {
        "id": "pFPfDkbgEElZ"
      }
    },
    {
      "cell_type": "code",
      "source": [
        "texts = 'Python'\n",
        "for text in texts:\n",
        "  print(text)\n",
        "  if text =='t':\n",
        "    print(\"text는 t입니다.\")\n",
        "    break"
      ],
      "metadata": {
        "colab": {
          "base_uri": "https://localhost:8080/"
        },
        "id": "pRYwu0vR_Ecn",
        "outputId": "aa16b2e4-ff59-412f-da41-0b1f6ddd066c"
      },
      "execution_count": null,
      "outputs": [
        {
          "output_type": "stream",
          "name": "stdout",
          "text": [
            "P\n",
            "y\n",
            "t\n",
            "text는 t입니다.\n"
          ]
        }
      ]
    },
    {
      "cell_type": "markdown",
      "source": [
        "## 리스트 컴프리헨션(List Comprension)\n",
        "- for-loop 및 for loop if 조건문 한줄로 처리"
      ],
      "metadata": {
        "id": "v-QXgJ3VEmkj"
      }
    },
    {
      "cell_type": "code",
      "source": [
        "#pythonic 코드라고 지칭한다...\n",
        "numbers = [1, 2, 3, 4, 5]\n",
        "result = []\n",
        "\n",
        "for i in numbers:\n",
        "  result.append(i**2)\n",
        "print(result)"
      ],
      "metadata": {
        "colab": {
          "base_uri": "https://localhost:8080/"
        },
        "id": "I6ALQ-LzESxm",
        "outputId": "7a4d81ed-3483-4120-d604-f62046b1a252"
      },
      "execution_count": null,
      "outputs": [
        {
          "output_type": "stream",
          "name": "stdout",
          "text": [
            "[1, 4, 9, 16, 25]\n"
          ]
        }
      ]
    },
    {
      "cell_type": "code",
      "source": [
        "numbers = [1, 2, 3, 4, 5]\n",
        "result2= [i**2 for i in numbers if i%2==0]\n",
        "print(result2)"
      ],
      "metadata": {
        "colab": {
          "base_uri": "https://localhost:8080/"
        },
        "id": "iO9NDeKOCA2n",
        "outputId": "9f5a5a80-4198-42b0-e01c-3327c6a96fac"
      },
      "execution_count": null,
      "outputs": [
        {
          "output_type": "stream",
          "name": "stdout",
          "text": [
            "[4, 16]\n"
          ]
        }
      ]
    },
    {
      "cell_type": "code",
      "source": [
        "numbers = [1, 2, 3, 4, 5]\n",
        "result2= [i**2 if i%2==0 else i for i in numbers]\n",
        "print(result2)"
      ],
      "metadata": {
        "colab": {
          "base_uri": "https://localhost:8080/"
        },
        "id": "3SgHGAktumu3",
        "outputId": "94855490-f9a1-443f-d4ef-df81ed2a7b14"
      },
      "execution_count": null,
      "outputs": [
        {
          "output_type": "stream",
          "name": "stdout",
          "text": [
            "[1, 4, 3, 16, 5]\n"
          ]
        }
      ]
    },
    {
      "cell_type": "markdown",
      "source": [
        "- 시각화 라이브러리\n",
        " + matplotlib,plotly 옵션 설정 할때, 자주 사용"
      ],
      "metadata": {
        "id": "dfQil_X0MO-N"
      }
    },
    {
      "cell_type": "markdown",
      "source": [
        "# 파이썬 문서화 (Docstring)\n",
        "- 코딩을 한다, 프로그래밍을 한다. ->누군가에게 관련 지식을 전달하는 것과 동일\n",
        " + 혼자 코딩, 혼자만 알 수 있는 언어로 코딩 -> 현업 불가능\n",
        "\n",
        "- 프로젝트 진행\n",
        " + 3주 / 4주 => 마지막주에는\n",
        "   - 2~3명, PPT 보고서 작성\n",
        "   - 남은 인원, Docstring을 사용해서, 문서화\n",
        " + help() 명령어를 사용해서 불러오기 할 수 있음 (예. read_csv() 문서처럼 출력가능)"
      ],
      "metadata": {
        "id": "6pd0t0KfMqJL"
      }
    },
    {
      "cell_type": "code",
      "source": [
        "import math\n",
        "help(math)"
      ],
      "metadata": {
        "colab": {
          "base_uri": "https://localhost:8080/"
        },
        "id": "ixo-UF6qMVZy",
        "outputId": "713b2f65-670d-42a5-d0c7-4931260909b0"
      },
      "execution_count": null,
      "outputs": [
        {
          "output_type": "stream",
          "name": "stdout",
          "text": [
            "Help on built-in module math:\n",
            "\n",
            "NAME\n",
            "    math\n",
            "\n",
            "DESCRIPTION\n",
            "    This module provides access to the mathematical functions\n",
            "    defined by the C standard.\n",
            "\n",
            "FUNCTIONS\n",
            "    acos(x, /)\n",
            "        Return the arc cosine (measured in radians) of x.\n",
            "        \n",
            "        The result is between 0 and pi.\n",
            "    \n",
            "    acosh(x, /)\n",
            "        Return the inverse hyperbolic cosine of x.\n",
            "    \n",
            "    asin(x, /)\n",
            "        Return the arc sine (measured in radians) of x.\n",
            "        \n",
            "        The result is between -pi/2 and pi/2.\n",
            "    \n",
            "    asinh(x, /)\n",
            "        Return the inverse hyperbolic sine of x.\n",
            "    \n",
            "    atan(x, /)\n",
            "        Return the arc tangent (measured in radians) of x.\n",
            "        \n",
            "        The result is between -pi/2 and pi/2.\n",
            "    \n",
            "    atan2(y, x, /)\n",
            "        Return the arc tangent (measured in radians) of y/x.\n",
            "        \n",
            "        Unlike atan(y/x), the signs of both x and y are considered.\n",
            "    \n",
            "    atanh(x, /)\n",
            "        Return the inverse hyperbolic tangent of x.\n",
            "    \n",
            "    ceil(x, /)\n",
            "        Return the ceiling of x as an Integral.\n",
            "        \n",
            "        This is the smallest integer >= x.\n",
            "    \n",
            "    comb(n, k, /)\n",
            "        Number of ways to choose k items from n items without repetition and without order.\n",
            "        \n",
            "        Evaluates to n! / (k! * (n - k)!) when k <= n and evaluates\n",
            "        to zero when k > n.\n",
            "        \n",
            "        Also called the binomial coefficient because it is equivalent\n",
            "        to the coefficient of k-th term in polynomial expansion of the\n",
            "        expression (1 + x)**n.\n",
            "        \n",
            "        Raises TypeError if either of the arguments are not integers.\n",
            "        Raises ValueError if either of the arguments are negative.\n",
            "    \n",
            "    copysign(x, y, /)\n",
            "        Return a float with the magnitude (absolute value) of x but the sign of y.\n",
            "        \n",
            "        On platforms that support signed zeros, copysign(1.0, -0.0)\n",
            "        returns -1.0.\n",
            "    \n",
            "    cos(x, /)\n",
            "        Return the cosine of x (measured in radians).\n",
            "    \n",
            "    cosh(x, /)\n",
            "        Return the hyperbolic cosine of x.\n",
            "    \n",
            "    degrees(x, /)\n",
            "        Convert angle x from radians to degrees.\n",
            "    \n",
            "    dist(p, q, /)\n",
            "        Return the Euclidean distance between two points p and q.\n",
            "        \n",
            "        The points should be specified as sequences (or iterables) of\n",
            "        coordinates.  Both inputs must have the same dimension.\n",
            "        \n",
            "        Roughly equivalent to:\n",
            "            sqrt(sum((px - qx) ** 2.0 for px, qx in zip(p, q)))\n",
            "    \n",
            "    erf(x, /)\n",
            "        Error function at x.\n",
            "    \n",
            "    erfc(x, /)\n",
            "        Complementary error function at x.\n",
            "    \n",
            "    exp(x, /)\n",
            "        Return e raised to the power of x.\n",
            "    \n",
            "    expm1(x, /)\n",
            "        Return exp(x)-1.\n",
            "        \n",
            "        This function avoids the loss of precision involved in the direct evaluation of exp(x)-1 for small x.\n",
            "    \n",
            "    fabs(x, /)\n",
            "        Return the absolute value of the float x.\n",
            "    \n",
            "    factorial(x, /)\n",
            "        Find x!.\n",
            "        \n",
            "        Raise a ValueError if x is negative or non-integral.\n",
            "    \n",
            "    floor(x, /)\n",
            "        Return the floor of x as an Integral.\n",
            "        \n",
            "        This is the largest integer <= x.\n",
            "    \n",
            "    fmod(x, y, /)\n",
            "        Return fmod(x, y), according to platform C.\n",
            "        \n",
            "        x % y may differ.\n",
            "    \n",
            "    frexp(x, /)\n",
            "        Return the mantissa and exponent of x, as pair (m, e).\n",
            "        \n",
            "        m is a float and e is an int, such that x = m * 2.**e.\n",
            "        If x is 0, m and e are both 0.  Else 0.5 <= abs(m) < 1.0.\n",
            "    \n",
            "    fsum(seq, /)\n",
            "        Return an accurate floating point sum of values in the iterable seq.\n",
            "        \n",
            "        Assumes IEEE-754 floating point arithmetic.\n",
            "    \n",
            "    gamma(x, /)\n",
            "        Gamma function at x.\n",
            "    \n",
            "    gcd(*integers)\n",
            "        Greatest Common Divisor.\n",
            "    \n",
            "    hypot(...)\n",
            "        hypot(*coordinates) -> value\n",
            "        \n",
            "        Multidimensional Euclidean distance from the origin to a point.\n",
            "        \n",
            "        Roughly equivalent to:\n",
            "            sqrt(sum(x**2 for x in coordinates))\n",
            "        \n",
            "        For a two dimensional point (x, y), gives the hypotenuse\n",
            "        using the Pythagorean theorem:  sqrt(x*x + y*y).\n",
            "        \n",
            "        For example, the hypotenuse of a 3/4/5 right triangle is:\n",
            "        \n",
            "            >>> hypot(3.0, 4.0)\n",
            "            5.0\n",
            "    \n",
            "    isclose(a, b, *, rel_tol=1e-09, abs_tol=0.0)\n",
            "        Determine whether two floating point numbers are close in value.\n",
            "        \n",
            "          rel_tol\n",
            "            maximum difference for being considered \"close\", relative to the\n",
            "            magnitude of the input values\n",
            "          abs_tol\n",
            "            maximum difference for being considered \"close\", regardless of the\n",
            "            magnitude of the input values\n",
            "        \n",
            "        Return True if a is close in value to b, and False otherwise.\n",
            "        \n",
            "        For the values to be considered close, the difference between them\n",
            "        must be smaller than at least one of the tolerances.\n",
            "        \n",
            "        -inf, inf and NaN behave similarly to the IEEE 754 Standard.  That\n",
            "        is, NaN is not close to anything, even itself.  inf and -inf are\n",
            "        only close to themselves.\n",
            "    \n",
            "    isfinite(x, /)\n",
            "        Return True if x is neither an infinity nor a NaN, and False otherwise.\n",
            "    \n",
            "    isinf(x, /)\n",
            "        Return True if x is a positive or negative infinity, and False otherwise.\n",
            "    \n",
            "    isnan(x, /)\n",
            "        Return True if x is a NaN (not a number), and False otherwise.\n",
            "    \n",
            "    isqrt(n, /)\n",
            "        Return the integer part of the square root of the input.\n",
            "    \n",
            "    lcm(*integers)\n",
            "        Least Common Multiple.\n",
            "    \n",
            "    ldexp(x, i, /)\n",
            "        Return x * (2**i).\n",
            "        \n",
            "        This is essentially the inverse of frexp().\n",
            "    \n",
            "    lgamma(x, /)\n",
            "        Natural logarithm of absolute value of Gamma function at x.\n",
            "    \n",
            "    log(...)\n",
            "        log(x, [base=math.e])\n",
            "        Return the logarithm of x to the given base.\n",
            "        \n",
            "        If the base not specified, returns the natural logarithm (base e) of x.\n",
            "    \n",
            "    log10(x, /)\n",
            "        Return the base 10 logarithm of x.\n",
            "    \n",
            "    log1p(x, /)\n",
            "        Return the natural logarithm of 1+x (base e).\n",
            "        \n",
            "        The result is computed in a way which is accurate for x near zero.\n",
            "    \n",
            "    log2(x, /)\n",
            "        Return the base 2 logarithm of x.\n",
            "    \n",
            "    modf(x, /)\n",
            "        Return the fractional and integer parts of x.\n",
            "        \n",
            "        Both results carry the sign of x and are floats.\n",
            "    \n",
            "    nextafter(x, y, /)\n",
            "        Return the next floating-point value after x towards y.\n",
            "    \n",
            "    perm(n, k=None, /)\n",
            "        Number of ways to choose k items from n items without repetition and with order.\n",
            "        \n",
            "        Evaluates to n! / (n - k)! when k <= n and evaluates\n",
            "        to zero when k > n.\n",
            "        \n",
            "        If k is not specified or is None, then k defaults to n\n",
            "        and the function returns n!.\n",
            "        \n",
            "        Raises TypeError if either of the arguments are not integers.\n",
            "        Raises ValueError if either of the arguments are negative.\n",
            "    \n",
            "    pow(x, y, /)\n",
            "        Return x**y (x to the power of y).\n",
            "    \n",
            "    prod(iterable, /, *, start=1)\n",
            "        Calculate the product of all the elements in the input iterable.\n",
            "        \n",
            "        The default start value for the product is 1.\n",
            "        \n",
            "        When the iterable is empty, return the start value.  This function is\n",
            "        intended specifically for use with numeric values and may reject\n",
            "        non-numeric types.\n",
            "    \n",
            "    radians(x, /)\n",
            "        Convert angle x from degrees to radians.\n",
            "    \n",
            "    remainder(x, y, /)\n",
            "        Difference between x and the closest integer multiple of y.\n",
            "        \n",
            "        Return x - n*y where n*y is the closest integer multiple of y.\n",
            "        In the case where x is exactly halfway between two multiples of\n",
            "        y, the nearest even value of n is used. The result is always exact.\n",
            "    \n",
            "    sin(x, /)\n",
            "        Return the sine of x (measured in radians).\n",
            "    \n",
            "    sinh(x, /)\n",
            "        Return the hyperbolic sine of x.\n",
            "    \n",
            "    sqrt(x, /)\n",
            "        Return the square root of x.\n",
            "    \n",
            "    tan(x, /)\n",
            "        Return the tangent of x (measured in radians).\n",
            "    \n",
            "    tanh(x, /)\n",
            "        Return the hyperbolic tangent of x.\n",
            "    \n",
            "    trunc(x, /)\n",
            "        Truncates the Real x to the nearest Integral toward 0.\n",
            "        \n",
            "        Uses the __trunc__ magic method.\n",
            "    \n",
            "    ulp(x, /)\n",
            "        Return the value of the least significant bit of the float x.\n",
            "\n",
            "DATA\n",
            "    e = 2.718281828459045\n",
            "    inf = inf\n",
            "    nan = nan\n",
            "    pi = 3.141592653589793\n",
            "    tau = 6.283185307179586\n",
            "\n",
            "FILE\n",
            "    (built-in)\n",
            "\n",
            "\n"
          ]
        }
      ]
    },
    {
      "cell_type": "code",
      "source": [
        "def myPower(n):\n",
        "  '''숫자 n을 입력하면 n의 거듭제곱으로 반환'''\n",
        "  result = n**2\n",
        "  return result\n",
        "print(myPower(6))"
      ],
      "metadata": {
        "colab": {
          "base_uri": "https://localhost:8080/"
        },
        "id": "V2mPRZPeMVcH",
        "outputId": "dbbcca40-d6d1-42ab-8f95-b9faf89491d5"
      },
      "execution_count": null,
      "outputs": [
        {
          "output_type": "stream",
          "name": "stdout",
          "text": [
            "36\n"
          ]
        }
      ]
    },
    {
      "cell_type": "code",
      "source": [
        "print(myPower.__doc__)"
      ],
      "metadata": {
        "colab": {
          "base_uri": "https://localhost:8080/"
        },
        "id": "YRwmvripRjbb",
        "outputId": "3f97c66c-4c98-4b50-b5ad-dd4d1ca23325"
      },
      "execution_count": null,
      "outputs": [
        {
          "output_type": "stream",
          "name": "stdout",
          "text": [
            "숫자 n을 입력하면 n의 거듭제곱으로 반환\n"
          ]
        }
      ]
    },
    {
      "cell_type": "code",
      "source": [
        "print(print.__doc__)"
      ],
      "metadata": {
        "colab": {
          "base_uri": "https://localhost:8080/"
        },
        "id": "_iFvhKcYRuv4",
        "outputId": "79b3d85c-4855-4f70-f070-33ba33e489b9"
      },
      "execution_count": null,
      "outputs": [
        {
          "output_type": "stream",
          "name": "stdout",
          "text": [
            "print(value, ..., sep=' ', end='\\n', file=sys.stdout, flush=False)\n",
            "\n",
            "Prints the values to a stream, or to sys.stdout by default.\n",
            "Optional keyword arguments:\n",
            "file:  a file-like object (stream); defaults to the current sys.stdout.\n",
            "sep:   string inserted between values, default a space.\n",
            "end:   string appended after the last value, default a newline.\n",
            "flush: whether to forcibly flush the stream.\n"
          ]
        }
      ]
    },
    {
      "cell_type": "code",
      "source": [
        "def read_csv(sep,header):\n",
        "  '''\n",
        "  Returns the sum of...\n",
        "    Parameters:\n",
        "      sep(str) : Character or regex pattern to treat as the delimiter.\n",
        "      header(int) : Row number(s) containing column labels and marking the start of the data (zero-indexed).\n",
        "    Returns :\n",
        "      c (int) : Sum of...\n",
        "  '''\n",
        "  c = sep + header\n",
        "  return c"
      ],
      "metadata": {
        "id": "fYDRS2CrR3b2"
      },
      "execution_count": null,
      "outputs": []
    },
    {
      "cell_type": "code",
      "source": [
        "print(read_csv.__doc__)"
      ],
      "metadata": {
        "colab": {
          "base_uri": "https://localhost:8080/"
        },
        "id": "elWsYfwVTMc8",
        "outputId": "2b3adb2e-f20e-4ecd-bd9d-26c9ab6c2e6a"
      },
      "execution_count": null,
      "outputs": [
        {
          "output_type": "stream",
          "name": "stdout",
          "text": [
            "\n",
            "  Returns the sum of...\n",
            "    Parameters:\n",
            "      sep(str) : Character or regex pattern to treat as the delimiter.\n",
            "      header(int) : Row number(s) containing column labels and marking the start of the data (zero-indexed).\n",
            "    Returns :\n",
            "      c (int) : Sum of...\n",
            "  \n"
          ]
        }
      ]
    },
    {
      "cell_type": "code",
      "source": [
        "print(read_csv(3,5))"
      ],
      "metadata": {
        "colab": {
          "base_uri": "https://localhost:8080/"
        },
        "id": "23wzIj_zR-Q_",
        "outputId": "0c271dde-7728-4f3f-e3bf-2e022e74e552"
      },
      "execution_count": null,
      "outputs": [
        {
          "output_type": "stream",
          "name": "stdout",
          "text": [
            "8\n"
          ]
        }
      ]
    },
    {
      "cell_type": "markdown",
      "source": [
        "- swagger 같은 API 명세서가 Docstring일까요?\n",
        " + 개념이 다름\n",
        " + 클라이언트 용 명세서(공공기관: 한글 또는 워드 작업)"
      ],
      "metadata": {
        "id": "J3ZGfDJ8UFyn"
      }
    },
    {
      "cell_type": "markdown",
      "source": [
        "# 클래스 상속\n",
        "- 부모 > 자식\n",
        "- 대분류 > 중분류 > 소분류\n",
        "- 동물\n",
        " + 동물의 공통적인 특징 : 살아 움직임\n",
        "   - 포유류\n",
        "     + (살아 움직임) 네발, 새끼를 낳는다.\n",
        "   - 파충류\n",
        "     + (살아 움직임) 알을 낳는다."
      ],
      "metadata": {
        "id": "8cQ7DYxKUXHF"
      }
    },
    {
      "cell_type": "code",
      "source": [
        "class Animal:\n",
        "  # Attribute 정의(=클래스 변수)\n",
        "  name = \"\"\n",
        "  # 공통 함수\n",
        "  def eat(self):\n",
        "    print(\"나는 먹을 수 있음\")\n",
        "class Dog(Animal): #클래스 상속을 했다. 동물-> 강아지로 기본 기능을 제공함\n",
        "  #name = \"\" #이 코드는 불필요함\n",
        "  #새로운 메서드\n",
        "  def dance(self):\n",
        "    print(f\"{self.name} 강아지가 춤을 춘다\")\n",
        "#클래스 만들었으면 객체 생성해야지\n",
        "\n",
        "a = Dog()\n",
        "a.name = \"코코\"\n",
        "a.eat() #Dog 클래스는 Animal클래스를 상속받았기 때문에 Animal클래스의 eat함수 사용가능"
      ],
      "metadata": {
        "colab": {
          "base_uri": "https://localhost:8080/"
        },
        "id": "BPNVoPwETjse",
        "outputId": "c2483adc-6775-4498-e5ef-08b9d25971da"
      },
      "execution_count": null,
      "outputs": [
        {
          "output_type": "stream",
          "name": "stdout",
          "text": [
            "나는 먹을 수 있음\n"
          ]
        }
      ]
    },
    {
      "cell_type": "code",
      "source": [
        "a.dance()"
      ],
      "metadata": {
        "colab": {
          "base_uri": "https://localhost:8080/"
        },
        "id": "ybuKBf28UlM_",
        "outputId": "1ef99856-767b-4263-a667-41c600869e34"
      },
      "execution_count": null,
      "outputs": [
        {
          "output_type": "stream",
          "name": "stdout",
          "text": [
            "코코 강아지가 춤을 춘다\n"
          ]
        }
      ]
    },
    {
      "cell_type": "code",
      "source": [
        "b = Animal()\n",
        "b.name = \"시고르자브종\"\n",
        "b.eat()"
      ],
      "metadata": {
        "colab": {
          "base_uri": "https://localhost:8080/"
        },
        "id": "bKPxKOxHby_1",
        "outputId": "018d834f-5146-4073-a15d-c1b7a35db827"
      },
      "execution_count": null,
      "outputs": [
        {
          "output_type": "stream",
          "name": "stdout",
          "text": [
            "나는 먹을 수 있음\n"
          ]
        }
      ]
    },
    {
      "cell_type": "code",
      "source": [
        "b.dance() #Animal클래스에는 dance함수가 없기때문에 사용불가"
      ],
      "metadata": {
        "colab": {
          "base_uri": "https://localhost:8080/",
          "height": 186
        },
        "id": "DJrn3_AGb4RH",
        "outputId": "772c3e57-47b0-413f-b73d-adb9d7831174"
      },
      "execution_count": null,
      "outputs": [
        {
          "output_type": "error",
          "ename": "AttributeError",
          "evalue": "ignored",
          "traceback": [
            "\u001b[0;31m---------------------------------------------------------------------------\u001b[0m",
            "\u001b[0;31mAttributeError\u001b[0m                            Traceback (most recent call last)",
            "\u001b[0;32m<ipython-input-166-a091c07220b8>\u001b[0m in \u001b[0;36m<cell line: 1>\u001b[0;34m()\u001b[0m\n\u001b[0;32m----> 1\u001b[0;31m \u001b[0mb\u001b[0m\u001b[0;34m.\u001b[0m\u001b[0mdance\u001b[0m\u001b[0;34m(\u001b[0m\u001b[0;34m)\u001b[0m\u001b[0;34m\u001b[0m\u001b[0;34m\u001b[0m\u001b[0m\n\u001b[0m",
            "\u001b[0;31mAttributeError\u001b[0m: 'Animal' object has no attribute 'dance'"
          ]
        }
      ]
    },
    {
      "cell_type": "markdown",
      "source": [
        "## 클래스 Docstring"
      ],
      "metadata": {
        "id": "2sPTGKsocn9r"
      }
    },
    {
      "cell_type": "code",
      "source": [
        "class Person:\n",
        "  \"\"\"\n",
        "  자기소개하는 Person 클래스.\n",
        "  '''\n",
        "  Attributes\n",
        "  -----------\n",
        "  name : str\n",
        "    사람의 이름을 의미\n",
        "  age : int\n",
        "    사람의 나이를 의미\n",
        "  grade : int\n",
        "    사람의 현재 학년을 의미\n",
        "\n",
        "  Methods\n",
        "  ------------\n",
        "  info(comment=\"\") :\n",
        "    자기소개 문장 출력\n",
        "  '''\n",
        "  \"\"\"\n",
        "  def __init__(self, name, age, grade):\n",
        "    \"\"\"\n",
        "    name : str\n",
        "      사람의 이름을 의미\n",
        "    age : int\n",
        "      사람의 나이를 의미\n",
        "    grade : int\n",
        "      사람의 현재 학년을 의미\n",
        "\n",
        "    \"\"\"\n",
        "    self.name = name\n",
        "    self.age = age\n",
        "    self.grade = grade\n",
        "\n",
        "  def info(self, comment = \"\"):\n",
        "    \"\"\"\n",
        "    comment :\n",
        "      하고 싶은말\n",
        "\n",
        "    \"\"\"\n",
        "    print(f'내 이름은 {self.name}, 내 나이는 {self.age}, 현재 학년은 {self.grade}입니다. {comment}')"
      ],
      "metadata": {
        "id": "M-cfW_6Mb7OG"
      },
      "execution_count": null,
      "outputs": []
    },
    {
      "cell_type": "code",
      "source": [
        "my = Person('이수민','8살','1학년')\n",
        "my.info(\"만나서 반갑습니다.\")"
      ],
      "metadata": {
        "colab": {
          "base_uri": "https://localhost:8080/"
        },
        "id": "ovBiNhfegRg5",
        "outputId": "ba7c3afe-b701-46c1-9d84-f2d4cc9c1422"
      },
      "execution_count": null,
      "outputs": [
        {
          "output_type": "stream",
          "name": "stdout",
          "text": [
            "내 이름은 이수민, 내 나이는 8살, 현재 학년은 1학년입니다. 만나서 반갑습니다.\n"
          ]
        }
      ]
    },
    {
      "cell_type": "code",
      "source": [
        "print(Person.__doc__)\n",
        "print('-----------------띄우고------------------')\n",
        "print(info.__doc__)"
      ],
      "metadata": {
        "colab": {
          "base_uri": "https://localhost:8080/",
          "height": 578
        },
        "id": "qEStV2GfdNw8",
        "outputId": "24f28bb3-77b9-446a-b43e-238ac8d7b598"
      },
      "execution_count": null,
      "outputs": [
        {
          "output_type": "stream",
          "name": "stdout",
          "text": [
            "\n",
            "  자기소개하는 Person 클래스.\n",
            "  '''\n",
            "  Attributes\n",
            "  -----------\n",
            "  name : str\n",
            "    사람의 이름을 의미\n",
            "  age : int\n",
            "    사람의 나이를 의미\n",
            "  grade : int\n",
            "    사람의 현재 학년을 의미\n",
            "\n",
            "  Methods\n",
            "  ------------\n",
            "  info(comment=\"\") :\n",
            "    자기소개 문장 출력\n",
            "  '''\n",
            "  \n",
            "-----------------띄우고------------------\n"
          ]
        },
        {
          "output_type": "error",
          "ename": "NameError",
          "evalue": "ignored",
          "traceback": [
            "\u001b[0;31m---------------------------------------------------------------------------\u001b[0m",
            "\u001b[0;31mNameError\u001b[0m                                 Traceback (most recent call last)",
            "\u001b[0;32m<ipython-input-215-e90e646f2381>\u001b[0m in \u001b[0;36m<cell line: 3>\u001b[0;34m()\u001b[0m\n\u001b[1;32m      1\u001b[0m \u001b[0mprint\u001b[0m\u001b[0;34m(\u001b[0m\u001b[0mPerson\u001b[0m\u001b[0;34m.\u001b[0m\u001b[0m__doc__\u001b[0m\u001b[0;34m)\u001b[0m\u001b[0;34m\u001b[0m\u001b[0;34m\u001b[0m\u001b[0m\n\u001b[1;32m      2\u001b[0m \u001b[0mprint\u001b[0m\u001b[0;34m(\u001b[0m\u001b[0;34m'-----------------띄우고------------------'\u001b[0m\u001b[0;34m)\u001b[0m\u001b[0;34m\u001b[0m\u001b[0;34m\u001b[0m\u001b[0m\n\u001b[0;32m----> 3\u001b[0;31m \u001b[0mprint\u001b[0m\u001b[0;34m(\u001b[0m\u001b[0minfo\u001b[0m\u001b[0;34m.\u001b[0m\u001b[0m__doc__\u001b[0m\u001b[0;34m)\u001b[0m\u001b[0;34m\u001b[0m\u001b[0;34m\u001b[0m\u001b[0m\n\u001b[0m",
            "\u001b[0;31mNameError\u001b[0m: name 'info' is not defined"
          ]
        }
      ]
    },
    {
      "cell_type": "code",
      "source": [
        "help(Person)"
      ],
      "metadata": {
        "id": "6_WJnwg0eWTT",
        "outputId": "4616a470-0af5-45ef-8273-84457b05e795",
        "colab": {
          "base_uri": "https://localhost:8080/"
        }
      },
      "execution_count": null,
      "outputs": [
        {
          "output_type": "stream",
          "name": "stdout",
          "text": [
            "Help on class Person in module __main__:\n",
            "\n",
            "class Person(builtins.object)\n",
            " |  Person(name, age, grade)\n",
            " |  \n",
            " |  자기소개하는 Person 클래스.\n",
            " |  '''\n",
            " |  Attributes\n",
            " |  -----------\n",
            " |  name : str\n",
            " |    사람의 이름을 의미\n",
            " |  age : int\n",
            " |    사람의 나이를 의미\n",
            " |  grade : int\n",
            " |    사람의 현재 학년을 의미\n",
            " |  \n",
            " |  Methods\n",
            " |  ------------\n",
            " |  info(comment=\"\") :\n",
            " |    자기소개 문장 출력\n",
            " |  '''\n",
            " |  \n",
            " |  Methods defined here:\n",
            " |  \n",
            " |  __init__(self, name, age, grade)\n",
            " |      name : str\n",
            " |        사람의 이름을 의미\n",
            " |      age : int\n",
            " |        사람의 나이를 의미\n",
            " |      grade : int\n",
            " |        사람의 현재 학년을 의미\n",
            " |  \n",
            " |  info(self, comment='')\n",
            " |      comment : \n",
            " |        하고 싶은말\n",
            " |  \n",
            " |  ----------------------------------------------------------------------\n",
            " |  Data descriptors defined here:\n",
            " |  \n",
            " |  __dict__\n",
            " |      dictionary for instance variables (if defined)\n",
            " |  \n",
            " |  __weakref__\n",
            " |      list of weak references to the object (if defined)\n",
            "\n"
          ]
        }
      ]
    }
  ]
}